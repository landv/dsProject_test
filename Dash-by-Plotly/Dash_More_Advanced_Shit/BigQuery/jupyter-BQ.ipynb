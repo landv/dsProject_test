{
 "cells": [
  {
   "cell_type": "code",
   "execution_count": 1,
   "metadata": {},
   "outputs": [
    {
     "name": "stdout",
     "output_type": "stream",
     "text": [
      "Dash is running on http://127.0.0.1:8050/\n",
      "\n",
      " * Serving Flask app \"__main__\" (lazy loading)\n",
      " * Environment: production\n",
      "   WARNING: This is a development server. Do not use it in a production deployment.\n",
      "   Use a production WSGI server instead.\n",
      " * Debug mode: off\n"
     ]
    },
    {
     "name": "stderr",
     "output_type": "stream",
     "text": [
      " * Running on http://127.0.0.1:8050/ (Press CTRL+C to quit)\n",
      "127.0.0.1 - - [20/Mar/2021 16:14:50] \"\u001b[37mGET / HTTP/1.1\u001b[0m\" 200 -\n",
      "127.0.0.1 - - [20/Mar/2021 16:14:51] \"\u001b[37mGET /_dash-dependencies HTTP/1.1\u001b[0m\" 200 -\n",
      "127.0.0.1 - - [20/Mar/2021 16:14:51] \"\u001b[37mGET /_dash-layout HTTP/1.1\u001b[0m\" 200 -\n",
      "127.0.0.1 - - [20/Mar/2021 16:14:51] \"\u001b[37mGET /_favicon.ico?v=1.16.3 HTTP/1.1\u001b[0m\" 200 -\n"
     ]
    },
    {
     "name": "stdout",
     "output_type": "stream",
     "text": [
      "30\n",
      "2015-03-01\n",
      "2015-12-29\n",
      "1000\n",
      "        boroname   diameter\n",
      "0          Bronx  35.188679\n",
      "1       Brooklyn  34.097403\n",
      "2      Manhattan  36.230769\n",
      "3         Queens  35.988827\n",
      "4  Staten Island  37.112676\n"
     ]
    },
    {
     "name": "stderr",
     "output_type": "stream",
     "text": [
      "127.0.0.1 - - [20/Mar/2021 16:14:55] \"\u001b[37mPOST /_dash-update-component HTTP/1.1\u001b[0m\" 200 -\n"
     ]
    },
    {
     "name": "stdout",
     "output_type": "stream",
     "text": [
      "35\n",
      "2015-03-01\n",
      "2015-07-31\n"
     ]
    },
    {
     "name": "stderr",
     "output_type": "stream",
     "text": [
      "127.0.0.1 - - [20/Mar/2021 16:26:40] \"\u001b[37mPOST /_dash-update-component HTTP/1.1\u001b[0m\" 200 -\n"
     ]
    },
    {
     "name": "stdout",
     "output_type": "stream",
     "text": [
      "702\n",
      "        boroname   diameter\n",
      "0          Bronx  41.216867\n",
      "1       Brooklyn  45.097561\n",
      "2      Manhattan  39.000000\n",
      "3         Queens  41.554688\n",
      "4  Staten Island  41.666667\n"
     ]
    }
   ],
   "source": [
    "import dash\n",
    "import dash_core_components as dcc\n",
    "import dash_html_components as html\n",
    "from dash.dependencies import Output, Input, State\n",
    "from datetime import date\n",
    "\n",
    "import plotly.express as px\n",
    "import pandas as pd\n",
    "from google.oauth2 import service_account  # pip install google-auth\n",
    "import pandas_gbq  # pip install pandas-gbq\n",
    "\n",
    "credentials = service_account.Credentials.from_service_account_file('C:/Users/13474/heroku/My_Dash/Youtube/Connect_Dash_to_Databases/BigQuery/assets\\My First Project-dcb7f09658bb.json')\n",
    "project_id = 'fast-web-308219' # make sure to change this with your own project ID\n",
    "\n",
    "app = dash.Dash(__name__)\n",
    "\n",
    "app.layout = html.Div([\n",
    "    html.H1(\"New York City and its Beautiful Trees\", style={'textAlign':'center'}),\n",
    "    html.Div(id='graph-content'),\n",
    "    html.Div(\n",
    "        dcc.Input(id='tree-diameter', placeholder=\"Insert number for diameter\",\n",
    "                  value=30, type='number'),\n",
    "    ),\n",
    "    html.Div(\n",
    "        dcc.DatePickerRange(id='date-point',\n",
    "                            min_date_allowed=date(2015, 3, 1),\n",
    "                            max_date_allowed=date(2016, 4, 29),\n",
    "                            start_date=date(2015, 3, 1),\n",
    "                            end_date=date(2015, 12, 29)\n",
    "                            ),\n",
    "    ),\n",
    "    html.Button(id='enter', children=['Submit'])\n",
    "])\n",
    "\n",
    "\n",
    "@app.callback(\n",
    "    Output('graph-content', 'children'),\n",
    "    [Input('enter','n_clicks')],\n",
    "    [State('tree-diameter', 'value'),\n",
    "    State('date-point', 'start_date'),\n",
    "    State('date-point', 'end_date')]\n",
    ")\n",
    "def create_graph(n, treediameter, startdate, enddate):\n",
    "    print(treediameter)\n",
    "    print(startdate)\n",
    "    print(enddate)\n",
    "    # I recommend running the SQL in Good Cloud to make sure it works\n",
    "    # before running it here in your Dash App.\n",
    "    df_sql = f\"\"\"SELECT\n",
    "    created_at,\n",
    "    boroname,\n",
    "    tree_dbh as diameter,\n",
    "    spc_common as type\n",
    "    FROM `bigquery-public-data.new_york_trees.tree_census_2015`\n",
    "    WHERE created_at < '{enddate}'\n",
    "    AND created_at > '{startdate}'\n",
    "    AND tree_dbh > {treediameter}\n",
    "    ORDER BY created_at DESC\n",
    "    LIMIT 1000\n",
    "    \"\"\"\n",
    "\n",
    "    df = pd.read_gbq(df_sql, project_id=project_id, dialect='standard', credentials=credentials)\n",
    "    print(len(df))\n",
    "    #df.to_csv(\"first_sample.csv\")\n",
    "    dff = df.groupby('boroname')[['diameter']].mean()\n",
    "    dff.reset_index(inplace=True)\n",
    "    print(dff.head(10))\n",
    "\n",
    "    fig = px.bar(dff, x='boroname', y='diameter')\n",
    "    return dcc.Graph(figure=fig)\n",
    "\n",
    "\n",
    "\n",
    "if __name__=='__main__':\n",
    "    app.run_server(debug=False)\n"
   ]
  }
 ],
 "metadata": {
  "kernelspec": {
   "display_name": "Python 3",
   "language": "python",
   "name": "python3"
  },
  "language_info": {
   "codemirror_mode": {
    "name": "ipython",
    "version": 3
   },
   "file_extension": ".py",
   "mimetype": "text/x-python",
   "name": "python",
   "nbconvert_exporter": "python",
   "pygments_lexer": "ipython3",
   "version": "3.8.3"
  }
 },
 "nbformat": 4,
 "nbformat_minor": 4
}
