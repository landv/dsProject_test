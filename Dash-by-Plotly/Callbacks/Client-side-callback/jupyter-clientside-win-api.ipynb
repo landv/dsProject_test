{
 "cells": [
  {
   "cell_type": "code",
   "execution_count": 1,
   "metadata": {},
   "outputs": [],
   "source": [
    "from jupyter_dash import JupyterDash\n",
    "from dash.dependencies import Input, Output, State\n",
    "import dash_core_components as dcc\n",
    "import dash_html_components as html\n",
    "\n",
    "import plotly.express as px\n",
    "import pandas as pd\n",
    "\n",
    "\n",
    "df = pd.read_csv('https://raw.githubusercontent.com/Coding-with-Adam/Dash-by-Plotly/master/Callbacks/Client-side-callback/opsales.csv')\n",
    "\n",
    "external_stylesheets = ['https://codepen.io/chriddyp/pen/bWLwgP.css']\n",
    "app = JupyterDash(__name__, external_stylesheets=external_stylesheets)\n",
    "\n",
    "app.layout = html.Div([\n",
    "    html.Button('Print Graphs', id='printing'),\n",
    "    html.Div(id='hidden-content'),\n",
    "    html.H1('Analysis of Store Sales', style={'textAlign':'center'}),\n",
    "    dcc.Graph(id='one', figure=px.pie(df, names=\"Shipping Mode\", values=\"Sales\").update_traces(textinfo='label+percent', showlegend=False)),\n",
    "    dcc.Graph(id='two', figure=px.histogram(df, x=\"Order Status\", y=\"Sales\")),\n",
    "    dcc.Graph(id='thr', figure=px.pie(df, names=\"Customer Segment\", values=\"Sales\").update_traces(textinfo='label+percent', showlegend=False)),\n",
    "])\n",
    "\n",
    "app.clientside_callback(\n",
    "    \"\"\"\n",
    "    function(clicks) {\n",
    "        if (clicks > 0) {\n",
    "          window.print()\n",
    "        }\n",
    "        return \"\"\n",
    "    }\n",
    "    \"\"\",\n",
    "    Output('hidden-content', 'children'),\n",
    "    Input('printing', 'n_clicks')\n",
    ")\n",
    "\n",
    "# app.clientside_callback(\n",
    "#     \"\"\"\n",
    "#     function(clicks) {\n",
    "#         if (clicks > 0) {\n",
    "#         var myWindow = window.open(\"\", \"\", \"width=200,height=100\");\n",
    "#         myWindow.document.write(\"<p>A new window!</p>\");\n",
    "#         myWindow.focus();\n",
    "#         }\n",
    "#         return \"\"\n",
    "#     }\n",
    "#     \"\"\",\n",
    "#     Output('hidden-content', 'children'),\n",
    "#     Input('printing', 'n_clicks')\n",
    "# )\n",
    "\n",
    "app.run_server(mode='jupyterlab')\n"
   ]
  }
 ],
 "metadata": {
  "kernelspec": {
   "display_name": "Python 3",
   "language": "python",
   "name": "python3"
  },
  "language_info": {
   "codemirror_mode": {
    "name": "ipython",
    "version": 3
   },
   "file_extension": ".py",
   "mimetype": "text/x-python",
   "name": "python",
   "nbconvert_exporter": "python",
   "pygments_lexer": "ipython3",
   "version": "3.8.3"
  }
 },
 "nbformat": 4,
 "nbformat_minor": 4
}
