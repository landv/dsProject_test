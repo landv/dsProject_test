{
 "cells": [
  {
   "cell_type": "code",
   "execution_count": null,
   "id": "6501db3f-2063-4fcf-9ca6-455b197f96b4",
   "metadata": {},
   "outputs": [],
   "source": [
    "from dash import Dash, Input, Output, html, dcc, callback # need version dash 2.0.0 or higher\n",
    "# import plotly.express as px\n",
    "# import pandas as pd\n",
    "import dash_bootstrap_components as dbc"
   ]
  },
  {
   "cell_type": "code",
   "execution_count": null,
   "id": "8adacf98-5fd7-4548-a19c-00d62527be6a",
   "metadata": {},
   "outputs": [],
   "source": [
    "app = Dash(__name__, external_stylesheets=[dbc.themes.SOLAR])\n",
    "\n",
    "app.layout = dbc.Container([\n",
    "    dbc.Row([\n",
    "        dbc.Col([\n",
    "            html.H1(\"Our Cool Analytics Dashboard\", style={\"textAlign\":\"center\"})\n",
    "        ],width=12)\n",
    "    ]),\n",
    "    dbc.Row([\n",
    "        dbc.Col([\n",
    "            dbc.Carousel(\n",
    "                items=[\n",
    "                    {\"key\": \"1\", \"src\": \"/assets/Chapulin1.jpg\", \"caption\":\"My cat captions\", \"img_style\":{\"max-height\":\"500px\"}},\n",
    "                    {\"key\": \"2\", \"src\": \"/assets/Chapulin2.jpg\", \"header\":\"My cat header\", \"img_style\":{\"max-height\":\"500px\"}},\n",
    "                    {\"key\": \"3\", \"src\": \"/assets/Chapulin3.jpg\", \"img_style\":{\"max-height\":\"500px\"}},\n",
    "                ],\n",
    "                controls=True,\n",
    "                indicators=True,\n",
    "                interval=2000,\n",
    "                ride=\"carousel\",\n",
    "#                 className=\"carousel-fade\"\n",
    "            )\n",
    "        ], width=8)\n",
    "    ], justify=\"center\"),\n",
    "    html.Br(),\n",
    "    dbc.Row([\n",
    "        dbc.Col([\n",
    "            html.H2(\"All my graphs and charts below\", style={\"textAlign\":\"center\"}),\n",
    "            dcc.Graph(figure={})\n",
    "        ],width=12)    \n",
    "    ])\n",
    "\n",
    "])"
   ]
  },
  {
   "cell_type": "code",
   "execution_count": 11,
   "id": "3a716605-4ace-493a-bc75-734adb8a9764",
   "metadata": {},
   "outputs": [
    {
     "name": "stdout",
     "output_type": "stream",
     "text": [
      "Dash is running on http://127.0.0.1:8000/\n",
      "\n",
      "Dash is running on http://127.0.0.1:8000/\n",
      "\n",
      "Dash is running on http://127.0.0.1:8000/\n",
      "\n",
      "Dash is running on http://127.0.0.1:8000/\n",
      "\n",
      " * Serving Flask app '__main__' (lazy loading)\n",
      " * Environment: production\n",
      "\u001b[31m   WARNING: This is a development server. Do not use it in a production deployment.\u001b[0m\n",
      "\u001b[2m   Use a production WSGI server instead.\u001b[0m\n",
      " * Debug mode: off\n"
     ]
    },
    {
     "name": "stderr",
     "output_type": "stream",
     "text": [
      " * Running on http://127.0.0.1:8000/ (Press CTRL+C to quit)\n",
      "127.0.0.1 - - [12/Sep/2021 17:38:23] \"GET / HTTP/1.1\" 200 -\n",
      "127.0.0.1 - - [12/Sep/2021 17:38:23] \"GET /_dash-layout HTTP/1.1\" 200 -\n",
      "127.0.0.1 - - [12/Sep/2021 17:38:23] \"GET /_dash-dependencies HTTP/1.1\" 200 -\n",
      "127.0.0.1 - - [12/Sep/2021 17:38:23] \"GET /_favicon.ico?v=2.0.0 HTTP/1.1\" 200 -\n",
      "127.0.0.1 - - [12/Sep/2021 17:38:23] \"GET /assets/Chapulin1.jpg HTTP/1.1\" 304 -\n",
      "127.0.0.1 - - [12/Sep/2021 17:38:23] \"GET /assets/Chapulin2.jpg HTTP/1.1\" 304 -\n",
      "127.0.0.1 - - [12/Sep/2021 17:38:23] \"GET /assets/Chapulin3.jpg HTTP/1.1\" 304 -\n",
      "127.0.0.1 - - [12/Sep/2021 17:38:23] \"GET /_dash-component-suites/dash/dcc/async-graph.js HTTP/1.1\" 200 -\n",
      "127.0.0.1 - - [12/Sep/2021 17:38:23] \"GET /_dash-component-suites/dash/dcc/async-plotlyjs.js HTTP/1.1\" 200 -\n"
     ]
    }
   ],
   "source": [
    "if __name__ == '__main__':\n",
    "    app.run_server(debug=False, port=8000)\n"
   ]
  }
 ],
 "metadata": {
  "kernelspec": {
   "display_name": "Python 3 (ipykernel)",
   "language": "python",
   "name": "python3"
  },
  "language_info": {
   "codemirror_mode": {
    "name": "ipython",
    "version": 3
   },
   "file_extension": ".py",
   "mimetype": "text/x-python",
   "name": "python",
   "nbconvert_exporter": "python",
   "pygments_lexer": "ipython3",
   "version": "3.9.6"
  }
 },
 "nbformat": 4,
 "nbformat_minor": 5
}
