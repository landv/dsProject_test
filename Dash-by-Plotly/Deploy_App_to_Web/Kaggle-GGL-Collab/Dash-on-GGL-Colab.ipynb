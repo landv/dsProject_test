{
 "cells": [
  {
   "cell_type": "code",
   "execution_count": null,
   "metadata": {},
   "outputs": [],
   "source": [
    "pip install jupyter-dash -q"
   ]
  },
  {
   "cell_type": "code",
   "execution_count": null,
   "metadata": {},
   "outputs": [],
   "source": [
    "pip install dash-cytoscape -q"
   ]
  },
  {
   "cell_type": "code",
   "execution_count": 4,
   "metadata": {},
   "outputs": [
    {
     "data": {
      "text/html": [
       "\n",
       "        <iframe\n",
       "            width=\"100%\"\n",
       "            height=\"650\"\n",
       "            src=\"http://127.0.0.1:8030/\"\n",
       "            frameborder=\"0\"\n",
       "            allowfullscreen\n",
       "        ></iframe>\n",
       "        "
      ],
      "text/plain": [
       "<IPython.lib.display.IFrame at 0x2657e5aba60>"
      ]
     },
     "metadata": {},
     "output_type": "display_data"
    }
   ],
   "source": [
    "from jupyter_dash import JupyterDash  # pip install dash\n",
    "import dash_cytoscape as cyto  # pip install dash-cytoscape==0.2.0 or higher\n",
    "import dash_html_components as html\n",
    "import dash_core_components as dcc\n",
    "from dash.dependencies import Output, Input\n",
    "import pandas as pd  # pip install pandas\n",
    "import plotly.express as px\n",
    "import math\n",
    "from dash import no_update\n",
    "\n",
    "\n",
    "external_stylesheets = ['https://codepen.io/chriddyp/pen/bWLwgP.css']\n",
    "app = JupyterDash(__name__, external_stylesheets=external_stylesheets)\n",
    "\n",
    "df = pd.read_csv(\"https://raw.githubusercontent.com/Coding-with-Adam/Dash-by-Plotly/master/Cytoscape/org-data.csv\")\n",
    "\n",
    "app.layout = html.Div([\n",
    "    html.Div([\n",
    "        dcc.Dropdown(\n",
    "            id='dpdn',\n",
    "            value='breadthfirst',\n",
    "            clearable=False,\n",
    "            options=[\n",
    "                {'label': name.capitalize(), 'value': name}\n",
    "                for name in ['breadthfirst' ,'grid', 'random', 'circle', 'cose', 'concentric']\n",
    "            ]\n",
    "        ),\n",
    "        cyto.Cytoscape(\n",
    "            id='org-chart',\n",
    "            autoungrabify=True,\n",
    "            minZoom=0.2,\n",
    "            maxZoom=1,\n",
    "            layout={'name': 'breadthfirst'},\n",
    "            style={'width': '100%', 'height': '500px'},\n",
    "            elements=\n",
    "                [\n",
    "                    # Nodes elements\n",
    "                    {'data': {'id': x, 'label': x}} for x in df.name\n",
    "                ]\n",
    "                +\n",
    "                [\n",
    "                    # Edge elements\n",
    "                    {'data': {'source': 'Executive Director (Harriet)', 'target': 'Vice President (Sarah)'}},\n",
    "                    {'data': {'source': 'Executive Director (Harriet)', 'target': 'Vice President (Charlotte)'}},\n",
    "                    {'data': {'source': 'Vice President (Sarah)', 'target': 'Program Officer (Sojourner)'}},\n",
    "                    {'data': {'source': 'Vice President (Sarah)', 'target': 'Program Officer (Elizabeth)'}},\n",
    "                    {'data': {'source': 'Vice President (Charlotte)', 'target': 'Program Associate (Ellen)'}},\n",
    "                ]\n",
    "        )\n",
    "    ], className='six columns'),\n",
    "\n",
    "    html.Div([\n",
    "        html.Div(id='empty-div', children='')\n",
    "    ],className='one column'),\n",
    "\n",
    "    html.Div([\n",
    "        dcc.Graph(id='my-graph', figure=px.bar(df, x='name', y='slaves_freed'))\n",
    "    ], className='five columns'),\n",
    "\n",
    "], className='row')\n",
    "\n",
    "\n",
    "@app.callback(Output('org-chart', 'layout'),\n",
    "              Input('dpdn', 'value'))\n",
    "def update_layout(layout_value):\n",
    "    if layout_value == 'breadthfirst':\n",
    "        return {\n",
    "        'name': layout_value,\n",
    "        'roots': '[id = \"Executive Director (Harriet)\"]',\n",
    "        'animate': True\n",
    "        }\n",
    "    else:\n",
    "        return {\n",
    "            'name': layout_value,\n",
    "            'animate': True\n",
    "        }\n",
    "\n",
    "\n",
    "@app.callback(\n",
    "    Output('my-graph','figure'),\n",
    "    Input('org-chart','tapNodeData'),\n",
    ")\n",
    "def update_nodes(data):\n",
    "    if data is None:\n",
    "        return no_update\n",
    "    else:\n",
    "        dff = df.copy()\n",
    "        dff.loc[dff.name == data['label'], 'color'] = \"yellow\"\n",
    "        fig = px.bar(dff, x='name', y='slaves_freed')\n",
    "        fig.update_traces(marker={'color': dff['color']})\n",
    "        return fig\n",
    "\n",
    "\n",
    "app.run_server(mode='inline', port=8030)\n"
   ]
  },
  {
   "cell_type": "code",
   "execution_count": null,
   "metadata": {},
   "outputs": [],
   "source": []
  }
 ],
 "metadata": {
  "kernelspec": {
   "display_name": "Python 3",
   "language": "python",
   "name": "python3"
  },
  "language_info": {
   "codemirror_mode": {
    "name": "ipython",
    "version": 3
   },
   "file_extension": ".py",
   "mimetype": "text/x-python",
   "name": "python",
   "nbconvert_exporter": "python",
   "pygments_lexer": "ipython3",
   "version": "3.8.3"
  }
 },
 "nbformat": 4,
 "nbformat_minor": 4
}
