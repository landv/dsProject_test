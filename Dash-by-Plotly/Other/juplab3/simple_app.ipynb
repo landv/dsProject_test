{
 "cells": [
  {
   "cell_type": "code",
   "execution_count": null,
   "id": "94223301-b4b3-47ae-8926-a6bcd00ea32b",
   "metadata": {},
   "outputs": [
    {
     "name": "stdout",
     "output_type": "stream",
     "text": [
      "Dash is running on http://127.0.0.1:8050/\n",
      "\n",
      " * Serving Flask app '__main__' (lazy loading)\n",
      " * Environment: production\n",
      "\u001b[31m   WARNING: This is a development server. Do not use it in a production deployment.\u001b[0m\n",
      "\u001b[2m   Use a production WSGI server instead.\u001b[0m\n",
      " * Debug mode: off\n"
     ]
    },
    {
     "name": "stderr",
     "output_type": "stream",
     "text": [
      " * Running on http://127.0.0.1:8050/ (Press CTRL+C to quit)\n",
      "127.0.0.1 - - [26/Jun/2021 14:18:03] \"GET / HTTP/1.1\" 200 -\n",
      "127.0.0.1 - - [26/Jun/2021 14:18:04] \"GET /_dash-layout HTTP/1.1\" 200 -\n",
      "127.0.0.1 - - [26/Jun/2021 14:18:04] \"GET /_dash-dependencies HTTP/1.1\" 200 -\n",
      "127.0.0.1 - - [26/Jun/2021 14:18:05] \"GET /_favicon.ico?v=1.20.0 HTTP/1.1\" 200 -\n"
     ]
    },
    {
     "name": "stdout",
     "output_type": "stream",
     "text": [
      "     country continent  year  lifeExp       pop    gdpPercap iso_alpha  \\\n",
      "168   Brazil  Americas  1952   50.917  56602560  2108.944355       BRA   \n",
      "564  Germany    Europe  1952   67.500  69145952  7144.114393       DEU   \n",
      "\n",
      "     iso_num  \n",
      "168       76  \n",
      "564      276  \n"
     ]
    },
    {
     "name": "stderr",
     "output_type": "stream",
     "text": [
      "127.0.0.1 - - [26/Jun/2021 14:18:06] \"POST /_dash-update-component HTTP/1.1\" 200 -\n",
      "127.0.0.1 - - [26/Jun/2021 14:18:06] \"POST /_dash-update-component HTTP/1.1\" 200 -\n"
     ]
    },
    {
     "name": "stdout",
     "output_type": "stream",
     "text": [
      "     country continent  year  lifeExp       pop    gdpPercap iso_alpha  \\\n",
      "24   Algeria    Africa  1952   43.077   9279525  2449.008185       DZA   \n",
      "168   Brazil  Americas  1952   50.917  56602560  2108.944355       BRA   \n",
      "564  Germany    Europe  1952   67.500  69145952  7144.114393       DEU   \n",
      "\n",
      "     iso_num  \n",
      "24        12  \n",
      "168       76  \n",
      "564      276  \n"
     ]
    },
    {
     "name": "stderr",
     "output_type": "stream",
     "text": [
      "127.0.0.1 - - [26/Jun/2021 14:18:09] \"POST /_dash-update-component HTTP/1.1\" 200 -\n",
      "127.0.0.1 - - [26/Jun/2021 14:18:09] \"POST /_dash-update-component HTTP/1.1\" 200 -\n",
      "127.0.0.1 - - [26/Jun/2021 14:18:11] \"POST /_dash-update-component HTTP/1.1\" 200 -\n",
      "127.0.0.1 - - [26/Jun/2021 14:18:11] \"POST /_dash-update-component HTTP/1.1\" 200 -\n"
     ]
    },
    {
     "name": "stdout",
     "output_type": "stream",
     "text": [
      "     country continent  year  lifeExp       pop    gdpPercap iso_alpha  \\\n",
      "24   Algeria    Africa  1952   43.077   9279525  2449.008185       DZA   \n",
      "36    Angola    Africa  1952   30.015   4232095  3520.610273       AGO   \n",
      "168   Brazil  Americas  1952   50.917  56602560  2108.944355       BRA   \n",
      "564  Germany    Europe  1952   67.500  69145952  7144.114393       DEU   \n",
      "\n",
      "     iso_num  \n",
      "24        12  \n",
      "36        24  \n",
      "168       76  \n",
      "564      276  \n"
     ]
    },
    {
     "name": "stderr",
     "output_type": "stream",
     "text": [
      "127.0.0.1 - - [26/Jun/2021 14:18:12] \"POST /_dash-update-component HTTP/1.1\" 200 -\n"
     ]
    },
    {
     "name": "stdout",
     "output_type": "stream",
     "text": [
      "hover data: {'points': [{'curveNumber': 2, 'pointNumber': 1, 'pointIndex': 1, 'x': 1957, 'y': 2487.365989, 'customdata': ['Brazil', 'Americas', 53.285, 65551171]}]}\n",
      "Brazil\n",
      "click data: None\n",
      "selected data: None\n",
      "hover data: {'points': [{'curveNumber': 2, 'pointNumber': 5, 'pointIndex': 5, 'x': 1977, 'y': 6660.118654, 'customdata': ['Brazil', 'Americas', 61.489, 114313951]}]}\n",
      "Brazil\n",
      "click data: None\n",
      "selected data: None\n"
     ]
    },
    {
     "name": "stderr",
     "output_type": "stream",
     "text": [
      "127.0.0.1 - - [26/Jun/2021 14:18:12] \"POST /_dash-update-component HTTP/1.1\" 200 -\n",
      "127.0.0.1 - - [26/Jun/2021 14:18:12] \"POST /_dash-update-component HTTP/1.1\" 200 -\n"
     ]
    },
    {
     "name": "stdout",
     "output_type": "stream",
     "text": [
      "hover data: {'points': [{'curveNumber': 3, 'pointNumber': 6, 'pointIndex': 6, 'x': 1982, 'y': 22031.53274, 'customdata': ['Germany', 'Europe', 73.8, 78335266]}]}\n",
      "Germany\n",
      "click data: None\n",
      "selected data: None\n"
     ]
    },
    {
     "name": "stderr",
     "output_type": "stream",
     "text": [
      "127.0.0.1 - - [26/Jun/2021 14:18:12] \"POST /_dash-update-component HTTP/1.1\" 200 -\n"
     ]
    },
    {
     "name": "stdout",
     "output_type": "stream",
     "text": [
      "hover data: {'points': [{'curveNumber': 2, 'pointNumber': 5, 'pointIndex': 5, 'x': 1977, 'y': 6660.118654, 'customdata': ['Brazil', 'Americas', 61.489, 114313951]}]}\n",
      "Brazil\n",
      "click data: None\n",
      "selected data: None\n",
      "hover data: {'points': [{'curveNumber': 0, 'pointNumber': 5, 'pointIndex': 5, 'x': 1977, 'y': 4910.416756, 'customdata': ['Algeria', 'Africa', 58.014, 17152804]}]}\n",
      "Algeria\n",
      "click data: None\n",
      "selected data: None\n"
     ]
    },
    {
     "name": "stderr",
     "output_type": "stream",
     "text": [
      "127.0.0.1 - - [26/Jun/2021 14:18:13] \"POST /_dash-update-component HTTP/1.1\" 200 -\n",
      "127.0.0.1 - - [26/Jun/2021 14:18:13] \"POST /_dash-update-component HTTP/1.1\" 200 -\n"
     ]
    },
    {
     "name": "stdout",
     "output_type": "stream",
     "text": [
      "hover data: {'points': [{'curveNumber': 0, 'pointNumber': 4, 'pointIndex': 4, 'x': 1972, 'y': 4182.663766, 'customdata': ['Algeria', 'Africa', 54.518, 14760787]}]}\n",
      "Algeria\n",
      "click data: None\n",
      "selected data: None\n",
      "hover data: {'points': [{'curveNumber': 2, 'pointNumber': 3, 'pointIndex': 3, 'x': 1967, 'y': 3429.864357, 'customdata': ['Brazil', 'Americas', 57.632, 88049823]}]}\n",
      "Brazil\n",
      "click data: None\n",
      "selected data: None\n"
     ]
    },
    {
     "name": "stderr",
     "output_type": "stream",
     "text": [
      "127.0.0.1 - - [26/Jun/2021 14:18:13] \"POST /_dash-update-component HTTP/1.1\" 200 -\n"
     ]
    },
    {
     "name": "stdout",
     "output_type": "stream",
     "text": [
      "hover data: {'points': [{'curveNumber': 0, 'pointNumber': 4, 'pointIndex': 4, 'x': 1972, 'y': 4182.663766, 'customdata': ['Algeria', 'Africa', 54.518, 14760787]}]}\n",
      "Algeria\n",
      "click data: None\n",
      "selected data: None\n",
      "hover data: {'points': [{'curveNumber': 2, 'pointNumber': 4, 'pointIndex': 4, 'x': 1972, 'y': 4985.711467, 'customdata': ['Brazil', 'Americas', 59.504, 100840058]}]}\n",
      "Brazil\n",
      "click data: None\n",
      "selected data: None\n",
      "hover data: {'points': [{'curveNumber': 0, 'pointNumber': 5, 'pointIndex': 5, 'x': 1977, 'y': 4910.416756, 'customdata': ['Algeria', 'Africa', 58.014, 17152804]}]}\n",
      "Algeria"
     ]
    },
    {
     "name": "stderr",
     "output_type": "stream",
     "text": [
      "127.0.0.1 - - [26/Jun/2021 14:18:13] \"POST /_dash-update-component HTTP/1.1\" 200 -\n",
      "127.0.0.1 - - [26/Jun/2021 14:18:13] \"POST /_dash-update-component HTTP/1.1\" 200 -\n",
      "127.0.0.1 - - [26/Jun/2021 14:18:13] \"POST /_dash-update-component HTTP/1.1\" 200 -\n",
      "127.0.0.1 - - [26/Jun/2021 14:18:14] \"POST /_dash-update-component HTTP/1.1\" 200 -\n"
     ]
    },
    {
     "name": "stdout",
     "output_type": "stream",
     "text": [
      "\n",
      "click data: None\n",
      "selected data: None\n",
      "hover data: {'points': [{'curveNumber': 0, 'pointNumber': 6, 'pointIndex': 6, 'x': 1982, 'y': 5745.160213, 'customdata': ['Algeria', 'Africa', 61.368, 20033753]}]}\n",
      "hover data: {'points': [{'curveNumber': 0, 'pointNumber': 7, 'pointIndex': 7, 'x': 1987, 'y': 5681.358539, 'customdata': ['Algeria', 'Africa', 65.799, 23254956]}]}Algeria\n",
      "click data: None\n",
      "selected data: None\n",
      "\n",
      "Algeria\n",
      "click data: None\n",
      "selected data: None\n",
      "hover data: {'points': [{'curveNumber': 2, 'pointNumber': 8, 'pointIndex': 8, 'x': 1992, 'y': 6950.283021, 'customdata': ['Brazil', 'Americas', 67.057, 155975974]}]}\n",
      "Brazil\n",
      "click data: None\n",
      "selected data: None\n",
      "hover data: {'points': [{'curveNumber': 2, 'pointNumber': 9, 'pointIndex': 9, 'x': 1997, 'y': 7957.980824, 'customdata': ['Brazil', 'Americas', 69.388, 168546719]}]}\n",
      "Brazil\n",
      "click data: None\n",
      "selected data: None\n"
     ]
    },
    {
     "name": "stderr",
     "output_type": "stream",
     "text": [
      "127.0.0.1 - - [26/Jun/2021 14:18:14] \"POST /_dash-update-component HTTP/1.1\" 200 -\n",
      "127.0.0.1 - - [26/Jun/2021 14:18:14] \"POST /_dash-update-component HTTP/1.1\" 200 -\n",
      "127.0.0.1 - - [26/Jun/2021 14:18:14] \"POST /_dash-update-component HTTP/1.1\" 200 -\n",
      "127.0.0.1 - - [26/Jun/2021 14:18:14] \"POST /_dash-update-component HTTP/1.1\" 200 -\n"
     ]
    },
    {
     "name": "stdout",
     "output_type": "stream",
     "text": [
      "hover data: {'points': [{'curveNumber': 2, 'pointNumber': 8, 'pointIndex': 8, 'x': 1992, 'y': 6950.283021, 'customdata': ['Brazil', 'Americas', 67.057, 155975974]}]}\n",
      "Brazil\n",
      "click data: None\n",
      "selected data: None\n",
      "hover data: {'points': [{'curveNumber': 0, 'pointNumber': 8, 'pointIndex': 8, 'x': 1992, 'y': 5023.216647, 'customdata': ['Algeria', 'Africa', 67.744, 26298373]}]}\n",
      "Algeria\n",
      "click data: None\n",
      "selected data: None\n",
      "hover data: {'points': [{'curveNumber': 0, 'pointNumber': 7, 'pointIndex': 7, 'x': 1987, 'y': 5681.358539, 'customdata': ['Algeria', 'Africa', 65.799, 23254956]}]}\n",
      "Algeria\n",
      "click data: None\n",
      "selected data: None\n"
     ]
    },
    {
     "name": "stderr",
     "output_type": "stream",
     "text": [
      "127.0.0.1 - - [26/Jun/2021 14:18:14] \"POST /_dash-update-component HTTP/1.1\" 200 -\n",
      "127.0.0.1 - - [26/Jun/2021 14:18:14] \"POST /_dash-update-component HTTP/1.1\" 200 -\n"
     ]
    },
    {
     "name": "stdout",
     "output_type": "stream",
     "text": [
      "hover data: {'points': [{'curveNumber': 0, 'pointNumber': 6, 'pointIndex': 6, 'x': 1982, 'y': 5745.160213, 'customdata': ['Algeria', 'Africa', 61.368, 20033753]}]}\n",
      "Algeria\n",
      "click data: None\n",
      "selected data: None\n",
      "hover data: {'points': [{'curveNumber': 0, 'pointNumber': 5, 'pointIndex': 5, 'x': 1977, 'y': 4910.416756, 'customdata': ['Algeria', 'Africa', 58.014, 17152804]}]}\n",
      "Algeria\n",
      "click data: None\n",
      "selected data: None\n",
      "hover data: {'points': [{'curveNumber': 0, 'pointNumber': 4, 'pointIndex': 4, 'x': 1972, 'y': 4182.663766, 'customdata': ['Algeria', 'Africa', 54.518, 14760787]}]}"
     ]
    },
    {
     "name": "stderr",
     "output_type": "stream",
     "text": [
      "127.0.0.1 - - [26/Jun/2021 14:18:14] \"POST /_dash-update-component HTTP/1.1\" 200 -\n",
      "127.0.0.1 - - [26/Jun/2021 14:18:15] \"POST /_dash-update-component HTTP/1.1\" 200 -\n",
      "127.0.0.1 - - [26/Jun/2021 14:18:15] \"POST /_dash-update-component HTTP/1.1\" 200 -\n",
      "127.0.0.1 - - [26/Jun/2021 14:18:15] \"POST /_dash-update-component HTTP/1.1\" 200 -\n"
     ]
    },
    {
     "name": "stdout",
     "output_type": "stream",
     "text": [
      "\n",
      "Algeria\n",
      "click data: None\n",
      "selected data: None\n",
      "hover data: {'points': [{'curveNumber': 2, 'pointNumber': 3, 'pointIndex': 3, 'x': 1967, 'y': 3429.864357, 'customdata': ['Brazil', 'Americas', 57.632, 88049823]}]}\n",
      "Brazil\n",
      "click data: None\n",
      "selected data: None\n",
      "hover data: {'points': [{'curveNumber': 2, 'pointNumber': 2, 'pointIndex': 2, 'x': 1962, 'y': 3336.585802, 'customdata': ['Brazil', 'Americas', 55.665, 76039390]}]}\n",
      "Brazil\n",
      "click data: None\n",
      "selected data: None\n",
      "hover data: {'points': [{'curveNumber': 1, 'pointNumber': 1, 'pointIndex': 1, 'x': 1957, 'y': 3827.940465, 'customdata': ['Angola', 'Africa', 31.999, 4561361]}]}\n",
      "Angola\n",
      "click data: None\n",
      "selected data: None\n"
     ]
    },
    {
     "name": "stderr",
     "output_type": "stream",
     "text": [
      "127.0.0.1 - - [26/Jun/2021 14:18:15] \"POST /_dash-update-component HTTP/1.1\" 200 -\n",
      "127.0.0.1 - - [26/Jun/2021 14:18:15] \"POST /_dash-update-component HTTP/1.1\" 200 -\n",
      "127.0.0.1 - - [26/Jun/2021 14:18:15] \"POST /_dash-update-component HTTP/1.1\" 200 -\n"
     ]
    },
    {
     "name": "stdout",
     "output_type": "stream",
     "text": [
      "hover data: {'points': [{'curveNumber': 3, 'pointNumber': 1, 'pointIndex': 1, 'x': 1957, 'y': 10187.82665, 'customdata': ['Germany', 'Europe', 69.1, 71019069]}]}\n",
      "Germany\n",
      "click data: None\n",
      "selected data: None\n"
     ]
    },
    {
     "name": "stderr",
     "output_type": "stream",
     "text": [
      "127.0.0.1 - - [26/Jun/2021 14:18:16] \"POST /_dash-update-component HTTP/1.1\" 200 -\n"
     ]
    },
    {
     "name": "stdout",
     "output_type": "stream",
     "text": [
      "hover data: {'points': [{'curveNumber': 3, 'pointNumber': 3, 'pointIndex': 3, 'x': 1967, 'y': 14745.62561, 'customdata': ['Germany', 'Europe', 70.8, 76368453]}]}\n",
      "Germany\n",
      "click data: None\n",
      "selected data: None\n",
      "hover data: {'points': [{'curveNumber': 3, 'pointNumber': 4, 'pointIndex': 4, 'x': 1972, 'y': 18016.18027, 'customdata': ['Germany', 'Europe', 71, 78717088]}]}\n",
      "Germany\n",
      "click data: None\n",
      "selected data: None\n"
     ]
    },
    {
     "name": "stderr",
     "output_type": "stream",
     "text": [
      "127.0.0.1 - - [26/Jun/2021 14:18:16] \"POST /_dash-update-component HTTP/1.1\" 200 -\n",
      "127.0.0.1 - - [26/Jun/2021 14:18:16] \"POST /_dash-update-component HTTP/1.1\" 200 -\n",
      "127.0.0.1 - - [26/Jun/2021 14:18:16] \"POST /_dash-update-component HTTP/1.1\" 200 -\n"
     ]
    },
    {
     "name": "stdout",
     "output_type": "stream",
     "text": [
      "hover data: {'points': [{'curveNumber': 3, 'pointNumber': 5, 'pointIndex': 5, 'x': 1977, 'y': 20512.92123, 'customdata': ['Germany', 'Europe', 72.5, 78160773]}]}\n",
      "Germany\n",
      "click data: None\n",
      "selected data: None\n",
      "hover data: {'points': [{'curveNumber': 3, 'pointNumber': 6, 'pointIndex': 6, 'x': 1982, 'y': 22031.53274, 'customdata': ['Germany', 'Europe', 73.8, 78335266]}]}\n",
      "Germany\n",
      "click data: None\n",
      "selected data: None\n"
     ]
    },
    {
     "name": "stderr",
     "output_type": "stream",
     "text": [
      "127.0.0.1 - - [26/Jun/2021 14:18:16] \"POST /_dash-update-component HTTP/1.1\" 200 -\n"
     ]
    },
    {
     "name": "stdout",
     "output_type": "stream",
     "text": [
      "hover data: {'points': [{'curveNumber': 3, 'pointNumber': 7, 'pointIndex': 7, 'x': 1987, 'y': 24639.18566, 'customdata': ['Germany', 'Europe', 74.847, 77718298]}]}\n",
      "Germany\n",
      "click data: None\n",
      "selected data: None\n",
      "hover data: {'points': [{'curveNumber': 3, 'pointNumber': 8, 'pointIndex': 8, 'x': 1992, 'y': 26505.30317, 'customdata': ['Germany', 'Europe', 76.07, 80597764]}]}\n",
      "Germany\n",
      "click data: None\n",
      "selected data: None\n"
     ]
    },
    {
     "name": "stderr",
     "output_type": "stream",
     "text": [
      "127.0.0.1 - - [26/Jun/2021 14:18:16] \"POST /_dash-update-component HTTP/1.1\" 200 -\n",
      "127.0.0.1 - - [26/Jun/2021 14:18:17] \"POST /_dash-update-component HTTP/1.1\" 200 -\n"
     ]
    },
    {
     "name": "stdout",
     "output_type": "stream",
     "text": [
      "hover data: {'points': [{'curveNumber': 3, 'pointNumber': 9, 'pointIndex': 9, 'x': 1997, 'y': 27788.88416, 'customdata': ['Germany', 'Europe', 77.34, 82011073]}]}\n",
      "Germany\n",
      "click data: None\n",
      "selected data: None\n"
     ]
    },
    {
     "name": "stderr",
     "output_type": "stream",
     "text": [
      "127.0.0.1 - - [26/Jun/2021 14:18:17] \"POST /_dash-update-component HTTP/1.1\" 200 -\n"
     ]
    },
    {
     "name": "stdout",
     "output_type": "stream",
     "text": [
      "hover data: {'points': [{'curveNumber': 3, 'pointNumber': 8, 'pointIndex': 8, 'x': 1992, 'y': 26505.30317, 'customdata': ['Germany', 'Europe', 76.07, 80597764]}]}\n",
      "Germany\n",
      "click data: None\n",
      "selected data: None\n"
     ]
    },
    {
     "name": "stderr",
     "output_type": "stream",
     "text": [
      "127.0.0.1 - - [26/Jun/2021 14:18:18] \"POST /_dash-update-component HTTP/1.1\" 200 -\n"
     ]
    },
    {
     "name": "stdout",
     "output_type": "stream",
     "text": [
      "hover data: {'points': [{'curveNumber': 1, 'pointNumber': 3, 'pointIndex': 3, 'x': 1967, 'y': 5522.776375, 'customdata': ['Angola', 'Africa', 35.985, 5247469]}]}\n",
      "Angola\n",
      "click data: None\n",
      "selected data: None\n",
      "hover data: {'points': [{'curveNumber': 0, 'pointNumber': 3, 'pointIndex': 3, 'x': 1967, 'y': 3246.991771, 'customdata': ['Algeria', 'Africa', 51.407, 12760499]}]}"
     ]
    },
    {
     "name": "stderr",
     "output_type": "stream",
     "text": [
      "127.0.0.1 - - [26/Jun/2021 14:18:18] \"POST /_dash-update-component HTTP/1.1\" 200 -\n"
     ]
    },
    {
     "name": "stdout",
     "output_type": "stream",
     "text": [
      "\n",
      "Algeria\n",
      "click data: None\n",
      "selected data: None\n"
     ]
    },
    {
     "name": "stderr",
     "output_type": "stream",
     "text": [
      "127.0.0.1 - - [26/Jun/2021 14:18:19] \"POST /_dash-update-component HTTP/1.1\" 200 -\n"
     ]
    },
    {
     "name": "stdout",
     "output_type": "stream",
     "text": [
      "hover data: {'points': [{'curveNumber': 0, 'pointNumber': 4, 'pointIndex': 4, 'x': 1972, 'y': 4182.663766, 'customdata': ['Algeria', 'Africa', 54.518, 14760787]}]}\n",
      "Algeria\n",
      "click data: None\n",
      "selected data: None\n",
      "hover data: {'points': [{'curveNumber': 0, 'pointNumber': 5, 'pointIndex': 5, 'x': 1977, 'y': 4910.416756, 'customdata': ['Algeria', 'Africa', 58.014, 17152804]}]}"
     ]
    },
    {
     "name": "stderr",
     "output_type": "stream",
     "text": [
      "127.0.0.1 - - [26/Jun/2021 14:18:19] \"POST /_dash-update-component HTTP/1.1\" 200 -\n"
     ]
    },
    {
     "name": "stdout",
     "output_type": "stream",
     "text": [
      "\n",
      "Algeria\n",
      "click data: None\n",
      "selected data: None\n"
     ]
    },
    {
     "name": "stderr",
     "output_type": "stream",
     "text": [
      "127.0.0.1 - - [26/Jun/2021 14:18:19] \"POST /_dash-update-component HTTP/1.1\" 200 -\n"
     ]
    },
    {
     "name": "stdout",
     "output_type": "stream",
     "text": [
      "hover data: {'points': [{'curveNumber': 0, 'pointNumber': 6, 'pointIndex': 6, 'x': 1982, 'y': 5745.160213, 'customdata': ['Algeria', 'Africa', 61.368, 20033753]}]}\n",
      "Algeria\n",
      "click data: None\n",
      "selected data: None\n"
     ]
    },
    {
     "name": "stderr",
     "output_type": "stream",
     "text": [
      "127.0.0.1 - - [26/Jun/2021 14:18:20] \"POST /_dash-update-component HTTP/1.1\" 200 -\n"
     ]
    },
    {
     "name": "stdout",
     "output_type": "stream",
     "text": [
      "hover data: {'points': [{'curveNumber': 0, 'pointNumber': 7, 'pointIndex': 7, 'x': 1987, 'y': 5681.358539, 'customdata': ['Algeria', 'Africa', 65.799, 23254956]}]}\n",
      "Algeria\n",
      "click data: None\n",
      "selected data: None\n",
      "hover data: {'points': [{'curveNumber': 0, 'pointNumber': 8, 'pointIndex': 8, 'x': 1992, 'y': 5023.216647, 'customdata': ['Algeria', 'Africa', 67.744, 26298373]}]}\n",
      "Algeria\n",
      "click data: None\n",
      "selected data: None\n",
      "hover data: {'points': [{'curveNumber': 0, 'pointNumber': 9, 'pointIndex': 9, 'x': 1997, 'y': 4797.295051, 'customdata': ['Algeria', 'Africa', 69.152, 29072015]}]}\n",
      "Algeria\n",
      "click data: None\n",
      "selected data: None\n"
     ]
    },
    {
     "name": "stderr",
     "output_type": "stream",
     "text": [
      "127.0.0.1 - - [26/Jun/2021 14:18:20] \"POST /_dash-update-component HTTP/1.1\" 200 -\n",
      "127.0.0.1 - - [26/Jun/2021 14:18:20] \"POST /_dash-update-component HTTP/1.1\" 200 -\n",
      "127.0.0.1 - - [26/Jun/2021 14:18:20] \"POST /_dash-update-component HTTP/1.1\" 200 -\n"
     ]
    },
    {
     "name": "stdout",
     "output_type": "stream",
     "text": [
      "hover data: {'points': [{'curveNumber': 0, 'pointNumber': 10, 'pointIndex': 10, 'x': 2002, 'y': 5288.040382, 'customdata': ['Algeria', 'Africa', 70.994, 31287142]}]}\n",
      "Algeria\n",
      "click data: None\n",
      "selected data: None\n",
      "hover data: {'points': [{'curveNumber': 0, 'pointNumber': 9, 'pointIndex': 9, 'x': 1997, 'y': 4797.295051, 'customdata': ['Algeria', 'Africa', 69.152, 29072015]}]}\n",
      "Algeria\n",
      "click data: None\n",
      "selected data: None\n"
     ]
    },
    {
     "name": "stderr",
     "output_type": "stream",
     "text": [
      "127.0.0.1 - - [26/Jun/2021 14:18:20] \"POST /_dash-update-component HTTP/1.1\" 200 -\n",
      "127.0.0.1 - - [26/Jun/2021 14:18:20] \"POST /_dash-update-component HTTP/1.1\" 200 -\n"
     ]
    },
    {
     "name": "stdout",
     "output_type": "stream",
     "text": [
      "hover data: {'points': [{'curveNumber': 0, 'pointNumber': 8, 'pointIndex': 8, 'x': 1992, 'y': 5023.216647, 'customdata': ['Algeria', 'Africa', 67.744, 26298373]}]}\n",
      "Algeria\n",
      "click data: None\n",
      "selected data: None\n"
     ]
    },
    {
     "name": "stderr",
     "output_type": "stream",
     "text": [
      "127.0.0.1 - - [26/Jun/2021 14:18:20] \"POST /_dash-update-component HTTP/1.1\" 200 -\n"
     ]
    },
    {
     "name": "stdout",
     "output_type": "stream",
     "text": [
      "hover data: {'points': [{'curveNumber': 0, 'pointNumber': 7, 'pointIndex': 7, 'x': 1987, 'y': 5681.358539, 'customdata': ['Algeria', 'Africa', 65.799, 23254956]}]}\n",
      "Algeria\n",
      "click data: None\n",
      "selected data: None\n",
      "hover data: {'points': [{'curveNumber': 1, 'pointNumber': 7, 'pointIndex': 7, 'x': 1987, 'y': 2430.208311, 'customdata': ['Angola', 'Africa', 39.906, 7874230]}]}\n",
      "Angola\n",
      "click data: None\n",
      "selected data: None\n",
      "hover data: {'points': [{'curveNumber': 1, 'pointNumber': 6, 'pointIndex': 6, 'x': 1982, 'y': 2756.953672, 'customdata': ['Angola', 'Africa', 39.942, 7016384]}]}\n",
      "Angola\n",
      "click data: None\n",
      "selected data: None\n"
     ]
    },
    {
     "name": "stderr",
     "output_type": "stream",
     "text": [
      "127.0.0.1 - - [26/Jun/2021 14:18:20] \"POST /_dash-update-component HTTP/1.1\" 200 -\n",
      "127.0.0.1 - - [26/Jun/2021 14:18:21] \"POST /_dash-update-component HTTP/1.1\" 200 -\n",
      "127.0.0.1 - - [26/Jun/2021 14:18:21] \"POST /_dash-update-component HTTP/1.1\" 200 -\n"
     ]
    },
    {
     "name": "stdout",
     "output_type": "stream",
     "text": [
      "hover data: {'points': [{'curveNumber': 1, 'pointNumber': 5, 'pointIndex': 5, 'x': 1977, 'y': 3008.647355, 'customdata': ['Angola', 'Africa', 39.483, 6162675]}]}\n",
      "Angola\n",
      "click data: None\n",
      "selected data: None\n",
      "hover data: {'points': [{'curveNumber': 0, 'pointNumber': 4, 'pointIndex': 4, 'x': 1972, 'y': 4182.663766, 'customdata': ['Algeria', 'Africa', 54.518, 14760787]}]}"
     ]
    },
    {
     "name": "stderr",
     "output_type": "stream",
     "text": [
      "127.0.0.1 - - [26/Jun/2021 14:18:21] \"POST /_dash-update-component HTTP/1.1\" 200 -\n",
      "127.0.0.1 - - [26/Jun/2021 14:18:21] \"POST /_dash-update-component HTTP/1.1\" 200 -\n"
     ]
    },
    {
     "name": "stdout",
     "output_type": "stream",
     "text": [
      "\n",
      "Algeria\n",
      "click data: None\n",
      "selected data: None\n",
      "hover data: {'points': [{'curveNumber': 0, 'pointNumber': 3, 'pointIndex': 3, 'x': 1967, 'y': 3246.991771, 'customdata': ['Algeria', 'Africa', 51.407, 12760499]}]}\n",
      "Algeria\n",
      "click data: None\n",
      "selected data: None\n"
     ]
    },
    {
     "name": "stderr",
     "output_type": "stream",
     "text": [
      "127.0.0.1 - - [26/Jun/2021 14:18:21] \"POST /_dash-update-component HTTP/1.1\" 200 -\n"
     ]
    },
    {
     "name": "stdout",
     "output_type": "stream",
     "text": [
      "hover data: {'points': [{'curveNumber': 0, 'pointNumber': 2, 'pointIndex': 2, 'x': 1962, 'y': 2550.81688, 'customdata': ['Algeria', 'Africa', 48.303, 11000948]}]}\n",
      "Algeria\n",
      "click data: None\n",
      "selected data: None\n"
     ]
    },
    {
     "name": "stderr",
     "output_type": "stream",
     "text": [
      "127.0.0.1 - - [26/Jun/2021 14:18:22] \"POST /_dash-update-component HTTP/1.1\" 200 -\n"
     ]
    },
    {
     "name": "stdout",
     "output_type": "stream",
     "text": [
      "hover data: {'points': [{'curveNumber': 2, 'pointNumber': 1, 'pointIndex': 1, 'x': 1957, 'y': 2487.365989, 'customdata': ['Brazil', 'Americas', 53.285, 65551171]}]}\n",
      "Brazil\n",
      "click data: None\n",
      "selected data: None\n",
      "hover data: {'points': [{'curveNumber': 1, 'pointNumber': 0, 'pointIndex': 0, 'x': 1952, 'y': 3520.610273, 'customdata': ['Angola', 'Africa', 30.015, 4232095]}]}\n",
      "Angola\n",
      "click data: None\n",
      "selected data: None\n"
     ]
    },
    {
     "name": "stderr",
     "output_type": "stream",
     "text": [
      "127.0.0.1 - - [26/Jun/2021 14:18:22] \"POST /_dash-update-component HTTP/1.1\" 200 -\n",
      "127.0.0.1 - - [26/Jun/2021 14:18:23] \"POST /_dash-update-component HTTP/1.1\" 200 -\n",
      "127.0.0.1 - - [26/Jun/2021 14:18:23] \"POST /_dash-update-component HTTP/1.1\" 200 -\n"
     ]
    },
    {
     "name": "stdout",
     "output_type": "stream",
     "text": [
      "hover data: {'points': [{'curveNumber': 1, 'pointNumber': 0, 'pointIndex': 0, 'x': 1952, 'y': 3520.610273, 'customdata': ['Angola', 'Africa', 30.015, 4232095]}]}\n",
      "Angola\n",
      "click data: None\n",
      "selected data: None\n"
     ]
    }
   ],
   "source": [
    "import dash\n",
    "import dash_core_components as dcc\n",
    "import dash_html_components as html\n",
    "from dash.dependencies import Output, Input\n",
    "import plotly.express as px\n",
    "\n",
    "df = px.data.gapminder()\n",
    "\n",
    "external_stylesheets = ['https://codepen.io/chriddyp/pen/bWLwgP.css']\n",
    "app = dash.Dash(__name__, external_stylesheets=external_stylesheets)\n",
    "\n",
    "app.layout = html.Div([\n",
    "    dcc.Dropdown(id='dpdn2', value=['Germany','Brazil'], multi=True,\n",
    "                 options=[{'label': x, 'value': x} for x in\n",
    "                          df.country.unique()]),\n",
    "    html.Div([\n",
    "        dcc.Graph(id='pie-graph', figure={}, className='six columns'),\n",
    "        dcc.Graph(id='my-graph', figure={}, clickData=None, hoverData=None,\n",
    "                  config={\n",
    "                      'staticPlot': False,     # True, False\n",
    "                      'scrollZoom': True,      # True, False\n",
    "                      'doubleClick': 'reset',  # 'reset', 'autosize' or 'reset+autosize', False\n",
    "                      'showTips': False,       # True, False\n",
    "                      'displayModeBar': True,  # True, False, 'hover'\n",
    "                      'watermark': True,\n",
    "                      # 'modeBarButtonsToAdd': ['pan2d','select2d'],\n",
    "                        },\n",
    "                  className='six columns'\n",
    "                  )\n",
    "    ])\n",
    "])\n",
    "\n",
    "\n",
    "@app.callback(\n",
    "    Output(component_id='my-graph', component_property='figure'),\n",
    "    Input(component_id='dpdn2', component_property='value'),\n",
    ")\n",
    "def update_graph(country_chosen):\n",
    "    dff = df[df.country.isin(country_chosen)]\n",
    "    fig = px.line(data_frame=dff, x='year', y='gdpPercap', color='country',\n",
    "                  custom_data=['country', 'continent', 'lifeExp', 'pop'])\n",
    "    fig.update_traces(mode='lines+markers')\n",
    "    return fig\n",
    "\n",
    "\n",
    "# Dash version 1.16.0 or higher\n",
    "@app.callback(\n",
    "    Output(component_id='pie-graph', component_property='figure'),\n",
    "    Input(component_id='my-graph', component_property='hoverData'),\n",
    "    Input(component_id='my-graph', component_property='clickData'),\n",
    "    Input(component_id='my-graph', component_property='selectedData'),\n",
    "    Input(component_id='dpdn2', component_property='value')\n",
    ")\n",
    "def update_side_graph(hov_data, clk_data, slct_data, country_chosen):\n",
    "    if hov_data is None:\n",
    "        dff2 = df[df.country.isin(country_chosen)]\n",
    "        dff2 = dff2[dff2.year == 1952]\n",
    "        print(dff2)\n",
    "        fig2 = px.pie(data_frame=dff2, values='pop', names='country',\n",
    "                      title='Population for 1952')\n",
    "        return fig2\n",
    "    else:\n",
    "        print(f'hover data: {hov_data}')\n",
    "        print(hov_data['points'][0]['customdata'][0])\n",
    "        print(f'click data: {clk_data}')\n",
    "        print(f'selected data: {slct_data}')\n",
    "        dff2 = df[df.country.isin(country_chosen)]\n",
    "        hov_year = hov_data['points'][0]['x']\n",
    "        dff2 = dff2[dff2.year == hov_year]\n",
    "        fig2 = px.pie(data_frame=dff2, values='pop', names='country', title=f'Population for: {hov_year}')\n",
    "        return fig2\n",
    "\n",
    "\n",
    "if __name__ == '__main__':\n",
    "    app.run_server(debug=False)\n"
   ]
  },
  {
   "cell_type": "code",
   "execution_count": null,
   "id": "96ffd0a1-7817-447f-a907-5036576dd16d",
   "metadata": {},
   "outputs": [],
   "source": []
  }
 ],
 "metadata": {
  "kernelspec": {
   "display_name": "Python 3",
   "language": "python",
   "name": "python3"
  },
  "language_info": {
   "codemirror_mode": {
    "name": "ipython",
    "version": 3
   },
   "file_extension": ".py",
   "mimetype": "text/x-python",
   "name": "python",
   "nbconvert_exporter": "python",
   "pygments_lexer": "ipython3",
   "version": "3.8.3"
  }
 },
 "nbformat": 4,
 "nbformat_minor": 5
}
