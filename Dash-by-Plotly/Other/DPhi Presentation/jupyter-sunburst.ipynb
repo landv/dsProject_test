{
 "cells": [
  {
   "cell_type": "code",
   "execution_count": 5,
   "id": "least-japanese",
   "metadata": {},
   "outputs": [
    {
     "data": {
      "application/vnd.plotly.v1+json": {
       "config": {
        "plotlyServerURL": "https://plot.ly"
       },
       "data": [
        {
         "branchvalues": "total",
         "customdata": [
          [
           "Vehicle"
          ],
          [
           "Unarmed"
          ],
          [
           "Vehicle"
          ],
          [
           "Allegedly Armed"
          ],
          [
           "Unarmed"
          ],
          [
           "Unclear"
          ],
          [
           "Unarmed"
          ],
          [
           "Unarmed"
          ],
          [
           "Unclear"
          ],
          [
           "Allegedly Armed"
          ],
          [
           "Unarmed"
          ],
          [
           "Unclear"
          ],
          [
           "Vehicle"
          ],
          [
           "Vehicle"
          ],
          [
           "Unclear"
          ],
          [
           "Vehicle"
          ],
          [
           "Unclear"
          ],
          [
           "Unclear"
          ],
          [
           "Unarmed"
          ],
          [
           "Unarmed"
          ],
          [
           "Allegedly Armed"
          ],
          [
           "Vehicle"
          ],
          [
           "Unclear"
          ],
          [
           "Allegedly Armed"
          ],
          [
           "Vehicle"
          ],
          [
           "Allegedly Armed"
          ],
          [
           "Unarmed"
          ],
          [
           "Unarmed"
          ],
          [
           "Allegedly Armed"
          ],
          [
           "Allegedly Armed"
          ],
          [
           "Unarmed"
          ],
          [
           "Unclear"
          ],
          [
           "Vehicle"
          ],
          [
           "Allegedly Armed"
          ],
          [
           "Unclear"
          ],
          [
           "Allegedly Armed"
          ],
          [
           "Unclear"
          ],
          [
           "Allegedly Armed"
          ],
          [
           "Allegedly Armed"
          ],
          [
           "Vehicle"
          ],
          [
           "Allegedly Armed"
          ],
          [
           "Unarmed"
          ],
          [
           "Allegedly Armed"
          ],
          [
           "Vehicle"
          ],
          [
           "Unclear"
          ],
          [
           "Allegedly Armed"
          ],
          [
           "Unarmed"
          ],
          [
           "Vehicle"
          ],
          [
           "Vehicle"
          ],
          [
           "Unclear"
          ],
          [
           "Allegedly Armed"
          ],
          [
           "Vehicle"
          ],
          [
           "Unclear"
          ],
          [
           "Unarmed"
          ],
          [
           "Unarmed"
          ],
          [
           "Allegedly Armed"
          ],
          [
           "Unclear"
          ]
         ],
         "domain": {
          "x": [
           0,
           1
          ],
          "y": [
           0,
           1
          ]
         },
         "hovertemplate": "labels=%{label}<br>count=%{value}<br>parent=%{parent}<br>id=%{id}<br>Weapon=%{customdata[0]}<extra></extra>",
         "ids": [
          "Vehicle",
          "Unarmed/CA/Hispanic",
          "Vehicle/CA",
          "Allegedly Armed/NY/Hispanic",
          "Unarmed/NY/Hispanic",
          "Unclear/NY/Hispanic",
          "Unarmed/CA",
          "Unarmed/NY",
          "Unclear",
          "Allegedly Armed/CA/White",
          "Unarmed/CA/White",
          "Unclear/CA/White",
          "Vehicle/CA/White",
          "Vehicle/TX/White",
          "Unclear/TX/White",
          "Vehicle/TX/Hispanic",
          "Unclear/NY/White",
          "Unclear/NY",
          "Unarmed/TX/Black",
          "Unarmed",
          "Allegedly Armed",
          "Vehicle/TX",
          "Unclear/TX",
          "Allegedly Armed/TX/Asian",
          "Vehicle/TX/Asian",
          "Allegedly Armed/CA/Black",
          "Unarmed/CA/Black",
          "Unarmed/TX",
          "Allegedly Armed/TX",
          "Allegedly Armed/NY/Black",
          "Unarmed/NY/Black",
          "Unclear/NY/Black",
          "Vehicle/NY",
          "Allegedly Armed/TX/Black",
          "Unclear/TX/Black",
          "Allegedly Armed/TX/White",
          "Unclear/CA",
          "Allegedly Armed/NY",
          "Allegedly Armed/CA/Asian",
          "Vehicle/TX/Black",
          "Allegedly Armed/NY/White",
          "Unarmed/CA/Asian",
          "Allegedly Armed/TX/Hispanic",
          "Vehicle/CA/Hispanic",
          "Unclear/CA/Hispanic",
          "Allegedly Armed/CA/Hispanic",
          "Unarmed/TX/White",
          "Vehicle/NY/Black",
          "Vehicle/CA/Black",
          "Unclear/CA/Black",
          "Allegedly Armed/NY/Asian",
          "Vehicle/CA/Asian",
          "Unclear/CA/Asian",
          "Unarmed/TX/Hispanic",
          "Unarmed/NY/White",
          "Allegedly Armed/CA",
          "Unclear/TX/Hispanic"
         ],
         "labels": [
          "Vehicle",
          "Hispanic",
          "CA",
          "Hispanic",
          "Hispanic",
          "Hispanic",
          "CA",
          "NY",
          "Unclear",
          "White",
          "White",
          "White",
          "White",
          "White",
          "White",
          "Hispanic",
          "White",
          "NY",
          "Black",
          "Unarmed",
          "Allegedly Armed",
          "TX",
          "TX",
          "Asian",
          "Asian",
          "Black",
          "Black",
          "TX",
          "TX",
          "Black",
          "Black",
          "Black",
          "NY",
          "Black",
          "Black",
          "White",
          "CA",
          "NY",
          "Asian",
          "Black",
          "White",
          "Asian",
          "Hispanic",
          "Hispanic",
          "Hispanic",
          "Hispanic",
          "White",
          "Black",
          "Black",
          "Black",
          "Asian",
          "Asian",
          "Asian",
          "Hispanic",
          "White",
          "CA",
          "Hispanic"
         ],
         "marker": {
          "colors": [
           "#636efa",
           "#EF553B",
           "#636efa",
           "#00cc96",
           "#EF553B",
           "#ab63fa",
           "#EF553B",
           "#EF553B",
           "#ab63fa",
           "#00cc96",
           "#EF553B",
           "#ab63fa",
           "#636efa",
           "#636efa",
           "#ab63fa",
           "#636efa",
           "#ab63fa",
           "#ab63fa",
           "#EF553B",
           "#EF553B",
           "#00cc96",
           "#636efa",
           "#ab63fa",
           "#00cc96",
           "#636efa",
           "#00cc96",
           "#EF553B",
           "#EF553B",
           "#00cc96",
           "#00cc96",
           "#EF553B",
           "#ab63fa",
           "#636efa",
           "#00cc96",
           "#ab63fa",
           "#00cc96",
           "#ab63fa",
           "#00cc96",
           "#00cc96",
           "#636efa",
           "#00cc96",
           "#EF553B",
           "#00cc96",
           "#636efa",
           "#ab63fa",
           "#00cc96",
           "#EF553B",
           "#636efa",
           "#636efa",
           "#ab63fa",
           "#00cc96",
           "#636efa",
           "#ab63fa",
           "#EF553B",
           "#EF553B",
           "#00cc96",
           "#ab63fa"
          ]
         },
         "name": "",
         "parents": [
          "",
          "Unarmed/CA",
          "Vehicle",
          "Allegedly Armed/NY",
          "Unarmed/NY",
          "Unclear/NY",
          "Unarmed",
          "Unarmed",
          "",
          "Allegedly Armed/CA",
          "Unarmed/CA",
          "Unclear/CA",
          "Vehicle/CA",
          "Vehicle/TX",
          "Unclear/TX",
          "Vehicle/TX",
          "Unclear/NY",
          "Unclear",
          "Unarmed/TX",
          "",
          "",
          "Vehicle",
          "Unclear",
          "Allegedly Armed/TX",
          "Vehicle/TX",
          "Allegedly Armed/CA",
          "Unarmed/CA",
          "Unarmed",
          "Allegedly Armed",
          "Allegedly Armed/NY",
          "Unarmed/NY",
          "Unclear/NY",
          "Vehicle",
          "Allegedly Armed/TX",
          "Unclear/TX",
          "Allegedly Armed/TX",
          "Unclear",
          "Allegedly Armed",
          "Allegedly Armed/CA",
          "Vehicle/TX",
          "Allegedly Armed/NY",
          "Unarmed/CA",
          "Allegedly Armed/TX",
          "Vehicle/CA",
          "Unclear/CA",
          "Allegedly Armed/CA",
          "Unarmed/TX",
          "Vehicle/NY",
          "Vehicle/CA",
          "Unclear/CA",
          "Allegedly Armed/NY",
          "Vehicle/CA",
          "Unclear/CA",
          "Unarmed/TX",
          "Unarmed/NY",
          "Allegedly Armed",
          "Unclear/TX"
         ],
         "type": "sunburst",
         "values": [
          100,
          87,
          59,
          11,
          6,
          1,
          185,
          34,
          161,
          223,
          54,
          33,
          19,
          13,
          18,
          10,
          1,
          7,
          40,
          321,
          1215,
          39,
          41,
          9,
          1,
          112,
          39,
          102,
          448,
          47,
          17,
          5,
          2,
          89,
          8,
          192,
          113,
          99,
          34,
          15,
          40,
          5,
          158,
          26,
          55,
          299,
          33,
          2,
          12,
          22,
          1,
          2,
          3,
          29,
          11,
          668,
          15
         ]
        }
       ],
       "layout": {
        "legend": {
         "tracegroupgap": 0
        },
        "margin": {
         "t": 60
        },
        "template": {
         "data": {
          "bar": [
           {
            "error_x": {
             "color": "#2a3f5f"
            },
            "error_y": {
             "color": "#2a3f5f"
            },
            "marker": {
             "line": {
              "color": "#E5ECF6",
              "width": 0.5
             }
            },
            "type": "bar"
           }
          ],
          "barpolar": [
           {
            "marker": {
             "line": {
              "color": "#E5ECF6",
              "width": 0.5
             }
            },
            "type": "barpolar"
           }
          ],
          "carpet": [
           {
            "aaxis": {
             "endlinecolor": "#2a3f5f",
             "gridcolor": "white",
             "linecolor": "white",
             "minorgridcolor": "white",
             "startlinecolor": "#2a3f5f"
            },
            "baxis": {
             "endlinecolor": "#2a3f5f",
             "gridcolor": "white",
             "linecolor": "white",
             "minorgridcolor": "white",
             "startlinecolor": "#2a3f5f"
            },
            "type": "carpet"
           }
          ],
          "choropleth": [
           {
            "colorbar": {
             "outlinewidth": 0,
             "ticks": ""
            },
            "type": "choropleth"
           }
          ],
          "contour": [
           {
            "colorbar": {
             "outlinewidth": 0,
             "ticks": ""
            },
            "colorscale": [
             [
              0,
              "#0d0887"
             ],
             [
              0.1111111111111111,
              "#46039f"
             ],
             [
              0.2222222222222222,
              "#7201a8"
             ],
             [
              0.3333333333333333,
              "#9c179e"
             ],
             [
              0.4444444444444444,
              "#bd3786"
             ],
             [
              0.5555555555555556,
              "#d8576b"
             ],
             [
              0.6666666666666666,
              "#ed7953"
             ],
             [
              0.7777777777777778,
              "#fb9f3a"
             ],
             [
              0.8888888888888888,
              "#fdca26"
             ],
             [
              1,
              "#f0f921"
             ]
            ],
            "type": "contour"
           }
          ],
          "contourcarpet": [
           {
            "colorbar": {
             "outlinewidth": 0,
             "ticks": ""
            },
            "type": "contourcarpet"
           }
          ],
          "heatmap": [
           {
            "colorbar": {
             "outlinewidth": 0,
             "ticks": ""
            },
            "colorscale": [
             [
              0,
              "#0d0887"
             ],
             [
              0.1111111111111111,
              "#46039f"
             ],
             [
              0.2222222222222222,
              "#7201a8"
             ],
             [
              0.3333333333333333,
              "#9c179e"
             ],
             [
              0.4444444444444444,
              "#bd3786"
             ],
             [
              0.5555555555555556,
              "#d8576b"
             ],
             [
              0.6666666666666666,
              "#ed7953"
             ],
             [
              0.7777777777777778,
              "#fb9f3a"
             ],
             [
              0.8888888888888888,
              "#fdca26"
             ],
             [
              1,
              "#f0f921"
             ]
            ],
            "type": "heatmap"
           }
          ],
          "heatmapgl": [
           {
            "colorbar": {
             "outlinewidth": 0,
             "ticks": ""
            },
            "colorscale": [
             [
              0,
              "#0d0887"
             ],
             [
              0.1111111111111111,
              "#46039f"
             ],
             [
              0.2222222222222222,
              "#7201a8"
             ],
             [
              0.3333333333333333,
              "#9c179e"
             ],
             [
              0.4444444444444444,
              "#bd3786"
             ],
             [
              0.5555555555555556,
              "#d8576b"
             ],
             [
              0.6666666666666666,
              "#ed7953"
             ],
             [
              0.7777777777777778,
              "#fb9f3a"
             ],
             [
              0.8888888888888888,
              "#fdca26"
             ],
             [
              1,
              "#f0f921"
             ]
            ],
            "type": "heatmapgl"
           }
          ],
          "histogram": [
           {
            "marker": {
             "colorbar": {
              "outlinewidth": 0,
              "ticks": ""
             }
            },
            "type": "histogram"
           }
          ],
          "histogram2d": [
           {
            "colorbar": {
             "outlinewidth": 0,
             "ticks": ""
            },
            "colorscale": [
             [
              0,
              "#0d0887"
             ],
             [
              0.1111111111111111,
              "#46039f"
             ],
             [
              0.2222222222222222,
              "#7201a8"
             ],
             [
              0.3333333333333333,
              "#9c179e"
             ],
             [
              0.4444444444444444,
              "#bd3786"
             ],
             [
              0.5555555555555556,
              "#d8576b"
             ],
             [
              0.6666666666666666,
              "#ed7953"
             ],
             [
              0.7777777777777778,
              "#fb9f3a"
             ],
             [
              0.8888888888888888,
              "#fdca26"
             ],
             [
              1,
              "#f0f921"
             ]
            ],
            "type": "histogram2d"
           }
          ],
          "histogram2dcontour": [
           {
            "colorbar": {
             "outlinewidth": 0,
             "ticks": ""
            },
            "colorscale": [
             [
              0,
              "#0d0887"
             ],
             [
              0.1111111111111111,
              "#46039f"
             ],
             [
              0.2222222222222222,
              "#7201a8"
             ],
             [
              0.3333333333333333,
              "#9c179e"
             ],
             [
              0.4444444444444444,
              "#bd3786"
             ],
             [
              0.5555555555555556,
              "#d8576b"
             ],
             [
              0.6666666666666666,
              "#ed7953"
             ],
             [
              0.7777777777777778,
              "#fb9f3a"
             ],
             [
              0.8888888888888888,
              "#fdca26"
             ],
             [
              1,
              "#f0f921"
             ]
            ],
            "type": "histogram2dcontour"
           }
          ],
          "mesh3d": [
           {
            "colorbar": {
             "outlinewidth": 0,
             "ticks": ""
            },
            "type": "mesh3d"
           }
          ],
          "parcoords": [
           {
            "line": {
             "colorbar": {
              "outlinewidth": 0,
              "ticks": ""
             }
            },
            "type": "parcoords"
           }
          ],
          "pie": [
           {
            "automargin": true,
            "type": "pie"
           }
          ],
          "scatter": [
           {
            "marker": {
             "colorbar": {
              "outlinewidth": 0,
              "ticks": ""
             }
            },
            "type": "scatter"
           }
          ],
          "scatter3d": [
           {
            "line": {
             "colorbar": {
              "outlinewidth": 0,
              "ticks": ""
             }
            },
            "marker": {
             "colorbar": {
              "outlinewidth": 0,
              "ticks": ""
             }
            },
            "type": "scatter3d"
           }
          ],
          "scattercarpet": [
           {
            "marker": {
             "colorbar": {
              "outlinewidth": 0,
              "ticks": ""
             }
            },
            "type": "scattercarpet"
           }
          ],
          "scattergeo": [
           {
            "marker": {
             "colorbar": {
              "outlinewidth": 0,
              "ticks": ""
             }
            },
            "type": "scattergeo"
           }
          ],
          "scattergl": [
           {
            "marker": {
             "colorbar": {
              "outlinewidth": 0,
              "ticks": ""
             }
            },
            "type": "scattergl"
           }
          ],
          "scattermapbox": [
           {
            "marker": {
             "colorbar": {
              "outlinewidth": 0,
              "ticks": ""
             }
            },
            "type": "scattermapbox"
           }
          ],
          "scatterpolar": [
           {
            "marker": {
             "colorbar": {
              "outlinewidth": 0,
              "ticks": ""
             }
            },
            "type": "scatterpolar"
           }
          ],
          "scatterpolargl": [
           {
            "marker": {
             "colorbar": {
              "outlinewidth": 0,
              "ticks": ""
             }
            },
            "type": "scatterpolargl"
           }
          ],
          "scatterternary": [
           {
            "marker": {
             "colorbar": {
              "outlinewidth": 0,
              "ticks": ""
             }
            },
            "type": "scatterternary"
           }
          ],
          "surface": [
           {
            "colorbar": {
             "outlinewidth": 0,
             "ticks": ""
            },
            "colorscale": [
             [
              0,
              "#0d0887"
             ],
             [
              0.1111111111111111,
              "#46039f"
             ],
             [
              0.2222222222222222,
              "#7201a8"
             ],
             [
              0.3333333333333333,
              "#9c179e"
             ],
             [
              0.4444444444444444,
              "#bd3786"
             ],
             [
              0.5555555555555556,
              "#d8576b"
             ],
             [
              0.6666666666666666,
              "#ed7953"
             ],
             [
              0.7777777777777778,
              "#fb9f3a"
             ],
             [
              0.8888888888888888,
              "#fdca26"
             ],
             [
              1,
              "#f0f921"
             ]
            ],
            "type": "surface"
           }
          ],
          "table": [
           {
            "cells": {
             "fill": {
              "color": "#EBF0F8"
             },
             "line": {
              "color": "white"
             }
            },
            "header": {
             "fill": {
              "color": "#C8D4E3"
             },
             "line": {
              "color": "white"
             }
            },
            "type": "table"
           }
          ]
         },
         "layout": {
          "annotationdefaults": {
           "arrowcolor": "#2a3f5f",
           "arrowhead": 0,
           "arrowwidth": 1
          },
          "autotypenumbers": "strict",
          "coloraxis": {
           "colorbar": {
            "outlinewidth": 0,
            "ticks": ""
           }
          },
          "colorscale": {
           "diverging": [
            [
             0,
             "#8e0152"
            ],
            [
             0.1,
             "#c51b7d"
            ],
            [
             0.2,
             "#de77ae"
            ],
            [
             0.3,
             "#f1b6da"
            ],
            [
             0.4,
             "#fde0ef"
            ],
            [
             0.5,
             "#f7f7f7"
            ],
            [
             0.6,
             "#e6f5d0"
            ],
            [
             0.7,
             "#b8e186"
            ],
            [
             0.8,
             "#7fbc41"
            ],
            [
             0.9,
             "#4d9221"
            ],
            [
             1,
             "#276419"
            ]
           ],
           "sequential": [
            [
             0,
             "#0d0887"
            ],
            [
             0.1111111111111111,
             "#46039f"
            ],
            [
             0.2222222222222222,
             "#7201a8"
            ],
            [
             0.3333333333333333,
             "#9c179e"
            ],
            [
             0.4444444444444444,
             "#bd3786"
            ],
            [
             0.5555555555555556,
             "#d8576b"
            ],
            [
             0.6666666666666666,
             "#ed7953"
            ],
            [
             0.7777777777777778,
             "#fb9f3a"
            ],
            [
             0.8888888888888888,
             "#fdca26"
            ],
            [
             1,
             "#f0f921"
            ]
           ],
           "sequentialminus": [
            [
             0,
             "#0d0887"
            ],
            [
             0.1111111111111111,
             "#46039f"
            ],
            [
             0.2222222222222222,
             "#7201a8"
            ],
            [
             0.3333333333333333,
             "#9c179e"
            ],
            [
             0.4444444444444444,
             "#bd3786"
            ],
            [
             0.5555555555555556,
             "#d8576b"
            ],
            [
             0.6666666666666666,
             "#ed7953"
            ],
            [
             0.7777777777777778,
             "#fb9f3a"
            ],
            [
             0.8888888888888888,
             "#fdca26"
            ],
            [
             1,
             "#f0f921"
            ]
           ]
          },
          "colorway": [
           "#636efa",
           "#EF553B",
           "#00cc96",
           "#ab63fa",
           "#FFA15A",
           "#19d3f3",
           "#FF6692",
           "#B6E880",
           "#FF97FF",
           "#FECB52"
          ],
          "font": {
           "color": "#2a3f5f"
          },
          "geo": {
           "bgcolor": "white",
           "lakecolor": "white",
           "landcolor": "#E5ECF6",
           "showlakes": true,
           "showland": true,
           "subunitcolor": "white"
          },
          "hoverlabel": {
           "align": "left"
          },
          "hovermode": "closest",
          "mapbox": {
           "style": "light"
          },
          "paper_bgcolor": "white",
          "plot_bgcolor": "#E5ECF6",
          "polar": {
           "angularaxis": {
            "gridcolor": "white",
            "linecolor": "white",
            "ticks": ""
           },
           "bgcolor": "#E5ECF6",
           "radialaxis": {
            "gridcolor": "white",
            "linecolor": "white",
            "ticks": ""
           }
          },
          "scene": {
           "xaxis": {
            "backgroundcolor": "#E5ECF6",
            "gridcolor": "white",
            "gridwidth": 2,
            "linecolor": "white",
            "showbackground": true,
            "ticks": "",
            "zerolinecolor": "white"
           },
           "yaxis": {
            "backgroundcolor": "#E5ECF6",
            "gridcolor": "white",
            "gridwidth": 2,
            "linecolor": "white",
            "showbackground": true,
            "ticks": "",
            "zerolinecolor": "white"
           },
           "zaxis": {
            "backgroundcolor": "#E5ECF6",
            "gridcolor": "white",
            "gridwidth": 2,
            "linecolor": "white",
            "showbackground": true,
            "ticks": "",
            "zerolinecolor": "white"
           }
          },
          "shapedefaults": {
           "line": {
            "color": "#2a3f5f"
           }
          },
          "ternary": {
           "aaxis": {
            "gridcolor": "white",
            "linecolor": "white",
            "ticks": ""
           },
           "baxis": {
            "gridcolor": "white",
            "linecolor": "white",
            "ticks": ""
           },
           "bgcolor": "#E5ECF6",
           "caxis": {
            "gridcolor": "white",
            "linecolor": "white",
            "ticks": ""
           }
          },
          "title": {
           "x": 0.05
          },
          "xaxis": {
           "automargin": true,
           "gridcolor": "white",
           "linecolor": "white",
           "ticks": "",
           "title": {
            "standoff": 15
           },
           "zerolinecolor": "white",
           "zerolinewidth": 2
          },
          "yaxis": {
           "automargin": true,
           "gridcolor": "white",
           "linecolor": "white",
           "ticks": "",
           "title": {
            "standoff": 15
           },
           "zerolinecolor": "white",
           "zerolinewidth": 2
          }
         }
        }
       }
      },
      "text/html": [
       "<div>                            <div id=\"79c18c56-b622-4ddc-9bda-f70b7bbf25bd\" class=\"plotly-graph-div\" style=\"height:525px; width:100%;\"></div>            <script type=\"text/javascript\">                require([\"plotly\"], function(Plotly) {                    window.PLOTLYENV=window.PLOTLYENV || {};                                    if (document.getElementById(\"79c18c56-b622-4ddc-9bda-f70b7bbf25bd\")) {                    Plotly.newPlot(                        \"79c18c56-b622-4ddc-9bda-f70b7bbf25bd\",                        [{\"branchvalues\": \"total\", \"customdata\": [[\"Vehicle\"], [\"Unarmed\"], [\"Vehicle\"], [\"Allegedly Armed\"], [\"Unarmed\"], [\"Unclear\"], [\"Unarmed\"], [\"Unarmed\"], [\"Unclear\"], [\"Allegedly Armed\"], [\"Unarmed\"], [\"Unclear\"], [\"Vehicle\"], [\"Vehicle\"], [\"Unclear\"], [\"Vehicle\"], [\"Unclear\"], [\"Unclear\"], [\"Unarmed\"], [\"Unarmed\"], [\"Allegedly Armed\"], [\"Vehicle\"], [\"Unclear\"], [\"Allegedly Armed\"], [\"Vehicle\"], [\"Allegedly Armed\"], [\"Unarmed\"], [\"Unarmed\"], [\"Allegedly Armed\"], [\"Allegedly Armed\"], [\"Unarmed\"], [\"Unclear\"], [\"Vehicle\"], [\"Allegedly Armed\"], [\"Unclear\"], [\"Allegedly Armed\"], [\"Unclear\"], [\"Allegedly Armed\"], [\"Allegedly Armed\"], [\"Vehicle\"], [\"Allegedly Armed\"], [\"Unarmed\"], [\"Allegedly Armed\"], [\"Vehicle\"], [\"Unclear\"], [\"Allegedly Armed\"], [\"Unarmed\"], [\"Vehicle\"], [\"Vehicle\"], [\"Unclear\"], [\"Allegedly Armed\"], [\"Vehicle\"], [\"Unclear\"], [\"Unarmed\"], [\"Unarmed\"], [\"Allegedly Armed\"], [\"Unclear\"]], \"domain\": {\"x\": [0.0, 1.0], \"y\": [0.0, 1.0]}, \"hovertemplate\": \"labels=%{label}<br>count=%{value}<br>parent=%{parent}<br>id=%{id}<br>Weapon=%{customdata[0]}<extra></extra>\", \"ids\": [\"Vehicle\", \"Unarmed/CA/Hispanic\", \"Vehicle/CA\", \"Allegedly Armed/NY/Hispanic\", \"Unarmed/NY/Hispanic\", \"Unclear/NY/Hispanic\", \"Unarmed/CA\", \"Unarmed/NY\", \"Unclear\", \"Allegedly Armed/CA/White\", \"Unarmed/CA/White\", \"Unclear/CA/White\", \"Vehicle/CA/White\", \"Vehicle/TX/White\", \"Unclear/TX/White\", \"Vehicle/TX/Hispanic\", \"Unclear/NY/White\", \"Unclear/NY\", \"Unarmed/TX/Black\", \"Unarmed\", \"Allegedly Armed\", \"Vehicle/TX\", \"Unclear/TX\", \"Allegedly Armed/TX/Asian\", \"Vehicle/TX/Asian\", \"Allegedly Armed/CA/Black\", \"Unarmed/CA/Black\", \"Unarmed/TX\", \"Allegedly Armed/TX\", \"Allegedly Armed/NY/Black\", \"Unarmed/NY/Black\", \"Unclear/NY/Black\", \"Vehicle/NY\", \"Allegedly Armed/TX/Black\", \"Unclear/TX/Black\", \"Allegedly Armed/TX/White\", \"Unclear/CA\", \"Allegedly Armed/NY\", \"Allegedly Armed/CA/Asian\", \"Vehicle/TX/Black\", \"Allegedly Armed/NY/White\", \"Unarmed/CA/Asian\", \"Allegedly Armed/TX/Hispanic\", \"Vehicle/CA/Hispanic\", \"Unclear/CA/Hispanic\", \"Allegedly Armed/CA/Hispanic\", \"Unarmed/TX/White\", \"Vehicle/NY/Black\", \"Vehicle/CA/Black\", \"Unclear/CA/Black\", \"Allegedly Armed/NY/Asian\", \"Vehicle/CA/Asian\", \"Unclear/CA/Asian\", \"Unarmed/TX/Hispanic\", \"Unarmed/NY/White\", \"Allegedly Armed/CA\", \"Unclear/TX/Hispanic\"], \"labels\": [\"Vehicle\", \"Hispanic\", \"CA\", \"Hispanic\", \"Hispanic\", \"Hispanic\", \"CA\", \"NY\", \"Unclear\", \"White\", \"White\", \"White\", \"White\", \"White\", \"White\", \"Hispanic\", \"White\", \"NY\", \"Black\", \"Unarmed\", \"Allegedly Armed\", \"TX\", \"TX\", \"Asian\", \"Asian\", \"Black\", \"Black\", \"TX\", \"TX\", \"Black\", \"Black\", \"Black\", \"NY\", \"Black\", \"Black\", \"White\", \"CA\", \"NY\", \"Asian\", \"Black\", \"White\", \"Asian\", \"Hispanic\", \"Hispanic\", \"Hispanic\", \"Hispanic\", \"White\", \"Black\", \"Black\", \"Black\", \"Asian\", \"Asian\", \"Asian\", \"Hispanic\", \"White\", \"CA\", \"Hispanic\"], \"marker\": {\"colors\": [\"#636efa\", \"#EF553B\", \"#636efa\", \"#00cc96\", \"#EF553B\", \"#ab63fa\", \"#EF553B\", \"#EF553B\", \"#ab63fa\", \"#00cc96\", \"#EF553B\", \"#ab63fa\", \"#636efa\", \"#636efa\", \"#ab63fa\", \"#636efa\", \"#ab63fa\", \"#ab63fa\", \"#EF553B\", \"#EF553B\", \"#00cc96\", \"#636efa\", \"#ab63fa\", \"#00cc96\", \"#636efa\", \"#00cc96\", \"#EF553B\", \"#EF553B\", \"#00cc96\", \"#00cc96\", \"#EF553B\", \"#ab63fa\", \"#636efa\", \"#00cc96\", \"#ab63fa\", \"#00cc96\", \"#ab63fa\", \"#00cc96\", \"#00cc96\", \"#636efa\", \"#00cc96\", \"#EF553B\", \"#00cc96\", \"#636efa\", \"#ab63fa\", \"#00cc96\", \"#EF553B\", \"#636efa\", \"#636efa\", \"#ab63fa\", \"#00cc96\", \"#636efa\", \"#ab63fa\", \"#EF553B\", \"#EF553B\", \"#00cc96\", \"#ab63fa\"]}, \"name\": \"\", \"parents\": [\"\", \"Unarmed/CA\", \"Vehicle\", \"Allegedly Armed/NY\", \"Unarmed/NY\", \"Unclear/NY\", \"Unarmed\", \"Unarmed\", \"\", \"Allegedly Armed/CA\", \"Unarmed/CA\", \"Unclear/CA\", \"Vehicle/CA\", \"Vehicle/TX\", \"Unclear/TX\", \"Vehicle/TX\", \"Unclear/NY\", \"Unclear\", \"Unarmed/TX\", \"\", \"\", \"Vehicle\", \"Unclear\", \"Allegedly Armed/TX\", \"Vehicle/TX\", \"Allegedly Armed/CA\", \"Unarmed/CA\", \"Unarmed\", \"Allegedly Armed\", \"Allegedly Armed/NY\", \"Unarmed/NY\", \"Unclear/NY\", \"Vehicle\", \"Allegedly Armed/TX\", \"Unclear/TX\", \"Allegedly Armed/TX\", \"Unclear\", \"Allegedly Armed\", \"Allegedly Armed/CA\", \"Vehicle/TX\", \"Allegedly Armed/NY\", \"Unarmed/CA\", \"Allegedly Armed/TX\", \"Vehicle/CA\", \"Unclear/CA\", \"Allegedly Armed/CA\", \"Unarmed/TX\", \"Vehicle/NY\", \"Vehicle/CA\", \"Unclear/CA\", \"Allegedly Armed/NY\", \"Vehicle/CA\", \"Unclear/CA\", \"Unarmed/TX\", \"Unarmed/NY\", \"Allegedly Armed\", \"Unclear/TX\"], \"type\": \"sunburst\", \"values\": [100, 87, 59, 11, 6, 1, 185, 34, 161, 223, 54, 33, 19, 13, 18, 10, 1, 7, 40, 321, 1215, 39, 41, 9, 1, 112, 39, 102, 448, 47, 17, 5, 2, 89, 8, 192, 113, 99, 34, 15, 40, 5, 158, 26, 55, 299, 33, 2, 12, 22, 1, 2, 3, 29, 11, 668, 15]}],                        {\"legend\": {\"tracegroupgap\": 0}, \"margin\": {\"t\": 60}, \"template\": {\"data\": {\"bar\": [{\"error_x\": {\"color\": \"#2a3f5f\"}, \"error_y\": {\"color\": \"#2a3f5f\"}, \"marker\": {\"line\": {\"color\": \"#E5ECF6\", \"width\": 0.5}}, \"type\": \"bar\"}], \"barpolar\": [{\"marker\": {\"line\": {\"color\": \"#E5ECF6\", \"width\": 0.5}}, \"type\": \"barpolar\"}], \"carpet\": [{\"aaxis\": {\"endlinecolor\": \"#2a3f5f\", \"gridcolor\": \"white\", \"linecolor\": \"white\", \"minorgridcolor\": \"white\", \"startlinecolor\": \"#2a3f5f\"}, \"baxis\": {\"endlinecolor\": \"#2a3f5f\", \"gridcolor\": \"white\", \"linecolor\": \"white\", \"minorgridcolor\": \"white\", \"startlinecolor\": \"#2a3f5f\"}, \"type\": \"carpet\"}], \"choropleth\": [{\"colorbar\": {\"outlinewidth\": 0, \"ticks\": \"\"}, \"type\": \"choropleth\"}], \"contour\": [{\"colorbar\": {\"outlinewidth\": 0, \"ticks\": \"\"}, \"colorscale\": [[0.0, \"#0d0887\"], [0.1111111111111111, \"#46039f\"], [0.2222222222222222, \"#7201a8\"], [0.3333333333333333, \"#9c179e\"], [0.4444444444444444, \"#bd3786\"], [0.5555555555555556, \"#d8576b\"], [0.6666666666666666, \"#ed7953\"], [0.7777777777777778, \"#fb9f3a\"], [0.8888888888888888, \"#fdca26\"], [1.0, \"#f0f921\"]], \"type\": \"contour\"}], \"contourcarpet\": [{\"colorbar\": {\"outlinewidth\": 0, \"ticks\": \"\"}, \"type\": \"contourcarpet\"}], \"heatmap\": [{\"colorbar\": {\"outlinewidth\": 0, \"ticks\": \"\"}, \"colorscale\": [[0.0, \"#0d0887\"], [0.1111111111111111, \"#46039f\"], [0.2222222222222222, \"#7201a8\"], [0.3333333333333333, \"#9c179e\"], [0.4444444444444444, \"#bd3786\"], [0.5555555555555556, \"#d8576b\"], [0.6666666666666666, \"#ed7953\"], [0.7777777777777778, \"#fb9f3a\"], [0.8888888888888888, \"#fdca26\"], [1.0, \"#f0f921\"]], \"type\": \"heatmap\"}], \"heatmapgl\": [{\"colorbar\": {\"outlinewidth\": 0, \"ticks\": \"\"}, \"colorscale\": [[0.0, \"#0d0887\"], [0.1111111111111111, \"#46039f\"], [0.2222222222222222, \"#7201a8\"], [0.3333333333333333, \"#9c179e\"], [0.4444444444444444, \"#bd3786\"], [0.5555555555555556, \"#d8576b\"], [0.6666666666666666, \"#ed7953\"], [0.7777777777777778, \"#fb9f3a\"], [0.8888888888888888, \"#fdca26\"], [1.0, \"#f0f921\"]], \"type\": \"heatmapgl\"}], \"histogram\": [{\"marker\": {\"colorbar\": {\"outlinewidth\": 0, \"ticks\": \"\"}}, \"type\": \"histogram\"}], \"histogram2d\": [{\"colorbar\": {\"outlinewidth\": 0, \"ticks\": \"\"}, \"colorscale\": [[0.0, \"#0d0887\"], [0.1111111111111111, \"#46039f\"], [0.2222222222222222, \"#7201a8\"], [0.3333333333333333, \"#9c179e\"], [0.4444444444444444, \"#bd3786\"], [0.5555555555555556, \"#d8576b\"], [0.6666666666666666, \"#ed7953\"], [0.7777777777777778, \"#fb9f3a\"], [0.8888888888888888, \"#fdca26\"], [1.0, \"#f0f921\"]], \"type\": \"histogram2d\"}], \"histogram2dcontour\": [{\"colorbar\": {\"outlinewidth\": 0, \"ticks\": \"\"}, \"colorscale\": [[0.0, \"#0d0887\"], [0.1111111111111111, \"#46039f\"], [0.2222222222222222, \"#7201a8\"], [0.3333333333333333, \"#9c179e\"], [0.4444444444444444, \"#bd3786\"], [0.5555555555555556, \"#d8576b\"], [0.6666666666666666, \"#ed7953\"], [0.7777777777777778, \"#fb9f3a\"], [0.8888888888888888, \"#fdca26\"], [1.0, \"#f0f921\"]], \"type\": \"histogram2dcontour\"}], \"mesh3d\": [{\"colorbar\": {\"outlinewidth\": 0, \"ticks\": \"\"}, \"type\": \"mesh3d\"}], \"parcoords\": [{\"line\": {\"colorbar\": {\"outlinewidth\": 0, \"ticks\": \"\"}}, \"type\": \"parcoords\"}], \"pie\": [{\"automargin\": true, \"type\": \"pie\"}], \"scatter\": [{\"marker\": {\"colorbar\": {\"outlinewidth\": 0, \"ticks\": \"\"}}, \"type\": \"scatter\"}], \"scatter3d\": [{\"line\": {\"colorbar\": {\"outlinewidth\": 0, \"ticks\": \"\"}}, \"marker\": {\"colorbar\": {\"outlinewidth\": 0, \"ticks\": \"\"}}, \"type\": \"scatter3d\"}], \"scattercarpet\": [{\"marker\": {\"colorbar\": {\"outlinewidth\": 0, \"ticks\": \"\"}}, \"type\": \"scattercarpet\"}], \"scattergeo\": [{\"marker\": {\"colorbar\": {\"outlinewidth\": 0, \"ticks\": \"\"}}, \"type\": \"scattergeo\"}], \"scattergl\": [{\"marker\": {\"colorbar\": {\"outlinewidth\": 0, \"ticks\": \"\"}}, \"type\": \"scattergl\"}], \"scattermapbox\": [{\"marker\": {\"colorbar\": {\"outlinewidth\": 0, \"ticks\": \"\"}}, \"type\": \"scattermapbox\"}], \"scatterpolar\": [{\"marker\": {\"colorbar\": {\"outlinewidth\": 0, \"ticks\": \"\"}}, \"type\": \"scatterpolar\"}], \"scatterpolargl\": [{\"marker\": {\"colorbar\": {\"outlinewidth\": 0, \"ticks\": \"\"}}, \"type\": \"scatterpolargl\"}], \"scatterternary\": [{\"marker\": {\"colorbar\": {\"outlinewidth\": 0, \"ticks\": \"\"}}, \"type\": \"scatterternary\"}], \"surface\": [{\"colorbar\": {\"outlinewidth\": 0, \"ticks\": \"\"}, \"colorscale\": [[0.0, \"#0d0887\"], [0.1111111111111111, \"#46039f\"], [0.2222222222222222, \"#7201a8\"], [0.3333333333333333, \"#9c179e\"], [0.4444444444444444, \"#bd3786\"], [0.5555555555555556, \"#d8576b\"], [0.6666666666666666, \"#ed7953\"], [0.7777777777777778, \"#fb9f3a\"], [0.8888888888888888, \"#fdca26\"], [1.0, \"#f0f921\"]], \"type\": \"surface\"}], \"table\": [{\"cells\": {\"fill\": {\"color\": \"#EBF0F8\"}, \"line\": {\"color\": \"white\"}}, \"header\": {\"fill\": {\"color\": \"#C8D4E3\"}, \"line\": {\"color\": \"white\"}}, \"type\": \"table\"}]}, \"layout\": {\"annotationdefaults\": {\"arrowcolor\": \"#2a3f5f\", \"arrowhead\": 0, \"arrowwidth\": 1}, \"autotypenumbers\": \"strict\", \"coloraxis\": {\"colorbar\": {\"outlinewidth\": 0, \"ticks\": \"\"}}, \"colorscale\": {\"diverging\": [[0, \"#8e0152\"], [0.1, \"#c51b7d\"], [0.2, \"#de77ae\"], [0.3, \"#f1b6da\"], [0.4, \"#fde0ef\"], [0.5, \"#f7f7f7\"], [0.6, \"#e6f5d0\"], [0.7, \"#b8e186\"], [0.8, \"#7fbc41\"], [0.9, \"#4d9221\"], [1, \"#276419\"]], \"sequential\": [[0.0, \"#0d0887\"], [0.1111111111111111, \"#46039f\"], [0.2222222222222222, \"#7201a8\"], [0.3333333333333333, \"#9c179e\"], [0.4444444444444444, \"#bd3786\"], [0.5555555555555556, \"#d8576b\"], [0.6666666666666666, \"#ed7953\"], [0.7777777777777778, \"#fb9f3a\"], [0.8888888888888888, \"#fdca26\"], [1.0, \"#f0f921\"]], \"sequentialminus\": [[0.0, \"#0d0887\"], [0.1111111111111111, \"#46039f\"], [0.2222222222222222, \"#7201a8\"], [0.3333333333333333, \"#9c179e\"], [0.4444444444444444, \"#bd3786\"], [0.5555555555555556, \"#d8576b\"], [0.6666666666666666, \"#ed7953\"], [0.7777777777777778, \"#fb9f3a\"], [0.8888888888888888, \"#fdca26\"], [1.0, \"#f0f921\"]]}, \"colorway\": [\"#636efa\", \"#EF553B\", \"#00cc96\", \"#ab63fa\", \"#FFA15A\", \"#19d3f3\", \"#FF6692\", \"#B6E880\", \"#FF97FF\", \"#FECB52\"], \"font\": {\"color\": \"#2a3f5f\"}, \"geo\": {\"bgcolor\": \"white\", \"lakecolor\": \"white\", \"landcolor\": \"#E5ECF6\", \"showlakes\": true, \"showland\": true, \"subunitcolor\": \"white\"}, \"hoverlabel\": {\"align\": \"left\"}, \"hovermode\": \"closest\", \"mapbox\": {\"style\": \"light\"}, \"paper_bgcolor\": \"white\", \"plot_bgcolor\": \"#E5ECF6\", \"polar\": {\"angularaxis\": {\"gridcolor\": \"white\", \"linecolor\": \"white\", \"ticks\": \"\"}, \"bgcolor\": \"#E5ECF6\", \"radialaxis\": {\"gridcolor\": \"white\", \"linecolor\": \"white\", \"ticks\": \"\"}}, \"scene\": {\"xaxis\": {\"backgroundcolor\": \"#E5ECF6\", \"gridcolor\": \"white\", \"gridwidth\": 2, \"linecolor\": \"white\", \"showbackground\": true, \"ticks\": \"\", \"zerolinecolor\": \"white\"}, \"yaxis\": {\"backgroundcolor\": \"#E5ECF6\", \"gridcolor\": \"white\", \"gridwidth\": 2, \"linecolor\": \"white\", \"showbackground\": true, \"ticks\": \"\", \"zerolinecolor\": \"white\"}, \"zaxis\": {\"backgroundcolor\": \"#E5ECF6\", \"gridcolor\": \"white\", \"gridwidth\": 2, \"linecolor\": \"white\", \"showbackground\": true, \"ticks\": \"\", \"zerolinecolor\": \"white\"}}, \"shapedefaults\": {\"line\": {\"color\": \"#2a3f5f\"}}, \"ternary\": {\"aaxis\": {\"gridcolor\": \"white\", \"linecolor\": \"white\", \"ticks\": \"\"}, \"baxis\": {\"gridcolor\": \"white\", \"linecolor\": \"white\", \"ticks\": \"\"}, \"bgcolor\": \"#E5ECF6\", \"caxis\": {\"gridcolor\": \"white\", \"linecolor\": \"white\", \"ticks\": \"\"}}, \"title\": {\"x\": 0.05}, \"xaxis\": {\"automargin\": true, \"gridcolor\": \"white\", \"linecolor\": \"white\", \"ticks\": \"\", \"title\": {\"standoff\": 15}, \"zerolinecolor\": \"white\", \"zerolinewidth\": 2}, \"yaxis\": {\"automargin\": true, \"gridcolor\": \"white\", \"linecolor\": \"white\", \"ticks\": \"\", \"title\": {\"standoff\": 15}, \"zerolinecolor\": \"white\", \"zerolinewidth\": 2}}}},                        {\"responsive\": true}                    ).then(function(){\n",
       "                            \n",
       "var gd = document.getElementById('79c18c56-b622-4ddc-9bda-f70b7bbf25bd');\n",
       "var x = new MutationObserver(function (mutations, observer) {{\n",
       "        var display = window.getComputedStyle(gd).display;\n",
       "        if (!display || display === 'none') {{\n",
       "            console.log([gd, 'removed!']);\n",
       "            Plotly.purge(gd);\n",
       "            observer.disconnect();\n",
       "        }}\n",
       "}});\n",
       "\n",
       "// Listen for the removal of the full notebook cells\n",
       "var notebookContainer = gd.closest('#notebook-container');\n",
       "if (notebookContainer) {{\n",
       "    x.observe(notebookContainer, {childList: true});\n",
       "}}\n",
       "\n",
       "// Listen for the clearing of the current output cell\n",
       "var outputEl = gd.closest('.output');\n",
       "if (outputEl) {{\n",
       "    x.observe(outputEl, {childList: true});\n",
       "}}\n",
       "\n",
       "                        })                };                });            </script>        </div>"
      ]
     },
     "metadata": {},
     "output_type": "display_data"
    }
   ],
   "source": [
    "# import the libraries---------------------------------------------------\n",
    "import plotly.express as px\n",
    "import pandas as pd\n",
    "\n",
    "# read, clean, and filter the data----------------------------------------\n",
    "# data source: https://mappingpoliceviolence.org/aboutthedata\n",
    "df = pd.read_csv(\"https://raw.githubusercontent.com/Coding-with-Adam/Dash-by-Plotly/master/Other/DPhi%20Presentation/MPVDataset.csv\")\n",
    "\n",
    "df = df[df[\"State\"].isin(['NY', 'CA', 'TX'])]\n",
    "df = df[df[\"Victim's race\"].isin([\"White\", \"Black\", \"Hispanic\", \"Asian\"])]\n",
    "df[\"Victim's age\"] = pd.to_numeric(df[\"Victim's age\"], errors='coerce')\n",
    "\n",
    "# build the graph---------------------------------------------------------\n",
    "fig = px.sunburst(\n",
    "    data_frame=df,\n",
    "    path=[\"Weapon\", 'State', \"Victim's race\"],  # Root, branches, leaves\n",
    "    color=\"Weapon\",\n",
    "#     color=\"Victim's age\",\n",
    "#     title=\"7-year Breakdown of Deaths by Police\",\n",
    "#     template='plotly_dark',           # 'ggplot2', 'seaborn', 'simple_white', 'plotly',\n",
    "#                                       # 'plotly_white', 'plotly_dark', 'presentation',\n",
    "#                                       # 'xgridoff', 'ygridoff', 'gridon', 'none'\n",
    "    \n",
    ")\n",
    "\n",
    "fig.show()"
   ]
  },
  {
   "cell_type": "code",
   "execution_count": null,
   "id": "dynamic-charm",
   "metadata": {},
   "outputs": [],
   "source": []
  }
 ],
 "metadata": {
  "kernelspec": {
   "display_name": "Python 3",
   "language": "python",
   "name": "python3"
  },
  "language_info": {
   "codemirror_mode": {
    "name": "ipython",
    "version": 3
   },
   "file_extension": ".py",
   "mimetype": "text/x-python",
   "name": "python",
   "nbconvert_exporter": "python",
   "pygments_lexer": "ipython3",
   "version": "3.8.3"
  }
 },
 "nbformat": 4,
 "nbformat_minor": 5
}
