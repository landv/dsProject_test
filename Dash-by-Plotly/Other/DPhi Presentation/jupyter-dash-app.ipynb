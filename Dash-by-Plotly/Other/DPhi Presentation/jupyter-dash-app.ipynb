{
 "cells": [
  {
   "cell_type": "code",
   "execution_count": 22,
   "id": "adjusted-ticket",
   "metadata": {},
   "outputs": [],
   "source": [
    "# import the libraries----------------------------------------------------\n",
    "import plotly.express as px\n",
    "import pandas as pd\n",
    "\n",
    "import dash\n",
    "import dash_core_components as dcc\n",
    "import dash_html_components as html\n",
    "from dash.dependencies import Output, Input\n",
    "\n",
    "# read, clean, and filter the data----------------------------------------\n",
    "# data source: https://mappingpoliceviolence.org/aboutthedata\n",
    "df = pd.read_csv(\"https://raw.githubusercontent.com/Coding-with-Adam/Dash-by-Plotly/master/Other/DPhi%20Presentation/MPVDataset.csv\")\n",
    "\n",
    "df = df[df[\"Victim's race\"].isin([\"White\", \"Black\", \"Hispanic\", \"Asian\"])]\n",
    "df[\"Victim's age\"] = pd.to_numeric(df[\"Victim's age\"], errors='coerce')\n",
    "\n",
    "# app layout--------------------------------------------------------------\n",
    "app = dash.Dash(__name__)\n",
    "app.layout = html.Div([\n",
    "    html.Div([\n",
    "        dcc.Dropdown(id='gender', multi=False, clearable=False,\n",
    "                     options=[{'label':x, 'value':x} for x in sorted(df[\"Victim's gender\"].unique())],\n",
    "                     value=\"Male\")\n",
    "    ],style={'width':'50%'}),\n",
    "    \n",
    "    html.Div([\n",
    "        dcc.Graph(id='my-barplot', figure={})\n",
    "    ])\n",
    "    ,\n",
    "    html.Div(id='content-container', children='')\n",
    "])\n",
    "\n",
    "\n",
    "# Callback - app interactivity section------------------------------------\n",
    "@app.callback(\n",
    "    Output(component_id='my-barplot', component_property='figure'),\n",
    "    #Output(component_id='content-container', component_property='children'),\n",
    "    Input(component_id='gender', component_property='value'),\n",
    ")\n",
    "def update_graph(gender_chosen):\n",
    "    print(gender_chosen)\n",
    "    # build the graph\n",
    "    dff = df[df[\"Victim's gender\"] == gender_chosen]\n",
    "    dff = dff.groupby([\"Victim's race\",\"Geography\"])[[\"Victim's age\"]].mean()\n",
    "    dff = dff.reset_index()\n",
    "    fig = px.bar(\n",
    "        data_frame=dff,\n",
    "        x=\"Victim's race\",\n",
    "        y=\"Victim's age\",\n",
    "        color=\"Geography\",\n",
    "        barmode=\"group\"\n",
    "    )\n",
    "    return fig #gender_chosen\n"
   ]
  },
  {
   "cell_type": "code",
   "execution_count": 23,
   "id": "broken-accommodation",
   "metadata": {},
   "outputs": [
    {
     "name": "stdout",
     "output_type": "stream",
     "text": [
      "Dash is running on http://127.0.0.1:8001/\n",
      "\n",
      "Dash is running on http://127.0.0.1:8001/\n",
      "\n",
      "Dash is running on http://127.0.0.1:8001/\n",
      "\n",
      "Dash is running on http://127.0.0.1:8001/\n",
      "\n",
      "Dash is running on http://127.0.0.1:8001/\n",
      "\n",
      "Dash is running on http://127.0.0.1:8001/\n",
      "\n",
      "Dash is running on http://127.0.0.1:8001/\n",
      "\n",
      "Dash is running on http://127.0.0.1:8001/\n",
      "\n",
      "Dash is running on http://127.0.0.1:8001/\n",
      "\n",
      "Dash is running on http://127.0.0.1:8001/\n",
      "\n",
      "Dash is running on http://127.0.0.1:8001/\n",
      "\n",
      " * Serving Flask app \"__main__\" (lazy loading)\n",
      " * Environment: production\n",
      "   WARNING: This is a development server. Do not use it in a production deployment.\n",
      "   Use a production WSGI server instead.\n",
      " * Debug mode: off\n",
      "Male\n",
      "Transgender\n",
      "Female\n",
      "Unknown\n"
     ]
    }
   ],
   "source": [
    "if __name__=='__main__':\n",
    "    app.run_server(debug=False, port=8001)"
   ]
  }
 ],
 "metadata": {
  "kernelspec": {
   "display_name": "Python 3",
   "language": "python",
   "name": "python3"
  },
  "language_info": {
   "codemirror_mode": {
    "name": "ipython",
    "version": 3
   },
   "file_extension": ".py",
   "mimetype": "text/x-python",
   "name": "python",
   "nbconvert_exporter": "python",
   "pygments_lexer": "ipython3",
   "version": "3.8.3"
  }
 },
 "nbformat": 4,
 "nbformat_minor": 5
}
