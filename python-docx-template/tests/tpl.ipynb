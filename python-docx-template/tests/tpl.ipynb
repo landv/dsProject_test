{
 "cells": [
  {
   "cell_type": "code",
   "execution_count": null,
   "metadata": {
    "collapsed": true
   },
   "outputs": [],
   "source": [
    "# https://docxtpl.readthedocs.io/en/latest/\n",
    "# 关于表格和图片\n",
    "# dynamic_table.py 动态表格，横向和纵向扩充\n",
    "# escape_tpl.py  转义特殊字符，添加换行符和段落，列表\n",
    "# horizontal_merge_tpl.docx 主要看模板，横向扩充和分组合并\n",
    "# inline_image.py 插入图片，表格插入图片\n",
    "# less_cells_after_loop.docx 主要看模板，使用tc横向扩展\n",
    "# merge_docx.py  子报表\n",
    "#\n"
   ]
  }
 ],
 "metadata": {
  "kernelspec": {
   "display_name": "Python 3",
   "language": "python",
   "name": "python3"
  },
  "language_info": {
   "codemirror_mode": {
    "name": "ipython",
    "version": 2
   },
   "file_extension": ".py",
   "mimetype": "text/x-python",
   "name": "python",
   "nbconvert_exporter": "python",
   "pygments_lexer": "ipython2",
   "version": "2.7.6"
  }
 },
 "nbformat": 4,
 "nbformat_minor": 0
}