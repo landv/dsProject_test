{
 "cells": [
  {
   "cell_type": "markdown",
   "metadata": {
    "collapsed": true,
    "pycharm": {
     "name": "#%% md\n"
    }
   },
   "source": [
    "# https://www.analyticsvidhya.com/blog/2021/07/everything-you-need-to-know-about-pandasgui/\n",
    "pip install pandasgui"
   ]
  },
  {
   "cell_type": "code",
   "execution_count": 1,
   "outputs": [
    {
     "name": "stderr",
     "output_type": "stream",
     "text": [
      "PandasGUI INFO — pandasgui.gui — Opening PandasGUI\n"
     ]
    },
    {
     "data": {
      "text/plain": "<pandasgui.gui.PandasGui at 0x7f78243553a0>"
     },
     "execution_count": 1,
     "metadata": {},
     "output_type": "execute_result"
    }
   ],
   "source": [
    "from pandasgui import show\n",
    "\n",
    "show()"
   ],
   "metadata": {
    "collapsed": false,
    "pycharm": {
     "name": "#%%\n"
    }
   }
  },
  {
   "cell_type": "code",
   "execution_count": 2,
   "outputs": [
    {
     "name": "stderr",
     "output_type": "stream",
     "text": [
      "PandasGUI INFO — pandasgui.datasets — Downloading https://raw.githubusercontent.com/adamerose/datasets/master/titanic.csv\n",
      "PandasGUI INFO — pandasgui.datasets — Saved titanic.csv to /home/landv/.local/share/pandasgui/dataset_files/titanic.csv\n",
      "PandasGUI INFO — pandasgui.gui — Opening PandasGUI\n"
     ]
    }
   ],
   "source": [
    "\n",
    "from pandasgui import show\n",
    "from pandasgui.datasets import titanic\n",
    "\n",
    "gui = show(titanic)"
   ],
   "metadata": {
    "collapsed": false,
    "pycharm": {
     "name": "#%%\n"
    }
   }
  },
  {
   "cell_type": "code",
   "execution_count": 3,
   "outputs": [],
   "source": [
    "import pandas as pd\n",
    "import qgrid\n",
    "\n",
    "url = 'https://github.com/chris1610/pbpython/blob/master/data/2018_Sales_Total_v2.xlsx?raw=True'\n",
    "df = pd.read_excel(url)\n",
    "\n",
    "widget = qgrid.show_grid(df)\n",
    "widget"
   ],
   "metadata": {
    "collapsed": false,
    "pycharm": {
     "name": "#%%\n"
    }
   }
  },
  {
   "cell_type": "code",
   "execution_count": 9,
   "outputs": [
    {
     "name": "stderr",
     "output_type": "stream",
     "text": [
      "[2021-12-09 17:00:31,409] ERROR in app: Exception on /api/get_data [GET]\n",
      "Traceback (most recent call last):\n",
      "  File \"/home/landv/anaconda3/lib/python3.9/site-packages/flask/app.py\", line 2447, in wsgi_app\n",
      "    response = self.full_dispatch_request()\n",
      "  File \"/home/landv/anaconda3/lib/python3.9/site-packages/flask/app.py\", line 1952, in full_dispatch_request\n",
      "    rv = self.handle_user_exception(e)\n",
      "  File \"/home/landv/anaconda3/lib/python3.9/site-packages/flask_cors/extension.py\", line 165, in wrapped_function\n",
      "    return cors_after_request(app.make_response(f(*args, **kwargs)))\n",
      "  File \"/home/landv/anaconda3/lib/python3.9/site-packages/flask/app.py\", line 1821, in handle_user_exception\n",
      "    reraise(exc_type, exc_value, tb)\n",
      "  File \"/home/landv/anaconda3/lib/python3.9/site-packages/flask/_compat.py\", line 39, in reraise\n",
      "    raise value\n",
      "  File \"/home/landv/anaconda3/lib/python3.9/site-packages/flask/app.py\", line 1950, in full_dispatch_request\n",
      "    rv = self.dispatch_request()\n",
      "  File \"/home/landv/anaconda3/lib/python3.9/site-packages/flask/app.py\", line 1936, in dispatch_request\n",
      "    return self.view_functions[rule.endpoint](**req.view_args)\n",
      "  File \"/home/landv/anaconda3/lib/python3.9/site-packages/tabloo/server.py\", line 97, in get_data\n",
      "    return json_response(backend.get_data(\n",
      "  File \"/home/landv/anaconda3/lib/python3.9/site-packages/tabloo/backend.py\", line 115, in get_data\n",
      "    df.sort_values(sort_column, inplace=True, ascending=asc)\n",
      "  File \"/home/landv/anaconda3/lib/python3.9/site-packages/pandas/core/frame.py\", line 5455, in sort_values\n",
      "    k = self._get_label_or_level_values(by, axis=axis)\n",
      "  File \"/home/landv/anaconda3/lib/python3.9/site-packages/pandas/core/generic.py\", line 1684, in _get_label_or_level_values\n",
      "    raise KeyError(key)\n",
      "KeyError: '0'\n",
      "[2021-12-09 17:00:32,136] ERROR in app: Exception on /api/get_data [GET]\n",
      "Traceback (most recent call last):\n",
      "  File \"/home/landv/anaconda3/lib/python3.9/site-packages/flask/app.py\", line 2447, in wsgi_app\n",
      "    response = self.full_dispatch_request()\n",
      "  File \"/home/landv/anaconda3/lib/python3.9/site-packages/flask/app.py\", line 1952, in full_dispatch_request\n",
      "    rv = self.handle_user_exception(e)\n",
      "  File \"/home/landv/anaconda3/lib/python3.9/site-packages/flask_cors/extension.py\", line 165, in wrapped_function\n",
      "    return cors_after_request(app.make_response(f(*args, **kwargs)))\n",
      "  File \"/home/landv/anaconda3/lib/python3.9/site-packages/flask/app.py\", line 1821, in handle_user_exception\n",
      "    reraise(exc_type, exc_value, tb)\n",
      "  File \"/home/landv/anaconda3/lib/python3.9/site-packages/flask/_compat.py\", line 39, in reraise\n",
      "    raise value\n",
      "  File \"/home/landv/anaconda3/lib/python3.9/site-packages/flask/app.py\", line 1950, in full_dispatch_request\n",
      "    rv = self.dispatch_request()\n",
      "  File \"/home/landv/anaconda3/lib/python3.9/site-packages/flask/app.py\", line 1936, in dispatch_request\n",
      "    return self.view_functions[rule.endpoint](**req.view_args)\n",
      "  File \"/home/landv/anaconda3/lib/python3.9/site-packages/tabloo/server.py\", line 97, in get_data\n",
      "    return json_response(backend.get_data(\n",
      "  File \"/home/landv/anaconda3/lib/python3.9/site-packages/tabloo/backend.py\", line 115, in get_data\n",
      "    df.sort_values(sort_column, inplace=True, ascending=asc)\n",
      "  File \"/home/landv/anaconda3/lib/python3.9/site-packages/pandas/core/frame.py\", line 5455, in sort_values\n",
      "    k = self._get_label_or_level_values(by, axis=axis)\n",
      "  File \"/home/landv/anaconda3/lib/python3.9/site-packages/pandas/core/generic.py\", line 1684, in _get_label_or_level_values\n",
      "    raise KeyError(key)\n",
      "KeyError: '0'\n",
      "[2021-12-09 17:00:32,635] ERROR in app: Exception on /api/get_data [GET]\n",
      "Traceback (most recent call last):\n",
      "  File \"/home/landv/anaconda3/lib/python3.9/site-packages/flask/app.py\", line 2447, in wsgi_app\n",
      "    response = self.full_dispatch_request()\n",
      "  File \"/home/landv/anaconda3/lib/python3.9/site-packages/flask/app.py\", line 1952, in full_dispatch_request\n",
      "    rv = self.handle_user_exception(e)\n",
      "  File \"/home/landv/anaconda3/lib/python3.9/site-packages/flask_cors/extension.py\", line 165, in wrapped_function\n",
      "    return cors_after_request(app.make_response(f(*args, **kwargs)))\n",
      "  File \"/home/landv/anaconda3/lib/python3.9/site-packages/flask/app.py\", line 1821, in handle_user_exception\n",
      "    reraise(exc_type, exc_value, tb)\n",
      "  File \"/home/landv/anaconda3/lib/python3.9/site-packages/flask/_compat.py\", line 39, in reraise\n",
      "    raise value\n",
      "  File \"/home/landv/anaconda3/lib/python3.9/site-packages/flask/app.py\", line 1950, in full_dispatch_request\n",
      "    rv = self.dispatch_request()\n",
      "  File \"/home/landv/anaconda3/lib/python3.9/site-packages/flask/app.py\", line 1936, in dispatch_request\n",
      "    return self.view_functions[rule.endpoint](**req.view_args)\n",
      "  File \"/home/landv/anaconda3/lib/python3.9/site-packages/tabloo/server.py\", line 97, in get_data\n",
      "    return json_response(backend.get_data(\n",
      "  File \"/home/landv/anaconda3/lib/python3.9/site-packages/tabloo/backend.py\", line 115, in get_data\n",
      "    df.sort_values(sort_column, inplace=True, ascending=asc)\n",
      "  File \"/home/landv/anaconda3/lib/python3.9/site-packages/pandas/core/frame.py\", line 5455, in sort_values\n",
      "    k = self._get_label_or_level_values(by, axis=axis)\n",
      "  File \"/home/landv/anaconda3/lib/python3.9/site-packages/pandas/core/generic.py\", line 1684, in _get_label_or_level_values\n",
      "    raise KeyError(key)\n",
      "KeyError: '1'\n",
      "[2021-12-09 17:00:33,060] ERROR in app: Exception on /api/get_data [GET]\n",
      "Traceback (most recent call last):\n",
      "  File \"/home/landv/anaconda3/lib/python3.9/site-packages/flask/app.py\", line 2447, in wsgi_app\n",
      "    response = self.full_dispatch_request()\n",
      "  File \"/home/landv/anaconda3/lib/python3.9/site-packages/flask/app.py\", line 1952, in full_dispatch_request\n",
      "    rv = self.handle_user_exception(e)\n",
      "  File \"/home/landv/anaconda3/lib/python3.9/site-packages/flask_cors/extension.py\", line 165, in wrapped_function\n",
      "    return cors_after_request(app.make_response(f(*args, **kwargs)))\n",
      "  File \"/home/landv/anaconda3/lib/python3.9/site-packages/flask/app.py\", line 1821, in handle_user_exception\n",
      "    reraise(exc_type, exc_value, tb)\n",
      "  File \"/home/landv/anaconda3/lib/python3.9/site-packages/flask/_compat.py\", line 39, in reraise\n",
      "    raise value\n",
      "  File \"/home/landv/anaconda3/lib/python3.9/site-packages/flask/app.py\", line 1950, in full_dispatch_request\n",
      "    rv = self.dispatch_request()\n",
      "  File \"/home/landv/anaconda3/lib/python3.9/site-packages/flask/app.py\", line 1936, in dispatch_request\n",
      "    return self.view_functions[rule.endpoint](**req.view_args)\n",
      "  File \"/home/landv/anaconda3/lib/python3.9/site-packages/tabloo/server.py\", line 97, in get_data\n",
      "    return json_response(backend.get_data(\n",
      "  File \"/home/landv/anaconda3/lib/python3.9/site-packages/tabloo/backend.py\", line 115, in get_data\n",
      "    df.sort_values(sort_column, inplace=True, ascending=asc)\n",
      "  File \"/home/landv/anaconda3/lib/python3.9/site-packages/pandas/core/frame.py\", line 5455, in sort_values\n",
      "    k = self._get_label_or_level_values(by, axis=axis)\n",
      "  File \"/home/landv/anaconda3/lib/python3.9/site-packages/pandas/core/generic.py\", line 1684, in _get_label_or_level_values\n",
      "    raise KeyError(key)\n",
      "KeyError: '1'\n",
      "[2021-12-09 17:00:33,640] ERROR in app: Exception on /api/get_data [GET]\n",
      "Traceback (most recent call last):\n",
      "  File \"/home/landv/anaconda3/lib/python3.9/site-packages/flask/app.py\", line 2447, in wsgi_app\n",
      "    response = self.full_dispatch_request()\n",
      "  File \"/home/landv/anaconda3/lib/python3.9/site-packages/flask/app.py\", line 1952, in full_dispatch_request\n",
      "    rv = self.handle_user_exception(e)\n",
      "  File \"/home/landv/anaconda3/lib/python3.9/site-packages/flask_cors/extension.py\", line 165, in wrapped_function\n",
      "    return cors_after_request(app.make_response(f(*args, **kwargs)))\n",
      "  File \"/home/landv/anaconda3/lib/python3.9/site-packages/flask/app.py\", line 1821, in handle_user_exception\n",
      "    reraise(exc_type, exc_value, tb)\n",
      "  File \"/home/landv/anaconda3/lib/python3.9/site-packages/flask/_compat.py\", line 39, in reraise\n",
      "    raise value\n",
      "  File \"/home/landv/anaconda3/lib/python3.9/site-packages/flask/app.py\", line 1950, in full_dispatch_request\n",
      "    rv = self.dispatch_request()\n",
      "  File \"/home/landv/anaconda3/lib/python3.9/site-packages/flask/app.py\", line 1936, in dispatch_request\n",
      "    return self.view_functions[rule.endpoint](**req.view_args)\n",
      "  File \"/home/landv/anaconda3/lib/python3.9/site-packages/tabloo/server.py\", line 97, in get_data\n",
      "    return json_response(backend.get_data(\n",
      "  File \"/home/landv/anaconda3/lib/python3.9/site-packages/tabloo/backend.py\", line 115, in get_data\n",
      "    df.sort_values(sort_column, inplace=True, ascending=asc)\n",
      "  File \"/home/landv/anaconda3/lib/python3.9/site-packages/pandas/core/frame.py\", line 5455, in sort_values\n",
      "    k = self._get_label_or_level_values(by, axis=axis)\n",
      "  File \"/home/landv/anaconda3/lib/python3.9/site-packages/pandas/core/generic.py\", line 1684, in _get_label_or_level_values\n",
      "    raise KeyError(key)\n",
      "KeyError: '1'\n",
      "[2021-12-09 17:00:33,816] ERROR in app: Exception on /api/get_data [GET]\n",
      "Traceback (most recent call last):\n",
      "  File \"/home/landv/anaconda3/lib/python3.9/site-packages/flask/app.py\", line 2447, in wsgi_app\n",
      "    response = self.full_dispatch_request()\n",
      "  File \"/home/landv/anaconda3/lib/python3.9/site-packages/flask/app.py\", line 1952, in full_dispatch_request\n",
      "    rv = self.handle_user_exception(e)\n",
      "  File \"/home/landv/anaconda3/lib/python3.9/site-packages/flask_cors/extension.py\", line 165, in wrapped_function\n",
      "    return cors_after_request(app.make_response(f(*args, **kwargs)))\n",
      "  File \"/home/landv/anaconda3/lib/python3.9/site-packages/flask/app.py\", line 1821, in handle_user_exception\n",
      "    reraise(exc_type, exc_value, tb)\n",
      "  File \"/home/landv/anaconda3/lib/python3.9/site-packages/flask/_compat.py\", line 39, in reraise\n",
      "    raise value\n",
      "  File \"/home/landv/anaconda3/lib/python3.9/site-packages/flask/app.py\", line 1950, in full_dispatch_request\n",
      "    rv = self.dispatch_request()\n",
      "  File \"/home/landv/anaconda3/lib/python3.9/site-packages/flask/app.py\", line 1936, in dispatch_request\n",
      "    return self.view_functions[rule.endpoint](**req.view_args)\n",
      "  File \"/home/landv/anaconda3/lib/python3.9/site-packages/tabloo/server.py\", line 97, in get_data\n",
      "    return json_response(backend.get_data(\n",
      "  File \"/home/landv/anaconda3/lib/python3.9/site-packages/tabloo/backend.py\", line 115, in get_data\n",
      "    df.sort_values(sort_column, inplace=True, ascending=asc)\n",
      "  File \"/home/landv/anaconda3/lib/python3.9/site-packages/pandas/core/frame.py\", line 5455, in sort_values\n",
      "    k = self._get_label_or_level_values(by, axis=axis)\n",
      "  File \"/home/landv/anaconda3/lib/python3.9/site-packages/pandas/core/generic.py\", line 1684, in _get_label_or_level_values\n",
      "    raise KeyError(key)\n",
      "KeyError: '1'\n",
      "[2021-12-09 17:00:33,967] ERROR in app: Exception on /api/get_data [GET]\n",
      "Traceback (most recent call last):\n",
      "  File \"/home/landv/anaconda3/lib/python3.9/site-packages/flask/app.py\", line 2447, in wsgi_app\n",
      "    response = self.full_dispatch_request()\n",
      "  File \"/home/landv/anaconda3/lib/python3.9/site-packages/flask/app.py\", line 1952, in full_dispatch_request\n",
      "    rv = self.handle_user_exception(e)\n",
      "  File \"/home/landv/anaconda3/lib/python3.9/site-packages/flask_cors/extension.py\", line 165, in wrapped_function\n",
      "    return cors_after_request(app.make_response(f(*args, **kwargs)))\n",
      "  File \"/home/landv/anaconda3/lib/python3.9/site-packages/flask/app.py\", line 1821, in handle_user_exception\n",
      "    reraise(exc_type, exc_value, tb)\n",
      "  File \"/home/landv/anaconda3/lib/python3.9/site-packages/flask/_compat.py\", line 39, in reraise\n",
      "    raise value\n",
      "  File \"/home/landv/anaconda3/lib/python3.9/site-packages/flask/app.py\", line 1950, in full_dispatch_request\n",
      "    rv = self.dispatch_request()\n",
      "  File \"/home/landv/anaconda3/lib/python3.9/site-packages/flask/app.py\", line 1936, in dispatch_request\n",
      "    return self.view_functions[rule.endpoint](**req.view_args)\n",
      "  File \"/home/landv/anaconda3/lib/python3.9/site-packages/tabloo/server.py\", line 97, in get_data\n",
      "    return json_response(backend.get_data(\n",
      "  File \"/home/landv/anaconda3/lib/python3.9/site-packages/tabloo/backend.py\", line 115, in get_data\n",
      "    df.sort_values(sort_column, inplace=True, ascending=asc)\n",
      "  File \"/home/landv/anaconda3/lib/python3.9/site-packages/pandas/core/frame.py\", line 5455, in sort_values\n",
      "    k = self._get_label_or_level_values(by, axis=axis)\n",
      "  File \"/home/landv/anaconda3/lib/python3.9/site-packages/pandas/core/generic.py\", line 1684, in _get_label_or_level_values\n",
      "    raise KeyError(key)\n",
      "KeyError: '1'\n"
     ]
    }
   ],
   "source": [
    "import tabloo\n",
    "import pandas as pd\n",
    "import numpy as np\n",
    "\n",
    "df = pd.DataFrame(np.random.randn(10, 2))\n",
    "tabloo.show(df)"
   ],
   "metadata": {
    "collapsed": false,
    "pycharm": {
     "name": "#%%\n"
    }
   }
  },
  {
   "cell_type": "code",
   "execution_count": 1,
   "outputs": [
    {
     "name": "stderr",
     "output_type": "stream",
     "text": [
      "2021-12-09 17:22:10,795 - INFO     - NumExpr defaulting to 4 threads.\n"
     ]
    },
    {
     "data": {
      "text/plain": "<IPython.lib.display.IFrame at 0x7f7651f23cd0>",
      "text/html": "\n        <iframe\n            width=\"100%\"\n            height=\"475\"\n            src=\"http://Win7-PC:40000/dtale/iframe/1\"\n            frameborder=\"0\"\n            allowfullscreen\n            \n        ></iframe>\n        "
     },
     "metadata": {},
     "output_type": "display_data"
    },
    {
     "data": {
      "text/plain": ""
     },
     "execution_count": 1,
     "metadata": {},
     "output_type": "execute_result"
    }
   ],
   "source": [
    "import dtale\n",
    "import pandas as pd\n",
    "import numpy as np\n",
    "\n",
    "df = pd.DataFrame(np.random.randn(10, 2))\n",
    "dtale.show(df)"
   ],
   "metadata": {
    "collapsed": false,
    "pycharm": {
     "name": "#%%\n"
    }
   }
  }
 ],
 "metadata": {
  "kernelspec": {
   "display_name": "Python 3",
   "language": "python",
   "name": "python3"
  },
  "language_info": {
   "codemirror_mode": {
    "name": "ipython",
    "version": 2
   },
   "file_extension": ".py",
   "mimetype": "text/x-python",
   "name": "python",
   "nbconvert_exporter": "python",
   "pygments_lexer": "ipython2",
   "version": "2.7.6"
  }
 },
 "nbformat": 4,
 "nbformat_minor": 0
}