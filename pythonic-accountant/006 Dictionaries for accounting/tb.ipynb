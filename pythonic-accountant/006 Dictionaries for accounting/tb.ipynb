{
 "cells": [
  {
   "cell_type": "code",
   "execution_count": 1,
   "metadata": {},
   "outputs": [],
   "source": [
    "import pandas as pd"
   ]
  },
  {
   "cell_type": "code",
   "execution_count": 2,
   "metadata": {},
   "outputs": [],
   "source": [
    "df = pd.read_excel('tb.xlsx', sheet_name=None)"
   ]
  },
  {
   "cell_type": "code",
   "execution_count": 3,
   "metadata": {},
   "outputs": [
    {
     "data": {
      "text/plain": [
       "odict_keys(['tb_balances', 'tb_desc', 'fs_groupings'])"
      ]
     },
     "execution_count": 3,
     "metadata": {},
     "output_type": "execute_result"
    }
   ],
   "source": [
    "df.keys()"
   ]
  },
  {
   "cell_type": "code",
   "execution_count": 4,
   "metadata": {},
   "outputs": [],
   "source": [
    "df_bal = df['tb_balances']\n",
    "df_desc = df['tb_desc']\n",
    "df_group = df['fs_groupings']"
   ]
  },
  {
   "cell_type": "code",
   "execution_count": 5,
   "metadata": {},
   "outputs": [
    {
     "data": {
      "text/html": [
       "<div>\n",
       "<style scoped>\n",
       "    .dataframe tbody tr th:only-of-type {\n",
       "        vertical-align: middle;\n",
       "    }\n",
       "\n",
       "    .dataframe tbody tr th {\n",
       "        vertical-align: top;\n",
       "    }\n",
       "\n",
       "    .dataframe thead th {\n",
       "        text-align: right;\n",
       "    }\n",
       "</style>\n",
       "<table border=\"1\" class=\"dataframe\">\n",
       "  <thead>\n",
       "    <tr style=\"text-align: right;\">\n",
       "      <th></th>\n",
       "      <th>Account</th>\n",
       "      <th>Balance</th>\n",
       "    </tr>\n",
       "  </thead>\n",
       "  <tbody>\n",
       "    <tr>\n",
       "      <th>0</th>\n",
       "      <td>1000</td>\n",
       "      <td>79256</td>\n",
       "    </tr>\n",
       "    <tr>\n",
       "      <th>1</th>\n",
       "      <td>1010</td>\n",
       "      <td>24498</td>\n",
       "    </tr>\n",
       "    <tr>\n",
       "      <th>2</th>\n",
       "      <td>1020</td>\n",
       "      <td>-54289</td>\n",
       "    </tr>\n",
       "    <tr>\n",
       "      <th>3</th>\n",
       "      <td>1030</td>\n",
       "      <td>76519</td>\n",
       "    </tr>\n",
       "    <tr>\n",
       "      <th>4</th>\n",
       "      <td>1040</td>\n",
       "      <td>-12535</td>\n",
       "    </tr>\n",
       "  </tbody>\n",
       "</table>\n",
       "</div>"
      ],
      "text/plain": [
       "   Account  Balance\n",
       "0     1000    79256\n",
       "1     1010    24498\n",
       "2     1020   -54289\n",
       "3     1030    76519\n",
       "4     1040   -12535"
      ]
     },
     "execution_count": 5,
     "metadata": {},
     "output_type": "execute_result"
    }
   ],
   "source": [
    "df_bal.head()"
   ]
  },
  {
   "cell_type": "code",
   "execution_count": 6,
   "metadata": {},
   "outputs": [
    {
     "data": {
      "text/html": [
       "<div>\n",
       "<style scoped>\n",
       "    .dataframe tbody tr th:only-of-type {\n",
       "        vertical-align: middle;\n",
       "    }\n",
       "\n",
       "    .dataframe tbody tr th {\n",
       "        vertical-align: top;\n",
       "    }\n",
       "\n",
       "    .dataframe thead th {\n",
       "        text-align: right;\n",
       "    }\n",
       "</style>\n",
       "<table border=\"1\" class=\"dataframe\">\n",
       "  <thead>\n",
       "    <tr style=\"text-align: right;\">\n",
       "      <th></th>\n",
       "      <th>Account</th>\n",
       "      <th>Description</th>\n",
       "    </tr>\n",
       "  </thead>\n",
       "  <tbody>\n",
       "    <tr>\n",
       "      <th>0</th>\n",
       "      <td>1000</td>\n",
       "      <td>Petty Cash</td>\n",
       "    </tr>\n",
       "    <tr>\n",
       "      <th>1</th>\n",
       "      <td>1010</td>\n",
       "      <td>Cash on Hand (e.g. in cash registers)</td>\n",
       "    </tr>\n",
       "    <tr>\n",
       "      <th>2</th>\n",
       "      <td>1020</td>\n",
       "      <td>Regular Checking Account</td>\n",
       "    </tr>\n",
       "    <tr>\n",
       "      <th>3</th>\n",
       "      <td>1030</td>\n",
       "      <td>Payroll Checking Account</td>\n",
       "    </tr>\n",
       "    <tr>\n",
       "      <th>4</th>\n",
       "      <td>1040</td>\n",
       "      <td>Savings Account</td>\n",
       "    </tr>\n",
       "  </tbody>\n",
       "</table>\n",
       "</div>"
      ],
      "text/plain": [
       "   Account                            Description\n",
       "0     1000                             Petty Cash\n",
       "1     1010  Cash on Hand (e.g. in cash registers)\n",
       "2     1020               Regular Checking Account\n",
       "3     1030               Payroll Checking Account\n",
       "4     1040                        Savings Account"
      ]
     },
     "execution_count": 6,
     "metadata": {},
     "output_type": "execute_result"
    }
   ],
   "source": [
    "df_desc.head()"
   ]
  },
  {
   "cell_type": "code",
   "execution_count": 7,
   "metadata": {},
   "outputs": [
    {
     "data": {
      "text/html": [
       "<div>\n",
       "<style scoped>\n",
       "    .dataframe tbody tr th:only-of-type {\n",
       "        vertical-align: middle;\n",
       "    }\n",
       "\n",
       "    .dataframe tbody tr th {\n",
       "        vertical-align: top;\n",
       "    }\n",
       "\n",
       "    .dataframe thead th {\n",
       "        text-align: right;\n",
       "    }\n",
       "</style>\n",
       "<table border=\"1\" class=\"dataframe\">\n",
       "  <thead>\n",
       "    <tr style=\"text-align: right;\">\n",
       "      <th></th>\n",
       "      <th>Account</th>\n",
       "      <th>Financial Statement Grouping</th>\n",
       "    </tr>\n",
       "  </thead>\n",
       "  <tbody>\n",
       "    <tr>\n",
       "      <th>0</th>\n",
       "      <td>1000</td>\n",
       "      <td>Cash and cash equivalents</td>\n",
       "    </tr>\n",
       "    <tr>\n",
       "      <th>1</th>\n",
       "      <td>1010</td>\n",
       "      <td>Cash and cash equivalents</td>\n",
       "    </tr>\n",
       "    <tr>\n",
       "      <th>2</th>\n",
       "      <td>1020</td>\n",
       "      <td>Cash and cash equivalents</td>\n",
       "    </tr>\n",
       "    <tr>\n",
       "      <th>3</th>\n",
       "      <td>1030</td>\n",
       "      <td>Cash and cash equivalents</td>\n",
       "    </tr>\n",
       "    <tr>\n",
       "      <th>4</th>\n",
       "      <td>1040</td>\n",
       "      <td>Cash and cash equivalents</td>\n",
       "    </tr>\n",
       "  </tbody>\n",
       "</table>\n",
       "</div>"
      ],
      "text/plain": [
       "   Account Financial Statement Grouping\n",
       "0     1000    Cash and cash equivalents\n",
       "1     1010    Cash and cash equivalents\n",
       "2     1020    Cash and cash equivalents\n",
       "3     1030    Cash and cash equivalents\n",
       "4     1040    Cash and cash equivalents"
      ]
     },
     "execution_count": 7,
     "metadata": {},
     "output_type": "execute_result"
    }
   ],
   "source": [
    "df_group.head()"
   ]
  },
  {
   "cell_type": "code",
   "execution_count": 8,
   "metadata": {},
   "outputs": [],
   "source": [
    "df_desc_dict = dict(zip(df_desc['Account'], df_desc['Description']))"
   ]
  },
  {
   "cell_type": "code",
   "execution_count": 16,
   "metadata": {},
   "outputs": [
    {
     "data": {
      "text/plain": [
       "'Cash on Hand (e.g. in cash registers)'"
      ]
     },
     "execution_count": 16,
     "metadata": {},
     "output_type": "execute_result"
    }
   ],
   "source": [
    "df_desc_dict.get(1010, 'ERROR - not found')"
   ]
  },
  {
   "cell_type": "code",
   "execution_count": 18,
   "metadata": {},
   "outputs": [
    {
     "data": {
      "text/plain": [
       "'Cash on Hand (e.g. in cash registers)'"
      ]
     },
     "execution_count": 18,
     "metadata": {},
     "output_type": "execute_result"
    }
   ],
   "source": [
    "def get_desc(acct):\n",
    "    return df_desc_dict.get(acct, 'ERROR - not found')\n",
    "\n",
    "\n",
    "get_desc(1010)"
   ]
  },
  {
   "cell_type": "code",
   "execution_count": 19,
   "metadata": {},
   "outputs": [
    {
     "data": {
      "text/plain": [
       "'ERROR - not found'"
      ]
     },
     "execution_count": 19,
     "metadata": {},
     "output_type": "execute_result"
    }
   ],
   "source": [
    "get_desc(100)"
   ]
  },
  {
   "cell_type": "code",
   "execution_count": 20,
   "metadata": {},
   "outputs": [],
   "source": [
    "df_bal['Description'] = df_bal['Account'].map(get_desc)"
   ]
  },
  {
   "cell_type": "code",
   "execution_count": 21,
   "metadata": {},
   "outputs": [
    {
     "data": {
      "text/html": [
       "<div>\n",
       "<style scoped>\n",
       "    .dataframe tbody tr th:only-of-type {\n",
       "        vertical-align: middle;\n",
       "    }\n",
       "\n",
       "    .dataframe tbody tr th {\n",
       "        vertical-align: top;\n",
       "    }\n",
       "\n",
       "    .dataframe thead th {\n",
       "        text-align: right;\n",
       "    }\n",
       "</style>\n",
       "<table border=\"1\" class=\"dataframe\">\n",
       "  <thead>\n",
       "    <tr style=\"text-align: right;\">\n",
       "      <th></th>\n",
       "      <th>Account</th>\n",
       "      <th>Balance</th>\n",
       "      <th>Description</th>\n",
       "    </tr>\n",
       "  </thead>\n",
       "  <tbody>\n",
       "    <tr>\n",
       "      <th>0</th>\n",
       "      <td>1000</td>\n",
       "      <td>79256</td>\n",
       "      <td>Petty Cash</td>\n",
       "    </tr>\n",
       "    <tr>\n",
       "      <th>1</th>\n",
       "      <td>1010</td>\n",
       "      <td>24498</td>\n",
       "      <td>Cash on Hand (e.g. in cash registers)</td>\n",
       "    </tr>\n",
       "    <tr>\n",
       "      <th>2</th>\n",
       "      <td>1020</td>\n",
       "      <td>-54289</td>\n",
       "      <td>Regular Checking Account</td>\n",
       "    </tr>\n",
       "    <tr>\n",
       "      <th>3</th>\n",
       "      <td>1030</td>\n",
       "      <td>76519</td>\n",
       "      <td>Payroll Checking Account</td>\n",
       "    </tr>\n",
       "    <tr>\n",
       "      <th>4</th>\n",
       "      <td>1040</td>\n",
       "      <td>-12535</td>\n",
       "      <td>Savings Account</td>\n",
       "    </tr>\n",
       "  </tbody>\n",
       "</table>\n",
       "</div>"
      ],
      "text/plain": [
       "   Account  Balance                            Description\n",
       "0     1000    79256                             Petty Cash\n",
       "1     1010    24498  Cash on Hand (e.g. in cash registers)\n",
       "2     1020   -54289               Regular Checking Account\n",
       "3     1030    76519               Payroll Checking Account\n",
       "4     1040   -12535                        Savings Account"
      ]
     },
     "execution_count": 21,
     "metadata": {},
     "output_type": "execute_result"
    }
   ],
   "source": [
    "df_bal.head()"
   ]
  },
  {
   "cell_type": "code",
   "execution_count": 22,
   "metadata": {},
   "outputs": [],
   "source": [
    "df_group_dict = dict(zip(df_group['Account'], df_group['Financial Statement Grouping']))"
   ]
  },
  {
   "cell_type": "code",
   "execution_count": 25,
   "metadata": {},
   "outputs": [
    {
     "data": {
      "text/plain": [
       "'Cash and cash equivalents'"
      ]
     },
     "execution_count": 25,
     "metadata": {},
     "output_type": "execute_result"
    }
   ],
   "source": [
    "def get_group(acct):\n",
    "    return df_group_dict.get(acct, 'ERROR - not found')\n",
    "\n",
    "get_group(1000)"
   ]
  },
  {
   "cell_type": "code",
   "execution_count": 26,
   "metadata": {},
   "outputs": [],
   "source": [
    "df_bal['Grouping'] = df_bal['Account'].map(get_group)"
   ]
  },
  {
   "cell_type": "code",
   "execution_count": 27,
   "metadata": {},
   "outputs": [
    {
     "data": {
      "text/html": [
       "<div>\n",
       "<style scoped>\n",
       "    .dataframe tbody tr th:only-of-type {\n",
       "        vertical-align: middle;\n",
       "    }\n",
       "\n",
       "    .dataframe tbody tr th {\n",
       "        vertical-align: top;\n",
       "    }\n",
       "\n",
       "    .dataframe thead th {\n",
       "        text-align: right;\n",
       "    }\n",
       "</style>\n",
       "<table border=\"1\" class=\"dataframe\">\n",
       "  <thead>\n",
       "    <tr style=\"text-align: right;\">\n",
       "      <th></th>\n",
       "      <th>Account</th>\n",
       "      <th>Balance</th>\n",
       "      <th>Description</th>\n",
       "      <th>Grouping</th>\n",
       "    </tr>\n",
       "  </thead>\n",
       "  <tbody>\n",
       "    <tr>\n",
       "      <th>0</th>\n",
       "      <td>1000</td>\n",
       "      <td>79256</td>\n",
       "      <td>Petty Cash</td>\n",
       "      <td>Cash and cash equivalents</td>\n",
       "    </tr>\n",
       "    <tr>\n",
       "      <th>1</th>\n",
       "      <td>1010</td>\n",
       "      <td>24498</td>\n",
       "      <td>Cash on Hand (e.g. in cash registers)</td>\n",
       "      <td>Cash and cash equivalents</td>\n",
       "    </tr>\n",
       "    <tr>\n",
       "      <th>2</th>\n",
       "      <td>1020</td>\n",
       "      <td>-54289</td>\n",
       "      <td>Regular Checking Account</td>\n",
       "      <td>Cash and cash equivalents</td>\n",
       "    </tr>\n",
       "    <tr>\n",
       "      <th>3</th>\n",
       "      <td>1030</td>\n",
       "      <td>76519</td>\n",
       "      <td>Payroll Checking Account</td>\n",
       "      <td>Cash and cash equivalents</td>\n",
       "    </tr>\n",
       "    <tr>\n",
       "      <th>4</th>\n",
       "      <td>1040</td>\n",
       "      <td>-12535</td>\n",
       "      <td>Savings Account</td>\n",
       "      <td>Cash and cash equivalents</td>\n",
       "    </tr>\n",
       "  </tbody>\n",
       "</table>\n",
       "</div>"
      ],
      "text/plain": [
       "   Account  Balance                            Description  \\\n",
       "0     1000    79256                             Petty Cash   \n",
       "1     1010    24498  Cash on Hand (e.g. in cash registers)   \n",
       "2     1020   -54289               Regular Checking Account   \n",
       "3     1030    76519               Payroll Checking Account   \n",
       "4     1040   -12535                        Savings Account   \n",
       "\n",
       "                    Grouping  \n",
       "0  Cash and cash equivalents  \n",
       "1  Cash and cash equivalents  \n",
       "2  Cash and cash equivalents  \n",
       "3  Cash and cash equivalents  \n",
       "4  Cash and cash equivalents  "
      ]
     },
     "execution_count": 27,
     "metadata": {},
     "output_type": "execute_result"
    }
   ],
   "source": [
    "df_bal.head()"
   ]
  },
  {
   "cell_type": "code",
   "execution_count": 36,
   "metadata": {},
   "outputs": [
    {
     "data": {
      "text/html": [
       "<div>\n",
       "<style scoped>\n",
       "    .dataframe tbody tr th:only-of-type {\n",
       "        vertical-align: middle;\n",
       "    }\n",
       "\n",
       "    .dataframe tbody tr th {\n",
       "        vertical-align: top;\n",
       "    }\n",
       "\n",
       "    .dataframe thead th {\n",
       "        text-align: right;\n",
       "    }\n",
       "</style>\n",
       "<table border=\"1\" class=\"dataframe\">\n",
       "  <thead>\n",
       "    <tr style=\"text-align: right;\">\n",
       "      <th></th>\n",
       "      <th>Balance</th>\n",
       "    </tr>\n",
       "    <tr>\n",
       "      <th>Grouping</th>\n",
       "      <th></th>\n",
       "    </tr>\n",
       "  </thead>\n",
       "  <tbody>\n",
       "    <tr>\n",
       "      <th>Accounts payable</th>\n",
       "      <td>40897</td>\n",
       "    </tr>\n",
       "    <tr>\n",
       "      <th>Accounts receivable, net</th>\n",
       "      <td>81124</td>\n",
       "    </tr>\n",
       "    <tr>\n",
       "      <th>Accrued expenses</th>\n",
       "      <td>11866</td>\n",
       "    </tr>\n",
       "    <tr>\n",
       "      <th>Capital</th>\n",
       "      <td>2800</td>\n",
       "    </tr>\n",
       "    <tr>\n",
       "      <th>Capital surplus</th>\n",
       "      <td>1049</td>\n",
       "    </tr>\n",
       "    <tr>\n",
       "      <th>Cash and cash equivalents</th>\n",
       "      <td>106189</td>\n",
       "    </tr>\n",
       "    <tr>\n",
       "      <th>Cost of goods sold</th>\n",
       "      <td>-41942</td>\n",
       "    </tr>\n",
       "    <tr>\n",
       "      <th>Deferred revenue</th>\n",
       "      <td>-27622</td>\n",
       "    </tr>\n",
       "    <tr>\n",
       "      <th>Deposits</th>\n",
       "      <td>29768</td>\n",
       "    </tr>\n",
       "    <tr>\n",
       "      <th>Discounts</th>\n",
       "      <td>15014</td>\n",
       "    </tr>\n",
       "    <tr>\n",
       "      <th>Interest income</th>\n",
       "      <td>-79133</td>\n",
       "    </tr>\n",
       "    <tr>\n",
       "      <th>Inventory</th>\n",
       "      <td>-89868</td>\n",
       "    </tr>\n",
       "    <tr>\n",
       "      <th>Long-term debt, current</th>\n",
       "      <td>68184</td>\n",
       "    </tr>\n",
       "    <tr>\n",
       "      <th>Notes payable</th>\n",
       "      <td>66647</td>\n",
       "    </tr>\n",
       "    <tr>\n",
       "      <th>Notes receivable</th>\n",
       "      <td>-970</td>\n",
       "    </tr>\n",
       "    <tr>\n",
       "      <th>Notes receivable, noncurrent</th>\n",
       "      <td>-4324</td>\n",
       "    </tr>\n",
       "    <tr>\n",
       "      <th>Operating costs</th>\n",
       "      <td>-210329</td>\n",
       "    </tr>\n",
       "    <tr>\n",
       "      <th>Organization costs, net</th>\n",
       "      <td>-128221</td>\n",
       "    </tr>\n",
       "    <tr>\n",
       "      <th>Other current assets</th>\n",
       "      <td>16667</td>\n",
       "    </tr>\n",
       "    <tr>\n",
       "      <th>Other current liabilities</th>\n",
       "      <td>-158063</td>\n",
       "    </tr>\n",
       "    <tr>\n",
       "      <th>Other income</th>\n",
       "      <td>7154</td>\n",
       "    </tr>\n",
       "    <tr>\n",
       "      <th>Other long-term liabilities</th>\n",
       "      <td>97425</td>\n",
       "    </tr>\n",
       "    <tr>\n",
       "      <th>Other non-current assets</th>\n",
       "      <td>-26977</td>\n",
       "    </tr>\n",
       "    <tr>\n",
       "      <th>Prepaids and advances</th>\n",
       "      <td>51274</td>\n",
       "    </tr>\n",
       "    <tr>\n",
       "      <th>Property and equipment, net</th>\n",
       "      <td>260251</td>\n",
       "    </tr>\n",
       "    <tr>\n",
       "      <th>Reimbursements</th>\n",
       "      <td>-85446</td>\n",
       "    </tr>\n",
       "    <tr>\n",
       "      <th>Retained earnings</th>\n",
       "      <td>-37271</td>\n",
       "    </tr>\n",
       "    <tr>\n",
       "      <th>Returns and allowances</th>\n",
       "      <td>-30767</td>\n",
       "    </tr>\n",
       "    <tr>\n",
       "      <th>Sales</th>\n",
       "      <td>112404</td>\n",
       "    </tr>\n",
       "  </tbody>\n",
       "</table>\n",
       "</div>"
      ],
      "text/plain": [
       "                              Balance\n",
       "Grouping                             \n",
       "Accounts payable                40897\n",
       "Accounts receivable, net        81124\n",
       "Accrued expenses                11866\n",
       "Capital                          2800\n",
       "Capital surplus                  1049\n",
       "Cash and cash equivalents      106189\n",
       "Cost of goods sold             -41942\n",
       "Deferred revenue               -27622\n",
       "Deposits                        29768\n",
       "Discounts                       15014\n",
       "Interest income                -79133\n",
       "Inventory                      -89868\n",
       "Long-term debt, current         68184\n",
       "Notes payable                   66647\n",
       "Notes receivable                 -970\n",
       "Notes receivable, noncurrent    -4324\n",
       "Operating costs               -210329\n",
       "Organization costs, net       -128221\n",
       "Other current assets            16667\n",
       "Other current liabilities     -158063\n",
       "Other income                     7154\n",
       "Other long-term liabilities     97425\n",
       "Other non-current assets       -26977\n",
       "Prepaids and advances           51274\n",
       "Property and equipment, net    260251\n",
       "Reimbursements                 -85446\n",
       "Retained earnings              -37271\n",
       "Returns and allowances         -30767\n",
       "Sales                          112404"
      ]
     },
     "execution_count": 36,
     "metadata": {},
     "output_type": "execute_result"
    }
   ],
   "source": [
    "df_bal.pivot_table(index='Grouping', values='Balance', aggfunc=sum)"
   ]
  },
  {
   "cell_type": "code",
   "execution_count": null,
   "metadata": {},
   "outputs": [],
   "source": []
  }
 ],
 "metadata": {
  "kernelspec": {
   "display_name": "Python 3",
   "language": "python",
   "name": "python3"
  },
  "language_info": {
   "codemirror_mode": {
    "name": "ipython",
    "version": 3
   },
   "file_extension": ".py",
   "mimetype": "text/x-python",
   "name": "python",
   "nbconvert_exporter": "python",
   "pygments_lexer": "ipython3",
   "version": "3.7.5"
  }
 },
 "nbformat": 4,
 "nbformat_minor": 4
}
