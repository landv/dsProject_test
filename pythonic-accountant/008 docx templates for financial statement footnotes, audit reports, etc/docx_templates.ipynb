{
 "cells": [
  {
   "cell_type": "markdown",
   "metadata": {},
   "source": [
    "# Using python-docx-template to create dynamically updated templates\n",
    "conda install -c conda-forge docxtpl"
   ]
  },
  {
   "cell_type": "code",
   "execution_count": 24,
   "metadata": {},
   "outputs": [],
   "source": [
    "# Load libraries\n",
    "from docxtpl import DocxTemplate\n",
    "import jinja2\n",
    "import pandas as pd"
   ]
  },
  {
   "cell_type": "code",
   "execution_count": 25,
   "metadata": {},
   "outputs": [],
   "source": [
    "# Load template from Tesla's Q3 Fy19 financials, add context for cy and py, and render\n",
    "doc = DocxTemplate(\"note6 - template.docx\")\n",
    "context = {\n",
    "    'cur_year' : 2019,\n",
    "    'prior_year': 2018\n",
    "}\n",
    "doc.render(context)\n",
    "doc.save(\"note_output1.docx\")"
   ]
  },
  {
   "cell_type": "code",
   "execution_count": 26,
   "metadata": {},
   "outputs": [],
   "source": [
    "# Load note data from excel file\n",
    "note_data = pd.read_excel('notes_data.xlsx')"
   ]
  },
  {
   "cell_type": "code",
   "execution_count": 27,
   "metadata": {},
   "outputs": [],
   "source": [
    "# Create context dictionary from note data file\n",
    "context = dict(zip(note_data['var'], note_data['value']))"
   ]
  },
  {
   "cell_type": "code",
   "execution_count": 28,
   "metadata": {},
   "outputs": [],
   "source": [
    "# Create output with full updated context\n",
    "doc = DocxTemplate(\"note6 - template.docx\")\n",
    "doc.render(context)\n",
    "doc.save('note_output2.docx')"
   ]
  },
  {
   "cell_type": "code",
   "execution_count": 29,
   "metadata": {},
   "outputs": [],
   "source": [
    "# Add custom filter to convert items to numbers with commas\n",
    "def comma(value):\n",
    "    return \"{:,}\".format(value)\n",
    "jinja_env = jinja2.Environment()\n",
    "jinja_env.filters['c'] = comma"
   ]
  },
  {
   "cell_type": "code",
   "execution_count": 30,
   "metadata": {},
   "outputs": [],
   "source": [
    "# Create updated output with full updated context\n",
    "doc = DocxTemplate(\"note6 - template.docx\")\n",
    "doc.render(context, jinja_env)\n",
    "doc.save('note_output3.docx')"
   ]
  },
  {
   "cell_type": "code",
   "execution_count": null,
   "metadata": {},
   "outputs": [],
   "source": []
  }
 ],
 "metadata": {
  "kernelspec": {
   "display_name": "Python 3",
   "language": "python",
   "name": "python3"
  },
  "language_info": {
   "codemirror_mode": {
    "name": "ipython",
    "version": 3
   },
   "file_extension": ".py",
   "mimetype": "text/x-python",
   "name": "python",
   "nbconvert_exporter": "python",
   "pygments_lexer": "ipython3",
   "version": "3.7.5"
  }
 },
 "nbformat": 4,
 "nbformat_minor": 4
}
