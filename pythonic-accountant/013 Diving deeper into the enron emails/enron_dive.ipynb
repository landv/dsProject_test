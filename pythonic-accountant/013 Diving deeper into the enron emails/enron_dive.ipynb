{
 "cells": [
  {
   "cell_type": "code",
   "execution_count": 147,
   "metadata": {},
   "outputs": [],
   "source": [
    "import tarfile\n",
    "import re\n",
    "from datetime import datetime\n",
    "from collections import namedtuple, Counter\n",
    "\n",
    "import pandas as pd\n",
    "import altair as alt"
   ]
  },
  {
   "cell_type": "code",
   "execution_count": 4,
   "metadata": {},
   "outputs": [],
   "source": [
    "tar = tarfile.open(\"../012 Use regular expressions to identify potentially sensitive data/enron_mail_20150507.tar.gz\", \"r\")"
   ]
  },
  {
   "cell_type": "code",
   "execution_count": 5,
   "metadata": {},
   "outputs": [],
   "source": [
    "items = tar.getmembers()"
   ]
  },
  {
   "cell_type": "code",
   "execution_count": 50,
   "metadata": {},
   "outputs": [],
   "source": [
    "Email = namedtuple('Email', 'Date, From, To, Subject, Cc, Bcc, Message')"
   ]
  },
  {
   "cell_type": "code",
   "execution_count": 110,
   "metadata": {},
   "outputs": [],
   "source": [
    "# figure out structure of each file\n",
    "\n",
    "def get_msg(item_number):\n",
    "    f = tar.extractfile(items[item_number])\n",
    "\n",
    "    try:\n",
    "        date = from_ = to = subject = cc = bcc = message= ''\n",
    "        in_to = False\n",
    "        in_message = False\n",
    "        to = []\n",
    "        message = []\n",
    "        item = f.read().decode()\n",
    "        item = item.replace('\\r', '').replace('\\t', '')\n",
    "        lines = item.split('\\n')\n",
    "        # print(len(lines))\n",
    "\n",
    "        for num, line in enumerate(lines):\n",
    "            if line.startswith('Date:') and not date:\n",
    "                date = datetime.strptime(' '.join(line.split('Date: ')[1].split()[:-2]), '%a, %d %b %Y %H:%M:%S')\n",
    "            elif line.startswith('From:') and not from_:\n",
    "                from_ = line.replace('From:', '').strip()\n",
    "            elif line.startswith('To:') and not to:\n",
    "                in_to = True\n",
    "                to = line.replace('To:', '').replace(',', '').replace(';', '').split()\n",
    "            elif line.startswith('Subject:') and not subject:\n",
    "                in_to = False\n",
    "                subject = line.replace('Subject:', '').strip()\n",
    "            elif line.startswith('Cc:') and not cc:\n",
    "                cc = line.replace('Cc:', '').replace(',', '').replace(';', '').split()\n",
    "            elif line.startswith('Bcc:') and not bcc:\n",
    "                bcc = line.replace('Bcc:', '').replace(',', '').replace(';', '').split()\n",
    "            elif in_to:\n",
    "                to.extend(line.replace(',', '').split())\n",
    "            elif line.startswith('Subject:') and not subject:\n",
    "                in_to = False\n",
    "            elif line.startswith('X-FileName'):\n",
    "                in_message = True\n",
    "            elif in_message:\n",
    "                message.append(line)\n",
    "\n",
    "        to = '; '.join(to).strip()\n",
    "        cc = '; '.join(cc).strip()\n",
    "        bcc = '; '.join(bcc).strip()\n",
    "        message = ' '.join(message).strip()\n",
    "        email = Email(date, from_, to, subject, cc, bcc, message)\n",
    "        return email\n",
    "\n",
    "    except Exception as e:\n",
    "        return e"
   ]
  },
  {
   "cell_type": "code",
   "execution_count": 253,
   "metadata": {},
   "outputs": [],
   "source": [
    "msg = get_msg(3002)"
   ]
  },
  {
   "cell_type": "code",
   "execution_count": 258,
   "metadata": {},
   "outputs": [
    {
     "data": {
      "text/plain": [
       "\"Tom, 1:30 until 3:30 should be ample time to cover the Timeline and answer any questions the group has.  John Buchanan   -----Original Message----- From: Halpin, Tom   Sent:Friday, October 19, 2001 7:55 AM To:Buchanan, John Subject:RE: Follow up on the Nomination/Confirmation Process  John, that sounds good.  The feedback I have received indicates the 29th is the better date.  Please let me know when your schedule is finalized and I will get out a note to the folks here.  How much time do you think you need?  Would 130-330 or so work?  Thanks again, Tom.   -----Original Message----- From: Buchanan, John   Sent:Friday, October 19, 2001 5:52 AM To:Halpin, Tom Cc:Blair, Lynn; Garcia, Ava Subject:RE: Follow up on the Nomination/Confirmation Process  Tom, Lynn is in California until next Wednesday October 24th so I need to arrange the flights for this trip. So far it looks like either day is good for the meeting on Nominations and Scheduling so I will arrange for Lynn and I to come to Omaha on the 29th. We will arrive around 12:30pm and our flight will leave Omaha around 6:30pm.   Please let me know if there is any problems with this timeline.  Thanks: John Buchanan   -----Original Message----- From: Halpin, Tom   Sent:Wednesday, October 17, 2001 11:20 AM To:Thomas, Steve; Korbelik, Stephanie; Cohrs, Allen; Pritchard, John; Pavlou, Larry; Westfall, Roger; Oldenhuis, Frank; Dornan, Dari; Winckowski, Michele Cc:Blair, Lynn; Buchanan, John Subject:Follow up on the Nomination/Confirmation Process  John Buchanan and Lynn Blair have offered to do a follow up session from yesterday's brown bag lunch to walk through the nomination and confirmation process.  They have offered to come to Omaha on 10/29 or 10/30 for a face to face training session.  Please let me know your availability on these days and I will get them lined up on whichever day looks to have the greatest turnout.  Also, if you know of others not included in this note who might be interested, please let them know.  Thanks, Tom.  Tom Halpin Enron Transportation Services 402-398-7334 Tom.Halpin@enron.com\""
      ]
     },
     "execution_count": 258,
     "metadata": {},
     "output_type": "execute_result"
    }
   ],
   "source": [
    "msg.Message"
   ]
  },
  {
   "cell_type": "code",
   "execution_count": 251,
   "metadata": {},
   "outputs": [
    {
     "data": {
      "text/plain": [
       "520901"
      ]
     },
     "execution_count": 251,
     "metadata": {},
     "output_type": "execute_result"
    }
   ],
   "source": [
    "len(items)"
   ]
  },
  {
   "cell_type": "code",
   "execution_count": 200,
   "metadata": {},
   "outputs": [],
   "source": [
    "dates = []\n",
    "\n",
    "for num in range(len(items)):\n",
    "    msg = get_msg(num)\n",
    "    if not isinstance(msg, tuple):\n",
    "        continue\n",
    "    dates.append(msg.Date)"
   ]
  },
  {
   "cell_type": "code",
   "execution_count": 201,
   "metadata": {},
   "outputs": [],
   "source": [
    "dates_count = Counter(dates)"
   ]
  },
  {
   "cell_type": "code",
   "execution_count": 214,
   "metadata": {},
   "outputs": [],
   "source": [
    "df = pd.DataFrame.from_dict(dates_count, orient='index').reset_index()\n",
    "df.columns = ['datetime', 'count']"
   ]
  },
  {
   "cell_type": "code",
   "execution_count": 217,
   "metadata": {},
   "outputs": [],
   "source": [
    "df['date'] = df['datetime'].map(lambda x: x.date())"
   ]
  },
  {
   "cell_type": "code",
   "execution_count": 218,
   "metadata": {},
   "outputs": [
    {
     "data": {
      "text/html": [
       "<div>\n",
       "<style scoped>\n",
       "    .dataframe tbody tr th:only-of-type {\n",
       "        vertical-align: middle;\n",
       "    }\n",
       "\n",
       "    .dataframe tbody tr th {\n",
       "        vertical-align: top;\n",
       "    }\n",
       "\n",
       "    .dataframe thead th {\n",
       "        text-align: right;\n",
       "    }\n",
       "</style>\n",
       "<table border=\"1\" class=\"dataframe\">\n",
       "  <thead>\n",
       "    <tr style=\"text-align: right;\">\n",
       "      <th></th>\n",
       "      <th>datetime</th>\n",
       "      <th>count</th>\n",
       "      <th>date</th>\n",
       "    </tr>\n",
       "  </thead>\n",
       "  <tbody>\n",
       "    <tr>\n",
       "      <th>0</th>\n",
       "      <td>2001-09-14 14:05:43</td>\n",
       "      <td>1</td>\n",
       "      <td>2001-09-14</td>\n",
       "    </tr>\n",
       "    <tr>\n",
       "      <th>1</th>\n",
       "      <td>2001-09-10 10:33:15</td>\n",
       "      <td>1</td>\n",
       "      <td>2001-09-10</td>\n",
       "    </tr>\n",
       "    <tr>\n",
       "      <th>2</th>\n",
       "      <td>2001-08-20 12:34:19</td>\n",
       "      <td>1</td>\n",
       "      <td>2001-08-20</td>\n",
       "    </tr>\n",
       "    <tr>\n",
       "      <th>3</th>\n",
       "      <td>2001-07-05 08:35:29</td>\n",
       "      <td>2</td>\n",
       "      <td>2001-07-05</td>\n",
       "    </tr>\n",
       "    <tr>\n",
       "      <th>4</th>\n",
       "      <td>2001-07-26 08:16:14</td>\n",
       "      <td>1</td>\n",
       "      <td>2001-07-26</td>\n",
       "    </tr>\n",
       "  </tbody>\n",
       "</table>\n",
       "</div>"
      ],
      "text/plain": [
       "              datetime  count        date\n",
       "0  2001-09-14 14:05:43      1  2001-09-14\n",
       "1  2001-09-10 10:33:15      1  2001-09-10\n",
       "2  2001-08-20 12:34:19      1  2001-08-20\n",
       "3  2001-07-05 08:35:29      2  2001-07-05\n",
       "4  2001-07-26 08:16:14      1  2001-07-26"
      ]
     },
     "execution_count": 218,
     "metadata": {},
     "output_type": "execute_result"
    }
   ],
   "source": [
    "df.head()"
   ]
  },
  {
   "cell_type": "code",
   "execution_count": 241,
   "metadata": {},
   "outputs": [],
   "source": [
    "pivot = df.pivot_table(index='date', values='count', aggfunc='sum').reset_index()\n",
    "pivot = pivot[(pivot['date'] > pd.datetime(2000, 1, 1).date()) & (pivot['date'] < pd.datetime(2002, 6, 30).date())]\n",
    "pivot['date'] = pd.to_datetime(pivot['date'])"
   ]
  },
  {
   "cell_type": "code",
   "execution_count": 242,
   "metadata": {},
   "outputs": [
    {
     "data": {
      "application/vnd.vegalite.v3+json": {
       "$schema": "https://vega.github.io/schema/vega-lite/v3.4.0.json",
       "config": {
        "mark": {
         "tooltip": null
        },
        "view": {
         "height": 300,
         "width": 400
        }
       },
       "data": {
        "name": "data-875301933c5c07accb8a273726fa5366"
       },
       "datasets": {
        "data-875301933c5c07accb8a273726fa5366": [
         {
          "count": 11,
          "date": "2000-01-02T00:00:00"
         },
         {
          "count": 44,
          "date": "2000-01-03T00:00:00"
         },
         {
          "count": 230,
          "date": "2000-01-04T00:00:00"
         },
         {
          "count": 262,
          "date": "2000-01-05T00:00:00"
         },
         {
          "count": 272,
          "date": "2000-01-06T00:00:00"
         },
         {
          "count": 282,
          "date": "2000-01-07T00:00:00"
         },
         {
          "count": 8,
          "date": "2000-01-08T00:00:00"
         },
         {
          "count": 10,
          "date": "2000-01-09T00:00:00"
         },
         {
          "count": 386,
          "date": "2000-01-10T00:00:00"
         },
         {
          "count": 586,
          "date": "2000-01-11T00:00:00"
         },
         {
          "count": 297,
          "date": "2000-01-12T00:00:00"
         },
         {
          "count": 256,
          "date": "2000-01-13T00:00:00"
         },
         {
          "count": 141,
          "date": "2000-01-14T00:00:00"
         },
         {
          "count": 25,
          "date": "2000-01-15T00:00:00"
         },
         {
          "count": 14,
          "date": "2000-01-16T00:00:00"
         },
         {
          "count": 292,
          "date": "2000-01-17T00:00:00"
         },
         {
          "count": 331,
          "date": "2000-01-18T00:00:00"
         },
         {
          "count": 201,
          "date": "2000-01-19T00:00:00"
         },
         {
          "count": 261,
          "date": "2000-01-20T00:00:00"
         },
         {
          "count": 272,
          "date": "2000-01-21T00:00:00"
         },
         {
          "count": 63,
          "date": "2000-01-22T00:00:00"
         },
         {
          "count": 41,
          "date": "2000-01-23T00:00:00"
         },
         {
          "count": 302,
          "date": "2000-01-24T00:00:00"
         },
         {
          "count": 427,
          "date": "2000-01-25T00:00:00"
         },
         {
          "count": 232,
          "date": "2000-01-26T00:00:00"
         },
         {
          "count": 307,
          "date": "2000-01-27T00:00:00"
         },
         {
          "count": 274,
          "date": "2000-01-28T00:00:00"
         },
         {
          "count": 32,
          "date": "2000-01-29T00:00:00"
         },
         {
          "count": 59,
          "date": "2000-01-30T00:00:00"
         },
         {
          "count": 460,
          "date": "2000-01-31T00:00:00"
         },
         {
          "count": 401,
          "date": "2000-02-01T00:00:00"
         },
         {
          "count": 282,
          "date": "2000-02-02T00:00:00"
         },
         {
          "count": 231,
          "date": "2000-02-03T00:00:00"
         },
         {
          "count": 311,
          "date": "2000-02-04T00:00:00"
         },
         {
          "count": 6,
          "date": "2000-02-05T00:00:00"
         },
         {
          "count": 66,
          "date": "2000-02-06T00:00:00"
         },
         {
          "count": 291,
          "date": "2000-02-07T00:00:00"
         },
         {
          "count": 258,
          "date": "2000-02-08T00:00:00"
         },
         {
          "count": 427,
          "date": "2000-02-09T00:00:00"
         },
         {
          "count": 334,
          "date": "2000-02-10T00:00:00"
         },
         {
          "count": 280,
          "date": "2000-02-11T00:00:00"
         },
         {
          "count": 22,
          "date": "2000-02-12T00:00:00"
         },
         {
          "count": 55,
          "date": "2000-02-13T00:00:00"
         },
         {
          "count": 291,
          "date": "2000-02-14T00:00:00"
         },
         {
          "count": 317,
          "date": "2000-02-15T00:00:00"
         },
         {
          "count": 271,
          "date": "2000-02-16T00:00:00"
         },
         {
          "count": 544,
          "date": "2000-02-17T00:00:00"
         },
         {
          "count": 298,
          "date": "2000-02-18T00:00:00"
         },
         {
          "count": 50,
          "date": "2000-02-19T00:00:00"
         },
         {
          "count": 70,
          "date": "2000-02-20T00:00:00"
         },
         {
          "count": 138,
          "date": "2000-02-21T00:00:00"
         },
         {
          "count": 366,
          "date": "2000-02-22T00:00:00"
         },
         {
          "count": 388,
          "date": "2000-02-23T00:00:00"
         },
         {
          "count": 461,
          "date": "2000-02-24T00:00:00"
         },
         {
          "count": 283,
          "date": "2000-02-25T00:00:00"
         },
         {
          "count": 3,
          "date": "2000-02-26T00:00:00"
         },
         {
          "count": 40,
          "date": "2000-02-27T00:00:00"
         },
         {
          "count": 369,
          "date": "2000-02-28T00:00:00"
         },
         {
          "count": 342,
          "date": "2000-02-29T00:00:00"
         },
         {
          "count": 383,
          "date": "2000-03-01T00:00:00"
         },
         {
          "count": 301,
          "date": "2000-03-02T00:00:00"
         },
         {
          "count": 374,
          "date": "2000-03-03T00:00:00"
         },
         {
          "count": 4,
          "date": "2000-03-04T00:00:00"
         },
         {
          "count": 79,
          "date": "2000-03-05T00:00:00"
         },
         {
          "count": 423,
          "date": "2000-03-06T00:00:00"
         },
         {
          "count": 427,
          "date": "2000-03-07T00:00:00"
         },
         {
          "count": 368,
          "date": "2000-03-08T00:00:00"
         },
         {
          "count": 420,
          "date": "2000-03-09T00:00:00"
         },
         {
          "count": 323,
          "date": "2000-03-10T00:00:00"
         },
         {
          "count": 15,
          "date": "2000-03-11T00:00:00"
         },
         {
          "count": 51,
          "date": "2000-03-12T00:00:00"
         },
         {
          "count": 380,
          "date": "2000-03-13T00:00:00"
         },
         {
          "count": 335,
          "date": "2000-03-14T00:00:00"
         },
         {
          "count": 286,
          "date": "2000-03-15T00:00:00"
         },
         {
          "count": 335,
          "date": "2000-03-16T00:00:00"
         },
         {
          "count": 323,
          "date": "2000-03-17T00:00:00"
         },
         {
          "count": 17,
          "date": "2000-03-18T00:00:00"
         },
         {
          "count": 41,
          "date": "2000-03-19T00:00:00"
         },
         {
          "count": 347,
          "date": "2000-03-20T00:00:00"
         },
         {
          "count": 453,
          "date": "2000-03-21T00:00:00"
         },
         {
          "count": 274,
          "date": "2000-03-22T00:00:00"
         },
         {
          "count": 340,
          "date": "2000-03-23T00:00:00"
         },
         {
          "count": 291,
          "date": "2000-03-24T00:00:00"
         },
         {
          "count": 8,
          "date": "2000-03-25T00:00:00"
         },
         {
          "count": 92,
          "date": "2000-03-26T00:00:00"
         },
         {
          "count": 459,
          "date": "2000-03-27T00:00:00"
         },
         {
          "count": 498,
          "date": "2000-03-28T00:00:00"
         },
         {
          "count": 358,
          "date": "2000-03-29T00:00:00"
         },
         {
          "count": 353,
          "date": "2000-03-30T00:00:00"
         },
         {
          "count": 355,
          "date": "2000-03-31T00:00:00"
         },
         {
          "count": 11,
          "date": "2000-04-02T00:00:00"
         },
         {
          "count": 420,
          "date": "2000-04-03T00:00:00"
         },
         {
          "count": 449,
          "date": "2000-04-04T00:00:00"
         },
         {
          "count": 457,
          "date": "2000-04-05T00:00:00"
         },
         {
          "count": 313,
          "date": "2000-04-06T00:00:00"
         },
         {
          "count": 231,
          "date": "2000-04-07T00:00:00"
         },
         {
          "count": 17,
          "date": "2000-04-08T00:00:00"
         },
         {
          "count": 44,
          "date": "2000-04-09T00:00:00"
         },
         {
          "count": 408,
          "date": "2000-04-10T00:00:00"
         },
         {
          "count": 494,
          "date": "2000-04-11T00:00:00"
         },
         {
          "count": 406,
          "date": "2000-04-12T00:00:00"
         },
         {
          "count": 484,
          "date": "2000-04-13T00:00:00"
         },
         {
          "count": 474,
          "date": "2000-04-14T00:00:00"
         },
         {
          "count": 20,
          "date": "2000-04-15T00:00:00"
         },
         {
          "count": 35,
          "date": "2000-04-16T00:00:00"
         },
         {
          "count": 405,
          "date": "2000-04-17T00:00:00"
         },
         {
          "count": 495,
          "date": "2000-04-18T00:00:00"
         },
         {
          "count": 553,
          "date": "2000-04-19T00:00:00"
         },
         {
          "count": 509,
          "date": "2000-04-20T00:00:00"
         },
         {
          "count": 186,
          "date": "2000-04-21T00:00:00"
         },
         {
          "count": 10,
          "date": "2000-04-22T00:00:00"
         },
         {
          "count": 4,
          "date": "2000-04-23T00:00:00"
         },
         {
          "count": 369,
          "date": "2000-04-24T00:00:00"
         },
         {
          "count": 424,
          "date": "2000-04-25T00:00:00"
         },
         {
          "count": 552,
          "date": "2000-04-26T00:00:00"
         },
         {
          "count": 460,
          "date": "2000-04-27T00:00:00"
         },
         {
          "count": 347,
          "date": "2000-04-28T00:00:00"
         },
         {
          "count": 10,
          "date": "2000-04-29T00:00:00"
         },
         {
          "count": 39,
          "date": "2000-04-30T00:00:00"
         },
         {
          "count": 424,
          "date": "2000-05-01T00:00:00"
         },
         {
          "count": 389,
          "date": "2000-05-02T00:00:00"
         },
         {
          "count": 415,
          "date": "2000-05-03T00:00:00"
         },
         {
          "count": 418,
          "date": "2000-05-04T00:00:00"
         },
         {
          "count": 313,
          "date": "2000-05-05T00:00:00"
         },
         {
          "count": 12,
          "date": "2000-05-06T00:00:00"
         },
         {
          "count": 44,
          "date": "2000-05-07T00:00:00"
         },
         {
          "count": 491,
          "date": "2000-05-08T00:00:00"
         },
         {
          "count": 510,
          "date": "2000-05-09T00:00:00"
         },
         {
          "count": 359,
          "date": "2000-05-10T00:00:00"
         },
         {
          "count": 533,
          "date": "2000-05-11T00:00:00"
         },
         {
          "count": 557,
          "date": "2000-05-12T00:00:00"
         },
         {
          "count": 18,
          "date": "2000-05-13T00:00:00"
         },
         {
          "count": 60,
          "date": "2000-05-14T00:00:00"
         },
         {
          "count": 424,
          "date": "2000-05-15T00:00:00"
         },
         {
          "count": 552,
          "date": "2000-05-16T00:00:00"
         },
         {
          "count": 467,
          "date": "2000-05-17T00:00:00"
         },
         {
          "count": 362,
          "date": "2000-05-18T00:00:00"
         },
         {
          "count": 450,
          "date": "2000-05-19T00:00:00"
         },
         {
          "count": 11,
          "date": "2000-05-20T00:00:00"
         },
         {
          "count": 35,
          "date": "2000-05-21T00:00:00"
         },
         {
          "count": 603,
          "date": "2000-05-22T00:00:00"
         },
         {
          "count": 612,
          "date": "2000-05-23T00:00:00"
         },
         {
          "count": 335,
          "date": "2000-05-24T00:00:00"
         },
         {
          "count": 461,
          "date": "2000-05-25T00:00:00"
         },
         {
          "count": 404,
          "date": "2000-05-26T00:00:00"
         },
         {
          "count": 9,
          "date": "2000-05-27T00:00:00"
         },
         {
          "count": 8,
          "date": "2000-05-28T00:00:00"
         },
         {
          "count": 31,
          "date": "2000-05-29T00:00:00"
         },
         {
          "count": 482,
          "date": "2000-05-30T00:00:00"
         },
         {
          "count": 456,
          "date": "2000-05-31T00:00:00"
         },
         {
          "count": 555,
          "date": "2000-06-01T00:00:00"
         },
         {
          "count": 479,
          "date": "2000-06-02T00:00:00"
         },
         {
          "count": 25,
          "date": "2000-06-03T00:00:00"
         },
         {
          "count": 39,
          "date": "2000-06-04T00:00:00"
         },
         {
          "count": 586,
          "date": "2000-06-05T00:00:00"
         },
         {
          "count": 508,
          "date": "2000-06-06T00:00:00"
         },
         {
          "count": 574,
          "date": "2000-06-07T00:00:00"
         },
         {
          "count": 551,
          "date": "2000-06-08T00:00:00"
         },
         {
          "count": 473,
          "date": "2000-06-09T00:00:00"
         },
         {
          "count": 6,
          "date": "2000-06-10T00:00:00"
         },
         {
          "count": 39,
          "date": "2000-06-11T00:00:00"
         },
         {
          "count": 586,
          "date": "2000-06-12T00:00:00"
         },
         {
          "count": 545,
          "date": "2000-06-13T00:00:00"
         },
         {
          "count": 600,
          "date": "2000-06-14T00:00:00"
         },
         {
          "count": 519,
          "date": "2000-06-15T00:00:00"
         },
         {
          "count": 557,
          "date": "2000-06-16T00:00:00"
         },
         {
          "count": 77,
          "date": "2000-06-17T00:00:00"
         },
         {
          "count": 53,
          "date": "2000-06-18T00:00:00"
         },
         {
          "count": 547,
          "date": "2000-06-19T00:00:00"
         },
         {
          "count": 645,
          "date": "2000-06-20T00:00:00"
         },
         {
          "count": 711,
          "date": "2000-06-21T00:00:00"
         },
         {
          "count": 642,
          "date": "2000-06-22T00:00:00"
         },
         {
          "count": 648,
          "date": "2000-06-23T00:00:00"
         },
         {
          "count": 15,
          "date": "2000-06-24T00:00:00"
         },
         {
          "count": 30,
          "date": "2000-06-25T00:00:00"
         },
         {
          "count": 740,
          "date": "2000-06-26T00:00:00"
         },
         {
          "count": 659,
          "date": "2000-06-27T00:00:00"
         },
         {
          "count": 676,
          "date": "2000-06-28T00:00:00"
         },
         {
          "count": 838,
          "date": "2000-06-29T00:00:00"
         },
         {
          "count": 768,
          "date": "2000-06-30T00:00:00"
         },
         {
          "count": 19,
          "date": "2000-07-01T00:00:00"
         },
         {
          "count": 11,
          "date": "2000-07-02T00:00:00"
         },
         {
          "count": 54,
          "date": "2000-07-03T00:00:00"
         },
         {
          "count": 57,
          "date": "2000-07-04T00:00:00"
         },
         {
          "count": 698,
          "date": "2000-07-05T00:00:00"
         },
         {
          "count": 573,
          "date": "2000-07-06T00:00:00"
         },
         {
          "count": 708,
          "date": "2000-07-07T00:00:00"
         },
         {
          "count": 44,
          "date": "2000-07-08T00:00:00"
         },
         {
          "count": 39,
          "date": "2000-07-09T00:00:00"
         },
         {
          "count": 879,
          "date": "2000-07-10T00:00:00"
         },
         {
          "count": 827,
          "date": "2000-07-11T00:00:00"
         },
         {
          "count": 604,
          "date": "2000-07-12T00:00:00"
         },
         {
          "count": 794,
          "date": "2000-07-13T00:00:00"
         },
         {
          "count": 581,
          "date": "2000-07-14T00:00:00"
         },
         {
          "count": 23,
          "date": "2000-07-15T00:00:00"
         },
         {
          "count": 16,
          "date": "2000-07-16T00:00:00"
         },
         {
          "count": 680,
          "date": "2000-07-17T00:00:00"
         },
         {
          "count": 652,
          "date": "2000-07-18T00:00:00"
         },
         {
          "count": 699,
          "date": "2000-07-19T00:00:00"
         },
         {
          "count": 525,
          "date": "2000-07-20T00:00:00"
         },
         {
          "count": 557,
          "date": "2000-07-21T00:00:00"
         },
         {
          "count": 21,
          "date": "2000-07-22T00:00:00"
         },
         {
          "count": 114,
          "date": "2000-07-23T00:00:00"
         },
         {
          "count": 697,
          "date": "2000-07-24T00:00:00"
         },
         {
          "count": 739,
          "date": "2000-07-25T00:00:00"
         },
         {
          "count": 607,
          "date": "2000-07-26T00:00:00"
         },
         {
          "count": 649,
          "date": "2000-07-27T00:00:00"
         },
         {
          "count": 704,
          "date": "2000-07-28T00:00:00"
         },
         {
          "count": 31,
          "date": "2000-07-29T00:00:00"
         },
         {
          "count": 88,
          "date": "2000-07-30T00:00:00"
         },
         {
          "count": 961,
          "date": "2000-07-31T00:00:00"
         },
         {
          "count": 711,
          "date": "2000-08-01T00:00:00"
         },
         {
          "count": 619,
          "date": "2000-08-02T00:00:00"
         },
         {
          "count": 614,
          "date": "2000-08-03T00:00:00"
         },
         {
          "count": 692,
          "date": "2000-08-04T00:00:00"
         },
         {
          "count": 33,
          "date": "2000-08-05T00:00:00"
         },
         {
          "count": 82,
          "date": "2000-08-06T00:00:00"
         },
         {
          "count": 834,
          "date": "2000-08-07T00:00:00"
         },
         {
          "count": 668,
          "date": "2000-08-08T00:00:00"
         },
         {
          "count": 719,
          "date": "2000-08-09T00:00:00"
         },
         {
          "count": 658,
          "date": "2000-08-10T00:00:00"
         },
         {
          "count": 712,
          "date": "2000-08-11T00:00:00"
         },
         {
          "count": 19,
          "date": "2000-08-12T00:00:00"
         },
         {
          "count": 45,
          "date": "2000-08-13T00:00:00"
         },
         {
          "count": 689,
          "date": "2000-08-14T00:00:00"
         },
         {
          "count": 752,
          "date": "2000-08-15T00:00:00"
         },
         {
          "count": 849,
          "date": "2000-08-16T00:00:00"
         },
         {
          "count": 812,
          "date": "2000-08-17T00:00:00"
         },
         {
          "count": 640,
          "date": "2000-08-18T00:00:00"
         },
         {
          "count": 15,
          "date": "2000-08-19T00:00:00"
         },
         {
          "count": 91,
          "date": "2000-08-20T00:00:00"
         },
         {
          "count": 956,
          "date": "2000-08-21T00:00:00"
         },
         {
          "count": 887,
          "date": "2000-08-22T00:00:00"
         },
         {
          "count": 972,
          "date": "2000-08-23T00:00:00"
         },
         {
          "count": 883,
          "date": "2000-08-24T00:00:00"
         },
         {
          "count": 891,
          "date": "2000-08-25T00:00:00"
         },
         {
          "count": 54,
          "date": "2000-08-26T00:00:00"
         },
         {
          "count": 73,
          "date": "2000-08-27T00:00:00"
         },
         {
          "count": 1150,
          "date": "2000-08-28T00:00:00"
         },
         {
          "count": 1094,
          "date": "2000-08-29T00:00:00"
         },
         {
          "count": 914,
          "date": "2000-08-30T00:00:00"
         },
         {
          "count": 911,
          "date": "2000-08-31T00:00:00"
         },
         {
          "count": 860,
          "date": "2000-09-01T00:00:00"
         },
         {
          "count": 21,
          "date": "2000-09-02T00:00:00"
         },
         {
          "count": 38,
          "date": "2000-09-03T00:00:00"
         },
         {
          "count": 90,
          "date": "2000-09-04T00:00:00"
         },
         {
          "count": 958,
          "date": "2000-09-05T00:00:00"
         },
         {
          "count": 1063,
          "date": "2000-09-06T00:00:00"
         },
         {
          "count": 846,
          "date": "2000-09-07T00:00:00"
         },
         {
          "count": 979,
          "date": "2000-09-08T00:00:00"
         },
         {
          "count": 58,
          "date": "2000-09-09T00:00:00"
         },
         {
          "count": 150,
          "date": "2000-09-10T00:00:00"
         },
         {
          "count": 994,
          "date": "2000-09-11T00:00:00"
         },
         {
          "count": 916,
          "date": "2000-09-12T00:00:00"
         },
         {
          "count": 844,
          "date": "2000-09-13T00:00:00"
         },
         {
          "count": 806,
          "date": "2000-09-14T00:00:00"
         },
         {
          "count": 836,
          "date": "2000-09-15T00:00:00"
         },
         {
          "count": 42,
          "date": "2000-09-16T00:00:00"
         },
         {
          "count": 123,
          "date": "2000-09-17T00:00:00"
         },
         {
          "count": 1017,
          "date": "2000-09-18T00:00:00"
         },
         {
          "count": 955,
          "date": "2000-09-19T00:00:00"
         },
         {
          "count": 1134,
          "date": "2000-09-20T00:00:00"
         },
         {
          "count": 890,
          "date": "2000-09-21T00:00:00"
         },
         {
          "count": 806,
          "date": "2000-09-22T00:00:00"
         },
         {
          "count": 40,
          "date": "2000-09-23T00:00:00"
         },
         {
          "count": 100,
          "date": "2000-09-24T00:00:00"
         },
         {
          "count": 1105,
          "date": "2000-09-25T00:00:00"
         },
         {
          "count": 1150,
          "date": "2000-09-26T00:00:00"
         },
         {
          "count": 1140,
          "date": "2000-09-27T00:00:00"
         },
         {
          "count": 934,
          "date": "2000-09-28T00:00:00"
         },
         {
          "count": 970,
          "date": "2000-09-29T00:00:00"
         },
         {
          "count": 64,
          "date": "2000-09-30T00:00:00"
         },
         {
          "count": 102,
          "date": "2000-10-01T00:00:00"
         },
         {
          "count": 1065,
          "date": "2000-10-02T00:00:00"
         },
         {
          "count": 902,
          "date": "2000-10-03T00:00:00"
         },
         {
          "count": 878,
          "date": "2000-10-04T00:00:00"
         },
         {
          "count": 801,
          "date": "2000-10-05T00:00:00"
         },
         {
          "count": 771,
          "date": "2000-10-06T00:00:00"
         },
         {
          "count": 54,
          "date": "2000-10-07T00:00:00"
         },
         {
          "count": 184,
          "date": "2000-10-08T00:00:00"
         },
         {
          "count": 1114,
          "date": "2000-10-09T00:00:00"
         },
         {
          "count": 1222,
          "date": "2000-10-10T00:00:00"
         },
         {
          "count": 1067,
          "date": "2000-10-11T00:00:00"
         },
         {
          "count": 1238,
          "date": "2000-10-12T00:00:00"
         },
         {
          "count": 1008,
          "date": "2000-10-13T00:00:00"
         },
         {
          "count": 67,
          "date": "2000-10-14T00:00:00"
         },
         {
          "count": 88,
          "date": "2000-10-15T00:00:00"
         },
         {
          "count": 1166,
          "date": "2000-10-16T00:00:00"
         },
         {
          "count": 1183,
          "date": "2000-10-17T00:00:00"
         },
         {
          "count": 1093,
          "date": "2000-10-18T00:00:00"
         },
         {
          "count": 918,
          "date": "2000-10-19T00:00:00"
         },
         {
          "count": 880,
          "date": "2000-10-20T00:00:00"
         },
         {
          "count": 61,
          "date": "2000-10-21T00:00:00"
         },
         {
          "count": 83,
          "date": "2000-10-22T00:00:00"
         },
         {
          "count": 1047,
          "date": "2000-10-23T00:00:00"
         },
         {
          "count": 1310,
          "date": "2000-10-24T00:00:00"
         },
         {
          "count": 1417,
          "date": "2000-10-25T00:00:00"
         },
         {
          "count": 1162,
          "date": "2000-10-26T00:00:00"
         },
         {
          "count": 1226,
          "date": "2000-10-27T00:00:00"
         },
         {
          "count": 85,
          "date": "2000-10-28T00:00:00"
         },
         {
          "count": 170,
          "date": "2000-10-29T00:00:00"
         },
         {
          "count": 1293,
          "date": "2000-10-30T00:00:00"
         },
         {
          "count": 1136,
          "date": "2000-10-31T00:00:00"
         },
         {
          "count": 1329,
          "date": "2000-11-01T00:00:00"
         },
         {
          "count": 1190,
          "date": "2000-11-02T00:00:00"
         },
         {
          "count": 958,
          "date": "2000-11-03T00:00:00"
         },
         {
          "count": 76,
          "date": "2000-11-04T00:00:00"
         },
         {
          "count": 123,
          "date": "2000-11-05T00:00:00"
         },
         {
          "count": 1564,
          "date": "2000-11-06T00:00:00"
         },
         {
          "count": 1470,
          "date": "2000-11-07T00:00:00"
         },
         {
          "count": 1257,
          "date": "2000-11-08T00:00:00"
         },
         {
          "count": 1526,
          "date": "2000-11-09T00:00:00"
         },
         {
          "count": 1552,
          "date": "2000-11-10T00:00:00"
         },
         {
          "count": 67,
          "date": "2000-11-11T00:00:00"
         },
         {
          "count": 302,
          "date": "2000-11-12T00:00:00"
         },
         {
          "count": 1872,
          "date": "2000-11-13T00:00:00"
         },
         {
          "count": 1691,
          "date": "2000-11-14T00:00:00"
         },
         {
          "count": 1659,
          "date": "2000-11-15T00:00:00"
         },
         {
          "count": 1662,
          "date": "2000-11-16T00:00:00"
         },
         {
          "count": 1261,
          "date": "2000-11-17T00:00:00"
         },
         {
          "count": 146,
          "date": "2000-11-18T00:00:00"
         },
         {
          "count": 213,
          "date": "2000-11-19T00:00:00"
         },
         {
          "count": 1491,
          "date": "2000-11-20T00:00:00"
         },
         {
          "count": 1463,
          "date": "2000-11-21T00:00:00"
         },
         {
          "count": 1213,
          "date": "2000-11-22T00:00:00"
         },
         {
          "count": 85,
          "date": "2000-11-23T00:00:00"
         },
         {
          "count": 113,
          "date": "2000-11-24T00:00:00"
         },
         {
          "count": 55,
          "date": "2000-11-25T00:00:00"
         },
         {
          "count": 264,
          "date": "2000-11-26T00:00:00"
         },
         {
          "count": 1736,
          "date": "2000-11-27T00:00:00"
         },
         {
          "count": 2144,
          "date": "2000-11-28T00:00:00"
         },
         {
          "count": 2134,
          "date": "2000-11-29T00:00:00"
         },
         {
          "count": 1904,
          "date": "2000-11-30T00:00:00"
         },
         {
          "count": 1744,
          "date": "2000-12-01T00:00:00"
         },
         {
          "count": 162,
          "date": "2000-12-02T00:00:00"
         },
         {
          "count": 278,
          "date": "2000-12-03T00:00:00"
         },
         {
          "count": 2302,
          "date": "2000-12-04T00:00:00"
         },
         {
          "count": 1771,
          "date": "2000-12-05T00:00:00"
         },
         {
          "count": 2168,
          "date": "2000-12-06T00:00:00"
         },
         {
          "count": 2031,
          "date": "2000-12-07T00:00:00"
         },
         {
          "count": 1895,
          "date": "2000-12-08T00:00:00"
         },
         {
          "count": 141,
          "date": "2000-12-09T00:00:00"
         },
         {
          "count": 521,
          "date": "2000-12-10T00:00:00"
         },
         {
          "count": 2492,
          "date": "2000-12-11T00:00:00"
         },
         {
          "count": 3174,
          "date": "2000-12-12T00:00:00"
         },
         {
          "count": 3309,
          "date": "2000-12-13T00:00:00"
         },
         {
          "count": 1220,
          "date": "2000-12-14T00:00:00"
         },
         {
          "count": 943,
          "date": "2000-12-15T00:00:00"
         },
         {
          "count": 35,
          "date": "2000-12-16T00:00:00"
         },
         {
          "count": 146,
          "date": "2000-12-17T00:00:00"
         },
         {
          "count": 1104,
          "date": "2000-12-18T00:00:00"
         },
         {
          "count": 1131,
          "date": "2000-12-19T00:00:00"
         },
         {
          "count": 1149,
          "date": "2000-12-20T00:00:00"
         },
         {
          "count": 894,
          "date": "2000-12-21T00:00:00"
         },
         {
          "count": 805,
          "date": "2000-12-22T00:00:00"
         },
         {
          "count": 26,
          "date": "2000-12-23T00:00:00"
         },
         {
          "count": 20,
          "date": "2000-12-24T00:00:00"
         },
         {
          "count": 36,
          "date": "2000-12-25T00:00:00"
         },
         {
          "count": 212,
          "date": "2000-12-26T00:00:00"
         },
         {
          "count": 626,
          "date": "2000-12-27T00:00:00"
         },
         {
          "count": 577,
          "date": "2000-12-28T00:00:00"
         },
         {
          "count": 345,
          "date": "2000-12-29T00:00:00"
         },
         {
          "count": 18,
          "date": "2000-12-30T00:00:00"
         },
         {
          "count": 12,
          "date": "2000-12-31T00:00:00"
         },
         {
          "count": 143,
          "date": "2001-01-01T00:00:00"
         },
         {
          "count": 1063,
          "date": "2001-01-02T00:00:00"
         },
         {
          "count": 1169,
          "date": "2001-01-03T00:00:00"
         },
         {
          "count": 988,
          "date": "2001-01-04T00:00:00"
         },
         {
          "count": 1052,
          "date": "2001-01-05T00:00:00"
         },
         {
          "count": 32,
          "date": "2001-01-06T00:00:00"
         },
         {
          "count": 154,
          "date": "2001-01-07T00:00:00"
         },
         {
          "count": 1035,
          "date": "2001-01-08T00:00:00"
         },
         {
          "count": 854,
          "date": "2001-01-09T00:00:00"
         },
         {
          "count": 1022,
          "date": "2001-01-10T00:00:00"
         },
         {
          "count": 974,
          "date": "2001-01-11T00:00:00"
         },
         {
          "count": 1029,
          "date": "2001-01-12T00:00:00"
         },
         {
          "count": 119,
          "date": "2001-01-13T00:00:00"
         },
         {
          "count": 83,
          "date": "2001-01-14T00:00:00"
         },
         {
          "count": 220,
          "date": "2001-01-15T00:00:00"
         },
         {
          "count": 1120,
          "date": "2001-01-16T00:00:00"
         },
         {
          "count": 1155,
          "date": "2001-01-17T00:00:00"
         },
         {
          "count": 943,
          "date": "2001-01-18T00:00:00"
         },
         {
          "count": 878,
          "date": "2001-01-19T00:00:00"
         },
         {
          "count": 112,
          "date": "2001-01-20T00:00:00"
         },
         {
          "count": 275,
          "date": "2001-01-21T00:00:00"
         },
         {
          "count": 1102,
          "date": "2001-01-22T00:00:00"
         },
         {
          "count": 1248,
          "date": "2001-01-23T00:00:00"
         },
         {
          "count": 1223,
          "date": "2001-01-24T00:00:00"
         },
         {
          "count": 1000,
          "date": "2001-01-25T00:00:00"
         },
         {
          "count": 1171,
          "date": "2001-01-26T00:00:00"
         },
         {
          "count": 47,
          "date": "2001-01-27T00:00:00"
         },
         {
          "count": 135,
          "date": "2001-01-28T00:00:00"
         },
         {
          "count": 1230,
          "date": "2001-01-29T00:00:00"
         },
         {
          "count": 1239,
          "date": "2001-01-30T00:00:00"
         },
         {
          "count": 1308,
          "date": "2001-01-31T00:00:00"
         },
         {
          "count": 973,
          "date": "2001-02-01T00:00:00"
         },
         {
          "count": 1043,
          "date": "2001-02-02T00:00:00"
         },
         {
          "count": 38,
          "date": "2001-02-03T00:00:00"
         },
         {
          "count": 202,
          "date": "2001-02-04T00:00:00"
         },
         {
          "count": 1151,
          "date": "2001-02-05T00:00:00"
         },
         {
          "count": 1487,
          "date": "2001-02-06T00:00:00"
         },
         {
          "count": 1228,
          "date": "2001-02-07T00:00:00"
         },
         {
          "count": 966,
          "date": "2001-02-08T00:00:00"
         },
         {
          "count": 1104,
          "date": "2001-02-09T00:00:00"
         },
         {
          "count": 32,
          "date": "2001-02-10T00:00:00"
         },
         {
          "count": 148,
          "date": "2001-02-11T00:00:00"
         },
         {
          "count": 1165,
          "date": "2001-02-12T00:00:00"
         },
         {
          "count": 989,
          "date": "2001-02-13T00:00:00"
         },
         {
          "count": 1109,
          "date": "2001-02-14T00:00:00"
         },
         {
          "count": 1265,
          "date": "2001-02-15T00:00:00"
         },
         {
          "count": 1014,
          "date": "2001-02-16T00:00:00"
         },
         {
          "count": 34,
          "date": "2001-02-17T00:00:00"
         },
         {
          "count": 82,
          "date": "2001-02-18T00:00:00"
         },
         {
          "count": 232,
          "date": "2001-02-19T00:00:00"
         },
         {
          "count": 1255,
          "date": "2001-02-20T00:00:00"
         },
         {
          "count": 1240,
          "date": "2001-02-21T00:00:00"
         },
         {
          "count": 1202,
          "date": "2001-02-22T00:00:00"
         },
         {
          "count": 1013,
          "date": "2001-02-23T00:00:00"
         },
         {
          "count": 37,
          "date": "2001-02-24T00:00:00"
         },
         {
          "count": 135,
          "date": "2001-02-25T00:00:00"
         },
         {
          "count": 1239,
          "date": "2001-02-26T00:00:00"
         },
         {
          "count": 1223,
          "date": "2001-02-27T00:00:00"
         },
         {
          "count": 1533,
          "date": "2001-02-28T00:00:00"
         },
         {
          "count": 1116,
          "date": "2001-03-01T00:00:00"
         },
         {
          "count": 1076,
          "date": "2001-03-02T00:00:00"
         },
         {
          "count": 125,
          "date": "2001-03-03T00:00:00"
         },
         {
          "count": 203,
          "date": "2001-03-04T00:00:00"
         },
         {
          "count": 1123,
          "date": "2001-03-05T00:00:00"
         },
         {
          "count": 1420,
          "date": "2001-03-06T00:00:00"
         },
         {
          "count": 1284,
          "date": "2001-03-07T00:00:00"
         },
         {
          "count": 1300,
          "date": "2001-03-08T00:00:00"
         },
         {
          "count": 1049,
          "date": "2001-03-09T00:00:00"
         },
         {
          "count": 73,
          "date": "2001-03-10T00:00:00"
         },
         {
          "count": 46,
          "date": "2001-03-11T00:00:00"
         },
         {
          "count": 1329,
          "date": "2001-03-12T00:00:00"
         },
         {
          "count": 1139,
          "date": "2001-03-13T00:00:00"
         },
         {
          "count": 1282,
          "date": "2001-03-14T00:00:00"
         },
         {
          "count": 1267,
          "date": "2001-03-15T00:00:00"
         },
         {
          "count": 1139,
          "date": "2001-03-16T00:00:00"
         },
         {
          "count": 22,
          "date": "2001-03-17T00:00:00"
         },
         {
          "count": 197,
          "date": "2001-03-18T00:00:00"
         },
         {
          "count": 1368,
          "date": "2001-03-19T00:00:00"
         },
         {
          "count": 1445,
          "date": "2001-03-20T00:00:00"
         },
         {
          "count": 1366,
          "date": "2001-03-21T00:00:00"
         },
         {
          "count": 1204,
          "date": "2001-03-22T00:00:00"
         },
         {
          "count": 1504,
          "date": "2001-03-23T00:00:00"
         },
         {
          "count": 58,
          "date": "2001-03-24T00:00:00"
         },
         {
          "count": 276,
          "date": "2001-03-25T00:00:00"
         },
         {
          "count": 1118,
          "date": "2001-03-26T00:00:00"
         },
         {
          "count": 986,
          "date": "2001-03-27T00:00:00"
         },
         {
          "count": 1338,
          "date": "2001-03-28T00:00:00"
         },
         {
          "count": 1172,
          "date": "2001-03-29T00:00:00"
         },
         {
          "count": 1232,
          "date": "2001-03-30T00:00:00"
         },
         {
          "count": 182,
          "date": "2001-03-31T00:00:00"
         },
         {
          "count": 175,
          "date": "2001-04-01T00:00:00"
         },
         {
          "count": 1473,
          "date": "2001-04-02T00:00:00"
         },
         {
          "count": 1327,
          "date": "2001-04-03T00:00:00"
         },
         {
          "count": 1514,
          "date": "2001-04-04T00:00:00"
         },
         {
          "count": 1386,
          "date": "2001-04-05T00:00:00"
         },
         {
          "count": 1077,
          "date": "2001-04-06T00:00:00"
         },
         {
          "count": 121,
          "date": "2001-04-07T00:00:00"
         },
         {
          "count": 186,
          "date": "2001-04-08T00:00:00"
         },
         {
          "count": 1819,
          "date": "2001-04-09T00:00:00"
         },
         {
          "count": 1655,
          "date": "2001-04-10T00:00:00"
         },
         {
          "count": 1710,
          "date": "2001-04-11T00:00:00"
         },
         {
          "count": 1425,
          "date": "2001-04-12T00:00:00"
         },
         {
          "count": 812,
          "date": "2001-04-13T00:00:00"
         },
         {
          "count": 174,
          "date": "2001-04-14T00:00:00"
         },
         {
          "count": 344,
          "date": "2001-04-15T00:00:00"
         },
         {
          "count": 1531,
          "date": "2001-04-16T00:00:00"
         },
         {
          "count": 1676,
          "date": "2001-04-17T00:00:00"
         },
         {
          "count": 1695,
          "date": "2001-04-18T00:00:00"
         },
         {
          "count": 1859,
          "date": "2001-04-19T00:00:00"
         },
         {
          "count": 1561,
          "date": "2001-04-20T00:00:00"
         },
         {
          "count": 283,
          "date": "2001-04-21T00:00:00"
         },
         {
          "count": 447,
          "date": "2001-04-22T00:00:00"
         },
         {
          "count": 1862,
          "date": "2001-04-23T00:00:00"
         },
         {
          "count": 2051,
          "date": "2001-04-24T00:00:00"
         },
         {
          "count": 1981,
          "date": "2001-04-25T00:00:00"
         },
         {
          "count": 1574,
          "date": "2001-04-26T00:00:00"
         },
         {
          "count": 1664,
          "date": "2001-04-27T00:00:00"
         },
         {
          "count": 268,
          "date": "2001-04-28T00:00:00"
         },
         {
          "count": 437,
          "date": "2001-04-29T00:00:00"
         },
         {
          "count": 1908,
          "date": "2001-04-30T00:00:00"
         },
         {
          "count": 2025,
          "date": "2001-05-01T00:00:00"
         },
         {
          "count": 1527,
          "date": "2001-05-02T00:00:00"
         },
         {
          "count": 898,
          "date": "2001-05-03T00:00:00"
         },
         {
          "count": 1362,
          "date": "2001-05-04T00:00:00"
         },
         {
          "count": 60,
          "date": "2001-05-05T00:00:00"
         },
         {
          "count": 224,
          "date": "2001-05-06T00:00:00"
         },
         {
          "count": 1561,
          "date": "2001-05-07T00:00:00"
         },
         {
          "count": 1597,
          "date": "2001-05-08T00:00:00"
         },
         {
          "count": 1472,
          "date": "2001-05-09T00:00:00"
         },
         {
          "count": 1757,
          "date": "2001-05-10T00:00:00"
         },
         {
          "count": 1783,
          "date": "2001-05-11T00:00:00"
         },
         {
          "count": 71,
          "date": "2001-05-12T00:00:00"
         },
         {
          "count": 413,
          "date": "2001-05-13T00:00:00"
         },
         {
          "count": 2001,
          "date": "2001-05-14T00:00:00"
         },
         {
          "count": 1845,
          "date": "2001-05-15T00:00:00"
         },
         {
          "count": 1562,
          "date": "2001-05-16T00:00:00"
         },
         {
          "count": 1545,
          "date": "2001-05-17T00:00:00"
         },
         {
          "count": 1053,
          "date": "2001-05-18T00:00:00"
         },
         {
          "count": 52,
          "date": "2001-05-19T00:00:00"
         },
         {
          "count": 222,
          "date": "2001-05-20T00:00:00"
         },
         {
          "count": 1444,
          "date": "2001-05-21T00:00:00"
         },
         {
          "count": 1513,
          "date": "2001-05-22T00:00:00"
         },
         {
          "count": 1594,
          "date": "2001-05-23T00:00:00"
         },
         {
          "count": 1558,
          "date": "2001-05-24T00:00:00"
         },
         {
          "count": 1193,
          "date": "2001-05-25T00:00:00"
         },
         {
          "count": 33,
          "date": "2001-05-26T00:00:00"
         },
         {
          "count": 60,
          "date": "2001-05-27T00:00:00"
         },
         {
          "count": 172,
          "date": "2001-05-28T00:00:00"
         },
         {
          "count": 1695,
          "date": "2001-05-29T00:00:00"
         },
         {
          "count": 1488,
          "date": "2001-05-30T00:00:00"
         },
         {
          "count": 1898,
          "date": "2001-05-31T00:00:00"
         },
         {
          "count": 1593,
          "date": "2001-06-01T00:00:00"
         },
         {
          "count": 96,
          "date": "2001-06-02T00:00:00"
         },
         {
          "count": 141,
          "date": "2001-06-03T00:00:00"
         },
         {
          "count": 1498,
          "date": "2001-06-04T00:00:00"
         },
         {
          "count": 1731,
          "date": "2001-06-05T00:00:00"
         },
         {
          "count": 1873,
          "date": "2001-06-06T00:00:00"
         },
         {
          "count": 2182,
          "date": "2001-06-07T00:00:00"
         },
         {
          "count": 960,
          "date": "2001-06-08T00:00:00"
         },
         {
          "count": 20,
          "date": "2001-06-09T00:00:00"
         },
         {
          "count": 71,
          "date": "2001-06-10T00:00:00"
         },
         {
          "count": 601,
          "date": "2001-06-11T00:00:00"
         },
         {
          "count": 456,
          "date": "2001-06-12T00:00:00"
         },
         {
          "count": 451,
          "date": "2001-06-13T00:00:00"
         },
         {
          "count": 357,
          "date": "2001-06-14T00:00:00"
         },
         {
          "count": 321,
          "date": "2001-06-15T00:00:00"
         },
         {
          "count": 37,
          "date": "2001-06-16T00:00:00"
         },
         {
          "count": 78,
          "date": "2001-06-17T00:00:00"
         },
         {
          "count": 471,
          "date": "2001-06-18T00:00:00"
         },
         {
          "count": 412,
          "date": "2001-06-19T00:00:00"
         },
         {
          "count": 464,
          "date": "2001-06-20T00:00:00"
         },
         {
          "count": 614,
          "date": "2001-06-21T00:00:00"
         },
         {
          "count": 362,
          "date": "2001-06-22T00:00:00"
         },
         {
          "count": 15,
          "date": "2001-06-23T00:00:00"
         },
         {
          "count": 72,
          "date": "2001-06-24T00:00:00"
         },
         {
          "count": 415,
          "date": "2001-06-25T00:00:00"
         },
         {
          "count": 1136,
          "date": "2001-06-26T00:00:00"
         },
         {
          "count": 1423,
          "date": "2001-06-27T00:00:00"
         },
         {
          "count": 321,
          "date": "2001-06-28T00:00:00"
         },
         {
          "count": 281,
          "date": "2001-06-29T00:00:00"
         },
         {
          "count": 33,
          "date": "2001-06-30T00:00:00"
         },
         {
          "count": 77,
          "date": "2001-07-01T00:00:00"
         },
         {
          "count": 388,
          "date": "2001-07-02T00:00:00"
         },
         {
          "count": 361,
          "date": "2001-07-03T00:00:00"
         },
         {
          "count": 54,
          "date": "2001-07-04T00:00:00"
         },
         {
          "count": 462,
          "date": "2001-07-05T00:00:00"
         },
         {
          "count": 470,
          "date": "2001-07-06T00:00:00"
         },
         {
          "count": 48,
          "date": "2001-07-07T00:00:00"
         },
         {
          "count": 123,
          "date": "2001-07-08T00:00:00"
         },
         {
          "count": 469,
          "date": "2001-07-09T00:00:00"
         },
         {
          "count": 581,
          "date": "2001-07-10T00:00:00"
         },
         {
          "count": 542,
          "date": "2001-07-11T00:00:00"
         },
         {
          "count": 413,
          "date": "2001-07-12T00:00:00"
         },
         {
          "count": 491,
          "date": "2001-07-13T00:00:00"
         },
         {
          "count": 46,
          "date": "2001-07-14T00:00:00"
         },
         {
          "count": 26,
          "date": "2001-07-15T00:00:00"
         },
         {
          "count": 448,
          "date": "2001-07-16T00:00:00"
         },
         {
          "count": 489,
          "date": "2001-07-17T00:00:00"
         },
         {
          "count": 493,
          "date": "2001-07-18T00:00:00"
         },
         {
          "count": 570,
          "date": "2001-07-19T00:00:00"
         },
         {
          "count": 345,
          "date": "2001-07-20T00:00:00"
         },
         {
          "count": 31,
          "date": "2001-07-21T00:00:00"
         },
         {
          "count": 27,
          "date": "2001-07-22T00:00:00"
         },
         {
          "count": 407,
          "date": "2001-07-23T00:00:00"
         },
         {
          "count": 429,
          "date": "2001-07-24T00:00:00"
         },
         {
          "count": 342,
          "date": "2001-07-25T00:00:00"
         },
         {
          "count": 555,
          "date": "2001-07-26T00:00:00"
         },
         {
          "count": 357,
          "date": "2001-07-27T00:00:00"
         },
         {
          "count": 21,
          "date": "2001-07-28T00:00:00"
         },
         {
          "count": 27,
          "date": "2001-07-29T00:00:00"
         },
         {
          "count": 673,
          "date": "2001-07-30T00:00:00"
         },
         {
          "count": 453,
          "date": "2001-07-31T00:00:00"
         },
         {
          "count": 354,
          "date": "2001-08-01T00:00:00"
         },
         {
          "count": 317,
          "date": "2001-08-02T00:00:00"
         },
         {
          "count": 261,
          "date": "2001-08-03T00:00:00"
         },
         {
          "count": 8,
          "date": "2001-08-04T00:00:00"
         },
         {
          "count": 22,
          "date": "2001-08-05T00:00:00"
         },
         {
          "count": 344,
          "date": "2001-08-06T00:00:00"
         },
         {
          "count": 374,
          "date": "2001-08-07T00:00:00"
         },
         {
          "count": 293,
          "date": "2001-08-08T00:00:00"
         },
         {
          "count": 393,
          "date": "2001-08-09T00:00:00"
         },
         {
          "count": 324,
          "date": "2001-08-10T00:00:00"
         },
         {
          "count": 10,
          "date": "2001-08-11T00:00:00"
         },
         {
          "count": 94,
          "date": "2001-08-12T00:00:00"
         },
         {
          "count": 420,
          "date": "2001-08-13T00:00:00"
         },
         {
          "count": 482,
          "date": "2001-08-14T00:00:00"
         },
         {
          "count": 335,
          "date": "2001-08-15T00:00:00"
         },
         {
          "count": 325,
          "date": "2001-08-16T00:00:00"
         },
         {
          "count": 277,
          "date": "2001-08-17T00:00:00"
         },
         {
          "count": 35,
          "date": "2001-08-18T00:00:00"
         },
         {
          "count": 55,
          "date": "2001-08-19T00:00:00"
         },
         {
          "count": 418,
          "date": "2001-08-20T00:00:00"
         },
         {
          "count": 420,
          "date": "2001-08-21T00:00:00"
         },
         {
          "count": 360,
          "date": "2001-08-22T00:00:00"
         },
         {
          "count": 401,
          "date": "2001-08-23T00:00:00"
         },
         {
          "count": 340,
          "date": "2001-08-24T00:00:00"
         },
         {
          "count": 43,
          "date": "2001-08-25T00:00:00"
         },
         {
          "count": 76,
          "date": "2001-08-26T00:00:00"
         },
         {
          "count": 438,
          "date": "2001-08-27T00:00:00"
         },
         {
          "count": 495,
          "date": "2001-08-28T00:00:00"
         },
         {
          "count": 400,
          "date": "2001-08-29T00:00:00"
         },
         {
          "count": 457,
          "date": "2001-08-30T00:00:00"
         },
         {
          "count": 324,
          "date": "2001-08-31T00:00:00"
         },
         {
          "count": 17,
          "date": "2001-09-01T00:00:00"
         },
         {
          "count": 14,
          "date": "2001-09-02T00:00:00"
         },
         {
          "count": 44,
          "date": "2001-09-03T00:00:00"
         },
         {
          "count": 450,
          "date": "2001-09-04T00:00:00"
         },
         {
          "count": 470,
          "date": "2001-09-05T00:00:00"
         },
         {
          "count": 419,
          "date": "2001-09-06T00:00:00"
         },
         {
          "count": 380,
          "date": "2001-09-07T00:00:00"
         },
         {
          "count": 27,
          "date": "2001-09-08T00:00:00"
         },
         {
          "count": 43,
          "date": "2001-09-09T00:00:00"
         },
         {
          "count": 523,
          "date": "2001-09-10T00:00:00"
         },
         {
          "count": 184,
          "date": "2001-09-11T00:00:00"
         },
         {
          "count": 468,
          "date": "2001-09-12T00:00:00"
         },
         {
          "count": 460,
          "date": "2001-09-13T00:00:00"
         },
         {
          "count": 404,
          "date": "2001-09-14T00:00:00"
         },
         {
          "count": 44,
          "date": "2001-09-15T00:00:00"
         },
         {
          "count": 50,
          "date": "2001-09-16T00:00:00"
         },
         {
          "count": 525,
          "date": "2001-09-17T00:00:00"
         },
         {
          "count": 593,
          "date": "2001-09-18T00:00:00"
         },
         {
          "count": 685,
          "date": "2001-09-19T00:00:00"
         },
         {
          "count": 511,
          "date": "2001-09-20T00:00:00"
         },
         {
          "count": 495,
          "date": "2001-09-21T00:00:00"
         },
         {
          "count": 28,
          "date": "2001-09-22T00:00:00"
         },
         {
          "count": 57,
          "date": "2001-09-23T00:00:00"
         },
         {
          "count": 657,
          "date": "2001-09-24T00:00:00"
         },
         {
          "count": 840,
          "date": "2001-09-25T00:00:00"
         },
         {
          "count": 788,
          "date": "2001-09-26T00:00:00"
         },
         {
          "count": 939,
          "date": "2001-09-27T00:00:00"
         },
         {
          "count": 652,
          "date": "2001-09-28T00:00:00"
         },
         {
          "count": 28,
          "date": "2001-09-29T00:00:00"
         },
         {
          "count": 62,
          "date": "2001-09-30T00:00:00"
         },
         {
          "count": 928,
          "date": "2001-10-01T00:00:00"
         },
         {
          "count": 870,
          "date": "2001-10-02T00:00:00"
         },
         {
          "count": 744,
          "date": "2001-10-03T00:00:00"
         },
         {
          "count": 733,
          "date": "2001-10-04T00:00:00"
         },
         {
          "count": 757,
          "date": "2001-10-05T00:00:00"
         },
         {
          "count": 61,
          "date": "2001-10-06T00:00:00"
         },
         {
          "count": 105,
          "date": "2001-10-07T00:00:00"
         },
         {
          "count": 937,
          "date": "2001-10-08T00:00:00"
         },
         {
          "count": 1022,
          "date": "2001-10-09T00:00:00"
         },
         {
          "count": 948,
          "date": "2001-10-10T00:00:00"
         },
         {
          "count": 865,
          "date": "2001-10-11T00:00:00"
         },
         {
          "count": 907,
          "date": "2001-10-12T00:00:00"
         },
         {
          "count": 96,
          "date": "2001-10-13T00:00:00"
         },
         {
          "count": 155,
          "date": "2001-10-14T00:00:00"
         },
         {
          "count": 1478,
          "date": "2001-10-15T00:00:00"
         },
         {
          "count": 1667,
          "date": "2001-10-16T00:00:00"
         },
         {
          "count": 1683,
          "date": "2001-10-17T00:00:00"
         },
         {
          "count": 2335,
          "date": "2001-10-18T00:00:00"
         },
         {
          "count": 1909,
          "date": "2001-10-19T00:00:00"
         },
         {
          "count": 199,
          "date": "2001-10-20T00:00:00"
         },
         {
          "count": 270,
          "date": "2001-10-21T00:00:00"
         },
         {
          "count": 2862,
          "date": "2001-10-22T00:00:00"
         },
         {
          "count": 2395,
          "date": "2001-10-23T00:00:00"
         },
         {
          "count": 2587,
          "date": "2001-10-24T00:00:00"
         },
         {
          "count": 2918,
          "date": "2001-10-25T00:00:00"
         },
         {
          "count": 2554,
          "date": "2001-10-26T00:00:00"
         },
         {
          "count": 252,
          "date": "2001-10-27T00:00:00"
         },
         {
          "count": 432,
          "date": "2001-10-28T00:00:00"
         },
         {
          "count": 2633,
          "date": "2001-10-29T00:00:00"
         },
         {
          "count": 824,
          "date": "2001-10-30T00:00:00"
         },
         {
          "count": 965,
          "date": "2001-10-31T00:00:00"
         },
         {
          "count": 876,
          "date": "2001-11-01T00:00:00"
         },
         {
          "count": 881,
          "date": "2001-11-02T00:00:00"
         },
         {
          "count": 58,
          "date": "2001-11-03T00:00:00"
         },
         {
          "count": 68,
          "date": "2001-11-04T00:00:00"
         },
         {
          "count": 1030,
          "date": "2001-11-05T00:00:00"
         },
         {
          "count": 994,
          "date": "2001-11-06T00:00:00"
         },
         {
          "count": 955,
          "date": "2001-11-07T00:00:00"
         },
         {
          "count": 848,
          "date": "2001-11-08T00:00:00"
         },
         {
          "count": 795,
          "date": "2001-11-09T00:00:00"
         },
         {
          "count": 26,
          "date": "2001-11-10T00:00:00"
         },
         {
          "count": 69,
          "date": "2001-11-11T00:00:00"
         },
         {
          "count": 956,
          "date": "2001-11-12T00:00:00"
         },
         {
          "count": 1114,
          "date": "2001-11-13T00:00:00"
         },
         {
          "count": 1334,
          "date": "2001-11-14T00:00:00"
         },
         {
          "count": 1283,
          "date": "2001-11-15T00:00:00"
         },
         {
          "count": 1406,
          "date": "2001-11-16T00:00:00"
         },
         {
          "count": 255,
          "date": "2001-11-17T00:00:00"
         },
         {
          "count": 364,
          "date": "2001-11-18T00:00:00"
         },
         {
          "count": 2813,
          "date": "2001-11-19T00:00:00"
         },
         {
          "count": 2381,
          "date": "2001-11-20T00:00:00"
         },
         {
          "count": 2015,
          "date": "2001-11-21T00:00:00"
         },
         {
          "count": 204,
          "date": "2001-11-22T00:00:00"
         },
         {
          "count": 306,
          "date": "2001-11-23T00:00:00"
         },
         {
          "count": 176,
          "date": "2001-11-24T00:00:00"
         },
         {
          "count": 430,
          "date": "2001-11-25T00:00:00"
         },
         {
          "count": 2749,
          "date": "2001-11-26T00:00:00"
         },
         {
          "count": 2435,
          "date": "2001-11-27T00:00:00"
         },
         {
          "count": 563,
          "date": "2001-11-28T00:00:00"
         },
         {
          "count": 596,
          "date": "2001-11-29T00:00:00"
         },
         {
          "count": 548,
          "date": "2001-11-30T00:00:00"
         },
         {
          "count": 53,
          "date": "2001-12-01T00:00:00"
         },
         {
          "count": 120,
          "date": "2001-12-02T00:00:00"
         },
         {
          "count": 432,
          "date": "2001-12-03T00:00:00"
         },
         {
          "count": 468,
          "date": "2001-12-04T00:00:00"
         },
         {
          "count": 375,
          "date": "2001-12-05T00:00:00"
         },
         {
          "count": 407,
          "date": "2001-12-06T00:00:00"
         },
         {
          "count": 373,
          "date": "2001-12-07T00:00:00"
         },
         {
          "count": 33,
          "date": "2001-12-08T00:00:00"
         },
         {
          "count": 76,
          "date": "2001-12-09T00:00:00"
         },
         {
          "count": 432,
          "date": "2001-12-10T00:00:00"
         },
         {
          "count": 518,
          "date": "2001-12-11T00:00:00"
         },
         {
          "count": 549,
          "date": "2001-12-12T00:00:00"
         },
         {
          "count": 585,
          "date": "2001-12-13T00:00:00"
         },
         {
          "count": 390,
          "date": "2001-12-14T00:00:00"
         },
         {
          "count": 62,
          "date": "2001-12-15T00:00:00"
         },
         {
          "count": 70,
          "date": "2001-12-16T00:00:00"
         },
         {
          "count": 627,
          "date": "2001-12-17T00:00:00"
         },
         {
          "count": 401,
          "date": "2001-12-18T00:00:00"
         },
         {
          "count": 771,
          "date": "2001-12-19T00:00:00"
         },
         {
          "count": 651,
          "date": "2001-12-20T00:00:00"
         },
         {
          "count": 551,
          "date": "2001-12-21T00:00:00"
         },
         {
          "count": 143,
          "date": "2001-12-22T00:00:00"
         },
         {
          "count": 135,
          "date": "2001-12-23T00:00:00"
         },
         {
          "count": 196,
          "date": "2001-12-24T00:00:00"
         },
         {
          "count": 130,
          "date": "2001-12-25T00:00:00"
         },
         {
          "count": 514,
          "date": "2001-12-26T00:00:00"
         },
         {
          "count": 758,
          "date": "2001-12-27T00:00:00"
         },
         {
          "count": 672,
          "date": "2001-12-28T00:00:00"
         },
         {
          "count": 157,
          "date": "2001-12-29T00:00:00"
         },
         {
          "count": 153,
          "date": "2001-12-30T00:00:00"
         },
         {
          "count": 516,
          "date": "2001-12-31T00:00:00"
         },
         {
          "count": 162,
          "date": "2002-01-01T00:00:00"
         },
         {
          "count": 627,
          "date": "2002-01-02T00:00:00"
         },
         {
          "count": 599,
          "date": "2002-01-03T00:00:00"
         },
         {
          "count": 638,
          "date": "2002-01-04T00:00:00"
         },
         {
          "count": 150,
          "date": "2002-01-05T00:00:00"
         },
         {
          "count": 124,
          "date": "2002-01-06T00:00:00"
         },
         {
          "count": 729,
          "date": "2002-01-07T00:00:00"
         },
         {
          "count": 744,
          "date": "2002-01-08T00:00:00"
         },
         {
          "count": 878,
          "date": "2002-01-09T00:00:00"
         },
         {
          "count": 984,
          "date": "2002-01-10T00:00:00"
         },
         {
          "count": 813,
          "date": "2002-01-11T00:00:00"
         },
         {
          "count": 177,
          "date": "2002-01-12T00:00:00"
         },
         {
          "count": 186,
          "date": "2002-01-13T00:00:00"
         },
         {
          "count": 869,
          "date": "2002-01-14T00:00:00"
         },
         {
          "count": 819,
          "date": "2002-01-15T00:00:00"
         },
         {
          "count": 991,
          "date": "2002-01-16T00:00:00"
         },
         {
          "count": 833,
          "date": "2002-01-17T00:00:00"
         },
         {
          "count": 729,
          "date": "2002-01-18T00:00:00"
         },
         {
          "count": 146,
          "date": "2002-01-19T00:00:00"
         },
         {
          "count": 169,
          "date": "2002-01-20T00:00:00"
         },
         {
          "count": 365,
          "date": "2002-01-21T00:00:00"
         },
         {
          "count": 1008,
          "date": "2002-01-22T00:00:00"
         },
         {
          "count": 918,
          "date": "2002-01-23T00:00:00"
         },
         {
          "count": 786,
          "date": "2002-01-24T00:00:00"
         },
         {
          "count": 818,
          "date": "2002-01-25T00:00:00"
         },
         {
          "count": 156,
          "date": "2002-01-26T00:00:00"
         },
         {
          "count": 184,
          "date": "2002-01-27T00:00:00"
         },
         {
          "count": 896,
          "date": "2002-01-28T00:00:00"
         },
         {
          "count": 1170,
          "date": "2002-01-29T00:00:00"
         },
         {
          "count": 2282,
          "date": "2002-01-30T00:00:00"
         },
         {
          "count": 1154,
          "date": "2002-01-31T00:00:00"
         },
         {
          "count": 893,
          "date": "2002-02-01T00:00:00"
         },
         {
          "count": 148,
          "date": "2002-02-02T00:00:00"
         },
         {
          "count": 180,
          "date": "2002-02-03T00:00:00"
         },
         {
          "count": 1094,
          "date": "2002-02-04T00:00:00"
         },
         {
          "count": 1143,
          "date": "2002-02-05T00:00:00"
         },
         {
          "count": 1153,
          "date": "2002-02-06T00:00:00"
         },
         {
          "count": 242,
          "date": "2002-02-07T00:00:00"
         },
         {
          "count": 169,
          "date": "2002-02-08T00:00:00"
         },
         {
          "count": 18,
          "date": "2002-02-09T00:00:00"
         },
         {
          "count": 16,
          "date": "2002-02-10T00:00:00"
         },
         {
          "count": 214,
          "date": "2002-02-11T00:00:00"
         },
         {
          "count": 287,
          "date": "2002-02-12T00:00:00"
         },
         {
          "count": 225,
          "date": "2002-02-13T00:00:00"
         },
         {
          "count": 247,
          "date": "2002-02-14T00:00:00"
         },
         {
          "count": 175,
          "date": "2002-02-15T00:00:00"
         },
         {
          "count": 5,
          "date": "2002-02-16T00:00:00"
         },
         {
          "count": 13,
          "date": "2002-02-17T00:00:00"
         },
         {
          "count": 30,
          "date": "2002-02-18T00:00:00"
         },
         {
          "count": 209,
          "date": "2002-02-19T00:00:00"
         },
         {
          "count": 160,
          "date": "2002-02-20T00:00:00"
         },
         {
          "count": 179,
          "date": "2002-02-21T00:00:00"
         },
         {
          "count": 207,
          "date": "2002-02-22T00:00:00"
         },
         {
          "count": 8,
          "date": "2002-02-23T00:00:00"
         },
         {
          "count": 24,
          "date": "2002-02-24T00:00:00"
         },
         {
          "count": 276,
          "date": "2002-02-25T00:00:00"
         },
         {
          "count": 246,
          "date": "2002-02-26T00:00:00"
         },
         {
          "count": 255,
          "date": "2002-02-27T00:00:00"
         },
         {
          "count": 249,
          "date": "2002-02-28T00:00:00"
         },
         {
          "count": 222,
          "date": "2002-03-01T00:00:00"
         },
         {
          "count": 8,
          "date": "2002-03-02T00:00:00"
         },
         {
          "count": 16,
          "date": "2002-03-03T00:00:00"
         },
         {
          "count": 204,
          "date": "2002-03-04T00:00:00"
         },
         {
          "count": 158,
          "date": "2002-03-05T00:00:00"
         },
         {
          "count": 222,
          "date": "2002-03-06T00:00:00"
         },
         {
          "count": 216,
          "date": "2002-03-07T00:00:00"
         },
         {
          "count": 241,
          "date": "2002-03-08T00:00:00"
         },
         {
          "count": 6,
          "date": "2002-03-09T00:00:00"
         },
         {
          "count": 20,
          "date": "2002-03-10T00:00:00"
         },
         {
          "count": 137,
          "date": "2002-03-11T00:00:00"
         },
         {
          "count": 193,
          "date": "2002-03-12T00:00:00"
         },
         {
          "count": 141,
          "date": "2002-03-13T00:00:00"
         },
         {
          "count": 197,
          "date": "2002-03-14T00:00:00"
         },
         {
          "count": 119,
          "date": "2002-03-15T00:00:00"
         },
         {
          "count": 5,
          "date": "2002-03-16T00:00:00"
         },
         {
          "count": 10,
          "date": "2002-03-17T00:00:00"
         },
         {
          "count": 137,
          "date": "2002-03-18T00:00:00"
         },
         {
          "count": 166,
          "date": "2002-03-19T00:00:00"
         },
         {
          "count": 193,
          "date": "2002-03-20T00:00:00"
         },
         {
          "count": 167,
          "date": "2002-03-21T00:00:00"
         },
         {
          "count": 128,
          "date": "2002-03-22T00:00:00"
         },
         {
          "count": 8,
          "date": "2002-03-23T00:00:00"
         },
         {
          "count": 18,
          "date": "2002-03-24T00:00:00"
         },
         {
          "count": 239,
          "date": "2002-03-25T00:00:00"
         },
         {
          "count": 58,
          "date": "2002-03-26T00:00:00"
         },
         {
          "count": 74,
          "date": "2002-03-27T00:00:00"
         },
         {
          "count": 79,
          "date": "2002-03-28T00:00:00"
         },
         {
          "count": 37,
          "date": "2002-03-29T00:00:00"
         },
         {
          "count": 5,
          "date": "2002-03-30T00:00:00"
         },
         {
          "count": 7,
          "date": "2002-03-31T00:00:00"
         },
         {
          "count": 58,
          "date": "2002-04-01T00:00:00"
         },
         {
          "count": 55,
          "date": "2002-04-02T00:00:00"
         },
         {
          "count": 37,
          "date": "2002-04-03T00:00:00"
         },
         {
          "count": 67,
          "date": "2002-04-04T00:00:00"
         },
         {
          "count": 31,
          "date": "2002-04-05T00:00:00"
         },
         {
          "count": 3,
          "date": "2002-04-06T00:00:00"
         },
         {
          "count": 2,
          "date": "2002-04-07T00:00:00"
         },
         {
          "count": 57,
          "date": "2002-04-08T00:00:00"
         },
         {
          "count": 50,
          "date": "2002-04-09T00:00:00"
         },
         {
          "count": 52,
          "date": "2002-04-10T00:00:00"
         },
         {
          "count": 46,
          "date": "2002-04-11T00:00:00"
         },
         {
          "count": 52,
          "date": "2002-04-12T00:00:00"
         },
         {
          "count": 3,
          "date": "2002-04-13T00:00:00"
         },
         {
          "count": 71,
          "date": "2002-04-15T00:00:00"
         },
         {
          "count": 50,
          "date": "2002-04-16T00:00:00"
         },
         {
          "count": 71,
          "date": "2002-04-17T00:00:00"
         },
         {
          "count": 68,
          "date": "2002-04-18T00:00:00"
         },
         {
          "count": 35,
          "date": "2002-04-19T00:00:00"
         },
         {
          "count": 4,
          "date": "2002-04-20T00:00:00"
         },
         {
          "count": 1,
          "date": "2002-04-21T00:00:00"
         },
         {
          "count": 50,
          "date": "2002-04-22T00:00:00"
         },
         {
          "count": 77,
          "date": "2002-04-23T00:00:00"
         },
         {
          "count": 47,
          "date": "2002-04-24T00:00:00"
         },
         {
          "count": 26,
          "date": "2002-04-25T00:00:00"
         },
         {
          "count": 31,
          "date": "2002-04-26T00:00:00"
         },
         {
          "count": 1,
          "date": "2002-04-28T00:00:00"
         },
         {
          "count": 61,
          "date": "2002-04-29T00:00:00"
         },
         {
          "count": 51,
          "date": "2002-04-30T00:00:00"
         },
         {
          "count": 63,
          "date": "2002-05-01T00:00:00"
         },
         {
          "count": 53,
          "date": "2002-05-02T00:00:00"
         },
         {
          "count": 40,
          "date": "2002-05-03T00:00:00"
         },
         {
          "count": 41,
          "date": "2002-05-06T00:00:00"
         },
         {
          "count": 33,
          "date": "2002-05-07T00:00:00"
         },
         {
          "count": 44,
          "date": "2002-05-08T00:00:00"
         },
         {
          "count": 23,
          "date": "2002-05-09T00:00:00"
         },
         {
          "count": 31,
          "date": "2002-05-10T00:00:00"
         },
         {
          "count": 36,
          "date": "2002-05-13T00:00:00"
         },
         {
          "count": 37,
          "date": "2002-05-14T00:00:00"
         },
         {
          "count": 41,
          "date": "2002-05-15T00:00:00"
         },
         {
          "count": 17,
          "date": "2002-05-16T00:00:00"
         },
         {
          "count": 34,
          "date": "2002-05-17T00:00:00"
         },
         {
          "count": 1,
          "date": "2002-05-18T00:00:00"
         },
         {
          "count": 51,
          "date": "2002-05-20T00:00:00"
         },
         {
          "count": 26,
          "date": "2002-05-21T00:00:00"
         },
         {
          "count": 43,
          "date": "2002-05-22T00:00:00"
         },
         {
          "count": 47,
          "date": "2002-05-23T00:00:00"
         },
         {
          "count": 37,
          "date": "2002-05-24T00:00:00"
         },
         {
          "count": 8,
          "date": "2002-05-27T00:00:00"
         },
         {
          "count": 52,
          "date": "2002-05-28T00:00:00"
         },
         {
          "count": 47,
          "date": "2002-05-29T00:00:00"
         },
         {
          "count": 51,
          "date": "2002-05-30T00:00:00"
         },
         {
          "count": 53,
          "date": "2002-05-31T00:00:00"
         },
         {
          "count": 36,
          "date": "2002-06-03T00:00:00"
         },
         {
          "count": 49,
          "date": "2002-06-04T00:00:00"
         },
         {
          "count": 42,
          "date": "2002-06-05T00:00:00"
         },
         {
          "count": 32,
          "date": "2002-06-06T00:00:00"
         },
         {
          "count": 39,
          "date": "2002-06-07T00:00:00"
         },
         {
          "count": 1,
          "date": "2002-06-09T00:00:00"
         },
         {
          "count": 49,
          "date": "2002-06-10T00:00:00"
         },
         {
          "count": 45,
          "date": "2002-06-11T00:00:00"
         },
         {
          "count": 42,
          "date": "2002-06-12T00:00:00"
         },
         {
          "count": 35,
          "date": "2002-06-13T00:00:00"
         },
         {
          "count": 57,
          "date": "2002-06-14T00:00:00"
         },
         {
          "count": 75,
          "date": "2002-06-17T00:00:00"
         },
         {
          "count": 47,
          "date": "2002-06-18T00:00:00"
         },
         {
          "count": 73,
          "date": "2002-06-19T00:00:00"
         },
         {
          "count": 69,
          "date": "2002-06-20T00:00:00"
         },
         {
          "count": 54,
          "date": "2002-06-21T00:00:00"
         },
         {
          "count": 1,
          "date": "2002-06-23T00:00:00"
         },
         {
          "count": 64,
          "date": "2002-06-24T00:00:00"
         },
         {
          "count": 56,
          "date": "2002-06-25T00:00:00"
         },
         {
          "count": 17,
          "date": "2002-06-26T00:00:00"
         },
         {
          "count": 27,
          "date": "2002-06-27T00:00:00"
         },
         {
          "count": 11,
          "date": "2002-06-28T00:00:00"
         }
        ]
       },
       "encoding": {
        "tooltip": [
         {
          "field": "date",
          "type": "temporal"
         },
         {
          "field": "count",
          "type": "quantitative"
         }
        ],
        "x": {
         "field": "date",
         "type": "temporal"
        },
        "y": {
         "field": "count",
         "type": "quantitative"
        }
       },
       "mark": "bar",
       "width": 800
      },
      "image/png": "[encoded data removed]",
      "text/plain": [
       "<VegaLite 3 object>\n",
       "\n",
       "If you see this message, it means the renderer has not been properly enabled\n",
       "for the frontend that you are using. For more information, see\n",
       "https://altair-viz.github.io/user_guide/troubleshooting.html\n"
      ]
     },
     "execution_count": 242,
     "metadata": {},
     "output_type": "execute_result"
    }
   ],
   "source": [
    "alt.Chart(pivot).mark_bar().encode(\n",
    "    x='date',\n",
    "    y='count',\n",
    "    tooltip=['date', 'count'],\n",
    ").properties(width=800)"
   ]
  },
  {
   "cell_type": "code",
   "execution_count": null,
   "metadata": {},
   "outputs": [],
   "source": []
  }
 ],
 "metadata": {
  "kernelspec": {
   "display_name": "Python 3",
   "language": "python",
   "name": "python3"
  },
  "language_info": {
   "codemirror_mode": {
    "name": "ipython",
    "version": 3
   },
   "file_extension": ".py",
   "mimetype": "text/x-python",
   "name": "python",
   "nbconvert_exporter": "python",
   "pygments_lexer": "ipython3",
   "version": "3.7.5"
  }
 },
 "nbformat": 4,
 "nbformat_minor": 4
}
