{
 "cells": [
  {
   "cell_type": "code",
   "execution_count": 18,
   "metadata": {},
   "outputs": [],
   "source": [
    "import filecmp\n",
    "from difflib import Differ"
   ]
  },
  {
   "cell_type": "code",
   "execution_count": 3,
   "metadata": {},
   "outputs": [
    {
     "name": "stdout",
     "output_type": "stream",
     "text": [
      "diff folder_a folder_b\n",
      "Only in folder_a : ['file1 - Copy (10).txt', 'file1 - Copy (11).txt', 'file1 - Copy (12).txt', 'file1 - Copy (13).txt', 'file1 - Copy (14).txt', 'file1 - Copy (2).txt', 'file1 - Copy (3).txt', 'file1 - Copy (4).txt', 'file1 - Copy (5).txt', 'file1 - Copy (6).txt', 'file1 - Copy (7).txt', 'file1 - Copy (8).txt', 'file1 - Copy (9).txt', 'file1 - Copy.txt']\n",
      "Identical files : ['file2.txt']\n",
      "Differing files : ['file1.txt']\n"
     ]
    }
   ],
   "source": [
    "filecmp.dircmp('folder_a', 'folder_b').report()"
   ]
  },
  {
   "cell_type": "code",
   "execution_count": 25,
   "metadata": {},
   "outputs": [],
   "source": [
    "a_file = 'folder_a/file1.txt'\n",
    "b_file = 'folder_b/file1.txt'\n",
    "\n",
    "with open(a_file) as a:\n",
    "    a_lines = a.readlines()\n",
    "with open(b_file) as b:\n",
    "    b_lines = b.readlines()"
   ]
  },
  {
   "cell_type": "code",
   "execution_count": 26,
   "metadata": {},
   "outputs": [],
   "source": [
    "d = Differ()\n",
    "result = list(d.compare(a_lines, b_lines))"
   ]
  },
  {
   "cell_type": "code",
   "execution_count": 27,
   "metadata": {},
   "outputs": [
    {
     "name": "stdout",
     "output_type": "stream",
     "text": [
      "  2. CONTRACTS RECEIVABLE (Continued)\n",
      "- Contracts receivable at December 31, 20X1, include a claim, expected to be collected within one\n",
      "?                                         ^\n",
      "+ Contracts receivable at December 31, 20X2, include a claim, expected to be collected within one\n",
      "?                                         ^\n",
      "- year, for $10,550 arising from a dispute with the owner over design and specification changes in\n",
      "?            ^  ^^\n",
      "+ year, for $290,600 arising from a dispute with the owner over design and specification changes in\n",
      "?            ^^  ^^\n",
      "  a building currently under construction. The changes were made at the request of the owner to\n",
      "  improve the thermal characteristics of the building and, in the opinion of counsel, gave rise to a\n",
      "  valid claim against the owner.\n",
      "- The retained and unbilled contracts receivable at December 31, 20X1, included $18,600 that was\n",
      "?                                                                   ^            ^\n",
      "+ The retained and unbilled contracts receivable at December 31, 20X2, included $38,600 that was\n",
      "?                                                                   ^            ^\n",
      "  not expected to be collected within one year.\n",
      "- Contracts receivable include approximately $10,000 due under one contract. \n",
      "?                                             ^\n",
      "+ Contracts receivable include approximately $800,000 due under one contract. \n",
      "?                                             ^^\n"
     ]
    }
   ],
   "source": [
    "for line in result:\n",
    "    print(line.strip('\\n'))"
   ]
  },
  {
   "cell_type": "code",
   "execution_count": null,
   "metadata": {},
   "outputs": [],
   "source": []
  }
 ],
 "metadata": {
  "kernelspec": {
   "display_name": "Python 3",
   "language": "python",
   "name": "python3"
  },
  "language_info": {
   "codemirror_mode": {
    "name": "ipython",
    "version": 3
   },
   "file_extension": ".py",
   "mimetype": "text/x-python",
   "name": "python",
   "nbconvert_exporter": "python",
   "pygments_lexer": "ipython3",
   "version": "3.7.6"
  }
 },
 "nbformat": 4,
 "nbformat_minor": 4
}
