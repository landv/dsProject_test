{
 "cells": [
  {
   "cell_type": "code",
   "execution_count": 1,
   "metadata": {},
   "outputs": [],
   "source": [
    "from collections import namedtuple\n",
    "import re\n",
    "\n",
    "import pdfplumber\n",
    "import pandas as pd"
   ]
  },
  {
   "cell_type": "code",
   "execution_count": 2,
   "metadata": {},
   "outputs": [],
   "source": [
    "Line = namedtuple('Line', 'No Article Desc Quant UOM MRP BaseCost IGST_perc IGST_INR Total_Base HSN_SAC_Code Site')"
   ]
  },
  {
   "cell_type": "code",
   "execution_count": 3,
   "metadata": {},
   "outputs": [],
   "source": [
    "line_re = re.compile(r'\\d \\d{2,}')"
   ]
  },
  {
   "cell_type": "code",
   "execution_count": 4,
   "metadata": {},
   "outputs": [],
   "source": [
    "def numbify(num):\n",
    "    return float(num.replace('$', '').replace(',', ''))"
   ]
  },
  {
   "cell_type": "code",
   "execution_count": 8,
   "metadata": {},
   "outputs": [],
   "source": [
    "with pdfplumber.open(\"samp.pdf\") as pdf:\n",
    "    page = pdf.pages[0]\n",
    "    text = page.extract_text(x_tolerance=2, y_tolerance=0)"
   ]
  },
  {
   "cell_type": "code",
   "execution_count": 10,
   "metadata": {},
   "outputs": [
    {
     "data": {
      "text/html": [
       "<div>\n",
       "<style scoped>\n",
       "    .dataframe tbody tr th:only-of-type {\n",
       "        vertical-align: middle;\n",
       "    }\n",
       "\n",
       "    .dataframe tbody tr th {\n",
       "        vertical-align: top;\n",
       "    }\n",
       "\n",
       "    .dataframe thead th {\n",
       "        text-align: right;\n",
       "    }\n",
       "</style>\n",
       "<table border=\"1\" class=\"dataframe\">\n",
       "  <thead>\n",
       "    <tr style=\"text-align: right;\">\n",
       "      <th></th>\n",
       "      <th>No</th>\n",
       "      <th>Article</th>\n",
       "      <th>Desc</th>\n",
       "      <th>Quant</th>\n",
       "      <th>UOM</th>\n",
       "      <th>MRP</th>\n",
       "      <th>BaseCost</th>\n",
       "      <th>IGST_perc</th>\n",
       "      <th>IGST_INR</th>\n",
       "      <th>Total_Base</th>\n",
       "      <th>HSN_SAC_Code</th>\n",
       "      <th>Site</th>\n",
       "    </tr>\n",
       "  </thead>\n",
       "  <tbody>\n",
       "    <tr>\n",
       "      <th>0</th>\n",
       "      <td>1</td>\n",
       "      <td>310022091</td>\n",
       "      <td>PRINT-COUPON-500 6X4IN 4COL OFFSET130GSM</td>\n",
       "      <td>3,500</td>\n",
       "      <td>EA</td>\n",
       "      <td>0.44</td>\n",
       "      <td>0.44</td>\n",
       "      <td>12.00</td>\n",
       "      <td>184.80</td>\n",
       "      <td>1,540.00</td>\n",
       "      <td>4911</td>\n",
       "      <td>TDN6</td>\n",
       "    </tr>\n",
       "    <tr>\n",
       "      <th>1</th>\n",
       "      <td>2</td>\n",
       "      <td>310022091</td>\n",
       "      <td>PRINT-COUPON-500 6X4IN 4COL OFFSET130GSM</td>\n",
       "      <td>1,000</td>\n",
       "      <td>EA</td>\n",
       "      <td>0.44</td>\n",
       "      <td>0.44</td>\n",
       "      <td>12.00</td>\n",
       "      <td>52.80</td>\n",
       "      <td>440.00</td>\n",
       "      <td>4911</td>\n",
       "      <td>TEG3</td>\n",
       "    </tr>\n",
       "    <tr>\n",
       "      <th>2</th>\n",
       "      <td>3</td>\n",
       "      <td>310022091</td>\n",
       "      <td>PRINT-COUPON-500 6X4IN 4COL OFFSET130GSM</td>\n",
       "      <td>2,000</td>\n",
       "      <td>EA</td>\n",
       "      <td>0.44</td>\n",
       "      <td>0.44</td>\n",
       "      <td>12.00</td>\n",
       "      <td>105.60</td>\n",
       "      <td>880.00</td>\n",
       "      <td>4911</td>\n",
       "      <td>TX06</td>\n",
       "    </tr>\n",
       "  </tbody>\n",
       "</table>\n",
       "</div>"
      ],
      "text/plain": [
       "  No    Article                                      Desc  Quant UOM   MRP  \\\n",
       "0  1  310022091  PRINT-COUPON-500 6X4IN 4COL OFFSET130GSM  3,500  EA  0.44   \n",
       "1  2  310022091  PRINT-COUPON-500 6X4IN 4COL OFFSET130GSM  1,000  EA  0.44   \n",
       "2  3  310022091  PRINT-COUPON-500 6X4IN 4COL OFFSET130GSM  2,000  EA  0.44   \n",
       "\n",
       "  BaseCost IGST_perc IGST_INR Total_Base HSN_SAC_Code  Site  \n",
       "0     0.44     12.00   184.80   1,540.00         4911  TDN6  \n",
       "1     0.44     12.00    52.80     440.00         4911  TEG3  \n",
       "2     0.44     12.00   105.60     880.00         4911  TX06  "
      ]
     },
     "execution_count": 10,
     "metadata": {},
     "output_type": "execute_result"
    }
   ],
   "source": [
    "data = []\n",
    "\n",
    "with pdfplumber.open(\"samp.pdf\") as pdf:\n",
    "    page = pdf.pages[0]\n",
    "    text = page.extract_text(x_tolerance=2, y_tolerance=0)\n",
    "    \n",
    "    for line in text.split('\\n'):\n",
    "        if line_re.search(line):\n",
    "            in_lines = True\n",
    "            no, article, *desc, quant, uom, mrp, basecost, igstp, igst_inr, total_base = line.split()\n",
    "            desc = ' '.join(desc)\n",
    "        elif line.startswith('Grand'):\n",
    "            break\n",
    "        elif re.match(r'\\d{4}', line):\n",
    "            hsn_code = line\n",
    "        elif re.match(r'T\\S{3}', line):\n",
    "            site = line\n",
    "            line_info = Line(no, article, desc, quant, uom, mrp, basecost, igstp, igst_inr, total_base, hsn_code, site)\n",
    "            data.append(line_info)\n",
    "df = pd.DataFrame(data)\n",
    "df"
   ]
  },
  {
   "cell_type": "code",
   "execution_count": 11,
   "metadata": {},
   "outputs": [],
   "source": [
    "df['Total_Base'] = df['Total_Base'].map(numbify)"
   ]
  },
  {
   "cell_type": "code",
   "execution_count": 12,
   "metadata": {},
   "outputs": [
    {
     "data": {
      "text/plain": [
       "2860.0"
      ]
     },
     "execution_count": 12,
     "metadata": {},
     "output_type": "execute_result"
    }
   ],
   "source": [
    "sum(df['Total_Base'])"
   ]
  },
  {
   "cell_type": "code",
   "execution_count": 13,
   "metadata": {},
   "outputs": [
    {
     "data": {
      "text/plain": [
       "343.20000000000005"
      ]
     },
     "execution_count": 13,
     "metadata": {},
     "output_type": "execute_result"
    }
   ],
   "source": [
    "df['IGST_INR'] = df['IGST_INR'].map(numbify)\n",
    "sum(df['IGST_INR'])"
   ]
  },
  {
   "cell_type": "code",
   "execution_count": 14,
   "metadata": {},
   "outputs": [],
   "source": [
    "df.to_csv('file.csv', index=False)"
   ]
  },
  {
   "cell_type": "code",
   "execution_count": null,
   "metadata": {},
   "outputs": [],
   "source": []
  }
 ],
 "metadata": {
  "kernelspec": {
   "display_name": "Python 3",
   "language": "python",
   "name": "python3"
  },
  "language_info": {
   "codemirror_mode": {
    "name": "ipython",
    "version": 3
   },
   "file_extension": ".py",
   "mimetype": "text/x-python",
   "name": "python",
   "nbconvert_exporter": "python",
   "pygments_lexer": "ipython3",
   "version": "3.7.6"
  }
 },
 "nbformat": 4,
 "nbformat_minor": 4
}
