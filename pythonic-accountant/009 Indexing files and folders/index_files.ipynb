{
 "cells": [
  {
   "cell_type": "code",
   "execution_count": 1,
   "metadata": {},
   "outputs": [],
   "source": [
    "# Import libraries\n",
    "from pathlib import Path\n",
    "from datetime import datetime\n",
    "import os\n",
    "from collections import namedtuple\n",
    "\n",
    "import pandas as pd"
   ]
  },
  {
   "cell_type": "code",
   "execution_count": 2,
   "metadata": {},
   "outputs": [],
   "source": [
    "# Create File namedtuple\n",
    "File = namedtuple('File', 'name path size modified_date')"
   ]
  },
  {
   "cell_type": "code",
   "execution_count": 5,
   "metadata": {},
   "outputs": [],
   "source": [
    "# Create empty list\n",
    "files = []\n",
    "\n",
    "# Create starting path\n",
    "p = Path('e:/pythonic_accountant')\n",
    "\n",
    "# Iterate through path objects, find all that end with .csv or .xlsx, save to list\n",
    "for item in p.glob('**/*'):\n",
    "    if item.suffix in ['.xlsx', '.csv']:\n",
    "        name = item.name\n",
    "        path = Path.resolve(item).parent\n",
    "        size = item.stat().st_size\n",
    "        modified = datetime.fromtimestamp(item.stat().st_mtime)\n",
    "        \n",
    "        files.append(File(name, path, size, modified))"
   ]
  },
  {
   "cell_type": "code",
   "execution_count": 7,
   "metadata": {},
   "outputs": [],
   "source": [
    "# Create dataframe from list\n",
    "df = pd.DataFrame(files)"
   ]
  },
  {
   "cell_type": "code",
   "execution_count": 8,
   "metadata": {},
   "outputs": [
    {
     "data": {
      "text/html": [
       "<div>\n",
       "<style scoped>\n",
       "    .dataframe tbody tr th:only-of-type {\n",
       "        vertical-align: middle;\n",
       "    }\n",
       "\n",
       "    .dataframe tbody tr th {\n",
       "        vertical-align: top;\n",
       "    }\n",
       "\n",
       "    .dataframe thead th {\n",
       "        text-align: right;\n",
       "    }\n",
       "</style>\n",
       "<table border=\"1\" class=\"dataframe\">\n",
       "  <thead>\n",
       "    <tr style=\"text-align: right;\">\n",
       "      <th></th>\n",
       "      <th>name</th>\n",
       "      <th>path</th>\n",
       "      <th>size</th>\n",
       "      <th>modified_date</th>\n",
       "    </tr>\n",
       "  </thead>\n",
       "  <tbody>\n",
       "    <tr>\n",
       "      <th>0</th>\n",
       "      <td>new_tb.csv</td>\n",
       "      <td>E:\\pythonic_accountant\\002 Loading a super sim...</td>\n",
       "      <td>181</td>\n",
       "      <td>2019-11-21 23:45:40.112363</td>\n",
       "    </tr>\n",
       "    <tr>\n",
       "      <th>1</th>\n",
       "      <td>tb.xlsx</td>\n",
       "      <td>E:\\pythonic_accountant\\002 Loading a super sim...</td>\n",
       "      <td>9498</td>\n",
       "      <td>2019-11-21 23:07:55.898612</td>\n",
       "    </tr>\n",
       "    <tr>\n",
       "      <th>2</th>\n",
       "      <td>msft.csv</td>\n",
       "      <td>E:\\pythonic_accountant\\005 Getting stock marke...</td>\n",
       "      <td>137815</td>\n",
       "      <td>2019-12-19 00:35:45.816509</td>\n",
       "    </tr>\n",
       "    <tr>\n",
       "      <th>3</th>\n",
       "      <td>msft-checkpoint.csv</td>\n",
       "      <td>E:\\pythonic_accountant\\005 Getting stock marke...</td>\n",
       "      <td>137815</td>\n",
       "      <td>2019-12-19 00:35:45.816509</td>\n",
       "    </tr>\n",
       "    <tr>\n",
       "      <th>4</th>\n",
       "      <td>tb.xlsx</td>\n",
       "      <td>E:\\pythonic_accountant\\006 Dictionaries for ac...</td>\n",
       "      <td>19211</td>\n",
       "      <td>2020-01-03 23:42:54.774369</td>\n",
       "    </tr>\n",
       "    <tr>\n",
       "      <th>5</th>\n",
       "      <td>~$tb.xlsx</td>\n",
       "      <td>E:\\pythonic_accountant\\006 Dictionaries for ac...</td>\n",
       "      <td>165</td>\n",
       "      <td>2020-01-03 23:23:55.856837</td>\n",
       "    </tr>\n",
       "    <tr>\n",
       "      <th>6</th>\n",
       "      <td>tb.xlsx</td>\n",
       "      <td>E:\\pythonic_accountant\\007 Pandas join and merge</td>\n",
       "      <td>19211</td>\n",
       "      <td>2020-01-03 23:42:54.774369</td>\n",
       "    </tr>\n",
       "    <tr>\n",
       "      <th>7</th>\n",
       "      <td>~$tb.xlsx</td>\n",
       "      <td>E:\\pythonic_accountant\\007 Pandas join and merge</td>\n",
       "      <td>165</td>\n",
       "      <td>2020-01-03 23:23:55.856837</td>\n",
       "    </tr>\n",
       "    <tr>\n",
       "      <th>8</th>\n",
       "      <td>notes_data.xlsx</td>\n",
       "      <td>E:\\pythonic_accountant\\008 docx templates for ...</td>\n",
       "      <td>9482</td>\n",
       "      <td>2020-01-06 21:55:16.165973</td>\n",
       "    </tr>\n",
       "  </tbody>\n",
       "</table>\n",
       "</div>"
      ],
      "text/plain": [
       "                  name                                               path  \\\n",
       "0           new_tb.csv  E:\\pythonic_accountant\\002 Loading a super sim...   \n",
       "1              tb.xlsx  E:\\pythonic_accountant\\002 Loading a super sim...   \n",
       "2             msft.csv  E:\\pythonic_accountant\\005 Getting stock marke...   \n",
       "3  msft-checkpoint.csv  E:\\pythonic_accountant\\005 Getting stock marke...   \n",
       "4              tb.xlsx  E:\\pythonic_accountant\\006 Dictionaries for ac...   \n",
       "5            ~$tb.xlsx  E:\\pythonic_accountant\\006 Dictionaries for ac...   \n",
       "6              tb.xlsx   E:\\pythonic_accountant\\007 Pandas join and merge   \n",
       "7            ~$tb.xlsx   E:\\pythonic_accountant\\007 Pandas join and merge   \n",
       "8      notes_data.xlsx  E:\\pythonic_accountant\\008 docx templates for ...   \n",
       "\n",
       "     size              modified_date  \n",
       "0     181 2019-11-21 23:45:40.112363  \n",
       "1    9498 2019-11-21 23:07:55.898612  \n",
       "2  137815 2019-12-19 00:35:45.816509  \n",
       "3  137815 2019-12-19 00:35:45.816509  \n",
       "4   19211 2020-01-03 23:42:54.774369  \n",
       "5     165 2020-01-03 23:23:55.856837  \n",
       "6   19211 2020-01-03 23:42:54.774369  \n",
       "7     165 2020-01-03 23:23:55.856837  \n",
       "8    9482 2020-01-06 21:55:16.165973  "
      ]
     },
     "execution_count": 8,
     "metadata": {},
     "output_type": "execute_result"
    }
   ],
   "source": [
    "df"
   ]
  },
  {
   "cell_type": "code",
   "execution_count": 9,
   "metadata": {},
   "outputs": [],
   "source": [
    "# Export dataframe to a csv file\n",
    "df.to_csv('xlsx_csv.csv', index=False)"
   ]
  },
  {
   "cell_type": "code",
   "execution_count": null,
   "metadata": {},
   "outputs": [],
   "source": []
  }
 ],
 "metadata": {
  "kernelspec": {
   "display_name": "Python 3",
   "language": "python",
   "name": "python3"
  },
  "language_info": {
   "codemirror_mode": {
    "name": "ipython",
    "version": 3
   },
   "file_extension": ".py",
   "mimetype": "text/x-python",
   "name": "python",
   "nbconvert_exporter": "python",
   "pygments_lexer": "ipython3",
   "version": "3.7.5"
  }
 },
 "nbformat": 4,
 "nbformat_minor": 4
}
