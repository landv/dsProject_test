{
 "cells": [
  {
   "cell_type": "markdown",
   "metadata": {},
   "source": [
    "# Use cerberus to validate the schema of csv files\n",
    "\n",
    "conda install -c conda-forge cerberus"
   ]
  },
  {
   "cell_type": "code",
   "execution_count": 1,
   "metadata": {},
   "outputs": [],
   "source": [
    "# import pandas and cerberus Validator\n",
    "import pandas as pd\n",
    "from cerberus import Validator"
   ]
  },
  {
   "cell_type": "code",
   "execution_count": 2,
   "metadata": {},
   "outputs": [
    {
     "data": {
      "text/html": [
       "<div>\n",
       "<style scoped>\n",
       "    .dataframe tbody tr th:only-of-type {\n",
       "        vertical-align: middle;\n",
       "    }\n",
       "\n",
       "    .dataframe tbody tr th {\n",
       "        vertical-align: top;\n",
       "    }\n",
       "\n",
       "    .dataframe thead th {\n",
       "        text-align: right;\n",
       "    }\n",
       "</style>\n",
       "<table border=\"1\" class=\"dataframe\">\n",
       "  <thead>\n",
       "    <tr style=\"text-align: right;\">\n",
       "      <th></th>\n",
       "      <th>Journal_ID</th>\n",
       "      <th>Journal_ID_Line_Number</th>\n",
       "      <th>JE_Line_Description</th>\n",
       "      <th>Business_Unit_Code</th>\n",
       "      <th>Effective_Date</th>\n",
       "      <th>Fiscal_Year</th>\n",
       "      <th>GL_Account_Number</th>\n",
       "      <th>Amount</th>\n",
       "      <th>Amount_Credit_Debit_Indicator</th>\n",
       "      <th>Amount_Currency</th>\n",
       "      <th>JE_Header_ Description</th>\n",
       "      <th>Source</th>\n",
       "      <th>Entered_By</th>\n",
       "      <th>Document_Date</th>\n",
       "      <th>Entered_Date</th>\n",
       "      <th>Entered_Time</th>\n",
       "      <th>Period</th>\n",
       "    </tr>\n",
       "  </thead>\n",
       "  <tbody>\n",
       "    <tr>\n",
       "      <th>0</th>\n",
       "      <td>100000000</td>\n",
       "      <td>1</td>\n",
       "      <td>Postkosten ohne Tel.</td>\n",
       "      <td>9900</td>\n",
       "      <td>19000101</td>\n",
       "      <td>2007</td>\n",
       "      <td>473000</td>\n",
       "      <td>9770.52</td>\n",
       "      <td>S</td>\n",
       "      <td>USD</td>\n",
       "      <td>NaN</td>\n",
       "      <td>SA</td>\n",
       "      <td>STEINER</td>\n",
       "      <td>20070101</td>\n",
       "      <td>20070122</td>\n",
       "      <td>101205</td>\n",
       "      <td>1</td>\n",
       "    </tr>\n",
       "    <tr>\n",
       "      <th>1</th>\n",
       "      <td>100000000</td>\n",
       "      <td>2</td>\n",
       "      <td>NaN</td>\n",
       "      <td>NaN</td>\n",
       "      <td>19000101</td>\n",
       "      <td>2007</td>\n",
       "      <td>113100</td>\n",
       "      <td>9770.52</td>\n",
       "      <td>H</td>\n",
       "      <td>USD</td>\n",
       "      <td>NaN</td>\n",
       "      <td>SA</td>\n",
       "      <td>STEINER</td>\n",
       "      <td>20070101</td>\n",
       "      <td>20070122</td>\n",
       "      <td>101205</td>\n",
       "      <td>1</td>\n",
       "    </tr>\n",
       "    <tr>\n",
       "      <th>2</th>\n",
       "      <td>100000001</td>\n",
       "      <td>1</td>\n",
       "      <td>Reisekst./Unterkunft</td>\n",
       "      <td>9900</td>\n",
       "      <td>19000101</td>\n",
       "      <td>2007</td>\n",
       "      <td>474210</td>\n",
       "      <td>5875.20</td>\n",
       "      <td>S</td>\n",
       "      <td>USD</td>\n",
       "      <td>NaN</td>\n",
       "      <td>SA</td>\n",
       "      <td>STEINER</td>\n",
       "      <td>20070101</td>\n",
       "      <td>20070122</td>\n",
       "      <td>101206</td>\n",
       "      <td>1</td>\n",
       "    </tr>\n",
       "    <tr>\n",
       "      <th>3</th>\n",
       "      <td>100000001</td>\n",
       "      <td>2</td>\n",
       "      <td>NaN</td>\n",
       "      <td>NaN</td>\n",
       "      <td>19000101</td>\n",
       "      <td>2007</td>\n",
       "      <td>113100</td>\n",
       "      <td>5875.20</td>\n",
       "      <td>H</td>\n",
       "      <td>USD</td>\n",
       "      <td>NaN</td>\n",
       "      <td>SA</td>\n",
       "      <td>STEINER</td>\n",
       "      <td>20070101</td>\n",
       "      <td>20070122</td>\n",
       "      <td>101206</td>\n",
       "      <td>1</td>\n",
       "    </tr>\n",
       "    <tr>\n",
       "      <th>4</th>\n",
       "      <td>100000002</td>\n",
       "      <td>1</td>\n",
       "      <td>NaN</td>\n",
       "      <td>9900</td>\n",
       "      <td>19000101</td>\n",
       "      <td>2007</td>\n",
       "      <td>474211</td>\n",
       "      <td>244.80</td>\n",
       "      <td>S</td>\n",
       "      <td>USD</td>\n",
       "      <td>NaN</td>\n",
       "      <td>SA</td>\n",
       "      <td>STEINER</td>\n",
       "      <td>20070101</td>\n",
       "      <td>20070122</td>\n",
       "      <td>101206</td>\n",
       "      <td>1</td>\n",
       "    </tr>\n",
       "  </tbody>\n",
       "</table>\n",
       "</div>"
      ],
      "text/plain": [
       "   Journal_ID  Journal_ID_Line_Number   JE_Line_Description  \\\n",
       "0   100000000                       1  Postkosten ohne Tel.   \n",
       "1   100000000                       2                   NaN   \n",
       "2   100000001                       1  Reisekst./Unterkunft   \n",
       "3   100000001                       2                   NaN   \n",
       "4   100000002                       1                   NaN   \n",
       "\n",
       "  Business_Unit_Code  Effective_Date  Fiscal_Year  GL_Account_Number   Amount  \\\n",
       "0               9900        19000101         2007             473000  9770.52   \n",
       "1                NaN        19000101         2007             113100  9770.52   \n",
       "2               9900        19000101         2007             474210  5875.20   \n",
       "3                NaN        19000101         2007             113100  5875.20   \n",
       "4               9900        19000101         2007             474211   244.80   \n",
       "\n",
       "  Amount_Credit_Debit_Indicator Amount_Currency JE_Header_ Description Source  \\\n",
       "0                             S             USD                    NaN     SA   \n",
       "1                             H             USD                    NaN     SA   \n",
       "2                             S             USD                    NaN     SA   \n",
       "3                             H             USD                    NaN     SA   \n",
       "4                             S             USD                    NaN     SA   \n",
       "\n",
       "  Entered_By  Document_Date  Entered_Date  Entered_Time  Period  \n",
       "0    STEINER       20070101      20070122        101205       1  \n",
       "1    STEINER       20070101      20070122        101205       1  \n",
       "2    STEINER       20070101      20070122        101206       1  \n",
       "3    STEINER       20070101      20070122        101206       1  \n",
       "4    STEINER       20070101      20070122        101206       1  "
      ]
     },
     "execution_count": 2,
     "metadata": {},
     "output_type": "execute_result"
    }
   ],
   "source": [
    "# https://raw.githubusercontent.com/AICPA-AuditDataAnalytics2018/ADS---Python-Example-/master/samples/data/GL_Detail_YYYYMMDD_YYYYMMDD.csv\n",
    "# read csv\n",
    "df = pd.read_csv('https://raw.githubusercontent.com/AICPA-AuditDataAnalytics2018/ADS---Python-Example-/master/samples/data/GL_Detail_YYYYMMDD_YYYYMMDD.csv')\n",
    "df.head()"
   ]
  },
  {
   "cell_type": "code",
   "execution_count": 21,
   "metadata": {},
   "outputs": [],
   "source": [
    "# Define a schema dict of amount (type float), Journal_ID (type integer, min 1M), Effective_Date (int, min 19000101, max today)\n",
    "# and GL_Account_Number (int, min 10000, max 999999)\n",
    "schema = {\n",
    "    'Amount': {'type': 'float'},\n",
    "    'Journal_ID': {'type': 'integer', 'min': 1000000},\n",
    "    'Effective_Date': {'type': 'integer', 'min': 19000101, 'max': 20200101},\n",
    "    'GL_Account_Number': {'type': 'integer', 'min': 1000, 'max': 999999}\n",
    "}"
   ]
  },
  {
   "cell_type": "code",
   "execution_count": 22,
   "metadata": {},
   "outputs": [],
   "source": [
    "# Initiate Validator with schema, and allow_unknown fields\n",
    "v = Validator(schema)\n",
    "v.allow_unknown = True\n",
    "v.require_all = True"
   ]
  },
  {
   "cell_type": "code",
   "execution_count": 23,
   "metadata": {},
   "outputs": [
    {
     "data": {
      "text/plain": [
       "{'Effective_Date': ['required field'],\n",
       " 'GL_Account_Number': ['required field'],\n",
       " 'Journal_ID': ['required field']}"
      ]
     },
     "execution_count": 23,
     "metadata": {},
     "output_type": "execute_result"
    }
   ],
   "source": [
    "v.validate({'Amount': 1.5})\n",
    "v.errors"
   ]
  },
  {
   "cell_type": "code",
   "execution_count": 24,
   "metadata": {},
   "outputs": [],
   "source": [
    "# create dict by records\n",
    "df_dict = df.to_dict(orient='records')"
   ]
  },
  {
   "cell_type": "code",
   "execution_count": 25,
   "metadata": {},
   "outputs": [],
   "source": [
    "# iterate and validate, if does not validate, print errors\n",
    "for idx, record in enumerate(df_dict):\n",
    "    if not v.validate(record):\n",
    "        print(f'Item {idx}: {v.errors}')"
   ]
  },
  {
   "cell_type": "code",
   "execution_count": null,
   "metadata": {},
   "outputs": [],
   "source": []
  }
 ],
 "metadata": {
  "kernelspec": {
   "display_name": "Python 3",
   "language": "python",
   "name": "python3"
  },
  "language_info": {
   "codemirror_mode": {
    "name": "ipython",
    "version": 3
   },
   "file_extension": ".py",
   "mimetype": "text/x-python",
   "name": "python",
   "nbconvert_exporter": "python",
   "pygments_lexer": "ipython3",
   "version": "3.7.6"
  }
 },
 "nbformat": 4,
 "nbformat_minor": 4
}
