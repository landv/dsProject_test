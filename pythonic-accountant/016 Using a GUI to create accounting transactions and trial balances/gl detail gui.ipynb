{
 "cells": [
  {
   "cell_type": "code",
   "execution_count": 1,
   "metadata": {},
   "outputs": [],
   "source": [
    "# !pip install --pre toga"
   ]
  },
  {
   "cell_type": "code",
   "execution_count": 2,
   "metadata": {},
   "outputs": [],
   "source": [
    "from dataclasses import dataclass, field, asdict\n",
    "from typing import List\n",
    "\n",
    "import pandas as pd"
   ]
  },
  {
   "cell_type": "code",
   "execution_count": 3,
   "metadata": {},
   "outputs": [],
   "source": [
    "@dataclass\n",
    "class Transaction:\n",
    "    date: str = \"\"\n",
    "    account: int = 0\n",
    "    title: str = ''\n",
    "    amount: float = 0.0"
   ]
  },
  {
   "cell_type": "code",
   "execution_count": 4,
   "metadata": {},
   "outputs": [],
   "source": [
    "@dataclass\n",
    "class GeneralLedger:\n",
    "    transactions: List[Transaction] = field(default_factory=list)\n",
    "    list_transactions: List[Transaction] = field(default_factory=list)\n",
    "    trial_balance_text: List[Transaction] = field(default_factory=list)\n",
    "        \n",
    "    def trial_balance(self):\n",
    "        df = pd.DataFrame([asdict(txn) for txn in self.transactions])\n",
    "        return df.pivot_table(\n",
    "            index=['account', 'title'],\n",
    "            values='amount',\n",
    "            aggfunc=sum\n",
    "        ).reset_index()\n",
    "    \n",
    "    def add_transaction(self, txn):\n",
    "        self.transactions.append(txn)\n",
    "        self.list_transactions = [(str(x.date), str(x.account), str(x.title), str(x.amount)) for x in self.transactions]\n",
    "        self.trial_balance_text = [(x[0], x[1], str(x[2])) for idx, x in self.trial_balance().iterrows()]\n",
    "        self.trial_balance_text.extend([('', '', '') for _ in range(50)])\n",
    "    \n",
    "    def general_ledger(self):\n",
    "        df = pd.DataFrame([asdict(txn) for txn in self.transactions])\n",
    "        return df"
   ]
  },
  {
   "cell_type": "code",
   "execution_count": 5,
   "metadata": {},
   "outputs": [
    {
     "name": "stdout",
     "output_type": "stream",
     "text": [
      "[Winforms] Not implemented: Table.set_on_select()\n",
      "[Winforms] Not implemented: Table.set_on_select()\n"
     ]
    }
   ],
   "source": [
    "import toga\n",
    "from toga.style.pack import Pack, COLUMN\n",
    "\n",
    "\n",
    "\n",
    "\n",
    "def build(app):\n",
    "    \n",
    "    gl = GeneralLedger()\n",
    "\n",
    "    \n",
    "    data = gl.list_transactions\n",
    "\n",
    "    right_container = toga.Table(headings=['Date', 'Account', 'Title', 'Amount'], \n",
    "                                data=data,\n",
    "                               style=Pack(width=300, padding_left=10, padding_right=10))\n",
    "\n",
    "    trial_balance = toga.Table(headings=['Account', 'Title', 'Amount'],\n",
    "                            data=gl.trial_balance_text,\n",
    "                            style=Pack(width=200))\n",
    "    \n",
    "    date = toga.TextInput(initial='12/31/19')\n",
    "    acct = toga.TextInput(initial='1010')\n",
    "    title = toga.TextInput(initial='Cash')\n",
    "    amount = toga.TextInput(initial=500.00)\n",
    "    \n",
    "    def add_transaction(widget):\n",
    "        gl.add_transaction(Transaction(date.value, acct.value, title.value, float(amount.value)))\n",
    "        right_container.data.insert(0, *gl.list_transactions[-1])\n",
    "        trial_balance.data = gl.trial_balance_text\n",
    "        return split\n",
    "    \n",
    "    left_content = toga.Box(\n",
    "        children=[date, \n",
    "                  acct, \n",
    "                  title, \n",
    "                  amount, \n",
    "                  toga.Button('Add Transaction',\n",
    "                            on_press=add_transaction,\n",
    "                             style=Pack(height=30, padding_bottom=10, padding_left=10)),\n",
    "                  toga.Box(\n",
    "        children=[trial_balance\n",
    "            \n",
    "        ])\n",
    "                 ],\n",
    "        style=Pack(direction=COLUMN, padding_top=10, padding_left=10, padding_right=10, width=120)\n",
    "    )\n",
    "\n",
    "    left_container = toga.ScrollContainer(style=Pack(width=220))\n",
    "\n",
    "    left_container.content = left_content\n",
    "\n",
    "    split = toga.SplitContainer()\n",
    "\n",
    "    split.content = [left_container, right_container]\n",
    "\n",
    "\n",
    "    return split\n",
    "\n",
    "\n",
    "def main():\n",
    "    return toga.App('GL Detail', 'Transactions', startup=build)\n",
    "\n",
    "\n",
    "if __name__ == '__main__':\n",
    "    main().main_loop()"
   ]
  },
  {
   "cell_type": "code",
   "execution_count": null,
   "metadata": {},
   "outputs": [],
   "source": []
  }
 ],
 "metadata": {
  "kernelspec": {
   "display_name": "Python 3",
   "language": "python",
   "name": "python3"
  },
  "language_info": {
   "codemirror_mode": {
    "name": "ipython",
    "version": 3
   },
   "file_extension": ".py",
   "mimetype": "text/x-python",
   "name": "python",
   "nbconvert_exporter": "python",
   "pygments_lexer": "ipython3",
   "version": "3.7.6"
  }
 },
 "nbformat": 4,
 "nbformat_minor": 4
}
