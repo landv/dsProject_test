{
 "cells": [
  {
   "cell_type": "code",
   "execution_count": null,
   "metadata": {},
   "outputs": [],
   "source": [
    "# conda install faker"
   ]
  },
  {
   "cell_type": "code",
   "execution_count": 73,
   "metadata": {},
   "outputs": [],
   "source": [
    "from datetime import datetime\n",
    "from collections import namedtuple\n",
    "from random import randint\n",
    "\n",
    "import pandas as pd\n",
    "from faker import Faker"
   ]
  },
  {
   "cell_type": "code",
   "execution_count": 2,
   "metadata": {},
   "outputs": [],
   "source": [
    "fake = Faker()"
   ]
  },
  {
   "cell_type": "code",
   "execution_count": 16,
   "metadata": {},
   "outputs": [],
   "source": [
    "SubTxn = namedtuple('SubTxn', 'invoice_no date vendor_number vendor_name txn_type txn_amount')"
   ]
  },
  {
   "cell_type": "code",
   "execution_count": 40,
   "metadata": {},
   "outputs": [],
   "source": [
    "# invoice_no - increase consecutively\n",
    "# date - date of the transaction\n",
    "# vendor_number - use first 6 characters of vendor name, all caps, no spaces, commas, or dashes\n",
    "# txn_type - invoice or payment\n",
    "# txn_amount - amount of txn"
   ]
  },
  {
   "cell_type": "code",
   "execution_count": 17,
   "metadata": {},
   "outputs": [],
   "source": [
    "def get_date():\n",
    "    return str(fake.date_between_dates(\n",
    "        date_start=datetime(2019, 1, 1), \n",
    "        date_end=datetime(2019, 12, 31)\n",
    "    ))"
   ]
  },
  {
   "cell_type": "code",
   "execution_count": 32,
   "metadata": {},
   "outputs": [],
   "source": [
    "def get_vendor():\n",
    "    return fake.company()"
   ]
  },
  {
   "cell_type": "code",
   "execution_count": 39,
   "metadata": {},
   "outputs": [],
   "source": [
    "def get_vendor_number(vendor_name):\n",
    "    return vendor_name.replace(' ', '').replace(',', '').replace('-', '')[:6].upper()"
   ]
  },
  {
   "cell_type": "code",
   "execution_count": 56,
   "metadata": {},
   "outputs": [],
   "source": [
    "def get_amount():\n",
    "    return round(fake.pydecimal(min_value=-100000, max_value=100000), 2)"
   ]
  },
  {
   "cell_type": "code",
   "execution_count": 71,
   "metadata": {},
   "outputs": [],
   "source": [
    "def get_txn_type(amount):\n",
    "    return 'Invoice' if amount > 0 else 'Payment'"
   ]
  },
  {
   "cell_type": "code",
   "execution_count": 75,
   "metadata": {},
   "outputs": [],
   "source": [
    "def get_inv_number():\n",
    "    return (randint(1, 10000))"
   ]
  },
  {
   "cell_type": "code",
   "execution_count": 83,
   "metadata": {},
   "outputs": [
    {
     "data": {
      "text/plain": [
       "SubTxn(invoice_no=3416, date='2019-04-14', vendor_number='KRAUSE', vendor_name='Krause PLC', txn_type='Payment', txn_amount=Decimal('-67232.30'))"
      ]
     },
     "execution_count": 83,
     "metadata": {},
     "output_type": "execute_result"
    }
   ],
   "source": [
    "vend = get_vendor()\n",
    "amt = get_amount()\n",
    "SubTxn(get_inv_number(), get_date(), get_vendor_number(vend), vend, get_txn_type(amt), amt)"
   ]
  },
  {
   "cell_type": "code",
   "execution_count": 85,
   "metadata": {},
   "outputs": [],
   "source": [
    "subl_act = []\n",
    "for _ in range(100000):\n",
    "    vend = get_vendor()\n",
    "    amt = get_amount()\n",
    "    txn = SubTxn(get_inv_number(), get_date(), get_vendor_number(vend), vend, get_txn_type(amt), amt)\n",
    "    subl_act.append(txn)"
   ]
  },
  {
   "cell_type": "code",
   "execution_count": 87,
   "metadata": {},
   "outputs": [],
   "source": [
    "df = pd.DataFrame(subl_act)"
   ]
  },
  {
   "cell_type": "code",
   "execution_count": 88,
   "metadata": {},
   "outputs": [
    {
     "data": {
      "text/html": [
       "<div>\n",
       "<style scoped>\n",
       "    .dataframe tbody tr th:only-of-type {\n",
       "        vertical-align: middle;\n",
       "    }\n",
       "\n",
       "    .dataframe tbody tr th {\n",
       "        vertical-align: top;\n",
       "    }\n",
       "\n",
       "    .dataframe thead th {\n",
       "        text-align: right;\n",
       "    }\n",
       "</style>\n",
       "<table border=\"1\" class=\"dataframe\">\n",
       "  <thead>\n",
       "    <tr style=\"text-align: right;\">\n",
       "      <th></th>\n",
       "      <th>invoice_no</th>\n",
       "      <th>date</th>\n",
       "      <th>vendor_number</th>\n",
       "      <th>vendor_name</th>\n",
       "      <th>txn_type</th>\n",
       "      <th>txn_amount</th>\n",
       "    </tr>\n",
       "  </thead>\n",
       "  <tbody>\n",
       "    <tr>\n",
       "      <th>0</th>\n",
       "      <td>9912</td>\n",
       "      <td>2019-09-24</td>\n",
       "      <td>SMITHL</td>\n",
       "      <td>Smith LLC</td>\n",
       "      <td>Payment</td>\n",
       "      <td>-28967.00</td>\n",
       "    </tr>\n",
       "    <tr>\n",
       "      <th>1</th>\n",
       "      <td>6974</td>\n",
       "      <td>2019-11-17</td>\n",
       "      <td>STEWAR</td>\n",
       "      <td>Stewart-Cruz</td>\n",
       "      <td>Payment</td>\n",
       "      <td>-92590.27</td>\n",
       "    </tr>\n",
       "    <tr>\n",
       "      <th>2</th>\n",
       "      <td>5268</td>\n",
       "      <td>2019-08-05</td>\n",
       "      <td>SHERMA</td>\n",
       "      <td>Sherman-Gardner</td>\n",
       "      <td>Invoice</td>\n",
       "      <td>56903.40</td>\n",
       "    </tr>\n",
       "    <tr>\n",
       "      <th>3</th>\n",
       "      <td>4232</td>\n",
       "      <td>2019-10-26</td>\n",
       "      <td>MAYVAU</td>\n",
       "      <td>May-Vaughn</td>\n",
       "      <td>Payment</td>\n",
       "      <td>-5387.61</td>\n",
       "    </tr>\n",
       "    <tr>\n",
       "      <th>4</th>\n",
       "      <td>1640</td>\n",
       "      <td>2019-01-29</td>\n",
       "      <td>JORDAN</td>\n",
       "      <td>Jordan, Frank and Alvarado</td>\n",
       "      <td>Payment</td>\n",
       "      <td>-60291.11</td>\n",
       "    </tr>\n",
       "  </tbody>\n",
       "</table>\n",
       "</div>"
      ],
      "text/plain": [
       "   invoice_no        date vendor_number                 vendor_name txn_type  \\\n",
       "0        9912  2019-09-24        SMITHL                   Smith LLC  Payment   \n",
       "1        6974  2019-11-17        STEWAR                Stewart-Cruz  Payment   \n",
       "2        5268  2019-08-05        SHERMA             Sherman-Gardner  Invoice   \n",
       "3        4232  2019-10-26        MAYVAU                  May-Vaughn  Payment   \n",
       "4        1640  2019-01-29        JORDAN  Jordan, Frank and Alvarado  Payment   \n",
       "\n",
       "  txn_amount  \n",
       "0  -28967.00  \n",
       "1  -92590.27  \n",
       "2   56903.40  \n",
       "3   -5387.61  \n",
       "4  -60291.11  "
      ]
     },
     "execution_count": 88,
     "metadata": {},
     "output_type": "execute_result"
    }
   ],
   "source": [
    "df.head()"
   ]
  },
  {
   "cell_type": "code",
   "execution_count": 89,
   "metadata": {},
   "outputs": [],
   "source": [
    "df.to_csv('ap_subl_2019.csv', index=False)"
   ]
  },
  {
   "cell_type": "code",
   "execution_count": null,
   "metadata": {},
   "outputs": [],
   "source": []
  }
 ],
 "metadata": {
  "kernelspec": {
   "display_name": "Python 3",
   "language": "python",
   "name": "python3"
  },
  "language_info": {
   "codemirror_mode": {
    "name": "ipython",
    "version": 3
   },
   "file_extension": ".py",
   "mimetype": "text/x-python",
   "name": "python",
   "nbconvert_exporter": "python",
   "pygments_lexer": "ipython3",
   "version": "3.7.6"
  }
 },
 "nbformat": 4,
 "nbformat_minor": 4
}
