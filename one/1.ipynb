{
 "cells": [
  {
   "cell_type": "markdown",
   "source": [
    "https://github.com/secoba/pandas-official-tutorials-zh/blob/master/1.md\n",
    "中文测试"
   ],
   "metadata": {
    "collapsed": false,
    "pycharm": {
     "name": "#%% md\n"
    }
   }
  },
  {
   "cell_type": "code",
   "execution_count": 1,
   "outputs": [],
   "source": [
    "#引入包\n",
    "import numpy as np\n",
    "import pandas as pd"
   ],
   "metadata": {
    "collapsed": false,
    "pycharm": {
     "name": "#%%\n"
    }
   }
  },
  {
   "cell_type": "code",
   "execution_count": 2,
   "outputs": [
    {
     "data": {
      "text/plain": "0    1.0\n1    3.0\n2    5.0\n3    NaN\n4    6.0\n5    8.0\ndtype: float64"
     },
     "execution_count": 2,
     "metadata": {},
     "output_type": "execute_result"
    }
   ],
   "source": [
    "# 创建对象\n",
    "s = pd.Series([1, 3, 5, np.nan, 6, 8])\n",
    "s"
   ],
   "metadata": {
    "collapsed": false,
    "pycharm": {
     "name": "#%%\n"
    }
   }
  },
  {
   "cell_type": "code",
   "execution_count": 3,
   "outputs": [
    {
     "data": {
      "text/plain": "                   A         B         C         D\n2013-01-01 -0.059346  0.428461  0.771164  0.423302\n2013-01-02 -0.250375  0.733617 -2.220983  0.696549\n2013-01-03  0.237575  0.221165 -1.871808 -0.268389\n2013-01-04 -0.848854 -0.719292 -0.155037 -0.593112\n2013-01-05 -0.272927 -0.727651 -0.173433 -1.290932\n2013-01-06  0.332345  0.639660  1.577506  0.655596",
      "text/html": "<div>\n<style scoped>\n    .dataframe tbody tr th:only-of-type {\n        vertical-align: middle;\n    }\n\n    .dataframe tbody tr th {\n        vertical-align: top;\n    }\n\n    .dataframe thead th {\n        text-align: right;\n    }\n</style>\n<table border=\"1\" class=\"dataframe\">\n  <thead>\n    <tr style=\"text-align: right;\">\n      <th></th>\n      <th>A</th>\n      <th>B</th>\n      <th>C</th>\n      <th>D</th>\n    </tr>\n  </thead>\n  <tbody>\n    <tr>\n      <th>2013-01-01</th>\n      <td>-0.059346</td>\n      <td>0.428461</td>\n      <td>0.771164</td>\n      <td>0.423302</td>\n    </tr>\n    <tr>\n      <th>2013-01-02</th>\n      <td>-0.250375</td>\n      <td>0.733617</td>\n      <td>-2.220983</td>\n      <td>0.696549</td>\n    </tr>\n    <tr>\n      <th>2013-01-03</th>\n      <td>0.237575</td>\n      <td>0.221165</td>\n      <td>-1.871808</td>\n      <td>-0.268389</td>\n    </tr>\n    <tr>\n      <th>2013-01-04</th>\n      <td>-0.848854</td>\n      <td>-0.719292</td>\n      <td>-0.155037</td>\n      <td>-0.593112</td>\n    </tr>\n    <tr>\n      <th>2013-01-05</th>\n      <td>-0.272927</td>\n      <td>-0.727651</td>\n      <td>-0.173433</td>\n      <td>-1.290932</td>\n    </tr>\n    <tr>\n      <th>2013-01-06</th>\n      <td>0.332345</td>\n      <td>0.639660</td>\n      <td>1.577506</td>\n      <td>0.655596</td>\n    </tr>\n  </tbody>\n</table>\n</div>"
     },
     "execution_count": 3,
     "metadata": {},
     "output_type": "execute_result"
    }
   ],
   "source": [
    "# 通过传递一个numap array, 时间索引以及列标签来创建一个DataFrame\n",
    "# 时期–period\n",
    "dates = pd.date_range('20130101', periods=6)\n",
    "dates\n",
    "df = pd.DataFrame(np.random.randn(6, 4), index=dates, columns=list('ABCD'))\n",
    "df"
   ],
   "metadata": {
    "collapsed": false,
    "pycharm": {
     "name": "#%%\n"
    }
   }
  },
  {
   "cell_type": "code",
   "execution_count": 4,
   "outputs": [
    {
     "data": {
      "text/plain": "array([[-0.98109791, -1.10634697,  1.20878237, -0.5924438 ],\n       [-0.33889084,  1.50200034, -0.34207074,  2.70075792],\n       [-0.48477799,  0.11619385, -1.74292972,  1.84353584],\n       [-0.51846296, -0.01199738,  0.51369515,  0.31969364],\n       [-0.29870162, -0.41862307,  1.53651852,  1.12082054],\n       [-0.18582374, -0.8565421 , -0.17954768, -1.4736177 ]])"
     },
     "execution_count": 4,
     "metadata": {},
     "output_type": "execute_result"
    }
   ],
   "source": [
    "# 则randn生成一个 shape 数组，其中填充从均值 0 和方差 1 的单变量“正态”（高斯）分布采样的随机浮点数\n",
    "np.random.randn(6, 4)"
   ],
   "metadata": {
    "collapsed": false,
    "pycharm": {
     "name": "#%%\n"
    }
   }
  },
  {
   "cell_type": "code",
   "execution_count": 5,
   "outputs": [
    {
     "data": {
      "text/plain": "     A          B    C  D      E    F\n0  1.0 2013-01-02  1.0  3   test  foo\n1  1.0 2013-01-02  1.0  3  train  foo\n2  1.0 2013-01-02  1.0  3   test  foo\n3  1.0 2013-01-02  1.0  3  train  foo",
      "text/html": "<div>\n<style scoped>\n    .dataframe tbody tr th:only-of-type {\n        vertical-align: middle;\n    }\n\n    .dataframe tbody tr th {\n        vertical-align: top;\n    }\n\n    .dataframe thead th {\n        text-align: right;\n    }\n</style>\n<table border=\"1\" class=\"dataframe\">\n  <thead>\n    <tr style=\"text-align: right;\">\n      <th></th>\n      <th>A</th>\n      <th>B</th>\n      <th>C</th>\n      <th>D</th>\n      <th>E</th>\n      <th>F</th>\n    </tr>\n  </thead>\n  <tbody>\n    <tr>\n      <th>0</th>\n      <td>1.0</td>\n      <td>2013-01-02</td>\n      <td>1.0</td>\n      <td>3</td>\n      <td>test</td>\n      <td>foo</td>\n    </tr>\n    <tr>\n      <th>1</th>\n      <td>1.0</td>\n      <td>2013-01-02</td>\n      <td>1.0</td>\n      <td>3</td>\n      <td>train</td>\n      <td>foo</td>\n    </tr>\n    <tr>\n      <th>2</th>\n      <td>1.0</td>\n      <td>2013-01-02</td>\n      <td>1.0</td>\n      <td>3</td>\n      <td>test</td>\n      <td>foo</td>\n    </tr>\n    <tr>\n      <th>3</th>\n      <td>1.0</td>\n      <td>2013-01-02</td>\n      <td>1.0</td>\n      <td>3</td>\n      <td>train</td>\n      <td>foo</td>\n    </tr>\n  </tbody>\n</table>\n</div>"
     },
     "execution_count": 5,
     "metadata": {},
     "output_type": "execute_result"
    }
   ],
   "source": [
    "# 通过传递一个能够被转换成类似序列结构的字典对象来创建一个DataFrame\n",
    "df2 = pd.DataFrame({\n",
    "    'A': 1.,\n",
    "    'B': pd.Timestamp('20130102'),\n",
    "    'C': pd.Series(1, index=list(range(4)), dtype='float32'),\n",
    "    'D': np.array([3] * 4, dtype='int32'),\n",
    "    'E': pd.Categorical([\"test\", \"train\", \"test\", \"train\"]),\n",
    "    'F': 'foo'\n",
    "})\n",
    "df2"
   ],
   "metadata": {
    "collapsed": false,
    "pycharm": {
     "name": "#%%\n"
    }
   }
  },
  {
   "cell_type": "code",
   "execution_count": 6,
   "outputs": [
    {
     "data": {
      "text/plain": "A           float64\nB    datetime64[ns]\nC           float32\nD             int32\nE          category\nF            object\ndtype: object"
     },
     "execution_count": 6,
     "metadata": {},
     "output_type": "execute_result"
    }
   ],
   "source": [
    "# 查看不同列的数据类型\n",
    "df2.dtypes"
   ],
   "metadata": {
    "collapsed": false,
    "pycharm": {
     "name": "#%%\n"
    }
   }
  },
  {
   "cell_type": "code",
   "execution_count": 7,
   "outputs": [],
   "source": [
    "# 如果你使用的是IPython,使用Tab自动补全功能会识别所有的属性以及自定义的列，下图中是所有能够被自动识别的属性的一个子集\n",
    "#df2.<TAB>"
   ],
   "metadata": {
    "collapsed": false,
    "pycharm": {
     "name": "#%%\n"
    }
   }
  },
  {
   "cell_type": "code",
   "execution_count": 8,
   "outputs": [
    {
     "data": {
      "text/plain": "                   A         B         C         D\n2013-01-01 -0.059346  0.428461  0.771164  0.423302\n2013-01-02 -0.250375  0.733617 -2.220983  0.696549\n2013-01-03  0.237575  0.221165 -1.871808 -0.268389\n2013-01-04 -0.848854 -0.719292 -0.155037 -0.593112\n2013-01-05 -0.272927 -0.727651 -0.173433 -1.290932",
      "text/html": "<div>\n<style scoped>\n    .dataframe tbody tr th:only-of-type {\n        vertical-align: middle;\n    }\n\n    .dataframe tbody tr th {\n        vertical-align: top;\n    }\n\n    .dataframe thead th {\n        text-align: right;\n    }\n</style>\n<table border=\"1\" class=\"dataframe\">\n  <thead>\n    <tr style=\"text-align: right;\">\n      <th></th>\n      <th>A</th>\n      <th>B</th>\n      <th>C</th>\n      <th>D</th>\n    </tr>\n  </thead>\n  <tbody>\n    <tr>\n      <th>2013-01-01</th>\n      <td>-0.059346</td>\n      <td>0.428461</td>\n      <td>0.771164</td>\n      <td>0.423302</td>\n    </tr>\n    <tr>\n      <th>2013-01-02</th>\n      <td>-0.250375</td>\n      <td>0.733617</td>\n      <td>-2.220983</td>\n      <td>0.696549</td>\n    </tr>\n    <tr>\n      <th>2013-01-03</th>\n      <td>0.237575</td>\n      <td>0.221165</td>\n      <td>-1.871808</td>\n      <td>-0.268389</td>\n    </tr>\n    <tr>\n      <th>2013-01-04</th>\n      <td>-0.848854</td>\n      <td>-0.719292</td>\n      <td>-0.155037</td>\n      <td>-0.593112</td>\n    </tr>\n    <tr>\n      <th>2013-01-05</th>\n      <td>-0.272927</td>\n      <td>-0.727651</td>\n      <td>-0.173433</td>\n      <td>-1.290932</td>\n    </tr>\n  </tbody>\n</table>\n</div>"
     },
     "execution_count": 8,
     "metadata": {},
     "output_type": "execute_result"
    }
   ],
   "source": [
    "# 查看DataFrame中头部行数据\n",
    "df.head()"
   ],
   "metadata": {
    "collapsed": false,
    "pycharm": {
     "name": "#%%\n"
    }
   }
  },
  {
   "cell_type": "code",
   "execution_count": 9,
   "outputs": [
    {
     "data": {
      "text/plain": "                   A         B         C         D\n2013-01-04 -0.848854 -0.719292 -0.155037 -0.593112\n2013-01-05 -0.272927 -0.727651 -0.173433 -1.290932\n2013-01-06  0.332345  0.639660  1.577506  0.655596",
      "text/html": "<div>\n<style scoped>\n    .dataframe tbody tr th:only-of-type {\n        vertical-align: middle;\n    }\n\n    .dataframe tbody tr th {\n        vertical-align: top;\n    }\n\n    .dataframe thead th {\n        text-align: right;\n    }\n</style>\n<table border=\"1\" class=\"dataframe\">\n  <thead>\n    <tr style=\"text-align: right;\">\n      <th></th>\n      <th>A</th>\n      <th>B</th>\n      <th>C</th>\n      <th>D</th>\n    </tr>\n  </thead>\n  <tbody>\n    <tr>\n      <th>2013-01-04</th>\n      <td>-0.848854</td>\n      <td>-0.719292</td>\n      <td>-0.155037</td>\n      <td>-0.593112</td>\n    </tr>\n    <tr>\n      <th>2013-01-05</th>\n      <td>-0.272927</td>\n      <td>-0.727651</td>\n      <td>-0.173433</td>\n      <td>-1.290932</td>\n    </tr>\n    <tr>\n      <th>2013-01-06</th>\n      <td>0.332345</td>\n      <td>0.639660</td>\n      <td>1.577506</td>\n      <td>0.655596</td>\n    </tr>\n  </tbody>\n</table>\n</div>"
     },
     "execution_count": 9,
     "metadata": {},
     "output_type": "execute_result"
    }
   ],
   "source": [
    "# 尾部\n",
    "df.tail(3)"
   ],
   "metadata": {
    "collapsed": false,
    "pycharm": {
     "name": "#%%\n"
    }
   }
  },
  {
   "cell_type": "code",
   "execution_count": 10,
   "outputs": [
    {
     "data": {
      "text/plain": "array([[-0.0593464 ,  0.42846089,  0.77116366,  0.42330247],\n       [-0.25037451,  0.73361736, -2.22098253,  0.69654881],\n       [ 0.23757532,  0.22116523, -1.87180768, -0.26838908],\n       [-0.84885401, -0.71929161, -0.15503742, -0.59311228],\n       [-0.27292662, -0.72765085, -0.17343324, -1.29093156],\n       [ 0.33234477,  0.63966015,  1.57750594,  0.65559559]])"
     },
     "execution_count": 10,
     "metadata": {},
     "output_type": "execute_result"
    }
   ],
   "source": [
    "#显示索引、列和底层的numpy数据\n",
    "df.index\n",
    "df.columns\n",
    "df.values"
   ],
   "metadata": {
    "collapsed": false,
    "pycharm": {
     "name": "#%%\n"
    }
   }
  },
  {
   "cell_type": "code",
   "execution_count": 11,
   "outputs": [
    {
     "data": {
      "text/plain": "              A         B         C         D\ncount  6.000000  6.000000  6.000000  6.000000\nmean  -0.143597  0.095994 -0.345432 -0.062831\nstd    0.425306  0.659002  1.473623  0.795085\nmin   -0.848854 -0.727651 -2.220983 -1.290932\n25%   -0.267289 -0.484177 -1.447214 -0.511931\n50%   -0.154860  0.324813 -0.164235  0.077457\n75%    0.163345  0.586860  0.539613  0.597522\nmax    0.332345  0.733617  1.577506  0.696549",
      "text/html": "<div>\n<style scoped>\n    .dataframe tbody tr th:only-of-type {\n        vertical-align: middle;\n    }\n\n    .dataframe tbody tr th {\n        vertical-align: top;\n    }\n\n    .dataframe thead th {\n        text-align: right;\n    }\n</style>\n<table border=\"1\" class=\"dataframe\">\n  <thead>\n    <tr style=\"text-align: right;\">\n      <th></th>\n      <th>A</th>\n      <th>B</th>\n      <th>C</th>\n      <th>D</th>\n    </tr>\n  </thead>\n  <tbody>\n    <tr>\n      <th>count</th>\n      <td>6.000000</td>\n      <td>6.000000</td>\n      <td>6.000000</td>\n      <td>6.000000</td>\n    </tr>\n    <tr>\n      <th>mean</th>\n      <td>-0.143597</td>\n      <td>0.095994</td>\n      <td>-0.345432</td>\n      <td>-0.062831</td>\n    </tr>\n    <tr>\n      <th>std</th>\n      <td>0.425306</td>\n      <td>0.659002</td>\n      <td>1.473623</td>\n      <td>0.795085</td>\n    </tr>\n    <tr>\n      <th>min</th>\n      <td>-0.848854</td>\n      <td>-0.727651</td>\n      <td>-2.220983</td>\n      <td>-1.290932</td>\n    </tr>\n    <tr>\n      <th>25%</th>\n      <td>-0.267289</td>\n      <td>-0.484177</td>\n      <td>-1.447214</td>\n      <td>-0.511931</td>\n    </tr>\n    <tr>\n      <th>50%</th>\n      <td>-0.154860</td>\n      <td>0.324813</td>\n      <td>-0.164235</td>\n      <td>0.077457</td>\n    </tr>\n    <tr>\n      <th>75%</th>\n      <td>0.163345</td>\n      <td>0.586860</td>\n      <td>0.539613</td>\n      <td>0.597522</td>\n    </tr>\n    <tr>\n      <th>max</th>\n      <td>0.332345</td>\n      <td>0.733617</td>\n      <td>1.577506</td>\n      <td>0.696549</td>\n    </tr>\n  </tbody>\n</table>\n</div>"
     },
     "execution_count": 11,
     "metadata": {},
     "output_type": "execute_result"
    }
   ],
   "source": [
    "# describe()函数对于数据的快速统计汇总：\n",
    "df.describe()"
   ],
   "metadata": {
    "collapsed": false,
    "pycharm": {
     "name": "#%%\n"
    }
   }
  },
  {
   "cell_type": "code",
   "execution_count": 12,
   "outputs": [
    {
     "data": {
      "text/plain": "   2013-01-01  2013-01-02  2013-01-03  2013-01-04  2013-01-05  2013-01-06\nA   -0.059346   -0.250375    0.237575   -0.848854   -0.272927    0.332345\nB    0.428461    0.733617    0.221165   -0.719292   -0.727651    0.639660\nC    0.771164   -2.220983   -1.871808   -0.155037   -0.173433    1.577506\nD    0.423302    0.696549   -0.268389   -0.593112   -1.290932    0.655596",
      "text/html": "<div>\n<style scoped>\n    .dataframe tbody tr th:only-of-type {\n        vertical-align: middle;\n    }\n\n    .dataframe tbody tr th {\n        vertical-align: top;\n    }\n\n    .dataframe thead th {\n        text-align: right;\n    }\n</style>\n<table border=\"1\" class=\"dataframe\">\n  <thead>\n    <tr style=\"text-align: right;\">\n      <th></th>\n      <th>2013-01-01</th>\n      <th>2013-01-02</th>\n      <th>2013-01-03</th>\n      <th>2013-01-04</th>\n      <th>2013-01-05</th>\n      <th>2013-01-06</th>\n    </tr>\n  </thead>\n  <tbody>\n    <tr>\n      <th>A</th>\n      <td>-0.059346</td>\n      <td>-0.250375</td>\n      <td>0.237575</td>\n      <td>-0.848854</td>\n      <td>-0.272927</td>\n      <td>0.332345</td>\n    </tr>\n    <tr>\n      <th>B</th>\n      <td>0.428461</td>\n      <td>0.733617</td>\n      <td>0.221165</td>\n      <td>-0.719292</td>\n      <td>-0.727651</td>\n      <td>0.639660</td>\n    </tr>\n    <tr>\n      <th>C</th>\n      <td>0.771164</td>\n      <td>-2.220983</td>\n      <td>-1.871808</td>\n      <td>-0.155037</td>\n      <td>-0.173433</td>\n      <td>1.577506</td>\n    </tr>\n    <tr>\n      <th>D</th>\n      <td>0.423302</td>\n      <td>0.696549</td>\n      <td>-0.268389</td>\n      <td>-0.593112</td>\n      <td>-1.290932</td>\n      <td>0.655596</td>\n    </tr>\n  </tbody>\n</table>\n</div>"
     },
     "execution_count": 12,
     "metadata": {},
     "output_type": "execute_result"
    }
   ],
   "source": [
    "#对数据的转置\n",
    "df.T"
   ],
   "metadata": {
    "collapsed": false,
    "pycharm": {
     "name": "#%%\n"
    }
   }
  },
  {
   "cell_type": "code",
   "execution_count": 13,
   "outputs": [
    {
     "data": {
      "text/plain": "                   D         C         B         A\n2013-01-01  0.423302  0.771164  0.428461 -0.059346\n2013-01-02  0.696549 -2.220983  0.733617 -0.250375\n2013-01-03 -0.268389 -1.871808  0.221165  0.237575\n2013-01-04 -0.593112 -0.155037 -0.719292 -0.848854\n2013-01-05 -1.290932 -0.173433 -0.727651 -0.272927\n2013-01-06  0.655596  1.577506  0.639660  0.332345",
      "text/html": "<div>\n<style scoped>\n    .dataframe tbody tr th:only-of-type {\n        vertical-align: middle;\n    }\n\n    .dataframe tbody tr th {\n        vertical-align: top;\n    }\n\n    .dataframe thead th {\n        text-align: right;\n    }\n</style>\n<table border=\"1\" class=\"dataframe\">\n  <thead>\n    <tr style=\"text-align: right;\">\n      <th></th>\n      <th>D</th>\n      <th>C</th>\n      <th>B</th>\n      <th>A</th>\n    </tr>\n  </thead>\n  <tbody>\n    <tr>\n      <th>2013-01-01</th>\n      <td>0.423302</td>\n      <td>0.771164</td>\n      <td>0.428461</td>\n      <td>-0.059346</td>\n    </tr>\n    <tr>\n      <th>2013-01-02</th>\n      <td>0.696549</td>\n      <td>-2.220983</td>\n      <td>0.733617</td>\n      <td>-0.250375</td>\n    </tr>\n    <tr>\n      <th>2013-01-03</th>\n      <td>-0.268389</td>\n      <td>-1.871808</td>\n      <td>0.221165</td>\n      <td>0.237575</td>\n    </tr>\n    <tr>\n      <th>2013-01-04</th>\n      <td>-0.593112</td>\n      <td>-0.155037</td>\n      <td>-0.719292</td>\n      <td>-0.848854</td>\n    </tr>\n    <tr>\n      <th>2013-01-05</th>\n      <td>-1.290932</td>\n      <td>-0.173433</td>\n      <td>-0.727651</td>\n      <td>-0.272927</td>\n    </tr>\n    <tr>\n      <th>2013-01-06</th>\n      <td>0.655596</td>\n      <td>1.577506</td>\n      <td>0.639660</td>\n      <td>0.332345</td>\n    </tr>\n  </tbody>\n</table>\n</div>"
     },
     "execution_count": 13,
     "metadata": {},
     "output_type": "execute_result"
    }
   ],
   "source": [
    "# 按轴进行排序\n",
    "df.sort_index(axis=1, ascending=False)"
   ],
   "metadata": {
    "collapsed": false,
    "pycharm": {
     "name": "#%%\n"
    }
   }
  },
  {
   "cell_type": "code",
   "execution_count": 84,
   "outputs": [
    {
     "data": {
      "text/plain": "        A  B    C         D         E\n0     one  A  foo  1.469484  1.635029\n1     one  B  foo -0.103904  0.005369\n4     one  B  bar -0.624916 -1.547955\n5     one  C  bar  0.811104  0.579376\n8     one  C  foo -2.164401  0.411625\n9     one  A  bar -0.227303 -0.467691\n3   three  A  bar  2.197993  0.522320\n7   three  B  foo -0.107214  0.192611\n11  three  C  bar -1.139284  0.511508\n2     two  C  foo -0.779242 -0.268199\n6     two  A  foo -1.922461  0.501023\n10    two  B  bar -0.928717 -1.087196",
      "text/html": "<div>\n<style scoped>\n    .dataframe tbody tr th:only-of-type {\n        vertical-align: middle;\n    }\n\n    .dataframe tbody tr th {\n        vertical-align: top;\n    }\n\n    .dataframe thead th {\n        text-align: right;\n    }\n</style>\n<table border=\"1\" class=\"dataframe\">\n  <thead>\n    <tr style=\"text-align: right;\">\n      <th></th>\n      <th>A</th>\n      <th>B</th>\n      <th>C</th>\n      <th>D</th>\n      <th>E</th>\n    </tr>\n  </thead>\n  <tbody>\n    <tr>\n      <th>0</th>\n      <td>one</td>\n      <td>A</td>\n      <td>foo</td>\n      <td>1.469484</td>\n      <td>1.635029</td>\n    </tr>\n    <tr>\n      <th>1</th>\n      <td>one</td>\n      <td>B</td>\n      <td>foo</td>\n      <td>-0.103904</td>\n      <td>0.005369</td>\n    </tr>\n    <tr>\n      <th>4</th>\n      <td>one</td>\n      <td>B</td>\n      <td>bar</td>\n      <td>-0.624916</td>\n      <td>-1.547955</td>\n    </tr>\n    <tr>\n      <th>5</th>\n      <td>one</td>\n      <td>C</td>\n      <td>bar</td>\n      <td>0.811104</td>\n      <td>0.579376</td>\n    </tr>\n    <tr>\n      <th>8</th>\n      <td>one</td>\n      <td>C</td>\n      <td>foo</td>\n      <td>-2.164401</td>\n      <td>0.411625</td>\n    </tr>\n    <tr>\n      <th>9</th>\n      <td>one</td>\n      <td>A</td>\n      <td>bar</td>\n      <td>-0.227303</td>\n      <td>-0.467691</td>\n    </tr>\n    <tr>\n      <th>3</th>\n      <td>three</td>\n      <td>A</td>\n      <td>bar</td>\n      <td>2.197993</td>\n      <td>0.522320</td>\n    </tr>\n    <tr>\n      <th>7</th>\n      <td>three</td>\n      <td>B</td>\n      <td>foo</td>\n      <td>-0.107214</td>\n      <td>0.192611</td>\n    </tr>\n    <tr>\n      <th>11</th>\n      <td>three</td>\n      <td>C</td>\n      <td>bar</td>\n      <td>-1.139284</td>\n      <td>0.511508</td>\n    </tr>\n    <tr>\n      <th>2</th>\n      <td>two</td>\n      <td>C</td>\n      <td>foo</td>\n      <td>-0.779242</td>\n      <td>-0.268199</td>\n    </tr>\n    <tr>\n      <th>6</th>\n      <td>two</td>\n      <td>A</td>\n      <td>foo</td>\n      <td>-1.922461</td>\n      <td>0.501023</td>\n    </tr>\n    <tr>\n      <th>10</th>\n      <td>two</td>\n      <td>B</td>\n      <td>bar</td>\n      <td>-0.928717</td>\n      <td>-1.087196</td>\n    </tr>\n  </tbody>\n</table>\n</div>"
     },
     "execution_count": 84,
     "metadata": {},
     "output_type": "execute_result"
    }
   ],
   "source": [
    "# 按值进行排序\n",
    "df.sort_values(by='A')"
   ],
   "metadata": {
    "collapsed": false,
    "pycharm": {
     "name": "#%%\n"
    }
   }
  },
  {
   "cell_type": "code",
   "execution_count": 15,
   "outputs": [
    {
     "data": {
      "text/plain": "2013-01-01   -0.059346\n2013-01-02   -0.250375\n2013-01-03    0.237575\n2013-01-04   -0.848854\n2013-01-05   -0.272927\n2013-01-06    0.332345\nFreq: D, Name: A, dtype: float64"
     },
     "execution_count": 15,
     "metadata": {},
     "output_type": "execute_result"
    }
   ],
   "source": [
    "# 选择一个单独的列，这将会返回一个Series,等同于df.A\n",
    "#df.A\n",
    "df['A']"
   ],
   "metadata": {
    "collapsed": false,
    "pycharm": {
     "name": "#%%\n"
    }
   }
  },
  {
   "cell_type": "code",
   "execution_count": 16,
   "outputs": [
    {
     "data": {
      "text/plain": "                   A         B         C         D\n2013-01-02 -0.250375  0.733617 -2.220983  0.696549\n2013-01-03  0.237575  0.221165 -1.871808 -0.268389\n2013-01-04 -0.848854 -0.719292 -0.155037 -0.593112",
      "text/html": "<div>\n<style scoped>\n    .dataframe tbody tr th:only-of-type {\n        vertical-align: middle;\n    }\n\n    .dataframe tbody tr th {\n        vertical-align: top;\n    }\n\n    .dataframe thead th {\n        text-align: right;\n    }\n</style>\n<table border=\"1\" class=\"dataframe\">\n  <thead>\n    <tr style=\"text-align: right;\">\n      <th></th>\n      <th>A</th>\n      <th>B</th>\n      <th>C</th>\n      <th>D</th>\n    </tr>\n  </thead>\n  <tbody>\n    <tr>\n      <th>2013-01-02</th>\n      <td>-0.250375</td>\n      <td>0.733617</td>\n      <td>-2.220983</td>\n      <td>0.696549</td>\n    </tr>\n    <tr>\n      <th>2013-01-03</th>\n      <td>0.237575</td>\n      <td>0.221165</td>\n      <td>-1.871808</td>\n      <td>-0.268389</td>\n    </tr>\n    <tr>\n      <th>2013-01-04</th>\n      <td>-0.848854</td>\n      <td>-0.719292</td>\n      <td>-0.155037</td>\n      <td>-0.593112</td>\n    </tr>\n  </tbody>\n</table>\n</div>"
     },
     "execution_count": 16,
     "metadata": {},
     "output_type": "execute_result"
    }
   ],
   "source": [
    "# 通过[]进行选择，这将会对行进行切片\n",
    "df[0:3]\n",
    "df['20130102':'20130104']"
   ],
   "metadata": {
    "collapsed": false,
    "pycharm": {
     "name": "#%%\n"
    }
   }
  },
  {
   "cell_type": "code",
   "execution_count": 17,
   "outputs": [
    {
     "data": {
      "text/plain": "A   -0.059346\nB    0.428461\nC    0.771164\nD    0.423302\nName: 2013-01-01 00:00:00, dtype: float64"
     },
     "execution_count": 17,
     "metadata": {},
     "output_type": "execute_result"
    }
   ],
   "source": [
    "#使用标签来获取一个交叉的区域\n",
    "df.loc[dates[0]]"
   ],
   "metadata": {
    "collapsed": false,
    "pycharm": {
     "name": "#%%\n"
    }
   }
  },
  {
   "cell_type": "code",
   "execution_count": 18,
   "outputs": [
    {
     "data": {
      "text/plain": "                   A         B\n2013-01-01 -0.059346  0.428461\n2013-01-02 -0.250375  0.733617\n2013-01-03  0.237575  0.221165\n2013-01-04 -0.848854 -0.719292\n2013-01-05 -0.272927 -0.727651\n2013-01-06  0.332345  0.639660",
      "text/html": "<div>\n<style scoped>\n    .dataframe tbody tr th:only-of-type {\n        vertical-align: middle;\n    }\n\n    .dataframe tbody tr th {\n        vertical-align: top;\n    }\n\n    .dataframe thead th {\n        text-align: right;\n    }\n</style>\n<table border=\"1\" class=\"dataframe\">\n  <thead>\n    <tr style=\"text-align: right;\">\n      <th></th>\n      <th>A</th>\n      <th>B</th>\n    </tr>\n  </thead>\n  <tbody>\n    <tr>\n      <th>2013-01-01</th>\n      <td>-0.059346</td>\n      <td>0.428461</td>\n    </tr>\n    <tr>\n      <th>2013-01-02</th>\n      <td>-0.250375</td>\n      <td>0.733617</td>\n    </tr>\n    <tr>\n      <th>2013-01-03</th>\n      <td>0.237575</td>\n      <td>0.221165</td>\n    </tr>\n    <tr>\n      <th>2013-01-04</th>\n      <td>-0.848854</td>\n      <td>-0.719292</td>\n    </tr>\n    <tr>\n      <th>2013-01-05</th>\n      <td>-0.272927</td>\n      <td>-0.727651</td>\n    </tr>\n    <tr>\n      <th>2013-01-06</th>\n      <td>0.332345</td>\n      <td>0.639660</td>\n    </tr>\n  </tbody>\n</table>\n</div>"
     },
     "execution_count": 18,
     "metadata": {},
     "output_type": "execute_result"
    }
   ],
   "source": [
    "# 通过标签在多个轴上进行选择\n",
    "df.loc[:, ['A', 'B']]"
   ],
   "metadata": {
    "collapsed": false,
    "pycharm": {
     "name": "#%%\n"
    }
   }
  },
  {
   "cell_type": "code",
   "execution_count": 19,
   "outputs": [
    {
     "data": {
      "text/plain": "                   A         B\n2013-01-02 -0.250375  0.733617\n2013-01-03  0.237575  0.221165\n2013-01-04 -0.848854 -0.719292",
      "text/html": "<div>\n<style scoped>\n    .dataframe tbody tr th:only-of-type {\n        vertical-align: middle;\n    }\n\n    .dataframe tbody tr th {\n        vertical-align: top;\n    }\n\n    .dataframe thead th {\n        text-align: right;\n    }\n</style>\n<table border=\"1\" class=\"dataframe\">\n  <thead>\n    <tr style=\"text-align: right;\">\n      <th></th>\n      <th>A</th>\n      <th>B</th>\n    </tr>\n  </thead>\n  <tbody>\n    <tr>\n      <th>2013-01-02</th>\n      <td>-0.250375</td>\n      <td>0.733617</td>\n    </tr>\n    <tr>\n      <th>2013-01-03</th>\n      <td>0.237575</td>\n      <td>0.221165</td>\n    </tr>\n    <tr>\n      <th>2013-01-04</th>\n      <td>-0.848854</td>\n      <td>-0.719292</td>\n    </tr>\n  </tbody>\n</table>\n</div>"
     },
     "execution_count": 19,
     "metadata": {},
     "output_type": "execute_result"
    }
   ],
   "source": [
    "# 标签切片\n",
    "df.loc['20130102':'20130104', ['A', 'B']]"
   ],
   "metadata": {
    "collapsed": false,
    "pycharm": {
     "name": "#%%\n"
    }
   }
  },
  {
   "cell_type": "code",
   "execution_count": 20,
   "outputs": [
    {
     "data": {
      "text/plain": "A   -0.250375\nB    0.733617\nName: 2013-01-02 00:00:00, dtype: float64"
     },
     "execution_count": 20,
     "metadata": {},
     "output_type": "execute_result"
    }
   ],
   "source": [
    "# 对于返回的对象进行维度缩减\n",
    "df.loc['20130102', ['A', 'B']]\n",
    "# df.T.loc[['A', 'B'], '20130102']"
   ],
   "metadata": {
    "collapsed": false,
    "pycharm": {
     "name": "#%%\n"
    }
   }
  },
  {
   "cell_type": "code",
   "execution_count": 21,
   "outputs": [
    {
     "data": {
      "text/plain": "-0.05934639592599349"
     },
     "execution_count": 21,
     "metadata": {},
     "output_type": "execute_result"
    }
   ],
   "source": [
    "# 获取一个标量\n",
    "df.loc[dates[0], 'A']"
   ],
   "metadata": {
    "collapsed": false,
    "pycharm": {
     "name": "#%%\n"
    }
   }
  },
  {
   "cell_type": "code",
   "execution_count": 22,
   "outputs": [
    {
     "data": {
      "text/plain": "-0.05934639592599349"
     },
     "execution_count": 22,
     "metadata": {},
     "output_type": "execute_result"
    }
   ],
   "source": [
    "# 快速方法一个标量（与上一个方法等价）\n",
    "df.at[dates[0], 'A']"
   ],
   "metadata": {
    "collapsed": false,
    "pycharm": {
     "name": "#%%\n"
    }
   }
  },
  {
   "cell_type": "code",
   "execution_count": 23,
   "outputs": [
    {
     "data": {
      "text/plain": "A   -0.848854\nB   -0.719292\nC   -0.155037\nD   -0.593112\nName: 2013-01-04 00:00:00, dtype: float64"
     },
     "execution_count": 23,
     "metadata": {},
     "output_type": "execute_result"
    }
   ],
   "source": [
    "# 通过位置选择\n",
    "#通过传递数值进行位置选择（选择的是行）\n",
    "df.iloc[3]"
   ],
   "metadata": {
    "collapsed": false,
    "pycharm": {
     "name": "#%%\n"
    }
   }
  },
  {
   "cell_type": "code",
   "execution_count": 24,
   "outputs": [
    {
     "data": {
      "text/plain": "                   A         B\n2013-01-04 -0.848854 -0.719292\n2013-01-05 -0.272927 -0.727651",
      "text/html": "<div>\n<style scoped>\n    .dataframe tbody tr th:only-of-type {\n        vertical-align: middle;\n    }\n\n    .dataframe tbody tr th {\n        vertical-align: top;\n    }\n\n    .dataframe thead th {\n        text-align: right;\n    }\n</style>\n<table border=\"1\" class=\"dataframe\">\n  <thead>\n    <tr style=\"text-align: right;\">\n      <th></th>\n      <th>A</th>\n      <th>B</th>\n    </tr>\n  </thead>\n  <tbody>\n    <tr>\n      <th>2013-01-04</th>\n      <td>-0.848854</td>\n      <td>-0.719292</td>\n    </tr>\n    <tr>\n      <th>2013-01-05</th>\n      <td>-0.272927</td>\n      <td>-0.727651</td>\n    </tr>\n  </tbody>\n</table>\n</div>"
     },
     "execution_count": 24,
     "metadata": {},
     "output_type": "execute_result"
    }
   ],
   "source": [
    "# 通过数值进行切片，与numpy/python中情况类似\n",
    "df.iloc[3:5, 0:2]\n",
    "# df.loc[:'20130102', ['A']]"
   ],
   "metadata": {
    "collapsed": false,
    "pycharm": {
     "name": "#%%\n"
    }
   }
  },
  {
   "cell_type": "code",
   "execution_count": 25,
   "outputs": [
    {
     "data": {
      "text/plain": "                   B         C\n2013-01-01  0.428461  0.771164\n2013-01-02  0.733617 -2.220983\n2013-01-03  0.221165 -1.871808\n2013-01-04 -0.719292 -0.155037\n2013-01-05 -0.727651 -0.173433\n2013-01-06  0.639660  1.577506",
      "text/html": "<div>\n<style scoped>\n    .dataframe tbody tr th:only-of-type {\n        vertical-align: middle;\n    }\n\n    .dataframe tbody tr th {\n        vertical-align: top;\n    }\n\n    .dataframe thead th {\n        text-align: right;\n    }\n</style>\n<table border=\"1\" class=\"dataframe\">\n  <thead>\n    <tr style=\"text-align: right;\">\n      <th></th>\n      <th>B</th>\n      <th>C</th>\n    </tr>\n  </thead>\n  <tbody>\n    <tr>\n      <th>2013-01-01</th>\n      <td>0.428461</td>\n      <td>0.771164</td>\n    </tr>\n    <tr>\n      <th>2013-01-02</th>\n      <td>0.733617</td>\n      <td>-2.220983</td>\n    </tr>\n    <tr>\n      <th>2013-01-03</th>\n      <td>0.221165</td>\n      <td>-1.871808</td>\n    </tr>\n    <tr>\n      <th>2013-01-04</th>\n      <td>-0.719292</td>\n      <td>-0.155037</td>\n    </tr>\n    <tr>\n      <th>2013-01-05</th>\n      <td>-0.727651</td>\n      <td>-0.173433</td>\n    </tr>\n    <tr>\n      <th>2013-01-06</th>\n      <td>0.639660</td>\n      <td>1.577506</td>\n    </tr>\n  </tbody>\n</table>\n</div>"
     },
     "execution_count": 25,
     "metadata": {},
     "output_type": "execute_result"
    }
   ],
   "source": [
    "# 对列进行切片\n",
    "df.iloc[:, 1:3]"
   ],
   "metadata": {
    "collapsed": false,
    "pycharm": {
     "name": "#%%\n"
    }
   }
  },
  {
   "cell_type": "code",
   "execution_count": 26,
   "outputs": [
    {
     "data": {
      "text/plain": "0.7336173618384189"
     },
     "execution_count": 26,
     "metadata": {},
     "output_type": "execute_result"
    }
   ],
   "source": [
    "#获取特定的值\n",
    "df.iloc[1, 1]  # 二位表也就是坐标咯"
   ],
   "metadata": {
    "collapsed": false,
    "pycharm": {
     "name": "#%%\n"
    }
   }
  },
  {
   "cell_type": "code",
   "execution_count": 27,
   "outputs": [
    {
     "data": {
      "text/plain": "0.7336173618384189"
     },
     "execution_count": 27,
     "metadata": {},
     "output_type": "execute_result"
    }
   ],
   "source": [
    "#快速访问标量（等同于前一个方法）：\n",
    "df.iat[1, 1]"
   ],
   "metadata": {
    "collapsed": false,
    "pycharm": {
     "name": "#%%\n"
    }
   }
  },
  {
   "cell_type": "code",
   "execution_count": 28,
   "outputs": [
    {
     "data": {
      "text/plain": "                   A         B         C         D\n2013-01-03  0.237575  0.221165 -1.871808 -0.268389\n2013-01-06  0.332345  0.639660  1.577506  0.655596",
      "text/html": "<div>\n<style scoped>\n    .dataframe tbody tr th:only-of-type {\n        vertical-align: middle;\n    }\n\n    .dataframe tbody tr th {\n        vertical-align: top;\n    }\n\n    .dataframe thead th {\n        text-align: right;\n    }\n</style>\n<table border=\"1\" class=\"dataframe\">\n  <thead>\n    <tr style=\"text-align: right;\">\n      <th></th>\n      <th>A</th>\n      <th>B</th>\n      <th>C</th>\n      <th>D</th>\n    </tr>\n  </thead>\n  <tbody>\n    <tr>\n      <th>2013-01-03</th>\n      <td>0.237575</td>\n      <td>0.221165</td>\n      <td>-1.871808</td>\n      <td>-0.268389</td>\n    </tr>\n    <tr>\n      <th>2013-01-06</th>\n      <td>0.332345</td>\n      <td>0.639660</td>\n      <td>1.577506</td>\n      <td>0.655596</td>\n    </tr>\n  </tbody>\n</table>\n</div>"
     },
     "execution_count": 28,
     "metadata": {},
     "output_type": "execute_result"
    }
   ],
   "source": [
    "#布尔索引\n",
    "#使用一个单独列的值来选择数据：\n",
    "df[df.A > 0]"
   ],
   "metadata": {
    "collapsed": false,
    "pycharm": {
     "name": "#%%\n"
    }
   }
  },
  {
   "cell_type": "code",
   "execution_count": 29,
   "outputs": [
    {
     "data": {
      "text/plain": "                   A         B         C         D\n2013-01-01       NaN  0.428461  0.771164  0.423302\n2013-01-02       NaN  0.733617       NaN  0.696549\n2013-01-03  0.237575  0.221165       NaN       NaN\n2013-01-04       NaN       NaN       NaN       NaN\n2013-01-05       NaN       NaN       NaN       NaN\n2013-01-06  0.332345  0.639660  1.577506  0.655596",
      "text/html": "<div>\n<style scoped>\n    .dataframe tbody tr th:only-of-type {\n        vertical-align: middle;\n    }\n\n    .dataframe tbody tr th {\n        vertical-align: top;\n    }\n\n    .dataframe thead th {\n        text-align: right;\n    }\n</style>\n<table border=\"1\" class=\"dataframe\">\n  <thead>\n    <tr style=\"text-align: right;\">\n      <th></th>\n      <th>A</th>\n      <th>B</th>\n      <th>C</th>\n      <th>D</th>\n    </tr>\n  </thead>\n  <tbody>\n    <tr>\n      <th>2013-01-01</th>\n      <td>NaN</td>\n      <td>0.428461</td>\n      <td>0.771164</td>\n      <td>0.423302</td>\n    </tr>\n    <tr>\n      <th>2013-01-02</th>\n      <td>NaN</td>\n      <td>0.733617</td>\n      <td>NaN</td>\n      <td>0.696549</td>\n    </tr>\n    <tr>\n      <th>2013-01-03</th>\n      <td>0.237575</td>\n      <td>0.221165</td>\n      <td>NaN</td>\n      <td>NaN</td>\n    </tr>\n    <tr>\n      <th>2013-01-04</th>\n      <td>NaN</td>\n      <td>NaN</td>\n      <td>NaN</td>\n      <td>NaN</td>\n    </tr>\n    <tr>\n      <th>2013-01-05</th>\n      <td>NaN</td>\n      <td>NaN</td>\n      <td>NaN</td>\n      <td>NaN</td>\n    </tr>\n    <tr>\n      <th>2013-01-06</th>\n      <td>0.332345</td>\n      <td>0.639660</td>\n      <td>1.577506</td>\n      <td>0.655596</td>\n    </tr>\n  </tbody>\n</table>\n</div>"
     },
     "execution_count": 29,
     "metadata": {},
     "output_type": "execute_result"
    }
   ],
   "source": [
    "#使用where操作来选择数据\n",
    "df[df > 0]"
   ],
   "metadata": {
    "collapsed": false,
    "pycharm": {
     "name": "#%%\n"
    }
   }
  },
  {
   "cell_type": "code",
   "execution_count": 30,
   "outputs": [
    {
     "data": {
      "text/plain": "                   A         B         C         D     E\n2013-01-03  0.237575  0.221165 -1.871808 -0.268389   two\n2013-01-05 -0.272927 -0.727651 -0.173433 -1.290932  four",
      "text/html": "<div>\n<style scoped>\n    .dataframe tbody tr th:only-of-type {\n        vertical-align: middle;\n    }\n\n    .dataframe tbody tr th {\n        vertical-align: top;\n    }\n\n    .dataframe thead th {\n        text-align: right;\n    }\n</style>\n<table border=\"1\" class=\"dataframe\">\n  <thead>\n    <tr style=\"text-align: right;\">\n      <th></th>\n      <th>A</th>\n      <th>B</th>\n      <th>C</th>\n      <th>D</th>\n      <th>E</th>\n    </tr>\n  </thead>\n  <tbody>\n    <tr>\n      <th>2013-01-03</th>\n      <td>0.237575</td>\n      <td>0.221165</td>\n      <td>-1.871808</td>\n      <td>-0.268389</td>\n      <td>two</td>\n    </tr>\n    <tr>\n      <th>2013-01-05</th>\n      <td>-0.272927</td>\n      <td>-0.727651</td>\n      <td>-0.173433</td>\n      <td>-1.290932</td>\n      <td>four</td>\n    </tr>\n  </tbody>\n</table>\n</div>"
     },
     "execution_count": 30,
     "metadata": {},
     "output_type": "execute_result"
    }
   ],
   "source": [
    "# 使用isin()方法来过滤\n",
    "df2 = df.copy()\n",
    "df2['E'] = ['one', 'one', 'two', 'three', 'four', 'three']\n",
    "df2\n",
    "df2[df2['E'].isin(['two', 'four'])]"
   ],
   "metadata": {
    "collapsed": false,
    "pycharm": {
     "name": "#%%\n"
    }
   }
  },
  {
   "cell_type": "code",
   "execution_count": 31,
   "outputs": [
    {
     "data": {
      "text/plain": "                   A         B         C         D    F\n2013-01-01 -0.059346  0.428461  0.771164  0.423302  NaN\n2013-01-02 -0.250375  0.733617 -2.220983  0.696549  1.0\n2013-01-03  0.237575  0.221165 -1.871808 -0.268389  2.0\n2013-01-04 -0.848854 -0.719292 -0.155037 -0.593112  3.0\n2013-01-05 -0.272927 -0.727651 -0.173433 -1.290932  4.0\n2013-01-06  0.332345  0.639660  1.577506  0.655596  5.0",
      "text/html": "<div>\n<style scoped>\n    .dataframe tbody tr th:only-of-type {\n        vertical-align: middle;\n    }\n\n    .dataframe tbody tr th {\n        vertical-align: top;\n    }\n\n    .dataframe thead th {\n        text-align: right;\n    }\n</style>\n<table border=\"1\" class=\"dataframe\">\n  <thead>\n    <tr style=\"text-align: right;\">\n      <th></th>\n      <th>A</th>\n      <th>B</th>\n      <th>C</th>\n      <th>D</th>\n      <th>F</th>\n    </tr>\n  </thead>\n  <tbody>\n    <tr>\n      <th>2013-01-01</th>\n      <td>-0.059346</td>\n      <td>0.428461</td>\n      <td>0.771164</td>\n      <td>0.423302</td>\n      <td>NaN</td>\n    </tr>\n    <tr>\n      <th>2013-01-02</th>\n      <td>-0.250375</td>\n      <td>0.733617</td>\n      <td>-2.220983</td>\n      <td>0.696549</td>\n      <td>1.0</td>\n    </tr>\n    <tr>\n      <th>2013-01-03</th>\n      <td>0.237575</td>\n      <td>0.221165</td>\n      <td>-1.871808</td>\n      <td>-0.268389</td>\n      <td>2.0</td>\n    </tr>\n    <tr>\n      <th>2013-01-04</th>\n      <td>-0.848854</td>\n      <td>-0.719292</td>\n      <td>-0.155037</td>\n      <td>-0.593112</td>\n      <td>3.0</td>\n    </tr>\n    <tr>\n      <th>2013-01-05</th>\n      <td>-0.272927</td>\n      <td>-0.727651</td>\n      <td>-0.173433</td>\n      <td>-1.290932</td>\n      <td>4.0</td>\n    </tr>\n    <tr>\n      <th>2013-01-06</th>\n      <td>0.332345</td>\n      <td>0.639660</td>\n      <td>1.577506</td>\n      <td>0.655596</td>\n      <td>5.0</td>\n    </tr>\n  </tbody>\n</table>\n</div>"
     },
     "execution_count": 31,
     "metadata": {},
     "output_type": "execute_result"
    }
   ],
   "source": [
    "#何止一个新的列\n",
    "s1 = pd.Series([1, 2, 3, 4, 5, 6], index=pd.date_range('20130102', periods=6))\n",
    "s1\n",
    "df['F'] = s1\n",
    "df"
   ],
   "metadata": {
    "collapsed": false,
    "pycharm": {
     "name": "#%%\n"
    }
   }
  },
  {
   "cell_type": "code",
   "execution_count": 32,
   "outputs": [
    {
     "data": {
      "text/plain": "                   A         B         C         D    F\n2013-01-01  0.000000  0.428461  0.771164  0.423302  NaN\n2013-01-02 -0.250375  0.733617 -2.220983  0.696549  1.0\n2013-01-03  0.237575  0.221165 -1.871808 -0.268389  2.0\n2013-01-04 -0.848854 -0.719292 -0.155037 -0.593112  3.0\n2013-01-05 -0.272927 -0.727651 -0.173433 -1.290932  4.0\n2013-01-06  0.332345  0.639660  1.577506  0.655596  5.0",
      "text/html": "<div>\n<style scoped>\n    .dataframe tbody tr th:only-of-type {\n        vertical-align: middle;\n    }\n\n    .dataframe tbody tr th {\n        vertical-align: top;\n    }\n\n    .dataframe thead th {\n        text-align: right;\n    }\n</style>\n<table border=\"1\" class=\"dataframe\">\n  <thead>\n    <tr style=\"text-align: right;\">\n      <th></th>\n      <th>A</th>\n      <th>B</th>\n      <th>C</th>\n      <th>D</th>\n      <th>F</th>\n    </tr>\n  </thead>\n  <tbody>\n    <tr>\n      <th>2013-01-01</th>\n      <td>0.000000</td>\n      <td>0.428461</td>\n      <td>0.771164</td>\n      <td>0.423302</td>\n      <td>NaN</td>\n    </tr>\n    <tr>\n      <th>2013-01-02</th>\n      <td>-0.250375</td>\n      <td>0.733617</td>\n      <td>-2.220983</td>\n      <td>0.696549</td>\n      <td>1.0</td>\n    </tr>\n    <tr>\n      <th>2013-01-03</th>\n      <td>0.237575</td>\n      <td>0.221165</td>\n      <td>-1.871808</td>\n      <td>-0.268389</td>\n      <td>2.0</td>\n    </tr>\n    <tr>\n      <th>2013-01-04</th>\n      <td>-0.848854</td>\n      <td>-0.719292</td>\n      <td>-0.155037</td>\n      <td>-0.593112</td>\n      <td>3.0</td>\n    </tr>\n    <tr>\n      <th>2013-01-05</th>\n      <td>-0.272927</td>\n      <td>-0.727651</td>\n      <td>-0.173433</td>\n      <td>-1.290932</td>\n      <td>4.0</td>\n    </tr>\n    <tr>\n      <th>2013-01-06</th>\n      <td>0.332345</td>\n      <td>0.639660</td>\n      <td>1.577506</td>\n      <td>0.655596</td>\n      <td>5.0</td>\n    </tr>\n  </tbody>\n</table>\n</div>"
     },
     "execution_count": 32,
     "metadata": {},
     "output_type": "execute_result"
    }
   ],
   "source": [
    "# 通过标签设置新的值\n",
    "df.at[dates[0], 'A'] = 0\n",
    "df"
   ],
   "metadata": {
    "collapsed": false,
    "pycharm": {
     "name": "#%%\n"
    }
   }
  },
  {
   "cell_type": "code",
   "execution_count": 33,
   "outputs": [
    {
     "data": {
      "text/plain": "                   A         B         C         D    F\n2013-01-01  0.000000  0.000000  0.771164  0.423302  NaN\n2013-01-02 -0.250375  0.733617 -2.220983  0.696549  1.0\n2013-01-03  0.237575  0.221165 -1.871808 -0.268389  2.0\n2013-01-04 -0.848854 -0.719292 -0.155037 -0.593112  3.0\n2013-01-05 -0.272927 -0.727651 -0.173433 -1.290932  4.0\n2013-01-06  0.332345  0.639660  1.577506  0.655596  5.0",
      "text/html": "<div>\n<style scoped>\n    .dataframe tbody tr th:only-of-type {\n        vertical-align: middle;\n    }\n\n    .dataframe tbody tr th {\n        vertical-align: top;\n    }\n\n    .dataframe thead th {\n        text-align: right;\n    }\n</style>\n<table border=\"1\" class=\"dataframe\">\n  <thead>\n    <tr style=\"text-align: right;\">\n      <th></th>\n      <th>A</th>\n      <th>B</th>\n      <th>C</th>\n      <th>D</th>\n      <th>F</th>\n    </tr>\n  </thead>\n  <tbody>\n    <tr>\n      <th>2013-01-01</th>\n      <td>0.000000</td>\n      <td>0.000000</td>\n      <td>0.771164</td>\n      <td>0.423302</td>\n      <td>NaN</td>\n    </tr>\n    <tr>\n      <th>2013-01-02</th>\n      <td>-0.250375</td>\n      <td>0.733617</td>\n      <td>-2.220983</td>\n      <td>0.696549</td>\n      <td>1.0</td>\n    </tr>\n    <tr>\n      <th>2013-01-03</th>\n      <td>0.237575</td>\n      <td>0.221165</td>\n      <td>-1.871808</td>\n      <td>-0.268389</td>\n      <td>2.0</td>\n    </tr>\n    <tr>\n      <th>2013-01-04</th>\n      <td>-0.848854</td>\n      <td>-0.719292</td>\n      <td>-0.155037</td>\n      <td>-0.593112</td>\n      <td>3.0</td>\n    </tr>\n    <tr>\n      <th>2013-01-05</th>\n      <td>-0.272927</td>\n      <td>-0.727651</td>\n      <td>-0.173433</td>\n      <td>-1.290932</td>\n      <td>4.0</td>\n    </tr>\n    <tr>\n      <th>2013-01-06</th>\n      <td>0.332345</td>\n      <td>0.639660</td>\n      <td>1.577506</td>\n      <td>0.655596</td>\n      <td>5.0</td>\n    </tr>\n  </tbody>\n</table>\n</div>"
     },
     "execution_count": 33,
     "metadata": {},
     "output_type": "execute_result"
    }
   ],
   "source": [
    "#通过位置设置新的值\n",
    "df.iat[0, 1] = 0\n",
    "df"
   ],
   "metadata": {
    "collapsed": false,
    "pycharm": {
     "name": "#%%\n"
    }
   }
  },
  {
   "cell_type": "code",
   "execution_count": 34,
   "outputs": [
    {
     "data": {
      "text/plain": "                   A         B         C  D    F\n2013-01-01  0.000000  0.000000  0.771164  5  NaN\n2013-01-02 -0.250375  0.733617 -2.220983  5  1.0\n2013-01-03  0.237575  0.221165 -1.871808  5  2.0\n2013-01-04 -0.848854 -0.719292 -0.155037  5  3.0\n2013-01-05 -0.272927 -0.727651 -0.173433  5  4.0\n2013-01-06  0.332345  0.639660  1.577506  5  5.0",
      "text/html": "<div>\n<style scoped>\n    .dataframe tbody tr th:only-of-type {\n        vertical-align: middle;\n    }\n\n    .dataframe tbody tr th {\n        vertical-align: top;\n    }\n\n    .dataframe thead th {\n        text-align: right;\n    }\n</style>\n<table border=\"1\" class=\"dataframe\">\n  <thead>\n    <tr style=\"text-align: right;\">\n      <th></th>\n      <th>A</th>\n      <th>B</th>\n      <th>C</th>\n      <th>D</th>\n      <th>F</th>\n    </tr>\n  </thead>\n  <tbody>\n    <tr>\n      <th>2013-01-01</th>\n      <td>0.000000</td>\n      <td>0.000000</td>\n      <td>0.771164</td>\n      <td>5</td>\n      <td>NaN</td>\n    </tr>\n    <tr>\n      <th>2013-01-02</th>\n      <td>-0.250375</td>\n      <td>0.733617</td>\n      <td>-2.220983</td>\n      <td>5</td>\n      <td>1.0</td>\n    </tr>\n    <tr>\n      <th>2013-01-03</th>\n      <td>0.237575</td>\n      <td>0.221165</td>\n      <td>-1.871808</td>\n      <td>5</td>\n      <td>2.0</td>\n    </tr>\n    <tr>\n      <th>2013-01-04</th>\n      <td>-0.848854</td>\n      <td>-0.719292</td>\n      <td>-0.155037</td>\n      <td>5</td>\n      <td>3.0</td>\n    </tr>\n    <tr>\n      <th>2013-01-05</th>\n      <td>-0.272927</td>\n      <td>-0.727651</td>\n      <td>-0.173433</td>\n      <td>5</td>\n      <td>4.0</td>\n    </tr>\n    <tr>\n      <th>2013-01-06</th>\n      <td>0.332345</td>\n      <td>0.639660</td>\n      <td>1.577506</td>\n      <td>5</td>\n      <td>5.0</td>\n    </tr>\n  </tbody>\n</table>\n</div>"
     },
     "execution_count": 34,
     "metadata": {},
     "output_type": "execute_result"
    }
   ],
   "source": [
    "#通过一个numpy数组设置一组新值\n",
    "df.loc[:, 'D'] = np.array([5] * len(df))\n",
    "df\n",
    "# len(df)"
   ],
   "metadata": {
    "collapsed": false,
    "pycharm": {
     "name": "#%%\n"
    }
   }
  },
  {
   "cell_type": "code",
   "execution_count": 35,
   "outputs": [
    {
     "data": {
      "text/plain": "                   A         B         C  D    F\n2013-01-01  0.000000  0.000000 -0.771164 -5  NaN\n2013-01-02 -0.250375 -0.733617 -2.220983 -5 -1.0\n2013-01-03 -0.237575 -0.221165 -1.871808 -5 -2.0\n2013-01-04 -0.848854 -0.719292 -0.155037 -5 -3.0\n2013-01-05 -0.272927 -0.727651 -0.173433 -5 -4.0\n2013-01-06 -0.332345 -0.639660 -1.577506 -5 -5.0",
      "text/html": "<div>\n<style scoped>\n    .dataframe tbody tr th:only-of-type {\n        vertical-align: middle;\n    }\n\n    .dataframe tbody tr th {\n        vertical-align: top;\n    }\n\n    .dataframe thead th {\n        text-align: right;\n    }\n</style>\n<table border=\"1\" class=\"dataframe\">\n  <thead>\n    <tr style=\"text-align: right;\">\n      <th></th>\n      <th>A</th>\n      <th>B</th>\n      <th>C</th>\n      <th>D</th>\n      <th>F</th>\n    </tr>\n  </thead>\n  <tbody>\n    <tr>\n      <th>2013-01-01</th>\n      <td>0.000000</td>\n      <td>0.000000</td>\n      <td>-0.771164</td>\n      <td>-5</td>\n      <td>NaN</td>\n    </tr>\n    <tr>\n      <th>2013-01-02</th>\n      <td>-0.250375</td>\n      <td>-0.733617</td>\n      <td>-2.220983</td>\n      <td>-5</td>\n      <td>-1.0</td>\n    </tr>\n    <tr>\n      <th>2013-01-03</th>\n      <td>-0.237575</td>\n      <td>-0.221165</td>\n      <td>-1.871808</td>\n      <td>-5</td>\n      <td>-2.0</td>\n    </tr>\n    <tr>\n      <th>2013-01-04</th>\n      <td>-0.848854</td>\n      <td>-0.719292</td>\n      <td>-0.155037</td>\n      <td>-5</td>\n      <td>-3.0</td>\n    </tr>\n    <tr>\n      <th>2013-01-05</th>\n      <td>-0.272927</td>\n      <td>-0.727651</td>\n      <td>-0.173433</td>\n      <td>-5</td>\n      <td>-4.0</td>\n    </tr>\n    <tr>\n      <th>2013-01-06</th>\n      <td>-0.332345</td>\n      <td>-0.639660</td>\n      <td>-1.577506</td>\n      <td>-5</td>\n      <td>-5.0</td>\n    </tr>\n  </tbody>\n</table>\n</div>"
     },
     "execution_count": 35,
     "metadata": {},
     "output_type": "execute_result"
    }
   ],
   "source": [
    "#通过where操作来设置新值\n",
    "df2 = df.copy()\n",
    "df2[df2 > 0] = -df2  # 都赋值为负数\n",
    "df2"
   ],
   "metadata": {
    "collapsed": false,
    "pycharm": {
     "name": "#%%\n"
    }
   }
  },
  {
   "cell_type": "code",
   "execution_count": 36,
   "outputs": [
    {
     "data": {
      "text/plain": "                   A         B         C  D    F    E\n2013-01-01  0.000000  0.000000  0.771164  5  NaN  1.0\n2013-01-02 -0.250375  0.733617 -2.220983  5  1.0  1.0\n2013-01-03  0.237575  0.221165 -1.871808  5  2.0  NaN\n2013-01-04 -0.848854 -0.719292 -0.155037  5  3.0  NaN",
      "text/html": "<div>\n<style scoped>\n    .dataframe tbody tr th:only-of-type {\n        vertical-align: middle;\n    }\n\n    .dataframe tbody tr th {\n        vertical-align: top;\n    }\n\n    .dataframe thead th {\n        text-align: right;\n    }\n</style>\n<table border=\"1\" class=\"dataframe\">\n  <thead>\n    <tr style=\"text-align: right;\">\n      <th></th>\n      <th>A</th>\n      <th>B</th>\n      <th>C</th>\n      <th>D</th>\n      <th>F</th>\n      <th>E</th>\n    </tr>\n  </thead>\n  <tbody>\n    <tr>\n      <th>2013-01-01</th>\n      <td>0.000000</td>\n      <td>0.000000</td>\n      <td>0.771164</td>\n      <td>5</td>\n      <td>NaN</td>\n      <td>1.0</td>\n    </tr>\n    <tr>\n      <th>2013-01-02</th>\n      <td>-0.250375</td>\n      <td>0.733617</td>\n      <td>-2.220983</td>\n      <td>5</td>\n      <td>1.0</td>\n      <td>1.0</td>\n    </tr>\n    <tr>\n      <th>2013-01-03</th>\n      <td>0.237575</td>\n      <td>0.221165</td>\n      <td>-1.871808</td>\n      <td>5</td>\n      <td>2.0</td>\n      <td>NaN</td>\n    </tr>\n    <tr>\n      <th>2013-01-04</th>\n      <td>-0.848854</td>\n      <td>-0.719292</td>\n      <td>-0.155037</td>\n      <td>5</td>\n      <td>3.0</td>\n      <td>NaN</td>\n    </tr>\n  </tbody>\n</table>\n</div>"
     },
     "execution_count": 36,
     "metadata": {},
     "output_type": "execute_result"
    }
   ],
   "source": [
    "# 缺失值处理\n",
    "# reindex()方法可以对指定轴上的索引进行改变/增加/删除操作，这将返回原始数据的一个拷贝\n",
    "df1 = df.reindex(index=dates[0:4], columns=list(df.columns) + ['E'])  # columns 列增加\n",
    "df1.loc[dates[0]:dates[1], 'E'] = 1\n",
    "df1\n",
    "# df.columns"
   ],
   "metadata": {
    "collapsed": false,
    "pycharm": {
     "name": "#%%\n"
    }
   }
  },
  {
   "cell_type": "markdown",
   "source": [
    "Pandas中loc和iloc函数用法详解（源码+实例）\n",
    "https://blog.csdn.net/W_weiying/article/details/81411257"
   ],
   "metadata": {
    "collapsed": false,
    "pycharm": {
     "name": "#%% md\n"
    }
   }
  },
  {
   "cell_type": "code",
   "execution_count": 37,
   "outputs": [
    {
     "data": {
      "text/plain": "                   A         B         C  D    F    E\n2013-01-02 -0.250375  0.733617 -2.220983  5  1.0  1.0",
      "text/html": "<div>\n<style scoped>\n    .dataframe tbody tr th:only-of-type {\n        vertical-align: middle;\n    }\n\n    .dataframe tbody tr th {\n        vertical-align: top;\n    }\n\n    .dataframe thead th {\n        text-align: right;\n    }\n</style>\n<table border=\"1\" class=\"dataframe\">\n  <thead>\n    <tr style=\"text-align: right;\">\n      <th></th>\n      <th>A</th>\n      <th>B</th>\n      <th>C</th>\n      <th>D</th>\n      <th>F</th>\n      <th>E</th>\n    </tr>\n  </thead>\n  <tbody>\n    <tr>\n      <th>2013-01-02</th>\n      <td>-0.250375</td>\n      <td>0.733617</td>\n      <td>-2.220983</td>\n      <td>5</td>\n      <td>1.0</td>\n      <td>1.0</td>\n    </tr>\n  </tbody>\n</table>\n</div>"
     },
     "execution_count": 37,
     "metadata": {},
     "output_type": "execute_result"
    }
   ],
   "source": [
    "# 去掉包含缺失值的行\n",
    "df1.dropna(how='any')  # how"
   ],
   "metadata": {
    "collapsed": false,
    "pycharm": {
     "name": "#%%\n"
    }
   }
  },
  {
   "cell_type": "code",
   "execution_count": 38,
   "outputs": [
    {
     "data": {
      "text/plain": "                   A         B         C  D    F    E\n2013-01-01  0.000000  0.000000  0.771164  5  5.0  1.0\n2013-01-02 -0.250375  0.733617 -2.220983  5  1.0  1.0\n2013-01-03  0.237575  0.221165 -1.871808  5  2.0  5.0\n2013-01-04 -0.848854 -0.719292 -0.155037  5  3.0  5.0",
      "text/html": "<div>\n<style scoped>\n    .dataframe tbody tr th:only-of-type {\n        vertical-align: middle;\n    }\n\n    .dataframe tbody tr th {\n        vertical-align: top;\n    }\n\n    .dataframe thead th {\n        text-align: right;\n    }\n</style>\n<table border=\"1\" class=\"dataframe\">\n  <thead>\n    <tr style=\"text-align: right;\">\n      <th></th>\n      <th>A</th>\n      <th>B</th>\n      <th>C</th>\n      <th>D</th>\n      <th>F</th>\n      <th>E</th>\n    </tr>\n  </thead>\n  <tbody>\n    <tr>\n      <th>2013-01-01</th>\n      <td>0.000000</td>\n      <td>0.000000</td>\n      <td>0.771164</td>\n      <td>5</td>\n      <td>5.0</td>\n      <td>1.0</td>\n    </tr>\n    <tr>\n      <th>2013-01-02</th>\n      <td>-0.250375</td>\n      <td>0.733617</td>\n      <td>-2.220983</td>\n      <td>5</td>\n      <td>1.0</td>\n      <td>1.0</td>\n    </tr>\n    <tr>\n      <th>2013-01-03</th>\n      <td>0.237575</td>\n      <td>0.221165</td>\n      <td>-1.871808</td>\n      <td>5</td>\n      <td>2.0</td>\n      <td>5.0</td>\n    </tr>\n    <tr>\n      <th>2013-01-04</th>\n      <td>-0.848854</td>\n      <td>-0.719292</td>\n      <td>-0.155037</td>\n      <td>5</td>\n      <td>3.0</td>\n      <td>5.0</td>\n    </tr>\n  </tbody>\n</table>\n</div>"
     },
     "execution_count": 38,
     "metadata": {},
     "output_type": "execute_result"
    }
   ],
   "source": [
    "# 对缺失值进行填充\n",
    "df1.fillna(value=5)"
   ],
   "metadata": {
    "collapsed": false,
    "pycharm": {
     "name": "#%%\n"
    }
   }
  },
  {
   "cell_type": "code",
   "execution_count": 39,
   "outputs": [
    {
     "data": {
      "text/plain": "                A      B      C      D      F      E\n2013-01-01  False  False  False  False   True  False\n2013-01-02  False  False  False  False  False  False\n2013-01-03  False  False  False  False  False   True\n2013-01-04  False  False  False  False  False   True",
      "text/html": "<div>\n<style scoped>\n    .dataframe tbody tr th:only-of-type {\n        vertical-align: middle;\n    }\n\n    .dataframe tbody tr th {\n        vertical-align: top;\n    }\n\n    .dataframe thead th {\n        text-align: right;\n    }\n</style>\n<table border=\"1\" class=\"dataframe\">\n  <thead>\n    <tr style=\"text-align: right;\">\n      <th></th>\n      <th>A</th>\n      <th>B</th>\n      <th>C</th>\n      <th>D</th>\n      <th>F</th>\n      <th>E</th>\n    </tr>\n  </thead>\n  <tbody>\n    <tr>\n      <th>2013-01-01</th>\n      <td>False</td>\n      <td>False</td>\n      <td>False</td>\n      <td>False</td>\n      <td>True</td>\n      <td>False</td>\n    </tr>\n    <tr>\n      <th>2013-01-02</th>\n      <td>False</td>\n      <td>False</td>\n      <td>False</td>\n      <td>False</td>\n      <td>False</td>\n      <td>False</td>\n    </tr>\n    <tr>\n      <th>2013-01-03</th>\n      <td>False</td>\n      <td>False</td>\n      <td>False</td>\n      <td>False</td>\n      <td>False</td>\n      <td>True</td>\n    </tr>\n    <tr>\n      <th>2013-01-04</th>\n      <td>False</td>\n      <td>False</td>\n      <td>False</td>\n      <td>False</td>\n      <td>False</td>\n      <td>True</td>\n    </tr>\n  </tbody>\n</table>\n</div>"
     },
     "execution_count": 39,
     "metadata": {},
     "output_type": "execute_result"
    }
   ],
   "source": [
    "# 对数据进行布尔填充\n",
    "pd.isnull(df1)  # 可见程序返回了布尔值，该处为缺失值，返回True，该处不为缺失值，则返回False\n",
    "# df1"
   ],
   "metadata": {
    "collapsed": false,
    "pycharm": {
     "name": "#%%\n"
    }
   }
  },
  {
   "cell_type": "code",
   "execution_count": 40,
   "outputs": [
    {
     "data": {
      "text/plain": "A   -0.133706\nB    0.024583\nC   -0.345432\nD    5.000000\nF    3.000000\ndtype: float64"
     },
     "execution_count": 40,
     "metadata": {},
     "output_type": "execute_result"
    }
   ],
   "source": [
    "# 统计\n",
    "# 执行描述性统计\n",
    "df.mean()  #即按轴方向求平均，得到每列数据的平均值"
   ],
   "metadata": {
    "collapsed": false,
    "pycharm": {
     "name": "#%%\n"
    }
   }
  },
  {
   "cell_type": "code",
   "execution_count": 41,
   "outputs": [
    {
     "data": {
      "text/plain": "2013-01-01    1.442791\n2013-01-02    0.852452\n2013-01-03    1.117387\n2013-01-04    1.255363\n2013-01-05    1.565198\n2013-01-06    2.509902\nFreq: D, dtype: float64"
     },
     "execution_count": 41,
     "metadata": {},
     "output_type": "execute_result"
    }
   ],
   "source": [
    "# 在其他轴上进行相同的操作\n",
    "df.mean(1)"
   ],
   "metadata": {
    "collapsed": false,
    "pycharm": {
     "name": "#%%\n"
    }
   }
  },
  {
   "cell_type": "code",
   "execution_count": 42,
   "outputs": [
    {
     "data": {
      "text/plain": "                   A         B         C    D    F\n2013-01-01       NaN       NaN       NaN  NaN  NaN\n2013-01-02       NaN       NaN       NaN  NaN  NaN\n2013-01-03 -0.762425 -0.778835 -2.871808  4.0  1.0\n2013-01-04 -3.848854 -3.719292 -3.155037  2.0  0.0\n2013-01-05 -5.272927 -5.727651 -5.173433  0.0 -1.0\n2013-01-06       NaN       NaN       NaN  NaN  NaN",
      "text/html": "<div>\n<style scoped>\n    .dataframe tbody tr th:only-of-type {\n        vertical-align: middle;\n    }\n\n    .dataframe tbody tr th {\n        vertical-align: top;\n    }\n\n    .dataframe thead th {\n        text-align: right;\n    }\n</style>\n<table border=\"1\" class=\"dataframe\">\n  <thead>\n    <tr style=\"text-align: right;\">\n      <th></th>\n      <th>A</th>\n      <th>B</th>\n      <th>C</th>\n      <th>D</th>\n      <th>F</th>\n    </tr>\n  </thead>\n  <tbody>\n    <tr>\n      <th>2013-01-01</th>\n      <td>NaN</td>\n      <td>NaN</td>\n      <td>NaN</td>\n      <td>NaN</td>\n      <td>NaN</td>\n    </tr>\n    <tr>\n      <th>2013-01-02</th>\n      <td>NaN</td>\n      <td>NaN</td>\n      <td>NaN</td>\n      <td>NaN</td>\n      <td>NaN</td>\n    </tr>\n    <tr>\n      <th>2013-01-03</th>\n      <td>-0.762425</td>\n      <td>-0.778835</td>\n      <td>-2.871808</td>\n      <td>4.0</td>\n      <td>1.0</td>\n    </tr>\n    <tr>\n      <th>2013-01-04</th>\n      <td>-3.848854</td>\n      <td>-3.719292</td>\n      <td>-3.155037</td>\n      <td>2.0</td>\n      <td>0.0</td>\n    </tr>\n    <tr>\n      <th>2013-01-05</th>\n      <td>-5.272927</td>\n      <td>-5.727651</td>\n      <td>-5.173433</td>\n      <td>0.0</td>\n      <td>-1.0</td>\n    </tr>\n    <tr>\n      <th>2013-01-06</th>\n      <td>NaN</td>\n      <td>NaN</td>\n      <td>NaN</td>\n      <td>NaN</td>\n      <td>NaN</td>\n    </tr>\n  </tbody>\n</table>\n</div>"
     },
     "execution_count": 42,
     "metadata": {},
     "output_type": "execute_result"
    }
   ],
   "source": [
    "# 对于拥有不同维度，需要对齐的对象进行操作。Pandas会自动的沿着指定的维度进行广播。\n",
    "s = pd.Series([1, 3, 5, np.nan, 6, 8], index=dates).shift(2)  # shift函数是对数据进行移动的操作\n",
    "s\n",
    "# df\n",
    "df.sub(s, axis='index')  #sub()函数用于查找数据帧和其他逐元素的减法"
   ],
   "metadata": {
    "collapsed": false,
    "pycharm": {
     "name": "#%%\n"
    }
   }
  },
  {
   "cell_type": "code",
   "execution_count": 43,
   "outputs": [
    {
     "data": {
      "text/plain": "                   A         B         C  D    F\n2013-01-01  0.000000  0.000000  0.771164  5  NaN\n2013-01-02 -0.250375  0.733617 -2.220983  5  1.0\n2013-01-03  0.237575  0.221165 -1.871808  5  2.0\n2013-01-04 -0.848854 -0.719292 -0.155037  5  3.0\n2013-01-05 -0.272927 -0.727651 -0.173433  5  4.0\n2013-01-06  0.332345  0.639660  1.577506  5  5.0",
      "text/html": "<div>\n<style scoped>\n    .dataframe tbody tr th:only-of-type {\n        vertical-align: middle;\n    }\n\n    .dataframe tbody tr th {\n        vertical-align: top;\n    }\n\n    .dataframe thead th {\n        text-align: right;\n    }\n</style>\n<table border=\"1\" class=\"dataframe\">\n  <thead>\n    <tr style=\"text-align: right;\">\n      <th></th>\n      <th>A</th>\n      <th>B</th>\n      <th>C</th>\n      <th>D</th>\n      <th>F</th>\n    </tr>\n  </thead>\n  <tbody>\n    <tr>\n      <th>2013-01-01</th>\n      <td>0.000000</td>\n      <td>0.000000</td>\n      <td>0.771164</td>\n      <td>5</td>\n      <td>NaN</td>\n    </tr>\n    <tr>\n      <th>2013-01-02</th>\n      <td>-0.250375</td>\n      <td>0.733617</td>\n      <td>-2.220983</td>\n      <td>5</td>\n      <td>1.0</td>\n    </tr>\n    <tr>\n      <th>2013-01-03</th>\n      <td>0.237575</td>\n      <td>0.221165</td>\n      <td>-1.871808</td>\n      <td>5</td>\n      <td>2.0</td>\n    </tr>\n    <tr>\n      <th>2013-01-04</th>\n      <td>-0.848854</td>\n      <td>-0.719292</td>\n      <td>-0.155037</td>\n      <td>5</td>\n      <td>3.0</td>\n    </tr>\n    <tr>\n      <th>2013-01-05</th>\n      <td>-0.272927</td>\n      <td>-0.727651</td>\n      <td>-0.173433</td>\n      <td>5</td>\n      <td>4.0</td>\n    </tr>\n    <tr>\n      <th>2013-01-06</th>\n      <td>0.332345</td>\n      <td>0.639660</td>\n      <td>1.577506</td>\n      <td>5</td>\n      <td>5.0</td>\n    </tr>\n  </tbody>\n</table>\n</div>"
     },
     "execution_count": 43,
     "metadata": {},
     "output_type": "execute_result"
    }
   ],
   "source": [
    "df"
   ],
   "metadata": {
    "collapsed": false,
    "pycharm": {
     "name": "#%%\n"
    }
   }
  },
  {
   "cell_type": "code",
   "execution_count": 44,
   "outputs": [
    {
     "data": {
      "text/plain": "A    1.181199\nB    1.461268\nC    3.798488\nD    0.000000\nF    4.000000\ndtype: float64"
     },
     "execution_count": 44,
     "metadata": {},
     "output_type": "execute_result"
    }
   ],
   "source": [
    "# 对数据应用函数\n",
    "df.apply(np.cumsum)\n",
    "df.apply(lambda x: x.max() - x.min())"
   ],
   "metadata": {
    "collapsed": false,
    "pycharm": {
     "name": "#%%\n"
    }
   }
  },
  {
   "cell_type": "code",
   "execution_count": 45,
   "outputs": [
    {
     "data": {
      "text/plain": "0    5\n1    1\n2    0\n3    2\n4    3\n5    3\n6    2\n7    4\n8    0\n9    0\ndtype: int64"
     },
     "execution_count": 45,
     "metadata": {},
     "output_type": "execute_result"
    }
   ],
   "source": [
    "# 直方图\n",
    "s = pd.Series(np.random.randint(0, 7, size=10))\n",
    "s"
   ],
   "metadata": {
    "collapsed": false,
    "pycharm": {
     "name": "#%%\n"
    }
   }
  },
  {
   "cell_type": "code",
   "execution_count": 46,
   "outputs": [
    {
     "data": {
      "text/plain": "0    3\n2    2\n3    2\n5    1\n1    1\n4    1\ndtype: int64"
     },
     "execution_count": 46,
     "metadata": {},
     "output_type": "execute_result"
    }
   ],
   "source": [
    "s.value_counts()  # 统计值出现的次数"
   ],
   "metadata": {
    "collapsed": false,
    "pycharm": {
     "name": "#%%\n"
    }
   }
  },
  {
   "cell_type": "code",
   "execution_count": 47,
   "outputs": [
    {
     "data": {
      "text/plain": "0       a\n1       b\n2       c\n3    aaba\n4    baca\n5     NaN\n6    caba\n7     dog\n8     cat\ndtype: object"
     },
     "execution_count": 47,
     "metadata": {},
     "output_type": "execute_result"
    }
   ],
   "source": [
    "#字符串方法\n",
    "# Series对象在其str属性中配备了一组字符串处理方法，可以很容易的应用到数组中的每个元素，如下段代码所示。更多详情请参考：字符串向量化方法。\n",
    "s = pd.Series(['A', 'B', 'C', 'Aaba', 'Baca', np.nan, 'CABA', 'dog', 'cat'])\n",
    "s.str.lower()  # lower 转换成小写"
   ],
   "metadata": {
    "collapsed": false,
    "pycharm": {
     "name": "#%%\n"
    }
   }
  },
  {
   "cell_type": "code",
   "execution_count": 48,
   "outputs": [
    {
     "data": {
      "text/plain": "          0         1         2         3\n0 -0.536435 -0.503085 -0.810950  0.157894\n1 -1.095591 -0.798638  1.069729 -0.253019\n2 -1.327263  0.385502 -2.123236  0.496152\n3  0.364058  1.275680 -0.011689 -0.054573\n4  0.681590 -1.797769 -1.272188 -0.877944\n5 -0.139056 -1.020085 -0.504517  1.307444\n6 -0.882217  1.183585  0.436115 -1.193500\n7 -0.214969 -0.321814  0.213585  0.935638\n8 -1.808835 -1.085696 -1.683536  0.414420\n9  0.149066 -2.458821 -0.096353 -1.408074",
      "text/html": "<div>\n<style scoped>\n    .dataframe tbody tr th:only-of-type {\n        vertical-align: middle;\n    }\n\n    .dataframe tbody tr th {\n        vertical-align: top;\n    }\n\n    .dataframe thead th {\n        text-align: right;\n    }\n</style>\n<table border=\"1\" class=\"dataframe\">\n  <thead>\n    <tr style=\"text-align: right;\">\n      <th></th>\n      <th>0</th>\n      <th>1</th>\n      <th>2</th>\n      <th>3</th>\n    </tr>\n  </thead>\n  <tbody>\n    <tr>\n      <th>0</th>\n      <td>-0.536435</td>\n      <td>-0.503085</td>\n      <td>-0.810950</td>\n      <td>0.157894</td>\n    </tr>\n    <tr>\n      <th>1</th>\n      <td>-1.095591</td>\n      <td>-0.798638</td>\n      <td>1.069729</td>\n      <td>-0.253019</td>\n    </tr>\n    <tr>\n      <th>2</th>\n      <td>-1.327263</td>\n      <td>0.385502</td>\n      <td>-2.123236</td>\n      <td>0.496152</td>\n    </tr>\n    <tr>\n      <th>3</th>\n      <td>0.364058</td>\n      <td>1.275680</td>\n      <td>-0.011689</td>\n      <td>-0.054573</td>\n    </tr>\n    <tr>\n      <th>4</th>\n      <td>0.681590</td>\n      <td>-1.797769</td>\n      <td>-1.272188</td>\n      <td>-0.877944</td>\n    </tr>\n    <tr>\n      <th>5</th>\n      <td>-0.139056</td>\n      <td>-1.020085</td>\n      <td>-0.504517</td>\n      <td>1.307444</td>\n    </tr>\n    <tr>\n      <th>6</th>\n      <td>-0.882217</td>\n      <td>1.183585</td>\n      <td>0.436115</td>\n      <td>-1.193500</td>\n    </tr>\n    <tr>\n      <th>7</th>\n      <td>-0.214969</td>\n      <td>-0.321814</td>\n      <td>0.213585</td>\n      <td>0.935638</td>\n    </tr>\n    <tr>\n      <th>8</th>\n      <td>-1.808835</td>\n      <td>-1.085696</td>\n      <td>-1.683536</td>\n      <td>0.414420</td>\n    </tr>\n    <tr>\n      <th>9</th>\n      <td>0.149066</td>\n      <td>-2.458821</td>\n      <td>-0.096353</td>\n      <td>-1.408074</td>\n    </tr>\n  </tbody>\n</table>\n</div>"
     },
     "execution_count": 48,
     "metadata": {},
     "output_type": "execute_result"
    }
   ],
   "source": [
    "# 合并\n",
    "# Pandas 提供了大量的方法能够轻松的对Series，DataFrame和Panel对象进行各种符合各种逻辑关系的合并操作。具体请参阅：合并。\n",
    "df = pd.DataFrame(np.random.randn(10, 4))\n",
    "df\n",
    "pieces = [df[:3], df[3:7], df[7:]]\n",
    "pieces\n",
    "pd.concat(pieces)"
   ],
   "metadata": {
    "collapsed": false,
    "pycharm": {
     "name": "#%%\n"
    }
   }
  },
  {
   "cell_type": "code",
   "execution_count": 49,
   "outputs": [
    {
     "data": {
      "text/plain": "   key  lval  rval\n0  foo     1     4\n1  foo     1     5\n2  foo     2     4\n3  foo     2     5",
      "text/html": "<div>\n<style scoped>\n    .dataframe tbody tr th:only-of-type {\n        vertical-align: middle;\n    }\n\n    .dataframe tbody tr th {\n        vertical-align: top;\n    }\n\n    .dataframe thead th {\n        text-align: right;\n    }\n</style>\n<table border=\"1\" class=\"dataframe\">\n  <thead>\n    <tr style=\"text-align: right;\">\n      <th></th>\n      <th>key</th>\n      <th>lval</th>\n      <th>rval</th>\n    </tr>\n  </thead>\n  <tbody>\n    <tr>\n      <th>0</th>\n      <td>foo</td>\n      <td>1</td>\n      <td>4</td>\n    </tr>\n    <tr>\n      <th>1</th>\n      <td>foo</td>\n      <td>1</td>\n      <td>5</td>\n    </tr>\n    <tr>\n      <th>2</th>\n      <td>foo</td>\n      <td>2</td>\n      <td>4</td>\n    </tr>\n    <tr>\n      <th>3</th>\n      <td>foo</td>\n      <td>2</td>\n      <td>5</td>\n    </tr>\n  </tbody>\n</table>\n</div>"
     },
     "execution_count": 49,
     "metadata": {},
     "output_type": "execute_result"
    }
   ],
   "source": [
    "#join 类似于SQL类型的合并\n",
    "left = pd.DataFrame({'key': ['foo', 'foo'], 'lval': [1, 2]})\n",
    "right = pd.DataFrame({'key': ['foo', 'foo'], 'rval': [4, 5]})\n",
    "left\n",
    "right\n",
    "pd.merge(left, right, on='key')"
   ],
   "metadata": {
    "collapsed": false,
    "pycharm": {
     "name": "#%%\n"
    }
   }
  },
  {
   "cell_type": "code",
   "execution_count": 50,
   "outputs": [
    {
     "data": {
      "text/plain": "   key  lval  rval\n0  foo     1     4\n1  bar     2     5",
      "text/html": "<div>\n<style scoped>\n    .dataframe tbody tr th:only-of-type {\n        vertical-align: middle;\n    }\n\n    .dataframe tbody tr th {\n        vertical-align: top;\n    }\n\n    .dataframe thead th {\n        text-align: right;\n    }\n</style>\n<table border=\"1\" class=\"dataframe\">\n  <thead>\n    <tr style=\"text-align: right;\">\n      <th></th>\n      <th>key</th>\n      <th>lval</th>\n      <th>rval</th>\n    </tr>\n  </thead>\n  <tbody>\n    <tr>\n      <th>0</th>\n      <td>foo</td>\n      <td>1</td>\n      <td>4</td>\n    </tr>\n    <tr>\n      <th>1</th>\n      <td>bar</td>\n      <td>2</td>\n      <td>5</td>\n    </tr>\n  </tbody>\n</table>\n</div>"
     },
     "execution_count": 50,
     "metadata": {},
     "output_type": "execute_result"
    }
   ],
   "source": [
    "left = pd.DataFrame({'key': ['foo', 'bar'], 'lval': [1, 2]})\n",
    "right = pd.DataFrame({'key': ['foo', 'bar'], 'rval': [4, 5]})\n",
    "pd.merge(left, right, on='key')"
   ],
   "metadata": {
    "collapsed": false,
    "pycharm": {
     "name": "#%%\n"
    }
   }
  },
  {
   "cell_type": "code",
   "execution_count": 51,
   "outputs": [
    {
     "data": {
      "text/plain": "          A         B         C         D\n0  0.283105 -1.159906 -0.738356 -1.267702\n1 -1.139344  0.308754 -1.134025 -0.220767\n2  0.392548 -0.033842 -0.739340 -1.396956\n3  0.594832  0.105597  0.937614 -1.861389\n4 -0.898604  0.210384  0.605002  0.035217\n5  0.134199  0.190775 -0.576982 -0.630454\n6 -0.134303  0.345174 -1.991558 -2.406770\n7 -0.639529 -1.465691 -0.922659  0.712550\n8  0.594832  0.105597  0.937614 -1.861389",
      "text/html": "<div>\n<style scoped>\n    .dataframe tbody tr th:only-of-type {\n        vertical-align: middle;\n    }\n\n    .dataframe tbody tr th {\n        vertical-align: top;\n    }\n\n    .dataframe thead th {\n        text-align: right;\n    }\n</style>\n<table border=\"1\" class=\"dataframe\">\n  <thead>\n    <tr style=\"text-align: right;\">\n      <th></th>\n      <th>A</th>\n      <th>B</th>\n      <th>C</th>\n      <th>D</th>\n    </tr>\n  </thead>\n  <tbody>\n    <tr>\n      <th>0</th>\n      <td>0.283105</td>\n      <td>-1.159906</td>\n      <td>-0.738356</td>\n      <td>-1.267702</td>\n    </tr>\n    <tr>\n      <th>1</th>\n      <td>-1.139344</td>\n      <td>0.308754</td>\n      <td>-1.134025</td>\n      <td>-0.220767</td>\n    </tr>\n    <tr>\n      <th>2</th>\n      <td>0.392548</td>\n      <td>-0.033842</td>\n      <td>-0.739340</td>\n      <td>-1.396956</td>\n    </tr>\n    <tr>\n      <th>3</th>\n      <td>0.594832</td>\n      <td>0.105597</td>\n      <td>0.937614</td>\n      <td>-1.861389</td>\n    </tr>\n    <tr>\n      <th>4</th>\n      <td>-0.898604</td>\n      <td>0.210384</td>\n      <td>0.605002</td>\n      <td>0.035217</td>\n    </tr>\n    <tr>\n      <th>5</th>\n      <td>0.134199</td>\n      <td>0.190775</td>\n      <td>-0.576982</td>\n      <td>-0.630454</td>\n    </tr>\n    <tr>\n      <th>6</th>\n      <td>-0.134303</td>\n      <td>0.345174</td>\n      <td>-1.991558</td>\n      <td>-2.406770</td>\n    </tr>\n    <tr>\n      <th>7</th>\n      <td>-0.639529</td>\n      <td>-1.465691</td>\n      <td>-0.922659</td>\n      <td>0.712550</td>\n    </tr>\n    <tr>\n      <th>8</th>\n      <td>0.594832</td>\n      <td>0.105597</td>\n      <td>0.937614</td>\n      <td>-1.861389</td>\n    </tr>\n  </tbody>\n</table>\n</div>"
     },
     "execution_count": 51,
     "metadata": {},
     "output_type": "execute_result"
    }
   ],
   "source": [
    "# Append\n",
    "# 将一行连接到一个DataFrame上\n",
    "df = pd.DataFrame(np.random.randn(8, 4), columns=['A', 'B', 'C', 'D'])\n",
    "df\n",
    "s = df.iloc[3]\n",
    "s\n",
    "df.append(s, ignore_index=True)"
   ],
   "metadata": {
    "collapsed": false,
    "pycharm": {
     "name": "#%%\n"
    }
   }
  },
  {
   "cell_type": "code",
   "execution_count": 52,
   "outputs": [
    {
     "data": {
      "text/plain": "     A      B         C         D\n0  foo    one  2.011013 -0.333495\n1  bar    one  0.729974 -1.624074\n2  foo    two  0.738597 -0.222590\n3  bar  three  1.444548 -1.114942\n4  foo    two -0.940464 -0.659181\n5  bar    two  0.969700  1.617241\n6  foo    one  0.090294  1.437129\n7  foo   tree  0.661418 -1.039162",
      "text/html": "<div>\n<style scoped>\n    .dataframe tbody tr th:only-of-type {\n        vertical-align: middle;\n    }\n\n    .dataframe tbody tr th {\n        vertical-align: top;\n    }\n\n    .dataframe thead th {\n        text-align: right;\n    }\n</style>\n<table border=\"1\" class=\"dataframe\">\n  <thead>\n    <tr style=\"text-align: right;\">\n      <th></th>\n      <th>A</th>\n      <th>B</th>\n      <th>C</th>\n      <th>D</th>\n    </tr>\n  </thead>\n  <tbody>\n    <tr>\n      <th>0</th>\n      <td>foo</td>\n      <td>one</td>\n      <td>2.011013</td>\n      <td>-0.333495</td>\n    </tr>\n    <tr>\n      <th>1</th>\n      <td>bar</td>\n      <td>one</td>\n      <td>0.729974</td>\n      <td>-1.624074</td>\n    </tr>\n    <tr>\n      <th>2</th>\n      <td>foo</td>\n      <td>two</td>\n      <td>0.738597</td>\n      <td>-0.222590</td>\n    </tr>\n    <tr>\n      <th>3</th>\n      <td>bar</td>\n      <td>three</td>\n      <td>1.444548</td>\n      <td>-1.114942</td>\n    </tr>\n    <tr>\n      <th>4</th>\n      <td>foo</td>\n      <td>two</td>\n      <td>-0.940464</td>\n      <td>-0.659181</td>\n    </tr>\n    <tr>\n      <th>5</th>\n      <td>bar</td>\n      <td>two</td>\n      <td>0.969700</td>\n      <td>1.617241</td>\n    </tr>\n    <tr>\n      <th>6</th>\n      <td>foo</td>\n      <td>one</td>\n      <td>0.090294</td>\n      <td>1.437129</td>\n    </tr>\n    <tr>\n      <th>7</th>\n      <td>foo</td>\n      <td>tree</td>\n      <td>0.661418</td>\n      <td>-1.039162</td>\n    </tr>\n  </tbody>\n</table>\n</div>"
     },
     "execution_count": 52,
     "metadata": {},
     "output_type": "execute_result"
    }
   ],
   "source": [
    "#分组\n",
    "# 对于group by 操作，我们通常是指以下一个或多个操作步骤：\n",
    "# Splitting 按照一些规则将数据分成不同的组；\n",
    "# Appliying 对于每组数据分别执行一个函数；\n",
    "# Combining 将结果组合到一个数据结构中；\n",
    "# https://pandas.pydata.org/pandas-docs/stable/user_guide/groupby.html\n",
    "df = pd.DataFrame({\n",
    "    'A': ['foo', 'bar', 'foo', 'bar', 'foo', 'bar', 'foo', 'foo'],\n",
    "    'B': ['one', 'one', 'two', 'three', 'two', 'two', 'one', 'tree'],\n",
    "    'C': np.random.randn(8),\n",
    "    'D': np.random.randn(8)\n",
    "})\n",
    "df"
   ],
   "metadata": {
    "collapsed": false,
    "pycharm": {
     "name": "#%%\n"
    }
   }
  },
  {
   "cell_type": "code",
   "execution_count": 53,
   "outputs": [
    {
     "data": {
      "text/plain": "            C         D\nA                      \nbar  3.144222 -1.121776\nfoo  2.560857 -0.817299",
      "text/html": "<div>\n<style scoped>\n    .dataframe tbody tr th:only-of-type {\n        vertical-align: middle;\n    }\n\n    .dataframe tbody tr th {\n        vertical-align: top;\n    }\n\n    .dataframe thead th {\n        text-align: right;\n    }\n</style>\n<table border=\"1\" class=\"dataframe\">\n  <thead>\n    <tr style=\"text-align: right;\">\n      <th></th>\n      <th>C</th>\n      <th>D</th>\n    </tr>\n    <tr>\n      <th>A</th>\n      <th></th>\n      <th></th>\n    </tr>\n  </thead>\n  <tbody>\n    <tr>\n      <th>bar</th>\n      <td>3.144222</td>\n      <td>-1.121776</td>\n    </tr>\n    <tr>\n      <th>foo</th>\n      <td>2.560857</td>\n      <td>-0.817299</td>\n    </tr>\n  </tbody>\n</table>\n</div>"
     },
     "execution_count": 53,
     "metadata": {},
     "output_type": "execute_result"
    }
   ],
   "source": [
    "# 分组并对每个分组执行sum函数\n",
    "df.groupby('A').sum()"
   ],
   "metadata": {
    "collapsed": false,
    "pycharm": {
     "name": "#%%\n"
    }
   }
  },
  {
   "cell_type": "code",
   "execution_count": 54,
   "outputs": [
    {
     "data": {
      "text/plain": "                  C         D\nA   B                        \nbar one    0.729974 -1.624074\n    three  1.444548 -1.114942\n    two    0.969700  1.617241\nfoo one    2.101307  1.103634\n    tree   0.661418 -1.039162\n    two   -0.201867 -0.881772",
      "text/html": "<div>\n<style scoped>\n    .dataframe tbody tr th:only-of-type {\n        vertical-align: middle;\n    }\n\n    .dataframe tbody tr th {\n        vertical-align: top;\n    }\n\n    .dataframe thead th {\n        text-align: right;\n    }\n</style>\n<table border=\"1\" class=\"dataframe\">\n  <thead>\n    <tr style=\"text-align: right;\">\n      <th></th>\n      <th></th>\n      <th>C</th>\n      <th>D</th>\n    </tr>\n    <tr>\n      <th>A</th>\n      <th>B</th>\n      <th></th>\n      <th></th>\n    </tr>\n  </thead>\n  <tbody>\n    <tr>\n      <th rowspan=\"3\" valign=\"top\">bar</th>\n      <th>one</th>\n      <td>0.729974</td>\n      <td>-1.624074</td>\n    </tr>\n    <tr>\n      <th>three</th>\n      <td>1.444548</td>\n      <td>-1.114942</td>\n    </tr>\n    <tr>\n      <th>two</th>\n      <td>0.969700</td>\n      <td>1.617241</td>\n    </tr>\n    <tr>\n      <th rowspan=\"3\" valign=\"top\">foo</th>\n      <th>one</th>\n      <td>2.101307</td>\n      <td>1.103634</td>\n    </tr>\n    <tr>\n      <th>tree</th>\n      <td>0.661418</td>\n      <td>-1.039162</td>\n    </tr>\n    <tr>\n      <th>two</th>\n      <td>-0.201867</td>\n      <td>-0.881772</td>\n    </tr>\n  </tbody>\n</table>\n</div>"
     },
     "execution_count": 54,
     "metadata": {},
     "output_type": "execute_result"
    }
   ],
   "source": [
    "# 通过多个列分组形成一个层次索引，然后执行函数：\n",
    "df.groupby(['A', 'B']).sum()"
   ],
   "metadata": {
    "collapsed": false,
    "pycharm": {
     "name": "#%%\n"
    }
   }
  },
  {
   "cell_type": "code",
   "execution_count": 55,
   "outputs": [
    {
     "data": {
      "text/plain": "                     A         B\nfirst second                    \nbar   one     1.395419  0.245138\n      two     0.845712 -0.598740\nbaz   one     0.511443 -0.335292\n      two     0.807135  2.290919",
      "text/html": "<div>\n<style scoped>\n    .dataframe tbody tr th:only-of-type {\n        vertical-align: middle;\n    }\n\n    .dataframe tbody tr th {\n        vertical-align: top;\n    }\n\n    .dataframe thead th {\n        text-align: right;\n    }\n</style>\n<table border=\"1\" class=\"dataframe\">\n  <thead>\n    <tr style=\"text-align: right;\">\n      <th></th>\n      <th></th>\n      <th>A</th>\n      <th>B</th>\n    </tr>\n    <tr>\n      <th>first</th>\n      <th>second</th>\n      <th></th>\n      <th></th>\n    </tr>\n  </thead>\n  <tbody>\n    <tr>\n      <th rowspan=\"2\" valign=\"top\">bar</th>\n      <th>one</th>\n      <td>1.395419</td>\n      <td>0.245138</td>\n    </tr>\n    <tr>\n      <th>two</th>\n      <td>0.845712</td>\n      <td>-0.598740</td>\n    </tr>\n    <tr>\n      <th rowspan=\"2\" valign=\"top\">baz</th>\n      <th>one</th>\n      <td>0.511443</td>\n      <td>-0.335292</td>\n    </tr>\n    <tr>\n      <th>two</th>\n      <td>0.807135</td>\n      <td>2.290919</td>\n    </tr>\n  </tbody>\n</table>\n</div>"
     },
     "execution_count": 55,
     "metadata": {},
     "output_type": "execute_result"
    }
   ],
   "source": [
    "#改变形状\n",
    "#Stack\n",
    "#zip() 函数用于将可迭代的对象作为参数，将对象中对应的元素打包成一个个元组，然后返回由这些元组组成的列表。\n",
    "# 如果各个迭代器的元素个数不一致，则返回列表长度与最短的对象相同，利用 * 号操作符，可以将元组解压为列表。\n",
    "tuples = list(zip(*[['bar', 'bar', 'baz', 'baz', 'foo', 'foo', 'qux', 'qux'],\n",
    "                    ['one', 'two', 'one', 'two', 'one', 'two', 'one', 'two']]))\n",
    "tuples\n",
    "index = pd.MultiIndex.from_tuples(tuples, names=['first', 'second'])\n",
    "index\n",
    "df = pd.DataFrame(np.random.randn(8, 2), index=index, columns=['A', 'B'])\n",
    "df\n",
    "df2 = df[:4]\n",
    "df2"
   ],
   "metadata": {
    "collapsed": false,
    "pycharm": {
     "name": "#%%\n"
    }
   }
  },
  {
   "cell_type": "code",
   "execution_count": 56,
   "outputs": [
    {
     "data": {
      "text/plain": "first  second   \nbar    one     A    1.395419\n               B    0.245138\n       two     A    0.845712\n               B   -0.598740\nbaz    one     A    0.511443\n               B   -0.335292\n       two     A    0.807135\n               B    2.290919\ndtype: float64"
     },
     "execution_count": 56,
     "metadata": {},
     "output_type": "execute_result"
    }
   ],
   "source": [
    "stacked = df2.stack()\n",
    "stacked"
   ],
   "metadata": {
    "collapsed": false,
    "pycharm": {
     "name": "#%%\n"
    }
   }
  },
  {
   "cell_type": "code",
   "execution_count": 57,
   "outputs": [
    {
     "data": {
      "text/plain": "                     A         B\nfirst second                    \nbar   one     1.395419  0.245138\n      two     0.845712 -0.598740\nbaz   one     0.511443 -0.335292\n      two     0.807135  2.290919",
      "text/html": "<div>\n<style scoped>\n    .dataframe tbody tr th:only-of-type {\n        vertical-align: middle;\n    }\n\n    .dataframe tbody tr th {\n        vertical-align: top;\n    }\n\n    .dataframe thead th {\n        text-align: right;\n    }\n</style>\n<table border=\"1\" class=\"dataframe\">\n  <thead>\n    <tr style=\"text-align: right;\">\n      <th></th>\n      <th></th>\n      <th>A</th>\n      <th>B</th>\n    </tr>\n    <tr>\n      <th>first</th>\n      <th>second</th>\n      <th></th>\n      <th></th>\n    </tr>\n  </thead>\n  <tbody>\n    <tr>\n      <th rowspan=\"2\" valign=\"top\">bar</th>\n      <th>one</th>\n      <td>1.395419</td>\n      <td>0.245138</td>\n    </tr>\n    <tr>\n      <th>two</th>\n      <td>0.845712</td>\n      <td>-0.598740</td>\n    </tr>\n    <tr>\n      <th rowspan=\"2\" valign=\"top\">baz</th>\n      <th>one</th>\n      <td>0.511443</td>\n      <td>-0.335292</td>\n    </tr>\n    <tr>\n      <th>two</th>\n      <td>0.807135</td>\n      <td>2.290919</td>\n    </tr>\n  </tbody>\n</table>\n</div>"
     },
     "execution_count": 57,
     "metadata": {},
     "output_type": "execute_result"
    }
   ],
   "source": [
    "stacked.unstack()  # 解压缩"
   ],
   "metadata": {
    "collapsed": false,
    "pycharm": {
     "name": "#%%\n"
    }
   }
  },
  {
   "cell_type": "code",
   "execution_count": 58,
   "outputs": [
    {
     "data": {
      "text/plain": "second        one       two\nfirst                      \nbar   A  1.395419  0.845712\n      B  0.245138 -0.598740\nbaz   A  0.511443  0.807135\n      B -0.335292  2.290919",
      "text/html": "<div>\n<style scoped>\n    .dataframe tbody tr th:only-of-type {\n        vertical-align: middle;\n    }\n\n    .dataframe tbody tr th {\n        vertical-align: top;\n    }\n\n    .dataframe thead th {\n        text-align: right;\n    }\n</style>\n<table border=\"1\" class=\"dataframe\">\n  <thead>\n    <tr style=\"text-align: right;\">\n      <th></th>\n      <th>second</th>\n      <th>one</th>\n      <th>two</th>\n    </tr>\n    <tr>\n      <th>first</th>\n      <th></th>\n      <th></th>\n      <th></th>\n    </tr>\n  </thead>\n  <tbody>\n    <tr>\n      <th rowspan=\"2\" valign=\"top\">bar</th>\n      <th>A</th>\n      <td>1.395419</td>\n      <td>0.845712</td>\n    </tr>\n    <tr>\n      <th>B</th>\n      <td>0.245138</td>\n      <td>-0.598740</td>\n    </tr>\n    <tr>\n      <th rowspan=\"2\" valign=\"top\">baz</th>\n      <th>A</th>\n      <td>0.511443</td>\n      <td>0.807135</td>\n    </tr>\n    <tr>\n      <th>B</th>\n      <td>-0.335292</td>\n      <td>2.290919</td>\n    </tr>\n  </tbody>\n</table>\n</div>"
     },
     "execution_count": 58,
     "metadata": {},
     "output_type": "execute_result"
    }
   ],
   "source": [
    "stacked.unstack(1)"
   ],
   "metadata": {
    "collapsed": false,
    "pycharm": {
     "name": "#%%\n"
    }
   }
  },
  {
   "cell_type": "code",
   "execution_count": 59,
   "outputs": [
    {
     "data": {
      "text/plain": "first          bar       baz\nsecond                      \none    A  1.395419  0.511443\n       B  0.245138 -0.335292\ntwo    A  0.845712  0.807135\n       B -0.598740  2.290919",
      "text/html": "<div>\n<style scoped>\n    .dataframe tbody tr th:only-of-type {\n        vertical-align: middle;\n    }\n\n    .dataframe tbody tr th {\n        vertical-align: top;\n    }\n\n    .dataframe thead th {\n        text-align: right;\n    }\n</style>\n<table border=\"1\" class=\"dataframe\">\n  <thead>\n    <tr style=\"text-align: right;\">\n      <th></th>\n      <th>first</th>\n      <th>bar</th>\n      <th>baz</th>\n    </tr>\n    <tr>\n      <th>second</th>\n      <th></th>\n      <th></th>\n      <th></th>\n    </tr>\n  </thead>\n  <tbody>\n    <tr>\n      <th rowspan=\"2\" valign=\"top\">one</th>\n      <th>A</th>\n      <td>1.395419</td>\n      <td>0.511443</td>\n    </tr>\n    <tr>\n      <th>B</th>\n      <td>0.245138</td>\n      <td>-0.335292</td>\n    </tr>\n    <tr>\n      <th rowspan=\"2\" valign=\"top\">two</th>\n      <th>A</th>\n      <td>0.845712</td>\n      <td>0.807135</td>\n    </tr>\n    <tr>\n      <th>B</th>\n      <td>-0.598740</td>\n      <td>2.290919</td>\n    </tr>\n  </tbody>\n</table>\n</div>"
     },
     "execution_count": 59,
     "metadata": {},
     "output_type": "execute_result"
    }
   ],
   "source": [
    "stacked.unstack(0)"
   ],
   "metadata": {
    "collapsed": false,
    "pycharm": {
     "name": "#%%\n"
    }
   }
  },
  {
   "cell_type": "code",
   "execution_count": 67,
   "outputs": [
    {
     "data": {
      "text/plain": "        A  B    C         D         E\n0     one  A  foo  1.469484  1.635029\n1     one  B  foo -0.103904  0.005369\n2     two  C  foo -0.779242 -0.268199\n3   three  A  bar  2.197993  0.522320\n4     one  B  bar -0.624916 -1.547955\n5     one  C  bar  0.811104  0.579376\n6     two  A  foo -1.922461  0.501023\n7   three  B  foo -0.107214  0.192611\n8     one  C  foo -2.164401  0.411625\n9     one  A  bar -0.227303 -0.467691\n10    two  B  bar -0.928717 -1.087196\n11  three  C  bar -1.139284  0.511508",
      "text/html": "<div>\n<style scoped>\n    .dataframe tbody tr th:only-of-type {\n        vertical-align: middle;\n    }\n\n    .dataframe tbody tr th {\n        vertical-align: top;\n    }\n\n    .dataframe thead th {\n        text-align: right;\n    }\n</style>\n<table border=\"1\" class=\"dataframe\">\n  <thead>\n    <tr style=\"text-align: right;\">\n      <th></th>\n      <th>A</th>\n      <th>B</th>\n      <th>C</th>\n      <th>D</th>\n      <th>E</th>\n    </tr>\n  </thead>\n  <tbody>\n    <tr>\n      <th>0</th>\n      <td>one</td>\n      <td>A</td>\n      <td>foo</td>\n      <td>1.469484</td>\n      <td>1.635029</td>\n    </tr>\n    <tr>\n      <th>1</th>\n      <td>one</td>\n      <td>B</td>\n      <td>foo</td>\n      <td>-0.103904</td>\n      <td>0.005369</td>\n    </tr>\n    <tr>\n      <th>2</th>\n      <td>two</td>\n      <td>C</td>\n      <td>foo</td>\n      <td>-0.779242</td>\n      <td>-0.268199</td>\n    </tr>\n    <tr>\n      <th>3</th>\n      <td>three</td>\n      <td>A</td>\n      <td>bar</td>\n      <td>2.197993</td>\n      <td>0.522320</td>\n    </tr>\n    <tr>\n      <th>4</th>\n      <td>one</td>\n      <td>B</td>\n      <td>bar</td>\n      <td>-0.624916</td>\n      <td>-1.547955</td>\n    </tr>\n    <tr>\n      <th>5</th>\n      <td>one</td>\n      <td>C</td>\n      <td>bar</td>\n      <td>0.811104</td>\n      <td>0.579376</td>\n    </tr>\n    <tr>\n      <th>6</th>\n      <td>two</td>\n      <td>A</td>\n      <td>foo</td>\n      <td>-1.922461</td>\n      <td>0.501023</td>\n    </tr>\n    <tr>\n      <th>7</th>\n      <td>three</td>\n      <td>B</td>\n      <td>foo</td>\n      <td>-0.107214</td>\n      <td>0.192611</td>\n    </tr>\n    <tr>\n      <th>8</th>\n      <td>one</td>\n      <td>C</td>\n      <td>foo</td>\n      <td>-2.164401</td>\n      <td>0.411625</td>\n    </tr>\n    <tr>\n      <th>9</th>\n      <td>one</td>\n      <td>A</td>\n      <td>bar</td>\n      <td>-0.227303</td>\n      <td>-0.467691</td>\n    </tr>\n    <tr>\n      <th>10</th>\n      <td>two</td>\n      <td>B</td>\n      <td>bar</td>\n      <td>-0.928717</td>\n      <td>-1.087196</td>\n    </tr>\n    <tr>\n      <th>11</th>\n      <td>three</td>\n      <td>C</td>\n      <td>bar</td>\n      <td>-1.139284</td>\n      <td>0.511508</td>\n    </tr>\n  </tbody>\n</table>\n</div>"
     },
     "execution_count": 67,
     "metadata": {},
     "output_type": "execute_result"
    }
   ],
   "source": [
    "# 数据透视表\n",
    "# https://pandas.pydata.org/pandas-docs/stable/user_guide/reshaping.html\n",
    "df = pd.DataFrame({'A': ['one', 'one', 'two', 'three'] * 3,\n",
    "                   'B': ['A', 'B', 'C'] * 4,\n",
    "                   'C': ['foo', 'foo', 'foo', 'bar', 'bar', 'bar'] * 2,\n",
    "                   'D': np.random.randn(12),\n",
    "                   'E': np.random.randn(12)})\n",
    "df"
   ],
   "metadata": {
    "collapsed": false,
    "pycharm": {
     "name": "#%%\n"
    }
   }
  },
  {
   "cell_type": "code",
   "execution_count": 68,
   "outputs": [
    {
     "data": {
      "text/plain": "C             bar       foo\nA     B                    \none   A -0.227303  1.469484\n      B -0.624916 -0.103904\n      C  0.811104 -2.164401\nthree A  2.197993       NaN\n      B       NaN -0.107214\n      C -1.139284       NaN\ntwo   A       NaN -1.922461\n      B -0.928717       NaN\n      C       NaN -0.779242",
      "text/html": "<div>\n<style scoped>\n    .dataframe tbody tr th:only-of-type {\n        vertical-align: middle;\n    }\n\n    .dataframe tbody tr th {\n        vertical-align: top;\n    }\n\n    .dataframe thead th {\n        text-align: right;\n    }\n</style>\n<table border=\"1\" class=\"dataframe\">\n  <thead>\n    <tr style=\"text-align: right;\">\n      <th></th>\n      <th>C</th>\n      <th>bar</th>\n      <th>foo</th>\n    </tr>\n    <tr>\n      <th>A</th>\n      <th>B</th>\n      <th></th>\n      <th></th>\n    </tr>\n  </thead>\n  <tbody>\n    <tr>\n      <th rowspan=\"3\" valign=\"top\">one</th>\n      <th>A</th>\n      <td>-0.227303</td>\n      <td>1.469484</td>\n    </tr>\n    <tr>\n      <th>B</th>\n      <td>-0.624916</td>\n      <td>-0.103904</td>\n    </tr>\n    <tr>\n      <th>C</th>\n      <td>0.811104</td>\n      <td>-2.164401</td>\n    </tr>\n    <tr>\n      <th rowspan=\"3\" valign=\"top\">three</th>\n      <th>A</th>\n      <td>2.197993</td>\n      <td>NaN</td>\n    </tr>\n    <tr>\n      <th>B</th>\n      <td>NaN</td>\n      <td>-0.107214</td>\n    </tr>\n    <tr>\n      <th>C</th>\n      <td>-1.139284</td>\n      <td>NaN</td>\n    </tr>\n    <tr>\n      <th rowspan=\"3\" valign=\"top\">two</th>\n      <th>A</th>\n      <td>NaN</td>\n      <td>-1.922461</td>\n    </tr>\n    <tr>\n      <th>B</th>\n      <td>-0.928717</td>\n      <td>NaN</td>\n    </tr>\n    <tr>\n      <th>C</th>\n      <td>NaN</td>\n      <td>-0.779242</td>\n    </tr>\n  </tbody>\n</table>\n</div>"
     },
     "execution_count": 68,
     "metadata": {},
     "output_type": "execute_result"
    }
   ],
   "source": [
    "# 可以从这个数据中轻松生成数据透视表\n",
    "# https://pandas.pydata.org/pandas-docs/stable/user_guide/reshaping.html\n",
    "# data: 一个数据帧对象。\n",
    "# values：要聚合的列或列列表。\n",
    "# index: 列、Grouper、与数据长度相同的数组或它们的列表。在数据透视表索引上分组的键。如果传递了一个数组，它的使用方式与列值相同。\n",
    "# columns: 列、Grouper、与数据长度相同的数组或它们的列表。在数据透视表列上分组的键。如果传递了一个数组，它的使用方式与列值相同。\n",
    "# aggfunc: 用于聚合的函数，默认为numpy.mean.\n",
    "pd.pivot_table(df, values='D', index=['A', 'B'], columns=['C'])\n",
    "# df = pd.pivot_table(df, index=['A'])\n",
    "# df.to_csv('a.csv')"
   ],
   "metadata": {
    "collapsed": false,
    "pycharm": {
     "name": "#%%\n"
    }
   }
  },
  {
   "cell_type": "code",
   "execution_count": 80,
   "outputs": [
    {
     "data": {
      "text/plain": "          sum                mean          \n            D                   D          \nC         bar       foo       bar       foo\nA                                          \none -0.041115 -0.798821 -0.013705 -0.266274",
      "text/html": "<div>\n<style scoped>\n    .dataframe tbody tr th:only-of-type {\n        vertical-align: middle;\n    }\n\n    .dataframe tbody tr th {\n        vertical-align: top;\n    }\n\n    .dataframe thead tr th {\n        text-align: left;\n    }\n\n    .dataframe thead tr:last-of-type th {\n        text-align: right;\n    }\n</style>\n<table border=\"1\" class=\"dataframe\">\n  <thead>\n    <tr>\n      <th></th>\n      <th colspan=\"2\" halign=\"left\">sum</th>\n      <th colspan=\"2\" halign=\"left\">mean</th>\n    </tr>\n    <tr>\n      <th></th>\n      <th colspan=\"2\" halign=\"left\">D</th>\n      <th colspan=\"2\" halign=\"left\">D</th>\n    </tr>\n    <tr>\n      <th>C</th>\n      <th>bar</th>\n      <th>foo</th>\n      <th>bar</th>\n      <th>foo</th>\n    </tr>\n    <tr>\n      <th>A</th>\n      <th></th>\n      <th></th>\n      <th></th>\n      <th></th>\n    </tr>\n  </thead>\n  <tbody>\n    <tr>\n      <th>one</th>\n      <td>-0.041115</td>\n      <td>-0.798821</td>\n      <td>-0.013705</td>\n      <td>-0.266274</td>\n    </tr>\n  </tbody>\n</table>\n</div>"
     },
     "execution_count": 80,
     "metadata": {},
     "output_type": "execute_result"
    }
   ],
   "source": [
    "# https://zhuanlan.zhihu.com/p/31952948\n",
    "pd.pivot_table(df.query('A==[\"one\"]'), index=['A'], values=['D'], columns=['C'], aggfunc=[np.sum, np.mean])"
   ],
   "metadata": {
    "collapsed": false,
    "pycharm": {
     "name": "#%%\n"
    }
   }
  },
  {
   "cell_type": "code",
   "execution_count": 1,
   "outputs": [
    {
     "name": "stdout",
     "output_type": "stream",
     "text": [
      "frozenset({'TIMEVALUE', 'GAMMADIST', 'GESTEP', 'CUBEMEMBER', 'COMBIN', 'ODDLPRICE', 'GROWTH', 'SUMX2MY2', 'FDIST', 'ODDLYIELD', 'GCD', 'COUNTA', 'CONVERT', 'BIN2DEC', 'COUPNUM', 'MDETERM', 'ECMA.CEILING', 'CUMIPMT', 'BIN2HEX', 'SKEW', 'EXACT', 'YIELDDISC', 'SIGN', 'COUNTBLANK', 'PEARSON', 'IMABS', 'ERF', 'INTRATE', 'PRICE', 'FIND', 'NORMSINV', 'COMPLEX', 'DATEVALUE', 'MATCH', 'CUMPRINC', 'ISREF', 'JIS', 'SLOPE', 'BINOMDIST', 'ISERROR', 'SUBTOTAL', 'HEX2OCT', 'MINVERSE', 'UPPER', 'FINDB', 'RIGHT', 'MIN', 'COUPDAYS', 'KURT', 'ISERR', 'COSH', 'IMDIV', 'MMULT', 'ATAN2', 'ATAN', 'SIN', 'IMSUB', 'IMPOWER', 'CHIINV', 'ROMAN', 'RANDBETWEEN', 'MOD', 'ODDFYIELD', 'IPMT', 'MDURATION', 'DOLLAR', 'TBILLEQ', 'COUPNCD', 'AREAS', 'BETADIST', 'EXP', 'T', 'ACOS', 'FIXED', 'SUM', 'PERCENTRANK', 'ASIN', 'TRANSPOSE', 'CUBESET', 'DOLLARDE', 'MINUTE', 'ASC', 'NORMSDIST', 'NETWORKDAYS.INTL', 'HARMEAN', 'RAND', 'LENB', 'AVERAGEA', 'HEX2BIN', 'VALUE', 'SEARCHB', 'ERROR.TYPE', 'CUBEVALUE', 'TANH', 'EOMONTH', 'SECOND', 'ISNONTEXT', 'STDEV STDEVA', 'COLUMN', 'OCT2DEC', 'OR', 'TODAY', 'OCT2BIN', 'VARP', 'NPV', 'YIELDMAT', 'CONFIDENCE', 'NA', 'ASINH', 'TBILLYIELD', 'ISTEXT', 'LOGEST', 'LOGNORMDIST', 'CODE', 'YIELD', 'IMSQRT', 'DATE', 'YEARFRAC', 'ABS', 'SUBSTITUTE', 'ISNA', 'DCOUNT', 'TRIMMEAN', 'DSTDEVP', 'CHOOSE', 'PRICEMAT', 'IMCOS', 'FINV', 'EFFECT', 'DPRODUCT', 'LINEST', 'BESSELK', 'DURATION', 'NPER', 'RATE', 'PI', 'ACCRINT', 'BESSELY', 'AVERAGEIF', 'REPT', 'DEC2OCT', 'SUMIF', 'IRR', 'CUBEMEMBERPROPERTY', 'TREND', 'PPMT', 'POISSON', 'LEFTB', 'LEN', 'IMARGUMENT', 'ISLOGICAL', 'AVERAGEIFS', 'IMCONJUGATE', 'VDB', 'CUBEKPIMEMBER', 'ISODD', 'PHONETIC', 'NEGBINOMDIST', 'SYD', 'TRIM', 'DMAX', 'CHIDIST', 'XIRR', 'DELTA', 'IMREAL', 'HLOOKUP', 'NOT', 'DGET', 'PRICEDISC', 'DB', 'DATEDIF', 'COUNTIFS', 'ATANH', 'FISHER', 'SINH', 'INTERCEPT', 'POWER', 'PRODUCT', 'FORECAST', 'ROWS', 'WORKDAY ', 'PROPER', 'CLEAN', 'AMORDEGRC', 'DISC', 'HYPGEOMDIST', 'AVERAGE', 'DVAR', 'NORMDIST', 'ROUNDUP', 'HYPERLINK', 'PERMUT', 'GETPIVOTDATA', 'TRUNC', 'DOLLARFR', 'WEEKDAY', 'CEILING', 'ODD', 'FISHERINV', 'IMEXP', 'COUPPCD', 'VLOOKUP', 'FLOOR', 'LOG', 'CORREL', 'TINV', 'LOGINV', 'FACT', 'ACOSH', 'COUNTIF', 'INDEX', 'SUMX2PY2', 'BETAINV', 'SEARCH', 'XNPV', 'DSTDEV', 'IMPRODUCT', 'FREQUENCY', 'N', 'LARGE', 'NETWORKDAYS', 'BIN2OCT', 'HEX2DEC', 'LCM', 'RADIANS', 'STANDARDIZE', 'SUMXMY2', 'CELL', 'FV', 'ISO.CEILING', 'STDEVPA STEYX', 'IMLOG10', 'DDB', 'INT', 'COUNT', 'AVEDEV', 'WEIBULL', 'ODDFPRICE', 'SQRT', 'WEEKNUM', 'ISPMT', 'DEVSQ', 'GEOMEAN', 'TDIST', 'IF', 'SUMPRODUCT', 'DVARP', 'TIME', 'PV', 'DCOUNTA', 'TTEST', 'ZTEST', 'ISBLANK', 'TEXT', 'IMSUM', 'COUPDAYSNC', 'CHITEST', 'MODE', 'DAVERAGE', 'RECEIVED', 'LOG10', 'COLUMNS', 'CHAR', 'FALSE', 'RSQ', 'IMAGINARY', 'YEAR', 'EXPONDIST', 'INDIRECT', 'MROUND', 'FTEST', 'EDATE', 'BAHTTEXT', 'CRITBINOM', 'STDEVP', 'ROUNDDOWN', 'FACTDOUBLE', 'GAMMALN', 'COVAR', 'NOMINAL', 'BESSELJ', 'RTD', 'OFFSET', 'DEGREES', 'CONCATENATE', 'IMLN', 'DAY', 'SMALL', 'SUMIFS', 'LOWER', 'COS', 'MIDB', 'AND', 'TBILLPRICE', 'VARPA', 'IFERROR', 'MIRR', 'TRUE ADDRESS', 'LN', 'DEC2BIN', 'REPLACE', 'DSUM', 'REPLACEB', 'IMSIN', 'MAXA', 'NOW', 'EVEN', 'IMLOG2', 'COUPDAYBS', 'INFO', 'SUMSQ', 'NORMINV', 'PROB', 'ACCRINTM', 'SERIESSUM', 'ROUND', 'DAYS360', 'FVSCHEDULE', 'DMIN', 'PERCENTILE', 'RANK', 'CUBESETCOUNT', 'LEFT', 'QUARTILE', 'AMORLINC', 'HOUR', 'BESSELI', 'ROW', 'MEDIAN', 'GAMMAINV', 'RIGHTB', 'SQRTPI', 'CUBERANKEDMEMBER', 'VARA', 'MULTINOMIAL', 'TYPE', 'WORKDAY.INTL', 'ERFC', 'MAX', 'MONTH', 'LOOKUP', 'PMT', 'MINA', 'SLN', 'TAN', 'VAR', 'ISEVEN', 'MID', 'DEC2HEX', 'OCT2HEX', 'ISNUMBER', 'QUOTIENT'})\n"
     ]
    }
   ],
   "source": [
    "# python 支持多少EXCEL函数\n",
    "from openpyxl.utils import FORMULAE\n",
    "\n",
    "print(FORMULAE)"
   ],
   "metadata": {
    "collapsed": false,
    "pycharm": {
     "name": "#%%\n"
    }
   }
  },
  {
   "cell_type": "code",
   "execution_count": 3,
   "outputs": [
    {
     "data": {
      "text/plain": "<fpdf.fpdf.FPDF at 0x7ff87ea29cc0>"
     },
     "execution_count": 3,
     "metadata": {},
     "output_type": "execute_result"
    }
   ],
   "source": [
    "from fpdf import FPDF\n",
    "\n",
    "pdf = FPDF()\n",
    "pdf.add_page()\n",
    "pdf.set_font('Arial', 'B', 16)\n",
    "pdf.cell(40, 10, 'Hello World!')\n",
    "pdf"
   ],
   "metadata": {
    "collapsed": false,
    "pycharm": {
     "name": "#%%\n"
    }
   }
  },
  {
   "cell_type": "code",
   "execution_count": 11,
   "outputs": [
    {
     "data": {
      "text/plain": "<Figure size 432x288 with 1 Axes>",
      "image/png": "[encoded data removed]"
     },
     "metadata": {},
     "output_type": "display_data"
    }
   ],
   "source": [
    "\n",
    "import seaborn as sns\n",
    "\n",
    "sns.set_theme(style=\"whitegrid\")\n",
    "\n",
    "# Load the example tips dataset\n",
    "tips = sns.load_dataset(\"tips\")\n",
    "\n",
    "# Draw a nested violinplot and split the violins for easier comparison\n",
    "a = sns.violinplot(data=tips, x=\"day\", y=\"total_bill\", hue=\"smoker\",\n",
    "                   split=True, inner=\"quart\", linewidth=1,\n",
    "                   palette={\"Yes\": \"b\", \"No\": \".85\"})\n",
    "sns.despine(left=True)\n",
    "# 这个居然没有代码提示，不过可以运行哈哈哈\n",
    "# a.get_figure().savefig('1.png') #输出图片"
   ],
   "metadata": {
    "collapsed": false,
    "pycharm": {
     "name": "#%%\n"
    }
   }
  },
  {
   "cell_type": "code",
   "execution_count": null,
   "outputs": [],
   "source": [],
   "metadata": {
    "collapsed": false,
    "pycharm": {
     "name": "#%%\n"
    }
   }
  }
 ],
 "metadata": {
  "kernelspec": {
   "display_name": "Python 3",
   "language": "python",
   "name": "python3"
  },
  "language_info": {
   "codemirror_mode": {
    "name": "ipython",
    "version": 2
   },
   "file_extension": ".py",
   "mimetype": "text/x-python",
   "name": "python",
   "nbconvert_exporter": "python",
   "pygments_lexer": "ipython2",
   "version": "2.7.6"
  }
 },
 "nbformat": 4,
 "nbformat_minor": 0
}