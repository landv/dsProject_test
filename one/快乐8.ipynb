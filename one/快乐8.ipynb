{
 "cells": [
  {
   "cell_type": "code",
   "execution_count": 1,
   "metadata": {
    "collapsed": true
   },
   "outputs": [
    {
     "name": "stdout",
     "output_type": "stream",
     "text": [
      "8911711.176470589\n"
     ]
    }
   ],
   "source": [
    "from scipy.special import comb\n",
    "\n",
    "# 快乐8一等奖概率\n",
    "# 先简单介绍下快乐8一等奖的规则：投注人从80个数中选10个，开奖时会从80个数中开出20个，如果选择的10个数均在开出的20个数中，那么就是中一等奖（也叫选十中十）。\n",
    "# https://xw.qq.com/cmsid/20201029A09NZH00\n",
    "# 福彩快乐8，更强娱乐性，十种玩法，计算选一至选十各个奖级的中奖概率\n",
    "all_reslut = comb(80, 10).astype('uint64')\n",
    "frst_prize = comb(20, 10).astype('uint64')\n",
    "#print(frst_prize,all_reslut)\n",
    "f = all_reslut / frst_prize\n",
    "#f2 = Fraction(frst_prize,all_reslut)\n",
    "print(f)"
   ]
  },
  {
   "cell_type": "code",
   "execution_count": 5,
   "outputs": [
    {
     "name": "stdout",
     "output_type": "stream",
     "text": [
      "0.06013%\n"
     ]
    }
   ],
   "source": [
    "# 选2\n",
    "all_reslut = comb(80, 2).astype('uint64')\n",
    "frst_prize = comb(20, 2).astype('uint64')\n",
    "print('%.5f%%' % (1 / (all_reslut / frst_prize)))\n"
   ],
   "metadata": {
    "collapsed": false,
    "pycharm": {
     "name": "#%%\n"
    }
   }
  }
 ],
 "metadata": {
  "kernelspec": {
   "display_name": "Python 3",
   "language": "python",
   "name": "python3"
  },
  "language_info": {
   "codemirror_mode": {
    "name": "ipython",
    "version": 2
   },
   "file_extension": ".py",
   "mimetype": "text/x-python",
   "name": "python",
   "nbconvert_exporter": "python",
   "pygments_lexer": "ipython2",
   "version": "2.7.6"
  }
 },
 "nbformat": 4,
 "nbformat_minor": 0
}