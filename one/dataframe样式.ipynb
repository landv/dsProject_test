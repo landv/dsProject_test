{
 "cells": [
  {
   "cell_type": "code",
   "execution_count": 12,
   "metadata": {
    "collapsed": true
   },
   "outputs": [
    {
     "data": {
      "text/plain": "<pandas.io.formats.style.Styler at 0x7f27d04ee1f0>",
      "text/html": "<style  type=\"text/css\" >\n#T_9b98b_row0_col0{\n            width:  10em;\n             height:  80%;\n            background:  linear-gradient(90deg, transparent 46.5%, #90EE90 46.5%, #90EE90 85.1%, transparent 85.1%);\n            padding:  15px;\n            border:  2px solid white;\n            width:  300px;\n        }#T_9b98b_row0_col1{\n            width:  10em;\n             height:  80%;\n            background:  linear-gradient(90deg, transparent 45.2%, #FCC0CB 45.2%, #FCC0CB 64.7%, transparent 64.7%);\n            padding:  15px;\n            border:  2px solid white;\n            width:  300px;\n        }#T_9b98b_row1_col0{\n            width:  10em;\n             height:  80%;\n            background:  linear-gradient(90deg, transparent 46.5%, #90EE90 46.5%, #90EE90 70.3%, transparent 70.3%);\n            padding:  15px;\n            border:  2px solid white;\n            width:  300px;\n        }#T_9b98b_row1_col1{\n            width:  10em;\n             height:  80%;\n            background:  linear-gradient(90deg,#FCC0CB 64.7%, transparent 64.7%);\n            padding:  15px;\n            border:  2px solid white;\n            width:  300px;\n        }#T_9b98b_row2_col0{\n            width:  10em;\n             height:  80%;\n            background:  linear-gradient(90deg, transparent 46.5%, #90EE90 46.5%, #90EE90 54.5%, transparent 54.5%);\n            padding:  15px;\n            border:  2px solid white;\n            width:  300px;\n        }#T_9b98b_row2_col1{\n            width:  10em;\n             height:  80%;\n            background:  linear-gradient(90deg, transparent 64.7%, #90EE90 64.7%, #90EE90 68.7%, transparent 68.7%);\n            padding:  15px;\n            border:  2px solid white;\n            width:  300px;\n        }#T_9b98b_row3_col0{\n            width:  10em;\n             height:  80%;\n            background:  linear-gradient(90deg, transparent 32.7%, #FCC0CB 32.7%, #FCC0CB 46.5%, transparent 46.5%);\n            padding:  15px;\n            border:  2px solid white;\n            width:  300px;\n        }#T_9b98b_row3_col1{\n            width:  10em;\n             height:  80%;\n            background:  linear-gradient(90deg, transparent 64.7%, #90EE90 64.7%, #90EE90 93.1%, transparent 93.1%);\n            padding:  15px;\n            border:  2px solid white;\n            width:  300px;\n        }#T_9b98b_row4_col0{\n            width:  10em;\n             height:  80%;\n            background:  linear-gradient(90deg, transparent 46.5%, #90EE90 46.5%, #90EE90 75.2%, transparent 75.2%);\n            padding:  15px;\n            border:  2px solid white;\n            width:  300px;\n        }#T_9b98b_row4_col1{\n            width:  10em;\n             height:  80%;\n            background:  linear-gradient(90deg, transparent 55.8%, #FCC0CB 55.8%, #FCC0CB 64.7%, transparent 64.7%);\n            padding:  15px;\n            border:  2px solid white;\n            width:  300px;\n        }#T_9b98b_row5_col0{\n            width:  10em;\n             height:  80%;\n            background:  linear-gradient(90deg, transparent 46.5%, #90EE90 46.5%, #90EE90 58.8%, transparent 58.8%);\n            padding:  15px;\n            border:  2px solid white;\n            width:  300px;\n        }#T_9b98b_row5_col1{\n            width:  10em;\n             height:  80%;\n            background:  linear-gradient(90deg, transparent 64.7%, #90EE90 64.7%, #90EE90 71.1%, transparent 71.1%);\n            padding:  15px;\n            border:  2px solid white;\n            width:  300px;\n        }#T_9b98b_row6_col0{\n            width:  10em;\n             height:  80%;\n            background:  linear-gradient(90deg, transparent 31.5%, #FCC0CB 31.5%, #FCC0CB 46.5%, transparent 46.5%);\n            padding:  15px;\n            border:  2px solid white;\n            width:  300px;\n        }#T_9b98b_row6_col1{\n            width:  10em;\n             height:  80%;\n            background:  linear-gradient(90deg, transparent 56.5%, #FCC0CB 56.5%, #FCC0CB 64.7%, transparent 64.7%);\n            padding:  15px;\n            border:  2px solid white;\n            width:  300px;\n        }#T_9b98b_row7_col0{\n            width:  10em;\n             height:  80%;\n            background:  linear-gradient(90deg, transparent 45.3%, #FCC0CB 45.3%, #FCC0CB 46.5%, transparent 46.5%);\n            padding:  15px;\n            border:  2px solid white;\n            width:  300px;\n        }#T_9b98b_row7_col1{\n            width:  10em;\n             height:  80%;\n            background:  linear-gradient(90deg, transparent 64.7%, #90EE90 64.7%, #90EE90 77.3%, transparent 77.3%);\n            padding:  15px;\n            border:  2px solid white;\n            width:  300px;\n        }#T_9b98b_row8_col0{\n            width:  10em;\n             height:  80%;\n            background:  linear-gradient(90deg, transparent 46.5%, #90EE90 46.5%, #90EE90 100.0%, transparent 100.0%);\n            padding:  15px;\n            border:  2px solid white;\n            width:  300px;\n        }#T_9b98b_row8_col1{\n            width:  10em;\n             height:  80%;\n            background:  linear-gradient(90deg, transparent 64.7%, #90EE90 64.7%, #90EE90 100.0%, transparent 100.0%);\n            padding:  15px;\n            border:  2px solid white;\n            width:  300px;\n        }#T_9b98b_row9_col0{\n            width:  10em;\n             height:  80%;\n            background:  linear-gradient(90deg,#FCC0CB 46.5%, transparent 46.5%);\n            padding:  15px;\n            border:  2px solid white;\n            width:  300px;\n        }#T_9b98b_row9_col1{\n            width:  10em;\n             height:  80%;\n            background:  linear-gradient(90deg, transparent 64.7%, #90EE90 64.7%, #90EE90 97.9%, transparent 97.9%);\n            padding:  15px;\n            border:  2px solid white;\n            width:  300px;\n        }</style><table id=\"T_9b98b_\" ><caption>A Sample Table with Bar Chart</caption><thead>    <tr>        <th class=\"blank level0\" ></th>        <th class=\"col_heading level0 col0\" >0</th>        <th class=\"col_heading level0 col1\" >1</th>    </tr></thead><tbody>\n                <tr>\n                        <th id=\"T_9b98b_level0_row0\" class=\"row_heading level0 row0\" >0</th>\n                        <td id=\"T_9b98b_row0_col0\" class=\"data row0 col0\" >0.93</td>\n                        <td id=\"T_9b98b_row0_col1\" class=\"data row0 col1\" >-0.67</td>\n            </tr>\n            <tr>\n                        <th id=\"T_9b98b_level0_row1\" class=\"row_heading level0 row1\" >1</th>\n                        <td id=\"T_9b98b_row1_col0\" class=\"data row1 col0\" >0.58</td>\n                        <td id=\"T_9b98b_row1_col1\" class=\"data row1 col1\" >-2.23</td>\n            </tr>\n            <tr>\n                        <th id=\"T_9b98b_level0_row2\" class=\"row_heading level0 row2\" >2</th>\n                        <td id=\"T_9b98b_row2_col0\" class=\"data row2 col0\" >0.19</td>\n                        <td id=\"T_9b98b_row2_col1\" class=\"data row2 col1\" >0.14</td>\n            </tr>\n            <tr>\n                        <th id=\"T_9b98b_level0_row3\" class=\"row_heading level0 row3\" >3</th>\n                        <td id=\"T_9b98b_row3_col0\" class=\"data row3 col0\" >-0.33</td>\n                        <td id=\"T_9b98b_row3_col1\" class=\"data row3 col1\" >0.98</td>\n            </tr>\n            <tr>\n                        <th id=\"T_9b98b_level0_row4\" class=\"row_heading level0 row4\" >4</th>\n                        <td id=\"T_9b98b_row4_col0\" class=\"data row4 col0\" >0.70</td>\n                        <td id=\"T_9b98b_row4_col1\" class=\"data row4 col1\" >-0.31</td>\n            </tr>\n            <tr>\n                        <th id=\"T_9b98b_level0_row5\" class=\"row_heading level0 row5\" >5</th>\n                        <td id=\"T_9b98b_row5_col0\" class=\"data row5 col0\" >0.30</td>\n                        <td id=\"T_9b98b_row5_col1\" class=\"data row5 col1\" >0.22</td>\n            </tr>\n            <tr>\n                        <th id=\"T_9b98b_level0_row6\" class=\"row_heading level0 row6\" >6</th>\n                        <td id=\"T_9b98b_row6_col0\" class=\"data row6 col0\" >-0.36</td>\n                        <td id=\"T_9b98b_row6_col1\" class=\"data row6 col1\" >-0.29</td>\n            </tr>\n            <tr>\n                        <th id=\"T_9b98b_level0_row7\" class=\"row_heading level0 row7\" >7</th>\n                        <td id=\"T_9b98b_row7_col0\" class=\"data row7 col0\" >-0.03</td>\n                        <td id=\"T_9b98b_row7_col1\" class=\"data row7 col1\" >0.43</td>\n            </tr>\n            <tr>\n                        <th id=\"T_9b98b_level0_row8\" class=\"row_heading level0 row8\" >8</th>\n                        <td id=\"T_9b98b_row8_col0\" class=\"data row8 col0\" >1.29</td>\n                        <td id=\"T_9b98b_row8_col1\" class=\"data row8 col1\" >1.21</td>\n            </tr>\n            <tr>\n                        <th id=\"T_9b98b_level0_row9\" class=\"row_heading level0 row9\" >9</th>\n                        <td id=\"T_9b98b_row9_col0\" class=\"data row9 col0\" >-1.12</td>\n                        <td id=\"T_9b98b_row9_col1\" class=\"data row9 col1\" >1.14</td>\n            </tr>\n    </tbody></table>"
     },
     "execution_count": 12,
     "metadata": {},
     "output_type": "execute_result"
    }
   ],
   "source": [
    "# https://pandas.pydata.org/pandas-docs/stable/user_guide/style.html\n",
    "# https://towardsdatascience.com/make-your-pandas-dataframe-output-report-ready-a9440f6045c6\n",
    "\n",
    "import numpy as np\n",
    "import pandas as pd\n",
    "\n",
    "df = pd.DataFrame(np.random.randn(10, 2) * 100)\n",
    "df.style.format(\"{:.2f}\")\n",
    "\n",
    "\n",
    "def highlight_number(row):\n",
    "    return [\n",
    "        'background-color: red; color: white' if cell <= 0\n",
    "        else 'background-color: green; color: white'\n",
    "        for cell in row\n",
    "    ]\n",
    "\n",
    "\n",
    "df.style.apply(highlight_number)\n",
    "df.style.apply(highlight_number).format('${0:,.2f}').set_caption('A Sample Table').set_properties(padding=\"20px\",\n",
    "                                                                                                  border='2px solid white')\n",
    "# Make a nan value for demo purposes\n",
    "df.at[1, 1] = None\n",
    "# Add styles\n",
    "df.style.highlight_null('lightgray').highlight_max(color='lightgreen').highlight_min(color='pink')\n",
    "\n",
    "df = pd.DataFrame(np.random.randn(10, 2))\n",
    "df.style.background_gradient(cmap='Blues')\n",
    "df.style.bar()\n",
    "\n",
    "df.style.format('{:.2f}').bar(align='mid', color=['#FCC0CB', '#90EE90']).set_caption(\n",
    "    'A Sample Table with Bar Chart').set_properties(padding=\"15px\", border='2px solid white', width='300px')"
   ]
  },
  {
   "cell_type": "code",
   "execution_count": 16,
   "outputs": [
    {
     "data": {
      "text/plain": "<pandas.io.formats.style.Styler at 0x7f27d068e820>",
      "text/html": "<style  type=\"text/css\" >\n#T_30dc9_row0_col0,#T_30dc9_row0_col1,#T_30dc9_row0_col2,#T_30dc9_row1_col0,#T_30dc9_row1_col1,#T_30dc9_row1_col2,#T_30dc9_row2_col0,#T_30dc9_row2_col1,#T_30dc9_row2_col2{\n            padding:  15px;\n            border:  2px solid white;\n        }</style><table id=\"T_30dc9_\" ><caption>A Sample Table with Sparklines Distributions</caption><thead>    <tr>        <th class=\"blank level0\" ></th>        <th class=\"col_heading level0 col0\" >mean</th>        <th class=\"col_heading level0 col1\" >std</th>        <th class=\"col_heading level0 col2\" >histogram</th>    </tr></thead><tbody>\n                <tr>\n                        <th id=\"T_30dc9_level0_row0\" class=\"row_heading level0 row0\" >a</th>\n                        <td id=\"T_30dc9_row0_col0\" class=\"data row0 col0\" >-0.04</td>\n                        <td id=\"T_30dc9_row0_col1\" class=\"data row0 col1\" >1.01</td>\n                        <td id=\"T_30dc9_row0_col2\" class=\"data row0 col2\" >▁▁▆▅█▅▄▂▁▁</td>\n            </tr>\n            <tr>\n                        <th id=\"T_30dc9_level0_row1\" class=\"row_heading level0 row1\" >b</th>\n                        <td id=\"T_30dc9_row1_col0\" class=\"data row1 col0\" >1.08</td>\n                        <td id=\"T_30dc9_row1_col1\" class=\"data row1 col1\" >1.00</td>\n                        <td id=\"T_30dc9_row1_col2\" class=\"data row1 col2\" >▂▃▅▆▆█▆▃▁▁</td>\n            </tr>\n            <tr>\n                        <th id=\"T_30dc9_level0_row2\" class=\"row_heading level0 row2\" >c</th>\n                        <td id=\"T_30dc9_row2_col0\" class=\"data row2 col0\" >0.19</td>\n                        <td id=\"T_30dc9_row2_col1\" class=\"data row2 col1\" >3.11</td>\n                        <td id=\"T_30dc9_row2_col2\" class=\"data row2 col2\" >▁▁▃▆█▅▇▅▃▁</td>\n            </tr>\n    </tbody></table>"
     },
     "execution_count": 16,
     "metadata": {},
     "output_type": "execute_result"
    }
   ],
   "source": [
    "from sparklines import sparklines\n",
    "\n",
    "df = pd.DataFrame({\n",
    "    'a': np.random.normal(0, 1, 100),\n",
    "    'b': np.random.normal(1, 1, 100),\n",
    "    'c': np.random.normal(0, 3, 100)\n",
    "})\n",
    "df\n",
    "\n",
    "\n",
    "def sparkline_dist(data):\n",
    "    hist = np.histogram(data, bins=10)[0]\n",
    "    dist_strings = ''.join(sparklines(hist))\n",
    "    return dist_strings\n",
    "\n",
    "\n",
    "sl_list = [sparkline_dist(df[col]) for col in df.columns]\n",
    "\n",
    "df_stats = df.agg(['mean', 'std']).transpose()\n",
    "df_stats['histogram'] = sl_list\n",
    "df_stats.style.format('{:.2f}', subset=['mean', 'std']).set_caption(\n",
    "    'A Sample Table with Sparklines Distributions').set_properties(padding=\"15px\", border='2px solid white')"
   ],
   "metadata": {
    "collapsed": false,
    "pycharm": {
     "name": "#%%\n"
    }
   }
  }
 ],
 "metadata": {
  "kernelspec": {
   "display_name": "Python 3",
   "language": "python",
   "name": "python3"
  },
  "language_info": {
   "codemirror_mode": {
    "name": "ipython",
    "version": 2
   },
   "file_extension": ".py",
   "mimetype": "text/x-python",
   "name": "python",
   "nbconvert_exporter": "python",
   "pygments_lexer": "ipython2",
   "version": "2.7.6"
  }
 },
 "nbformat": 4,
 "nbformat_minor": 0
}