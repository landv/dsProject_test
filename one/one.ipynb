{
 "cells": [
  {
   "cell_type": "code",
   "execution_count": 4,
   "outputs": [],
   "source": [
    "#ipynb文件导出pdf\n",
    "import nbformat\n",
    "from nbconvert import PDFExporter\n",
    "from nbconvert.preprocessors import ExecutePreprocessor\n",
    "\n",
    "# 需要导出的ipynb文件\n",
    "notebook_filename = \"1.ipynb\"\n",
    "# 打开文件\n",
    "with open(notebook_filename) as f:\n",
    "    # 格式化文件\n",
    "    nb = nbformat.read(f, as_version=4)\n",
    "# 执行预处理器 调用的python版本\n",
    "ep = ExecutePreprocessor(timeout=600, kernel_name='python3')\n",
    "\n",
    "ep.preprocess(nb, {'metadata': {'path': './'}, 'name': ''})\n",
    "# PDF导出器\n",
    "pdf_exporter = PDFExporter()\n",
    "# no-input\n",
    "pdf_exporter.exclude_output_prompt = True\n",
    "pdf_exporter.exclude_input = True\n",
    "pdf_exporter.exclude_input_prompt = True\n",
    "\n",
    "# 开始解析nb文件并生成pdf\n",
    "pdf_data, resources = pdf_exporter.from_notebook_node(nb)\n",
    "# 落盘写入\n",
    "with open(\"1.pdf\", \"wb\") as f:\n",
    "    f.write(pdf_data)\n",
    "    f.close()\n",
    "\n",
    "# md中的中文无法导出，标题加日期无法设置。"
   ],
   "metadata": {
    "collapsed": false,
    "pycharm": {
     "name": "#%%\n"
    }
   }
  },
  {
   "cell_type": "code",
   "execution_count": 2,
   "outputs": [
    {
     "data": {
      "text/plain": "0"
     },
     "execution_count": 2,
     "metadata": {},
     "output_type": "execute_result"
    }
   ],
   "source": [
    "from PyQt5.QtWidgets import QPushButton, QLineEdit, QApplication, QFormLayout, QWidget, QTextEdit, QSpinBox\n",
    "\n",
    "\n",
    "class Window(QWidget):\n",
    "\n",
    "    def __init__(self):\n",
    "        super().__init__()\n",
    "\n",
    "        self.name = QLineEdit()\n",
    "        self.program_type = QLineEdit()\n",
    "        self.product_code = QLineEdit()\n",
    "        self.customer = QLineEdit()\n",
    "        self.vendor = QLineEdit()\n",
    "        self.n_errors = QSpinBox()\n",
    "        self.n_errors.setRange(0, 1000)\n",
    "        self.comments = QTextEdit()\n",
    "\n",
    "        self.generate_btn = QPushButton(\"Generate PDF\")\n",
    "\n",
    "        layout = QFormLayout()\n",
    "        layout.addRow(\"Name\", self.name)\n",
    "        layout.addRow(\"Program Type\", self.program_type)\n",
    "        layout.addRow(\"Product Code\", self.product_code)\n",
    "        layout.addRow(\"Customer\", self.customer)\n",
    "        layout.addRow(\"Vendor\", self.vendor)\n",
    "        layout.addRow(\"No. of Errors\", self.n_errors)\n",
    "\n",
    "        layout.addRow(\"Comments\", self.comments)\n",
    "        layout.addRow(self.generate_btn)\n",
    "\n",
    "        self.setLayout(layout)\n",
    "\n",
    "\n",
    "app = QApplication([])\n",
    "w = Window()\n",
    "w.show()\n",
    "app.exec()"
   ],
   "metadata": {
    "collapsed": false,
    "pycharm": {
     "name": "#%%\n"
    }
   }
  },
  {
   "cell_type": "code",
   "execution_count": 1,
   "outputs": [
    {
     "data": {
      "text/plain": "<pandas.io.formats.style.Styler at 0x7fb4b0379ee0>",
      "text/html": "<style  type=\"text/css\" >\n#T_db3ff_row0_col0{\n            background-color:  #4896c8;\n            color:  #000000;\n        }#T_db3ff_row0_col1{\n            background-color:  #66abd4;\n            color:  #000000;\n        }#T_db3ff_row1_col0{\n            background-color:  #b3d3e8;\n            color:  #000000;\n        }#T_db3ff_row1_col1{\n            background-color:  #8cc0dd;\n            color:  #000000;\n        }#T_db3ff_row2_col0{\n            background-color:  #1966ad;\n            color:  #f1f1f1;\n        }#T_db3ff_row2_col1{\n            background-color:  #f2f7fd;\n            color:  #000000;\n        }#T_db3ff_row3_col0{\n            background-color:  #2e7ebc;\n            color:  #000000;\n        }#T_db3ff_row3_col1,#T_db3ff_row5_col0{\n            background-color:  #08306b;\n            color:  #f1f1f1;\n        }#T_db3ff_row4_col0{\n            background-color:  #97c6df;\n            color:  #000000;\n        }#T_db3ff_row4_col1{\n            background-color:  #f4f9fe;\n            color:  #000000;\n        }#T_db3ff_row5_col1,#T_db3ff_row7_col0{\n            background-color:  #f7fbff;\n            color:  #000000;\n        }#T_db3ff_row6_col0,#T_db3ff_row9_col0{\n            background-color:  #2474b7;\n            color:  #f1f1f1;\n        }#T_db3ff_row6_col1{\n            background-color:  #a3cce3;\n            color:  #000000;\n        }#T_db3ff_row7_col1{\n            background-color:  #1460a8;\n            color:  #f1f1f1;\n        }#T_db3ff_row8_col0{\n            background-color:  #084b93;\n            color:  #f1f1f1;\n        }#T_db3ff_row8_col1{\n            background-color:  #cde0f1;\n            color:  #000000;\n        }#T_db3ff_row9_col1{\n            background-color:  #e2edf8;\n            color:  #000000;\n        }</style><table id=\"T_db3ff_\" ><thead>    <tr>        <th class=\"blank level0\" ></th>        <th class=\"col_heading level0 col0\" >0</th>        <th class=\"col_heading level0 col1\" >1</th>    </tr></thead><tbody>\n                <tr>\n                        <th id=\"T_db3ff_level0_row0\" class=\"row_heading level0 row0\" >0</th>\n                        <td id=\"T_db3ff_row0_col0\" class=\"data row0 col0\" >-0.314322</td>\n                        <td id=\"T_db3ff_row0_col1\" class=\"data row0 col1\" >1.059968</td>\n            </tr>\n            <tr>\n                        <th id=\"T_db3ff_level0_row1\" class=\"row_heading level0 row1\" >1</th>\n                        <td id=\"T_db3ff_row1_col0\" class=\"data row1 col0\" >-1.425307</td>\n                        <td id=\"T_db3ff_row1_col1\" class=\"data row1 col1\" >0.711226</td>\n            </tr>\n            <tr>\n                        <th id=\"T_db3ff_level0_row2\" class=\"row_heading level0 row2\" >2</th>\n                        <td id=\"T_db3ff_row2_col0\" class=\"data row2 col0\" >0.378878</td>\n                        <td id=\"T_db3ff_row2_col1\" class=\"data row2 col1\" >-0.687805</td>\n            </tr>\n            <tr>\n                        <th id=\"T_db3ff_level0_row3\" class=\"row_heading level0 row3\" >3</th>\n                        <td id=\"T_db3ff_row3_col0\" class=\"data row3 col0\" >0.041987</td>\n                        <td id=\"T_db3ff_row3_col1\" class=\"data row3 col1\" >2.803926</td>\n            </tr>\n            <tr>\n                        <th id=\"T_db3ff_level0_row4\" class=\"row_heading level0 row4\" >4</th>\n                        <td id=\"T_db3ff_row4_col0\" class=\"data row4 col0\" >-1.114333</td>\n                        <td id=\"T_db3ff_row4_col1\" class=\"data row4 col1\" >-0.729798</td>\n            </tr>\n            <tr>\n                        <th id=\"T_db3ff_level0_row5\" class=\"row_heading level0 row5\" >5</th>\n                        <td id=\"T_db3ff_row5_col0\" class=\"data row5 col0\" >1.161061</td>\n                        <td id=\"T_db3ff_row5_col1\" class=\"data row5 col1\" >-0.791635</td>\n            </tr>\n            <tr>\n                        <th id=\"T_db3ff_level0_row6\" class=\"row_heading level0 row6\" >6</th>\n                        <td id=\"T_db3ff_row6_col0\" class=\"data row6 col0\" >0.177682</td>\n                        <td id=\"T_db3ff_row6_col1\" class=\"data row6 col1\" >0.513563</td>\n            </tr>\n            <tr>\n                        <th id=\"T_db3ff_level0_row7\" class=\"row_heading level0 row7\" >7</th>\n                        <td id=\"T_db3ff_row7_col0\" class=\"data row7 col0\" >-2.584819</td>\n                        <td id=\"T_db3ff_row7_col1\" class=\"data row7 col1\" >2.134926</td>\n            </tr>\n            <tr>\n                        <th id=\"T_db3ff_level0_row8\" class=\"row_heading level0 row8\" >8</th>\n                        <td id=\"T_db3ff_row8_col0\" class=\"data row8 col0\" >0.769192</td>\n                        <td id=\"T_db3ff_row8_col1\" class=\"data row8 col1\" >-0.023096</td>\n            </tr>\n            <tr>\n                        <th id=\"T_db3ff_level0_row9\" class=\"row_heading level0 row9\" >9</th>\n                        <td id=\"T_db3ff_row9_col0\" class=\"data row9 col0\" >0.173136</td>\n                        <td id=\"T_db3ff_row9_col1\" class=\"data row9 col1\" >-0.405775</td>\n            </tr>\n    </tbody></table>"
     },
     "execution_count": 1,
     "metadata": {},
     "output_type": "execute_result"
    }
   ],
   "source": [
    "import numpy as np\n",
    "import pandas as pd\n",
    "\n",
    "df = pd.DataFrame(np.random.randn(10, 2))\n",
    "df.style.background_gradient(cmap='Blues')"
   ],
   "metadata": {
    "collapsed": false,
    "pycharm": {
     "name": "#%%\n"
    }
   }
  },
  {
   "cell_type": "code",
   "execution_count": null,
   "outputs": [],
   "source": [],
   "metadata": {
    "collapsed": false,
    "pycharm": {
     "name": "#%%\n"
    }
   }
  }
 ],
 "metadata": {
  "kernelspec": {
   "display_name": "Python 3",
   "language": "python",
   "name": "python3"
  },
  "language_info": {
   "codemirror_mode": {
    "name": "ipython",
    "version": 2
   },
   "file_extension": ".py",
   "mimetype": "text/x-python",
   "name": "python",
   "nbconvert_exporter": "python",
   "pygments_lexer": "ipython2",
   "version": "2.7.6"
  }
 },
 "nbformat": 4,
 "nbformat_minor": 0
}